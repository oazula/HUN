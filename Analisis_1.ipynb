{
 "cells": [
  {
   "cell_type": "markdown",
   "id": "f4492502",
   "metadata": {},
   "source": [
    "# Análisis de Dosis por Procedimiento y Proyección\n",
    "Este notebook analiza los datos de dosis de radiación registrados en un archivo Excel. Se organiza la información por procedimiento y proyección, y se visualizan los resultados mediante gráficos tipo candlestick para facilitar la interpretación de los valores de dosis y dosis total."
   ]
  },
  {
   "cell_type": "markdown",
   "id": "5b8eb049",
   "metadata": {},
   "source": [
    "## 1. Carga de datos\n",
    "En esta sección se importan las librerías necesarias y se carga el archivo Excel con los datos de dosis."
   ]
  },
  {
   "cell_type": "code",
   "execution_count": 9,
   "id": "da3c6acd",
   "metadata": {},
   "outputs": [
    {
     "data": {
      "text/html": [
       "<div>\n",
       "<style scoped>\n",
       "    .dataframe tbody tr th:only-of-type {\n",
       "        vertical-align: middle;\n",
       "    }\n",
       "\n",
       "    .dataframe tbody tr th {\n",
       "        vertical-align: top;\n",
       "    }\n",
       "\n",
       "    .dataframe thead th {\n",
       "        text-align: right;\n",
       "    }\n",
       "</style>\n",
       "<table border=\"1\" class=\"dataframe\">\n",
       "  <thead>\n",
       "    <tr style=\"text-align: right;\">\n",
       "      <th></th>\n",
       "      <th>procedimiento_id</th>\n",
       "      <th>procedimiento</th>\n",
       "      <th>proyeccion</th>\n",
       "      <th>dosis</th>\n",
       "      <th>dosis total</th>\n",
       "      <th>fecha</th>\n",
       "      <th>paciente_id</th>\n",
       "      <th>comentario</th>\n",
       "    </tr>\n",
       "  </thead>\n",
       "  <tbody>\n",
       "    <tr>\n",
       "      <th>0</th>\n",
       "      <td>EST-00001</td>\n",
       "      <td>Histerosalpingografía (HSG)</td>\n",
       "      <td>AP</td>\n",
       "      <td>0.72</td>\n",
       "      <td>5.63</td>\n",
       "      <td>2025-05-18</td>\n",
       "      <td>PX-00001</td>\n",
       "      <td>NaN</td>\n",
       "    </tr>\n",
       "    <tr>\n",
       "      <th>1</th>\n",
       "      <td>EST-00001</td>\n",
       "      <td>Histerosalpingografía (HSG)</td>\n",
       "      <td>PA</td>\n",
       "      <td>4.53</td>\n",
       "      <td>NaN</td>\n",
       "      <td>2025-05-18</td>\n",
       "      <td>PX-00001</td>\n",
       "      <td>NaN</td>\n",
       "    </tr>\n",
       "    <tr>\n",
       "      <th>2</th>\n",
       "      <td>EST-00001</td>\n",
       "      <td>Histerosalpingografía (HSG)</td>\n",
       "      <td>LAT</td>\n",
       "      <td>0.38</td>\n",
       "      <td>NaN</td>\n",
       "      <td>2025-05-18</td>\n",
       "      <td>PX-00001</td>\n",
       "      <td>NaN</td>\n",
       "    </tr>\n",
       "    <tr>\n",
       "      <th>3</th>\n",
       "      <td>EST-00002</td>\n",
       "      <td>Uretrocistografía miccional (VCUG)</td>\n",
       "      <td>LAT</td>\n",
       "      <td>0.85</td>\n",
       "      <td>7.31</td>\n",
       "      <td>2025-02-11</td>\n",
       "      <td>PX-00002</td>\n",
       "      <td>NaN</td>\n",
       "    </tr>\n",
       "    <tr>\n",
       "      <th>4</th>\n",
       "      <td>EST-00002</td>\n",
       "      <td>Uretrocistografía miccional (VCUG)</td>\n",
       "      <td>AP</td>\n",
       "      <td>2.89</td>\n",
       "      <td>NaN</td>\n",
       "      <td>2025-02-11</td>\n",
       "      <td>PX-00002</td>\n",
       "      <td>NaN</td>\n",
       "    </tr>\n",
       "  </tbody>\n",
       "</table>\n",
       "</div>"
      ],
      "text/plain": [
       "  procedimiento_id                       procedimiento proyeccion  dosis  \\\n",
       "0        EST-00001         Histerosalpingografía (HSG)         AP   0.72   \n",
       "1        EST-00001         Histerosalpingografía (HSG)         PA   4.53   \n",
       "2        EST-00001         Histerosalpingografía (HSG)        LAT   0.38   \n",
       "3        EST-00002  Uretrocistografía miccional (VCUG)        LAT   0.85   \n",
       "4        EST-00002  Uretrocistografía miccional (VCUG)         AP   2.89   \n",
       "\n",
       "   dosis total      fecha paciente_id  comentario  \n",
       "0         5.63 2025-05-18    PX-00001         NaN  \n",
       "1          NaN 2025-05-18    PX-00001         NaN  \n",
       "2          NaN 2025-05-18    PX-00001         NaN  \n",
       "3         7.31 2025-02-11    PX-00002         NaN  \n",
       "4          NaN 2025-02-11    PX-00002         NaN  "
      ]
     },
     "execution_count": 9,
     "metadata": {},
     "output_type": "execute_result"
    }
   ],
   "source": [
    "import numpy as np\n",
    "import pandas as pd\n",
    "import plotly.graph_objects as go\n",
    "\n",
    "\n",
    "df = pd.read_excel('procedimientos_demo.xlsx')\n",
    "\n",
    "\n",
    "#change the name for the column procedimiento to procedimiento_id and the procedimeinto_nombre to procedimiento_nombre\n",
    "df = df.rename(columns={'procedimiento': 'procedimiento_id', 'procedimiento_nombre': 'procedimiento'})\n",
    "df.head()"
   ]
  },
  {
   "cell_type": "markdown",
   "id": "1308d63e",
   "metadata": {},
   "source": [
    "## 2. Visualización de los datos\n",
    "Se generan gráficos tipo candlestick para visualizar la distribución de dosis por procedimiento y proyección, así como la dosis total por procedimiento."
   ]
  },
  {
   "cell_type": "markdown",
   "id": "f64be876",
   "metadata": {},
   "source": [
    "### 2.1) Sin usar un ID y solo por procedimiento"
   ]
  },
  {
   "cell_type": "code",
   "execution_count": 10,
   "id": "10f7a8e2",
   "metadata": {},
   "outputs": [
    {
     "data": {
      "application/vnd.plotly.v1+json": {
       "config": {
        "plotlyServerURL": "https://plot.ly"
       },
       "data": [
        {
         "boxmean": true,
         "boxpoints": "outliers",
         "name": "Dosis total",
         "type": "box",
         "x": [
          "Histerosalpingografía (HSG)",
          "Uretrocistografía miccional (VCUG)",
          "Histerosalpingografía (HSG)",
          "Esofagograma",
          "Enema opaco",
          "Uretrocistografía miccional (VCUG)",
          "Uretrocistografía miccional (VCUG)",
          "Tránsito intestinal",
          "Histerosalpingografía (HSG)",
          "Uretrocistografía miccional (VCUG)",
          "Tránsito intestinal",
          "Histerosalpingografía (HSG)",
          "Histerosalpingografía (HSG)",
          "Histerosalpingografía (HSG)",
          "Uretrocistografía miccional (VCUG)",
          "Uretrocistografía miccional (VCUG)",
          "Tránsito intestinal",
          "Tránsito intestinal",
          "Esofagograma",
          "Histerosalpingografía (HSG)",
          "Tránsito intestinal",
          "Tránsito intestinal",
          "Tránsito intestinal",
          "Tránsito intestinal",
          "Enema opaco",
          "Histerosalpingografía (HSG)",
          "Tránsito intestinal",
          "Esofagograma",
          "Uretrocistografía miccional (VCUG)",
          "Esofagograma",
          "Esofagograma",
          "Uretrocistografía miccional (VCUG)",
          "Histerosalpingografía (HSG)",
          "Uretrocistografía miccional (VCUG)",
          "Esofagograma",
          "Uretrocistografía miccional (VCUG)",
          "Enema opaco",
          "Histerosalpingografía (HSG)",
          "Uretrocistografía miccional (VCUG)",
          "Tránsito intestinal",
          "Enema opaco",
          "Uretrocistografía miccional (VCUG)",
          "Enema opaco",
          "Esofagograma",
          "Esofagograma",
          "Tránsito intestinal",
          "Tránsito intestinal",
          "Tránsito intestinal",
          "Tránsito intestinal",
          "Tránsito intestinal",
          "Uretrocistografía miccional (VCUG)",
          "Enema opaco",
          "Esofagograma",
          "Tránsito intestinal",
          "Enema opaco",
          "Histerosalpingografía (HSG)",
          "Enema opaco",
          "Enema opaco",
          "Esofagograma",
          "Esofagograma",
          "Esofagograma",
          "Enema opaco",
          "Esofagograma",
          "Enema opaco",
          "Tránsito intestinal",
          "Uretrocistografía miccional (VCUG)",
          "Enema opaco",
          "Esofagograma",
          "Uretrocistografía miccional (VCUG)",
          "Uretrocistografía miccional (VCUG)",
          "Uretrocistografía miccional (VCUG)",
          "Tránsito intestinal",
          "Tránsito intestinal",
          "Uretrocistografía miccional (VCUG)",
          "Tránsito intestinal",
          "Esofagograma",
          "Uretrocistografía miccional (VCUG)",
          "Tránsito intestinal",
          "Histerosalpingografía (HSG)",
          "Tránsito intestinal",
          "Esofagograma",
          "Esofagograma",
          "Tránsito intestinal",
          "Histerosalpingografía (HSG)",
          "Histerosalpingografía (HSG)",
          "Histerosalpingografía (HSG)",
          "Histerosalpingografía (HSG)",
          "Enema opaco",
          "Histerosalpingografía (HSG)",
          "Tránsito intestinal",
          "Esofagograma",
          "Enema opaco",
          "Enema opaco",
          "Enema opaco",
          "Uretrocistografía miccional (VCUG)",
          "Enema opaco",
          "Tránsito intestinal",
          "Histerosalpingografía (HSG)",
          "Histerosalpingografía (HSG)",
          "Histerosalpingografía (HSG)",
          "Histerosalpingografía (HSG)",
          "Esofagograma",
          "Uretrocistografía miccional (VCUG)",
          "Uretrocistografía miccional (VCUG)",
          "Histerosalpingografía (HSG)",
          "Esofagograma",
          "Tránsito intestinal",
          "Enema opaco",
          "Histerosalpingografía (HSG)",
          "Enema opaco",
          "Histerosalpingografía (HSG)",
          "Tránsito intestinal",
          "Uretrocistografía miccional (VCUG)",
          "Tránsito intestinal",
          "Enema opaco",
          "Tránsito intestinal",
          "Esofagograma",
          "Histerosalpingografía (HSG)",
          "Tránsito intestinal",
          "Uretrocistografía miccional (VCUG)",
          "Enema opaco",
          "Esofagograma",
          "Uretrocistografía miccional (VCUG)",
          "Esofagograma",
          "Tránsito intestinal",
          "Histerosalpingografía (HSG)",
          "Histerosalpingografía (HSG)",
          "Tránsito intestinal",
          "Enema opaco",
          "Histerosalpingografía (HSG)",
          "Esofagograma",
          "Enema opaco",
          "Tránsito intestinal",
          "Tránsito intestinal",
          "Esofagograma",
          "Histerosalpingografía (HSG)",
          "Esofagograma",
          "Enema opaco",
          "Histerosalpingografía (HSG)",
          "Esofagograma",
          "Histerosalpingografía (HSG)",
          "Histerosalpingografía (HSG)",
          "Histerosalpingografía (HSG)",
          "Histerosalpingografía (HSG)",
          "Uretrocistografía miccional (VCUG)",
          "Esofagograma",
          "Histerosalpingografía (HSG)",
          "Tránsito intestinal",
          "Uretrocistografía miccional (VCUG)",
          "Tránsito intestinal",
          "Enema opaco",
          "Uretrocistografía miccional (VCUG)",
          "Esofagograma",
          "Tránsito intestinal",
          "Histerosalpingografía (HSG)",
          "Histerosalpingografía (HSG)",
          "Esofagograma",
          "Esofagograma",
          "Esofagograma",
          "Esofagograma",
          "Enema opaco",
          "Histerosalpingografía (HSG)",
          "Uretrocistografía miccional (VCUG)",
          "Enema opaco",
          "Enema opaco",
          "Histerosalpingografía (HSG)",
          "Enema opaco",
          "Histerosalpingografía (HSG)",
          "Esofagograma",
          "Esofagograma",
          "Uretrocistografía miccional (VCUG)",
          "Enema opaco",
          "Enema opaco",
          "Enema opaco",
          "Histerosalpingografía (HSG)",
          "Uretrocistografía miccional (VCUG)",
          "Histerosalpingografía (HSG)",
          "Tránsito intestinal",
          "Uretrocistografía miccional (VCUG)",
          "Esofagograma",
          "Uretrocistografía miccional (VCUG)",
          "Tránsito intestinal",
          "Esofagograma",
          "Uretrocistografía miccional (VCUG)",
          "Tránsito intestinal",
          "Histerosalpingografía (HSG)",
          "Histerosalpingografía (HSG)",
          "Histerosalpingografía (HSG)",
          "Uretrocistografía miccional (VCUG)",
          "Enema opaco",
          "Uretrocistografía miccional (VCUG)",
          "Tránsito intestinal",
          "Histerosalpingografía (HSG)",
          "Uretrocistografía miccional (VCUG)",
          "Enema opaco",
          "Tránsito intestinal",
          "Enema opaco",
          "Tránsito intestinal",
          "Enema opaco",
          "Tránsito intestinal",
          "Uretrocistografía miccional (VCUG)",
          "Uretrocistografía miccional (VCUG)",
          "Histerosalpingografía (HSG)",
          "Uretrocistografía miccional (VCUG)",
          "Histerosalpingografía (HSG)",
          "Histerosalpingografía (HSG)",
          "Tránsito intestinal",
          "Tránsito intestinal",
          "Enema opaco",
          "Esofagograma",
          "Uretrocistografía miccional (VCUG)",
          "Esofagograma",
          "Uretrocistografía miccional (VCUG)",
          "Esofagograma",
          "Enema opaco",
          "Histerosalpingografía (HSG)",
          "Uretrocistografía miccional (VCUG)",
          "Uretrocistografía miccional (VCUG)",
          "Histerosalpingografía (HSG)",
          "Uretrocistografía miccional (VCUG)",
          "Tránsito intestinal",
          "Uretrocistografía miccional (VCUG)",
          "Tránsito intestinal",
          "Enema opaco",
          "Histerosalpingografía (HSG)",
          "Histerosalpingografía (HSG)",
          "Histerosalpingografía (HSG)",
          "Esofagograma",
          "Esofagograma",
          "Uretrocistografía miccional (VCUG)",
          "Tránsito intestinal",
          "Esofagograma",
          "Enema opaco",
          "Histerosalpingografía (HSG)",
          "Tránsito intestinal",
          "Histerosalpingografía (HSG)",
          "Histerosalpingografía (HSG)",
          "Esofagograma",
          "Esofagograma",
          "Enema opaco",
          "Enema opaco",
          "Enema opaco",
          "Tránsito intestinal",
          "Enema opaco",
          "Enema opaco",
          "Uretrocistografía miccional (VCUG)",
          "Esofagograma",
          "Tránsito intestinal",
          "Histerosalpingografía (HSG)",
          "Esofagograma",
          "Esofagograma",
          "Uretrocistografía miccional (VCUG)",
          "Enema opaco",
          "Tránsito intestinal",
          "Uretrocistografía miccional (VCUG)",
          "Uretrocistografía miccional (VCUG)",
          "Enema opaco",
          "Histerosalpingografía (HSG)",
          "Tránsito intestinal",
          "Uretrocistografía miccional (VCUG)",
          "Uretrocistografía miccional (VCUG)",
          "Uretrocistografía miccional (VCUG)",
          "Enema opaco",
          "Histerosalpingografía (HSG)",
          "Enema opaco",
          "Esofagograma",
          "Uretrocistografía miccional (VCUG)",
          "Uretrocistografía miccional (VCUG)",
          "Enema opaco",
          "Enema opaco",
          "Uretrocistografía miccional (VCUG)",
          "Esofagograma",
          "Tránsito intestinal",
          "Histerosalpingografía (HSG)",
          "Uretrocistografía miccional (VCUG)",
          "Uretrocistografía miccional (VCUG)",
          "Tránsito intestinal",
          "Uretrocistografía miccional (VCUG)",
          "Uretrocistografía miccional (VCUG)",
          "Histerosalpingografía (HSG)",
          "Uretrocistografía miccional (VCUG)",
          "Esofagograma",
          "Enema opaco",
          "Esofagograma",
          "Enema opaco",
          "Tránsito intestinal",
          "Histerosalpingografía (HSG)",
          "Uretrocistografía miccional (VCUG)",
          "Enema opaco",
          "Tránsito intestinal",
          "Uretrocistografía miccional (VCUG)",
          "Histerosalpingografía (HSG)",
          "Enema opaco",
          "Esofagograma",
          "Tránsito intestinal",
          "Esofagograma",
          "Uretrocistografía miccional (VCUG)",
          "Histerosalpingografía (HSG)",
          "Esofagograma",
          "Enema opaco",
          "Uretrocistografía miccional (VCUG)",
          "Tránsito intestinal",
          "Esofagograma",
          "Esofagograma",
          "Histerosalpingografía (HSG)",
          "Uretrocistografía miccional (VCUG)",
          "Uretrocistografía miccional (VCUG)",
          "Histerosalpingografía (HSG)",
          "Histerosalpingografía (HSG)",
          "Histerosalpingografía (HSG)",
          "Enema opaco",
          "Histerosalpingografía (HSG)",
          "Tránsito intestinal",
          "Esofagograma",
          "Enema opaco",
          "Enema opaco",
          "Histerosalpingografía (HSG)",
          "Tránsito intestinal",
          "Histerosalpingografía (HSG)",
          "Uretrocistografía miccional (VCUG)",
          "Histerosalpingografía (HSG)",
          "Enema opaco",
          "Histerosalpingografía (HSG)",
          "Enema opaco",
          "Uretrocistografía miccional (VCUG)",
          "Tránsito intestinal",
          "Tránsito intestinal",
          "Esofagograma",
          "Tránsito intestinal",
          "Enema opaco",
          "Esofagograma",
          "Histerosalpingografía (HSG)",
          "Histerosalpingografía (HSG)",
          "Histerosalpingografía (HSG)",
          "Histerosalpingografía (HSG)",
          "Tránsito intestinal",
          "Esofagograma",
          "Enema opaco",
          "Esofagograma",
          "Uretrocistografía miccional (VCUG)",
          "Uretrocistografía miccional (VCUG)",
          "Histerosalpingografía (HSG)",
          "Histerosalpingografía (HSG)",
          "Uretrocistografía miccional (VCUG)",
          "Enema opaco",
          "Enema opaco",
          "Esofagograma",
          "Histerosalpingografía (HSG)",
          "Uretrocistografía miccional (VCUG)",
          "Esofagograma",
          "Uretrocistografía miccional (VCUG)",
          "Enema opaco",
          "Enema opaco",
          "Histerosalpingografía (HSG)",
          "Histerosalpingografía (HSG)",
          "Esofagograma",
          "Uretrocistografía miccional (VCUG)",
          "Enema opaco",
          "Uretrocistografía miccional (VCUG)",
          "Esofagograma",
          "Histerosalpingografía (HSG)",
          "Uretrocistografía miccional (VCUG)",
          "Esofagograma",
          "Uretrocistografía miccional (VCUG)",
          "Enema opaco",
          "Uretrocistografía miccional (VCUG)",
          "Tránsito intestinal",
          "Uretrocistografía miccional (VCUG)",
          "Enema opaco",
          "Esofagograma",
          "Uretrocistografía miccional (VCUG)",
          "Esofagograma",
          "Histerosalpingografía (HSG)",
          "Esofagograma",
          "Enema opaco",
          "Histerosalpingografía (HSG)",
          "Enema opaco",
          "Uretrocistografía miccional (VCUG)",
          "Esofagograma",
          "Uretrocistografía miccional (VCUG)",
          "Esofagograma",
          "Esofagograma",
          "Esofagograma",
          "Uretrocistografía miccional (VCUG)",
          "Uretrocistografía miccional (VCUG)",
          "Uretrocistografía miccional (VCUG)",
          "Tránsito intestinal",
          "Esofagograma",
          "Tránsito intestinal",
          "Histerosalpingografía (HSG)",
          "Histerosalpingografía (HSG)",
          "Uretrocistografía miccional (VCUG)",
          "Esofagograma",
          "Esofagograma",
          "Uretrocistografía miccional (VCUG)",
          "Enema opaco",
          "Enema opaco",
          "Histerosalpingografía (HSG)",
          "Enema opaco",
          "Uretrocistografía miccional (VCUG)",
          "Histerosalpingografía (HSG)",
          "Tránsito intestinal",
          "Tránsito intestinal",
          "Esofagograma",
          "Histerosalpingografía (HSG)",
          "Histerosalpingografía (HSG)",
          "Uretrocistografía miccional (VCUG)",
          "Tránsito intestinal",
          "Esofagograma",
          "Uretrocistografía miccional (VCUG)",
          "Tránsito intestinal",
          "Esofagograma",
          "Uretrocistografía miccional (VCUG)",
          "Tránsito intestinal",
          "Histerosalpingografía (HSG)",
          "Tránsito intestinal",
          "Tránsito intestinal",
          "Uretrocistografía miccional (VCUG)",
          "Enema opaco",
          "Esofagograma",
          "Uretrocistografía miccional (VCUG)",
          "Tránsito intestinal",
          "Esofagograma",
          "Tránsito intestinal",
          "Esofagograma",
          "Tránsito intestinal",
          "Histerosalpingografía (HSG)",
          "Enema opaco",
          "Enema opaco",
          "Esofagograma",
          "Tránsito intestinal",
          "Histerosalpingografía (HSG)",
          "Tránsito intestinal",
          "Histerosalpingografía (HSG)",
          "Tránsito intestinal",
          "Uretrocistografía miccional (VCUG)",
          "Histerosalpingografía (HSG)",
          "Enema opaco",
          "Esofagograma",
          "Tránsito intestinal",
          "Enema opaco",
          "Esofagograma",
          "Uretrocistografía miccional (VCUG)",
          "Tránsito intestinal",
          "Uretrocistografía miccional (VCUG)",
          "Uretrocistografía miccional (VCUG)",
          "Tránsito intestinal",
          "Enema opaco",
          "Enema opaco",
          "Histerosalpingografía (HSG)",
          "Tránsito intestinal",
          "Histerosalpingografía (HSG)",
          "Histerosalpingografía (HSG)",
          "Uretrocistografía miccional (VCUG)",
          "Tránsito intestinal",
          "Uretrocistografía miccional (VCUG)",
          "Tránsito intestinal",
          "Enema opaco",
          "Esofagograma",
          "Uretrocistografía miccional (VCUG)",
          "Uretrocistografía miccional (VCUG)",
          "Enema opaco",
          "Tránsito intestinal",
          "Esofagograma",
          "Enema opaco",
          "Uretrocistografía miccional (VCUG)",
          "Esofagograma",
          "Enema opaco",
          "Uretrocistografía miccional (VCUG)",
          "Tránsito intestinal",
          "Uretrocistografía miccional (VCUG)",
          "Tránsito intestinal",
          "Esofagograma",
          "Tránsito intestinal",
          "Uretrocistografía miccional (VCUG)",
          "Histerosalpingografía (HSG)",
          "Esofagograma",
          "Uretrocistografía miccional (VCUG)",
          "Enema opaco",
          "Esofagograma",
          "Histerosalpingografía (HSG)",
          "Enema opaco",
          "Uretrocistografía miccional (VCUG)",
          "Uretrocistografía miccional (VCUG)",
          "Enema opaco",
          "Enema opaco",
          "Uretrocistografía miccional (VCUG)",
          "Tránsito intestinal",
          "Uretrocistografía miccional (VCUG)",
          "Uretrocistografía miccional (VCUG)",
          "Uretrocistografía miccional (VCUG)",
          "Uretrocistografía miccional (VCUG)",
          "Uretrocistografía miccional (VCUG)",
          "Enema opaco",
          "Histerosalpingografía (HSG)",
          "Tránsito intestinal",
          "Uretrocistografía miccional (VCUG)",
          "Esofagograma",
          "Uretrocistografía miccional (VCUG)",
          "Tránsito intestinal",
          "Enema opaco",
          "Esofagograma",
          "Esofagograma",
          "Histerosalpingografía (HSG)",
          "Tránsito intestinal",
          "Tránsito intestinal",
          "Enema opaco",
          "Histerosalpingografía (HSG)",
          "Enema opaco",
          "Uretrocistografía miccional (VCUG)",
          "Histerosalpingografía (HSG)",
          "Esofagograma",
          "Histerosalpingografía (HSG)",
          "Enema opaco",
          "Uretrocistografía miccional (VCUG)",
          "Esofagograma",
          "Enema opaco",
          "Esofagograma",
          "Esofagograma",
          "Tránsito intestinal",
          "Histerosalpingografía (HSG)",
          "Enema opaco",
          "Uretrocistografía miccional (VCUG)",
          "Tránsito intestinal",
          "Enema opaco",
          "Enema opaco",
          "Histerosalpingografía (HSG)",
          "Enema opaco",
          "Esofagograma",
          "Enema opaco",
          "Tránsito intestinal",
          "Esofagograma",
          "Uretrocistografía miccional (VCUG)",
          "Enema opaco",
          "Enema opaco",
          "Uretrocistografía miccional (VCUG)",
          "Enema opaco",
          "Esofagograma",
          "Tránsito intestinal",
          "Esofagograma",
          "Uretrocistografía miccional (VCUG)",
          "Tránsito intestinal",
          "Esofagograma",
          "Histerosalpingografía (HSG)",
          "Histerosalpingografía (HSG)",
          "Enema opaco",
          "Histerosalpingografía (HSG)",
          "Histerosalpingografía (HSG)",
          "Esofagograma",
          "Esofagograma",
          "Uretrocistografía miccional (VCUG)",
          "Uretrocistografía miccional (VCUG)",
          "Histerosalpingografía (HSG)",
          "Uretrocistografía miccional (VCUG)",
          "Uretrocistografía miccional (VCUG)",
          "Esofagograma",
          "Tránsito intestinal",
          "Uretrocistografía miccional (VCUG)",
          "Histerosalpingografía (HSG)",
          "Esofagograma",
          "Tránsito intestinal",
          "Enema opaco",
          "Histerosalpingografía (HSG)",
          "Uretrocistografía miccional (VCUG)",
          "Esofagograma",
          "Enema opaco",
          "Histerosalpingografía (HSG)",
          "Uretrocistografía miccional (VCUG)",
          "Histerosalpingografía (HSG)",
          "Enema opaco",
          "Enema opaco",
          "Histerosalpingografía (HSG)",
          "Enema opaco",
          "Histerosalpingografía (HSG)",
          "Uretrocistografía miccional (VCUG)",
          "Uretrocistografía miccional (VCUG)",
          "Esofagograma",
          "Enema opaco",
          "Esofagograma",
          "Uretrocistografía miccional (VCUG)",
          "Enema opaco",
          "Enema opaco",
          "Tránsito intestinal",
          "Tránsito intestinal",
          "Esofagograma",
          "Enema opaco",
          "Histerosalpingografía (HSG)",
          "Histerosalpingografía (HSG)",
          "Esofagograma",
          "Histerosalpingografía (HSG)",
          "Tránsito intestinal",
          "Histerosalpingografía (HSG)",
          "Tránsito intestinal",
          "Histerosalpingografía (HSG)",
          "Histerosalpingografía (HSG)",
          "Enema opaco",
          "Histerosalpingografía (HSG)",
          "Enema opaco",
          "Tránsito intestinal",
          "Uretrocistografía miccional (VCUG)"
         ],
         "y": [
          5.63,
          7.31,
          5.04,
          4.57,
          7.09,
          10.15,
          8.280000000000001,
          6.49,
          13.06,
          6.199999999999999,
          6.01,
          8.16,
          12.56,
          1.91,
          7.33,
          13.42,
          7.52,
          4.66,
          6.44,
          4.390000000000001,
          4.67,
          10.46,
          1.93,
          10.88,
          9.32,
          10.25,
          5.29,
          14.47,
          10.13,
          6.710000000000001,
          4.53,
          9.36,
          3.86,
          3.71,
          4.9,
          4.64,
          6.609999999999999,
          9.46,
          7.51,
          4.37,
          7.51,
          3.73,
          5.28,
          0.35,
          5.6,
          7.77,
          3.57,
          7.970000000000001,
          12.89,
          0.58,
          6.7,
          12.42,
          9.6,
          1.93,
          2.69,
          1.58,
          7.4,
          6.01,
          2.77,
          12.28,
          10.04,
          6.59,
          4.51,
          7.99,
          0.63,
          4.91,
          9.35,
          9.4,
          4.47,
          4.57,
          13.81,
          5.01,
          14.08,
          4.81,
          4.760000000000001,
          8.56,
          2.83,
          8.99,
          7.84,
          6.92,
          0.81,
          15.58,
          1.19,
          4.75,
          4.85,
          3.59,
          8.110000000000001,
          5.300000000000001,
          4.5,
          3.41,
          11.25,
          13.83,
          3.17,
          9.45,
          10.68,
          2.8,
          8.55,
          7.24,
          0.4,
          5.94,
          5.82,
          11.9,
          5.07,
          4.06,
          11.11,
          5.550000000000001,
          8.31,
          7.340000000000001,
          12.9,
          14.74,
          3.29,
          10.12,
          3.45,
          10.21,
          7.2,
          5.970000000000001,
          3.66,
          9.93,
          7.109999999999999,
          1.35,
          7.140000000000001,
          4.029999999999999,
          14.1,
          3.21,
          9.74,
          11.01,
          4.66,
          7.63,
          3.94,
          4.81,
          6.9,
          13.92,
          7.459999999999999,
          10.37,
          11.46,
          2.54,
          12.59,
          1.23,
          6.899999999999999,
          5.470000000000001,
          5.46,
          7.629999999999999,
          8.22,
          2.08,
          4.82,
          5.2,
          4.28,
          11.42,
          8.9,
          2.46,
          13.1,
          2.31,
          10.51,
          7.91,
          10.83,
          5.359999999999999,
          8.5,
          2.62,
          11.38,
          1.95,
          3.87,
          5.02,
          4.42,
          12.91,
          9.540000000000001,
          15.81,
          5.359999999999999,
          6.34,
          2.72,
          4.93,
          1.7,
          1.77,
          10.82,
          1.19,
          10.4,
          1.97,
          1.92,
          0.41,
          9.84,
          14.34,
          2.51,
          9.65,
          9.700000000000001,
          5.72,
          11.82,
          4.51,
          7.13,
          12.03,
          4.6,
          10.63,
          0.29,
          2.63,
          8.41,
          3.08,
          10.39,
          3.79,
          2.69,
          8.45,
          11.26,
          8.25,
          9.200000000000001,
          7.74,
          6.64,
          8.9,
          1.27,
          6.65,
          11.89,
          7.35,
          6.06,
          8.12,
          6.39,
          9.96,
          3.09,
          4.75,
          4.46,
          9.77,
          10.28,
          13.37,
          11.73,
          11.74,
          10.02,
          12.13,
          12.6,
          3.75,
          10.42,
          3.18,
          10.41,
          7.18,
          9.16,
          11.74,
          13.81,
          11.12,
          10.25,
          3.44,
          5.15,
          2.35,
          5.45,
          4.31,
          6.83,
          3.94,
          11.95,
          8.24,
          9.14,
          9.57,
          3.16,
          4.05,
          11.33,
          1.9,
          10.22,
          10.15,
          6.99,
          4.24,
          5.08,
          14.96,
          3.92,
          3.19,
          7.8,
          4.5,
          4.949999999999999,
          9.91,
          6.28,
          8.82,
          2.47,
          2.36,
          8.01,
          5.87,
          12.09,
          13.45,
          4.49,
          1.41,
          3.82,
          5.6,
          2.95,
          4.99,
          4.9,
          10,
          2.63,
          8.18,
          1.88,
          3.21,
          1.24,
          8.459999999999999,
          1.12,
          8.95,
          6.550000000000001,
          3.52,
          7.160000000000001,
          7.97,
          3.84,
          1.53,
          10.64,
          8.92,
          1.64,
          2.49,
          2.47,
          10.36,
          9.33,
          6.18,
          1.83,
          8.43,
          6.17,
          5.909999999999999,
          2.72,
          4.82,
          5.859999999999999,
          10.77,
          3.16,
          1.4,
          3.38,
          7.64,
          1.48,
          5.41,
          5.43,
          7.17,
          4.39,
          0.75,
          0.27,
          10.51,
          4.9,
          9.16,
          7.390000000000001,
          1.01,
          5.36,
          3.07,
          7.619999999999999,
          4.699999999999999,
          11.23,
          6.6,
          8.87,
          4.03,
          5.21,
          12.82,
          4.94,
          11.19,
          15.22,
          4.55,
          7.63,
          3.28,
          6.42,
          1.14,
          3.2,
          8.32,
          0.28,
          5.82,
          4.83,
          3.64,
          8.15,
          1.71,
          9.74,
          7.050000000000001,
          12.01,
          4.85,
          8.5,
          1.05,
          3.42,
          6.93,
          3.28,
          1.56,
          8.13,
          1.85,
          9.58,
          2.81,
          8.29,
          5.99,
          4.17,
          5.22,
          8.41,
          1.78,
          7.62,
          7.129999999999999,
          10.59,
          8.25,
          6.69,
          10.68,
          12.94,
          1.38,
          3.51,
          6.210000000000001,
          6.62,
          9.149999999999999,
          8.530000000000001,
          10.42,
          8.75,
          5.01,
          6.22,
          14.55,
          5.96,
          1.52,
          6.66,
          5.91,
          3.63,
          6.51,
          12.98,
          5.300000000000001,
          10.13,
          8.11,
          8.84,
          0.51,
          8.67,
          2.48,
          7.32,
          8.33,
          10.22,
          0.88,
          2.02,
          6.94,
          13.26,
          7.93,
          6.9,
          4.529999999999999,
          6.44,
          3.69,
          0.43,
          8.64,
          2.84,
          1.68,
          11.01,
          9.15,
          1.24,
          8.17,
          11.02,
          7.42,
          7.29,
          14.61,
          3.59,
          4.96,
          3.9,
          8.82,
          8.89,
          0.48,
          9.1,
          9.98,
          8.64,
          9.469999999999999,
          5.680000000000001,
          5.27,
          9.54,
          9.32,
          4.33,
          2.2,
          3.03,
          1.73,
          3.07,
          8.01,
          6.91,
          7.75,
          4.08,
          10.94,
          3.94,
          7.58,
          5.399999999999999,
          7.22,
          8.69,
          7.4,
          6.58,
          6.3,
          0.3,
          1.4,
          1.91,
          11.01,
          6.91,
          3.46,
          8.61,
          12.94,
          0.55,
          3.01,
          7.95,
          10.03,
          4.51,
          7.17,
          5.16,
          6.26,
          7.93,
          9.21,
          5.640000000000001,
          5.31,
          11.15,
          11.17,
          8.13,
          2.58,
          6.34,
          12.15,
          8.46,
          4.95,
          1.06,
          10.42,
          12.13,
          7.79,
          9.17,
          0.38,
          2.43,
          13.26,
          1.22,
          5.67,
          11.13,
          9.53,
          9.62,
          2.85,
          2.97,
          3.92,
          11.95,
          4.71,
          0.36,
          0.54,
          13.21,
          13.12,
          13.54,
          1.14,
          7.23,
          5.01,
          3.82,
          7.5,
          3.75,
          6.890000000000001,
          7.8,
          6.71,
          3.7,
          4.47,
          2.9,
          10.1,
          14.42,
          6.08,
          2.64,
          4.27,
          6.72,
          2.95,
          10.21,
          11.27,
          11.65,
          4.04,
          9.509999999999998,
          7.13,
          13.52,
          6.36,
          8.610000000000001,
          9.38,
          8.989999999999998,
          6.09,
          9.620000000000001,
          8.71,
          10.45,
          9.879999999999999,
          8.989999999999998,
          3.45,
          9.92,
          12.12,
          7.15,
          3.24,
          6.9,
          3.36,
          1.85,
          10.26,
          12.71,
          6.77,
          5.76,
          12.24,
          8.850000000000001,
          8.66,
          10.16,
          4.04,
          3.68,
          12.25,
          10.42,
          4.92,
          0.86,
          0.56,
          13.11,
          11.15,
          0.58,
          4.16,
          5.66,
          0.54,
          4.06,
          6.590000000000001,
          7.05,
          4.86,
          11.03,
          1.42,
          3.73,
          5.220000000000001,
          7.4,
          5.48,
          7.83,
          6.83,
          11.26,
          12.84,
          6.23,
          3.56,
          2.6,
          8.01,
          7.29,
          9.66,
          9.379999999999999,
          6.609999999999999,
          10.44,
          7.09,
          9.65,
          4.8,
          12.38,
          8.16
         ]
        }
       ],
       "layout": {
        "template": {
         "data": {
          "bar": [
           {
            "error_x": {
             "color": "#2a3f5f"
            },
            "error_y": {
             "color": "#2a3f5f"
            },
            "marker": {
             "line": {
              "color": "#E5ECF6",
              "width": 0.5
             },
             "pattern": {
              "fillmode": "overlay",
              "size": 10,
              "solidity": 0.2
             }
            },
            "type": "bar"
           }
          ],
          "barpolar": [
           {
            "marker": {
             "line": {
              "color": "#E5ECF6",
              "width": 0.5
             },
             "pattern": {
              "fillmode": "overlay",
              "size": 10,
              "solidity": 0.2
             }
            },
            "type": "barpolar"
           }
          ],
          "carpet": [
           {
            "aaxis": {
             "endlinecolor": "#2a3f5f",
             "gridcolor": "white",
             "linecolor": "white",
             "minorgridcolor": "white",
             "startlinecolor": "#2a3f5f"
            },
            "baxis": {
             "endlinecolor": "#2a3f5f",
             "gridcolor": "white",
             "linecolor": "white",
             "minorgridcolor": "white",
             "startlinecolor": "#2a3f5f"
            },
            "type": "carpet"
           }
          ],
          "choropleth": [
           {
            "colorbar": {
             "outlinewidth": 0,
             "ticks": ""
            },
            "type": "choropleth"
           }
          ],
          "contour": [
           {
            "colorbar": {
             "outlinewidth": 0,
             "ticks": ""
            },
            "colorscale": [
             [
              0,
              "#0d0887"
             ],
             [
              0.1111111111111111,
              "#46039f"
             ],
             [
              0.2222222222222222,
              "#7201a8"
             ],
             [
              0.3333333333333333,
              "#9c179e"
             ],
             [
              0.4444444444444444,
              "#bd3786"
             ],
             [
              0.5555555555555556,
              "#d8576b"
             ],
             [
              0.6666666666666666,
              "#ed7953"
             ],
             [
              0.7777777777777778,
              "#fb9f3a"
             ],
             [
              0.8888888888888888,
              "#fdca26"
             ],
             [
              1,
              "#f0f921"
             ]
            ],
            "type": "contour"
           }
          ],
          "contourcarpet": [
           {
            "colorbar": {
             "outlinewidth": 0,
             "ticks": ""
            },
            "type": "contourcarpet"
           }
          ],
          "heatmap": [
           {
            "colorbar": {
             "outlinewidth": 0,
             "ticks": ""
            },
            "colorscale": [
             [
              0,
              "#0d0887"
             ],
             [
              0.1111111111111111,
              "#46039f"
             ],
             [
              0.2222222222222222,
              "#7201a8"
             ],
             [
              0.3333333333333333,
              "#9c179e"
             ],
             [
              0.4444444444444444,
              "#bd3786"
             ],
             [
              0.5555555555555556,
              "#d8576b"
             ],
             [
              0.6666666666666666,
              "#ed7953"
             ],
             [
              0.7777777777777778,
              "#fb9f3a"
             ],
             [
              0.8888888888888888,
              "#fdca26"
             ],
             [
              1,
              "#f0f921"
             ]
            ],
            "type": "heatmap"
           }
          ],
          "heatmapgl": [
           {
            "colorbar": {
             "outlinewidth": 0,
             "ticks": ""
            },
            "colorscale": [
             [
              0,
              "#0d0887"
             ],
             [
              0.1111111111111111,
              "#46039f"
             ],
             [
              0.2222222222222222,
              "#7201a8"
             ],
             [
              0.3333333333333333,
              "#9c179e"
             ],
             [
              0.4444444444444444,
              "#bd3786"
             ],
             [
              0.5555555555555556,
              "#d8576b"
             ],
             [
              0.6666666666666666,
              "#ed7953"
             ],
             [
              0.7777777777777778,
              "#fb9f3a"
             ],
             [
              0.8888888888888888,
              "#fdca26"
             ],
             [
              1,
              "#f0f921"
             ]
            ],
            "type": "heatmapgl"
           }
          ],
          "histogram": [
           {
            "marker": {
             "pattern": {
              "fillmode": "overlay",
              "size": 10,
              "solidity": 0.2
             }
            },
            "type": "histogram"
           }
          ],
          "histogram2d": [
           {
            "colorbar": {
             "outlinewidth": 0,
             "ticks": ""
            },
            "colorscale": [
             [
              0,
              "#0d0887"
             ],
             [
              0.1111111111111111,
              "#46039f"
             ],
             [
              0.2222222222222222,
              "#7201a8"
             ],
             [
              0.3333333333333333,
              "#9c179e"
             ],
             [
              0.4444444444444444,
              "#bd3786"
             ],
             [
              0.5555555555555556,
              "#d8576b"
             ],
             [
              0.6666666666666666,
              "#ed7953"
             ],
             [
              0.7777777777777778,
              "#fb9f3a"
             ],
             [
              0.8888888888888888,
              "#fdca26"
             ],
             [
              1,
              "#f0f921"
             ]
            ],
            "type": "histogram2d"
           }
          ],
          "histogram2dcontour": [
           {
            "colorbar": {
             "outlinewidth": 0,
             "ticks": ""
            },
            "colorscale": [
             [
              0,
              "#0d0887"
             ],
             [
              0.1111111111111111,
              "#46039f"
             ],
             [
              0.2222222222222222,
              "#7201a8"
             ],
             [
              0.3333333333333333,
              "#9c179e"
             ],
             [
              0.4444444444444444,
              "#bd3786"
             ],
             [
              0.5555555555555556,
              "#d8576b"
             ],
             [
              0.6666666666666666,
              "#ed7953"
             ],
             [
              0.7777777777777778,
              "#fb9f3a"
             ],
             [
              0.8888888888888888,
              "#fdca26"
             ],
             [
              1,
              "#f0f921"
             ]
            ],
            "type": "histogram2dcontour"
           }
          ],
          "mesh3d": [
           {
            "colorbar": {
             "outlinewidth": 0,
             "ticks": ""
            },
            "type": "mesh3d"
           }
          ],
          "parcoords": [
           {
            "line": {
             "colorbar": {
              "outlinewidth": 0,
              "ticks": ""
             }
            },
            "type": "parcoords"
           }
          ],
          "pie": [
           {
            "automargin": true,
            "type": "pie"
           }
          ],
          "scatter": [
           {
            "fillpattern": {
             "fillmode": "overlay",
             "size": 10,
             "solidity": 0.2
            },
            "type": "scatter"
           }
          ],
          "scatter3d": [
           {
            "line": {
             "colorbar": {
              "outlinewidth": 0,
              "ticks": ""
             }
            },
            "marker": {
             "colorbar": {
              "outlinewidth": 0,
              "ticks": ""
             }
            },
            "type": "scatter3d"
           }
          ],
          "scattercarpet": [
           {
            "marker": {
             "colorbar": {
              "outlinewidth": 0,
              "ticks": ""
             }
            },
            "type": "scattercarpet"
           }
          ],
          "scattergeo": [
           {
            "marker": {
             "colorbar": {
              "outlinewidth": 0,
              "ticks": ""
             }
            },
            "type": "scattergeo"
           }
          ],
          "scattergl": [
           {
            "marker": {
             "colorbar": {
              "outlinewidth": 0,
              "ticks": ""
             }
            },
            "type": "scattergl"
           }
          ],
          "scattermapbox": [
           {
            "marker": {
             "colorbar": {
              "outlinewidth": 0,
              "ticks": ""
             }
            },
            "type": "scattermapbox"
           }
          ],
          "scatterpolar": [
           {
            "marker": {
             "colorbar": {
              "outlinewidth": 0,
              "ticks": ""
             }
            },
            "type": "scatterpolar"
           }
          ],
          "scatterpolargl": [
           {
            "marker": {
             "colorbar": {
              "outlinewidth": 0,
              "ticks": ""
             }
            },
            "type": "scatterpolargl"
           }
          ],
          "scatterternary": [
           {
            "marker": {
             "colorbar": {
              "outlinewidth": 0,
              "ticks": ""
             }
            },
            "type": "scatterternary"
           }
          ],
          "surface": [
           {
            "colorbar": {
             "outlinewidth": 0,
             "ticks": ""
            },
            "colorscale": [
             [
              0,
              "#0d0887"
             ],
             [
              0.1111111111111111,
              "#46039f"
             ],
             [
              0.2222222222222222,
              "#7201a8"
             ],
             [
              0.3333333333333333,
              "#9c179e"
             ],
             [
              0.4444444444444444,
              "#bd3786"
             ],
             [
              0.5555555555555556,
              "#d8576b"
             ],
             [
              0.6666666666666666,
              "#ed7953"
             ],
             [
              0.7777777777777778,
              "#fb9f3a"
             ],
             [
              0.8888888888888888,
              "#fdca26"
             ],
             [
              1,
              "#f0f921"
             ]
            ],
            "type": "surface"
           }
          ],
          "table": [
           {
            "cells": {
             "fill": {
              "color": "#EBF0F8"
             },
             "line": {
              "color": "white"
             }
            },
            "header": {
             "fill": {
              "color": "#C8D4E3"
             },
             "line": {
              "color": "white"
             }
            },
            "type": "table"
           }
          ]
         },
         "layout": {
          "annotationdefaults": {
           "arrowcolor": "#2a3f5f",
           "arrowhead": 0,
           "arrowwidth": 1
          },
          "autotypenumbers": "strict",
          "coloraxis": {
           "colorbar": {
            "outlinewidth": 0,
            "ticks": ""
           }
          },
          "colorscale": {
           "diverging": [
            [
             0,
             "#8e0152"
            ],
            [
             0.1,
             "#c51b7d"
            ],
            [
             0.2,
             "#de77ae"
            ],
            [
             0.3,
             "#f1b6da"
            ],
            [
             0.4,
             "#fde0ef"
            ],
            [
             0.5,
             "#f7f7f7"
            ],
            [
             0.6,
             "#e6f5d0"
            ],
            [
             0.7,
             "#b8e186"
            ],
            [
             0.8,
             "#7fbc41"
            ],
            [
             0.9,
             "#4d9221"
            ],
            [
             1,
             "#276419"
            ]
           ],
           "sequential": [
            [
             0,
             "#0d0887"
            ],
            [
             0.1111111111111111,
             "#46039f"
            ],
            [
             0.2222222222222222,
             "#7201a8"
            ],
            [
             0.3333333333333333,
             "#9c179e"
            ],
            [
             0.4444444444444444,
             "#bd3786"
            ],
            [
             0.5555555555555556,
             "#d8576b"
            ],
            [
             0.6666666666666666,
             "#ed7953"
            ],
            [
             0.7777777777777778,
             "#fb9f3a"
            ],
            [
             0.8888888888888888,
             "#fdca26"
            ],
            [
             1,
             "#f0f921"
            ]
           ],
           "sequentialminus": [
            [
             0,
             "#0d0887"
            ],
            [
             0.1111111111111111,
             "#46039f"
            ],
            [
             0.2222222222222222,
             "#7201a8"
            ],
            [
             0.3333333333333333,
             "#9c179e"
            ],
            [
             0.4444444444444444,
             "#bd3786"
            ],
            [
             0.5555555555555556,
             "#d8576b"
            ],
            [
             0.6666666666666666,
             "#ed7953"
            ],
            [
             0.7777777777777778,
             "#fb9f3a"
            ],
            [
             0.8888888888888888,
             "#fdca26"
            ],
            [
             1,
             "#f0f921"
            ]
           ]
          },
          "colorway": [
           "#636efa",
           "#EF553B",
           "#00cc96",
           "#ab63fa",
           "#FFA15A",
           "#19d3f3",
           "#FF6692",
           "#B6E880",
           "#FF97FF",
           "#FECB52"
          ],
          "font": {
           "color": "#2a3f5f"
          },
          "geo": {
           "bgcolor": "white",
           "lakecolor": "white",
           "landcolor": "#E5ECF6",
           "showlakes": true,
           "showland": true,
           "subunitcolor": "white"
          },
          "hoverlabel": {
           "align": "left"
          },
          "hovermode": "closest",
          "mapbox": {
           "style": "light"
          },
          "paper_bgcolor": "white",
          "plot_bgcolor": "#E5ECF6",
          "polar": {
           "angularaxis": {
            "gridcolor": "white",
            "linecolor": "white",
            "ticks": ""
           },
           "bgcolor": "#E5ECF6",
           "radialaxis": {
            "gridcolor": "white",
            "linecolor": "white",
            "ticks": ""
           }
          },
          "scene": {
           "xaxis": {
            "backgroundcolor": "#E5ECF6",
            "gridcolor": "white",
            "gridwidth": 2,
            "linecolor": "white",
            "showbackground": true,
            "ticks": "",
            "zerolinecolor": "white"
           },
           "yaxis": {
            "backgroundcolor": "#E5ECF6",
            "gridcolor": "white",
            "gridwidth": 2,
            "linecolor": "white",
            "showbackground": true,
            "ticks": "",
            "zerolinecolor": "white"
           },
           "zaxis": {
            "backgroundcolor": "#E5ECF6",
            "gridcolor": "white",
            "gridwidth": 2,
            "linecolor": "white",
            "showbackground": true,
            "ticks": "",
            "zerolinecolor": "white"
           }
          },
          "shapedefaults": {
           "line": {
            "color": "#2a3f5f"
           }
          },
          "ternary": {
           "aaxis": {
            "gridcolor": "white",
            "linecolor": "white",
            "ticks": ""
           },
           "baxis": {
            "gridcolor": "white",
            "linecolor": "white",
            "ticks": ""
           },
           "bgcolor": "#E5ECF6",
           "caxis": {
            "gridcolor": "white",
            "linecolor": "white",
            "ticks": ""
           }
          },
          "title": {
           "x": 0.05
          },
          "xaxis": {
           "automargin": true,
           "gridcolor": "white",
           "linecolor": "white",
           "ticks": "",
           "title": {
            "standoff": 15
           },
           "zerolinecolor": "white",
           "zerolinewidth": 2
          },
          "yaxis": {
           "automargin": true,
           "gridcolor": "white",
           "linecolor": "white",
           "ticks": "",
           "title": {
            "standoff": 15
           },
           "zerolinecolor": "white",
           "zerolinewidth": 2
          }
         }
        },
        "title": {
         "text": "Distribución de 'Dosis total' por procedimiento (boxplots)"
        },
        "xaxis": {
         "categoryarray": [
          "Histerosalpingografía (HSG)",
          "Uretrocistografía miccional (VCUG)",
          "Enema opaco",
          "Esofagograma",
          "Tránsito intestinal"
         ],
         "categoryorder": "array",
         "title": {
          "text": "Procedimiento"
         }
        },
        "yaxis": {
         "title": {
          "text": "Dosis total"
         }
        }
       }
      }
     },
     "metadata": {},
     "output_type": "display_data"
    }
   ],
   "source": [
    "# --- 1) Nos quedamos solo con las filas donde 'dosis total' no es NaN ---\n",
    "df_totales = df.dropna(subset=[\"dosis total\"])\n",
    "\n",
    "# --- 2) (Opcional) Ordenar procedimientos por mediana para que el eje X quede más legible ---\n",
    "orden = (df_totales\n",
    "         .groupby(\"procedimiento\")[\"dosis total\"]\n",
    "         .median()\n",
    "         .sort_values()\n",
    "         .index\n",
    "         .tolist())\n",
    "\n",
    "# --- 3) Graficar boxplots por procedimiento ---\n",
    "import plotly.graph_objects as go\n",
    "\n",
    "fig = go.Figure()\n",
    "\n",
    "fig.add_trace(go.Box(\n",
    "    x=df_totales[\"procedimiento\"],      # categorías (un box por procedimiento)\n",
    "    y=df_totales[\"dosis total\"],        # valores\n",
    "    name=\"Dosis total\",\n",
    "    boxpoints=\"outliers\",               # muestra solo outliers (usa \"all\" para todos los puntos)\n",
    "    boxmean=True                        # dibuja la media (usa \"sd\" para mostrar también ±1 SD)\n",
    "))\n",
    "\n",
    "fig.update_layout(\n",
    "    title=\"Distribución de 'Dosis total' por procedimiento (boxplots)\",\n",
    "    xaxis_title=\"Procedimiento\",\n",
    "    yaxis_title=\"Dosis total\",\n",
    ")\n",
    "\n",
    "# aplica el orden por mediana en el eje X (quita esta línea si no quieres reordenar)\n",
    "fig.update_xaxes(categoryorder=\"array\", categoryarray=orden)\n",
    "\n",
    "fig.show()\n"
   ]
  },
  {
   "cell_type": "markdown",
   "id": "bdbf2228",
   "metadata": {},
   "source": [
    "#### Candlesticks"
   ]
  },
  {
   "cell_type": "code",
   "execution_count": 11,
   "id": "1a94f9af",
   "metadata": {},
   "outputs": [
    {
     "data": {
      "application/vnd.plotly.v1+json": {
       "config": {
        "plotlyServerURL": "https://plot.ly"
       },
       "data": [
        {
         "close": [
          9.072499999999998,
          9.16,
          9.559999999999999,
          9.53,
          9.5
         ],
         "high": [
          14.74,
          15.58,
          15.81,
          14.96,
          14.55
         ],
         "low": [
          0.55,
          0.35,
          0.27,
          0.3,
          0.29
         ],
         "name": "Dosis total",
         "open": [
          3.685,
          4.04,
          3.61,
          4.67,
          4.055
         ],
         "type": "candlestick",
         "x": [
          "Enema opaco",
          "Esofagograma",
          "Histerosalpingografía (HSG)",
          "Tránsito intestinal",
          "Uretrocistografía miccional (VCUG)"
         ]
        },
        {
         "marker": {
          "color": "black",
          "size": 8
         },
         "mode": "markers",
         "name": "Mediana",
         "type": "scatter",
         "x": [
          "Enema opaco",
          "Esofagograma",
          "Histerosalpingografía (HSG)",
          "Tránsito intestinal",
          "Uretrocistografía miccional (VCUG)"
         ],
         "y": [
          6.455,
          6.9,
          6.23,
          7.459999999999999,
          6.3
         ]
        }
       ],
       "layout": {
        "template": {
         "data": {
          "bar": [
           {
            "error_x": {
             "color": "#2a3f5f"
            },
            "error_y": {
             "color": "#2a3f5f"
            },
            "marker": {
             "line": {
              "color": "#E5ECF6",
              "width": 0.5
             },
             "pattern": {
              "fillmode": "overlay",
              "size": 10,
              "solidity": 0.2
             }
            },
            "type": "bar"
           }
          ],
          "barpolar": [
           {
            "marker": {
             "line": {
              "color": "#E5ECF6",
              "width": 0.5
             },
             "pattern": {
              "fillmode": "overlay",
              "size": 10,
              "solidity": 0.2
             }
            },
            "type": "barpolar"
           }
          ],
          "carpet": [
           {
            "aaxis": {
             "endlinecolor": "#2a3f5f",
             "gridcolor": "white",
             "linecolor": "white",
             "minorgridcolor": "white",
             "startlinecolor": "#2a3f5f"
            },
            "baxis": {
             "endlinecolor": "#2a3f5f",
             "gridcolor": "white",
             "linecolor": "white",
             "minorgridcolor": "white",
             "startlinecolor": "#2a3f5f"
            },
            "type": "carpet"
           }
          ],
          "choropleth": [
           {
            "colorbar": {
             "outlinewidth": 0,
             "ticks": ""
            },
            "type": "choropleth"
           }
          ],
          "contour": [
           {
            "colorbar": {
             "outlinewidth": 0,
             "ticks": ""
            },
            "colorscale": [
             [
              0,
              "#0d0887"
             ],
             [
              0.1111111111111111,
              "#46039f"
             ],
             [
              0.2222222222222222,
              "#7201a8"
             ],
             [
              0.3333333333333333,
              "#9c179e"
             ],
             [
              0.4444444444444444,
              "#bd3786"
             ],
             [
              0.5555555555555556,
              "#d8576b"
             ],
             [
              0.6666666666666666,
              "#ed7953"
             ],
             [
              0.7777777777777778,
              "#fb9f3a"
             ],
             [
              0.8888888888888888,
              "#fdca26"
             ],
             [
              1,
              "#f0f921"
             ]
            ],
            "type": "contour"
           }
          ],
          "contourcarpet": [
           {
            "colorbar": {
             "outlinewidth": 0,
             "ticks": ""
            },
            "type": "contourcarpet"
           }
          ],
          "heatmap": [
           {
            "colorbar": {
             "outlinewidth": 0,
             "ticks": ""
            },
            "colorscale": [
             [
              0,
              "#0d0887"
             ],
             [
              0.1111111111111111,
              "#46039f"
             ],
             [
              0.2222222222222222,
              "#7201a8"
             ],
             [
              0.3333333333333333,
              "#9c179e"
             ],
             [
              0.4444444444444444,
              "#bd3786"
             ],
             [
              0.5555555555555556,
              "#d8576b"
             ],
             [
              0.6666666666666666,
              "#ed7953"
             ],
             [
              0.7777777777777778,
              "#fb9f3a"
             ],
             [
              0.8888888888888888,
              "#fdca26"
             ],
             [
              1,
              "#f0f921"
             ]
            ],
            "type": "heatmap"
           }
          ],
          "heatmapgl": [
           {
            "colorbar": {
             "outlinewidth": 0,
             "ticks": ""
            },
            "colorscale": [
             [
              0,
              "#0d0887"
             ],
             [
              0.1111111111111111,
              "#46039f"
             ],
             [
              0.2222222222222222,
              "#7201a8"
             ],
             [
              0.3333333333333333,
              "#9c179e"
             ],
             [
              0.4444444444444444,
              "#bd3786"
             ],
             [
              0.5555555555555556,
              "#d8576b"
             ],
             [
              0.6666666666666666,
              "#ed7953"
             ],
             [
              0.7777777777777778,
              "#fb9f3a"
             ],
             [
              0.8888888888888888,
              "#fdca26"
             ],
             [
              1,
              "#f0f921"
             ]
            ],
            "type": "heatmapgl"
           }
          ],
          "histogram": [
           {
            "marker": {
             "pattern": {
              "fillmode": "overlay",
              "size": 10,
              "solidity": 0.2
             }
            },
            "type": "histogram"
           }
          ],
          "histogram2d": [
           {
            "colorbar": {
             "outlinewidth": 0,
             "ticks": ""
            },
            "colorscale": [
             [
              0,
              "#0d0887"
             ],
             [
              0.1111111111111111,
              "#46039f"
             ],
             [
              0.2222222222222222,
              "#7201a8"
             ],
             [
              0.3333333333333333,
              "#9c179e"
             ],
             [
              0.4444444444444444,
              "#bd3786"
             ],
             [
              0.5555555555555556,
              "#d8576b"
             ],
             [
              0.6666666666666666,
              "#ed7953"
             ],
             [
              0.7777777777777778,
              "#fb9f3a"
             ],
             [
              0.8888888888888888,
              "#fdca26"
             ],
             [
              1,
              "#f0f921"
             ]
            ],
            "type": "histogram2d"
           }
          ],
          "histogram2dcontour": [
           {
            "colorbar": {
             "outlinewidth": 0,
             "ticks": ""
            },
            "colorscale": [
             [
              0,
              "#0d0887"
             ],
             [
              0.1111111111111111,
              "#46039f"
             ],
             [
              0.2222222222222222,
              "#7201a8"
             ],
             [
              0.3333333333333333,
              "#9c179e"
             ],
             [
              0.4444444444444444,
              "#bd3786"
             ],
             [
              0.5555555555555556,
              "#d8576b"
             ],
             [
              0.6666666666666666,
              "#ed7953"
             ],
             [
              0.7777777777777778,
              "#fb9f3a"
             ],
             [
              0.8888888888888888,
              "#fdca26"
             ],
             [
              1,
              "#f0f921"
             ]
            ],
            "type": "histogram2dcontour"
           }
          ],
          "mesh3d": [
           {
            "colorbar": {
             "outlinewidth": 0,
             "ticks": ""
            },
            "type": "mesh3d"
           }
          ],
          "parcoords": [
           {
            "line": {
             "colorbar": {
              "outlinewidth": 0,
              "ticks": ""
             }
            },
            "type": "parcoords"
           }
          ],
          "pie": [
           {
            "automargin": true,
            "type": "pie"
           }
          ],
          "scatter": [
           {
            "fillpattern": {
             "fillmode": "overlay",
             "size": 10,
             "solidity": 0.2
            },
            "type": "scatter"
           }
          ],
          "scatter3d": [
           {
            "line": {
             "colorbar": {
              "outlinewidth": 0,
              "ticks": ""
             }
            },
            "marker": {
             "colorbar": {
              "outlinewidth": 0,
              "ticks": ""
             }
            },
            "type": "scatter3d"
           }
          ],
          "scattercarpet": [
           {
            "marker": {
             "colorbar": {
              "outlinewidth": 0,
              "ticks": ""
             }
            },
            "type": "scattercarpet"
           }
          ],
          "scattergeo": [
           {
            "marker": {
             "colorbar": {
              "outlinewidth": 0,
              "ticks": ""
             }
            },
            "type": "scattergeo"
           }
          ],
          "scattergl": [
           {
            "marker": {
             "colorbar": {
              "outlinewidth": 0,
              "ticks": ""
             }
            },
            "type": "scattergl"
           }
          ],
          "scattermapbox": [
           {
            "marker": {
             "colorbar": {
              "outlinewidth": 0,
              "ticks": ""
             }
            },
            "type": "scattermapbox"
           }
          ],
          "scatterpolar": [
           {
            "marker": {
             "colorbar": {
              "outlinewidth": 0,
              "ticks": ""
             }
            },
            "type": "scatterpolar"
           }
          ],
          "scatterpolargl": [
           {
            "marker": {
             "colorbar": {
              "outlinewidth": 0,
              "ticks": ""
             }
            },
            "type": "scatterpolargl"
           }
          ],
          "scatterternary": [
           {
            "marker": {
             "colorbar": {
              "outlinewidth": 0,
              "ticks": ""
             }
            },
            "type": "scatterternary"
           }
          ],
          "surface": [
           {
            "colorbar": {
             "outlinewidth": 0,
             "ticks": ""
            },
            "colorscale": [
             [
              0,
              "#0d0887"
             ],
             [
              0.1111111111111111,
              "#46039f"
             ],
             [
              0.2222222222222222,
              "#7201a8"
             ],
             [
              0.3333333333333333,
              "#9c179e"
             ],
             [
              0.4444444444444444,
              "#bd3786"
             ],
             [
              0.5555555555555556,
              "#d8576b"
             ],
             [
              0.6666666666666666,
              "#ed7953"
             ],
             [
              0.7777777777777778,
              "#fb9f3a"
             ],
             [
              0.8888888888888888,
              "#fdca26"
             ],
             [
              1,
              "#f0f921"
             ]
            ],
            "type": "surface"
           }
          ],
          "table": [
           {
            "cells": {
             "fill": {
              "color": "#EBF0F8"
             },
             "line": {
              "color": "white"
             }
            },
            "header": {
             "fill": {
              "color": "#C8D4E3"
             },
             "line": {
              "color": "white"
             }
            },
            "type": "table"
           }
          ]
         },
         "layout": {
          "annotationdefaults": {
           "arrowcolor": "#2a3f5f",
           "arrowhead": 0,
           "arrowwidth": 1
          },
          "autotypenumbers": "strict",
          "coloraxis": {
           "colorbar": {
            "outlinewidth": 0,
            "ticks": ""
           }
          },
          "colorscale": {
           "diverging": [
            [
             0,
             "#8e0152"
            ],
            [
             0.1,
             "#c51b7d"
            ],
            [
             0.2,
             "#de77ae"
            ],
            [
             0.3,
             "#f1b6da"
            ],
            [
             0.4,
             "#fde0ef"
            ],
            [
             0.5,
             "#f7f7f7"
            ],
            [
             0.6,
             "#e6f5d0"
            ],
            [
             0.7,
             "#b8e186"
            ],
            [
             0.8,
             "#7fbc41"
            ],
            [
             0.9,
             "#4d9221"
            ],
            [
             1,
             "#276419"
            ]
           ],
           "sequential": [
            [
             0,
             "#0d0887"
            ],
            [
             0.1111111111111111,
             "#46039f"
            ],
            [
             0.2222222222222222,
             "#7201a8"
            ],
            [
             0.3333333333333333,
             "#9c179e"
            ],
            [
             0.4444444444444444,
             "#bd3786"
            ],
            [
             0.5555555555555556,
             "#d8576b"
            ],
            [
             0.6666666666666666,
             "#ed7953"
            ],
            [
             0.7777777777777778,
             "#fb9f3a"
            ],
            [
             0.8888888888888888,
             "#fdca26"
            ],
            [
             1,
             "#f0f921"
            ]
           ],
           "sequentialminus": [
            [
             0,
             "#0d0887"
            ],
            [
             0.1111111111111111,
             "#46039f"
            ],
            [
             0.2222222222222222,
             "#7201a8"
            ],
            [
             0.3333333333333333,
             "#9c179e"
            ],
            [
             0.4444444444444444,
             "#bd3786"
            ],
            [
             0.5555555555555556,
             "#d8576b"
            ],
            [
             0.6666666666666666,
             "#ed7953"
            ],
            [
             0.7777777777777778,
             "#fb9f3a"
            ],
            [
             0.8888888888888888,
             "#fdca26"
            ],
            [
             1,
             "#f0f921"
            ]
           ]
          },
          "colorway": [
           "#636efa",
           "#EF553B",
           "#00cc96",
           "#ab63fa",
           "#FFA15A",
           "#19d3f3",
           "#FF6692",
           "#B6E880",
           "#FF97FF",
           "#FECB52"
          ],
          "font": {
           "color": "#2a3f5f"
          },
          "geo": {
           "bgcolor": "white",
           "lakecolor": "white",
           "landcolor": "#E5ECF6",
           "showlakes": true,
           "showland": true,
           "subunitcolor": "white"
          },
          "hoverlabel": {
           "align": "left"
          },
          "hovermode": "closest",
          "mapbox": {
           "style": "light"
          },
          "paper_bgcolor": "white",
          "plot_bgcolor": "#E5ECF6",
          "polar": {
           "angularaxis": {
            "gridcolor": "white",
            "linecolor": "white",
            "ticks": ""
           },
           "bgcolor": "#E5ECF6",
           "radialaxis": {
            "gridcolor": "white",
            "linecolor": "white",
            "ticks": ""
           }
          },
          "scene": {
           "xaxis": {
            "backgroundcolor": "#E5ECF6",
            "gridcolor": "white",
            "gridwidth": 2,
            "linecolor": "white",
            "showbackground": true,
            "ticks": "",
            "zerolinecolor": "white"
           },
           "yaxis": {
            "backgroundcolor": "#E5ECF6",
            "gridcolor": "white",
            "gridwidth": 2,
            "linecolor": "white",
            "showbackground": true,
            "ticks": "",
            "zerolinecolor": "white"
           },
           "zaxis": {
            "backgroundcolor": "#E5ECF6",
            "gridcolor": "white",
            "gridwidth": 2,
            "linecolor": "white",
            "showbackground": true,
            "ticks": "",
            "zerolinecolor": "white"
           }
          },
          "shapedefaults": {
           "line": {
            "color": "#2a3f5f"
           }
          },
          "ternary": {
           "aaxis": {
            "gridcolor": "white",
            "linecolor": "white",
            "ticks": ""
           },
           "baxis": {
            "gridcolor": "white",
            "linecolor": "white",
            "ticks": ""
           },
           "bgcolor": "#E5ECF6",
           "caxis": {
            "gridcolor": "white",
            "linecolor": "white",
            "ticks": ""
           }
          },
          "title": {
           "x": 0.05
          },
          "xaxis": {
           "automargin": true,
           "gridcolor": "white",
           "linecolor": "white",
           "ticks": "",
           "title": {
            "standoff": 15
           },
           "zerolinecolor": "white",
           "zerolinewidth": 2
          },
          "yaxis": {
           "automargin": true,
           "gridcolor": "white",
           "linecolor": "white",
           "ticks": "",
           "title": {
            "standoff": 15
           },
           "zerolinecolor": "white",
           "zerolinewidth": 2
          }
         }
        },
        "title": {
         "text": "Distribución de 'Dosis total' por procedimiento"
        },
        "xaxis": {
         "rangeslider": {
          "visible": false
         },
         "title": {
          "text": "Procedimiento"
         }
        },
        "yaxis": {
         "title": {
          "text": "Dosis total"
         }
        }
       }
      }
     },
     "metadata": {},
     "output_type": "display_data"
    }
   ],
   "source": [
    "\n",
    "\n",
    "# --- 1) Nos quedamos solo con las filas donde 'dosis total' no es NaN ---\n",
    "df_totales = df.dropna(subset=[\"dosis total\"])\n",
    "\n",
    "# --- 2) Calcular estadísticos por procedimiento ---\n",
    "def q25(x): return np.nanpercentile(x, 25)\n",
    "def q75(x): return np.nanpercentile(x, 75)\n",
    "\n",
    "stats = (df_totales\n",
    "         .groupby(\"procedimiento\")   # <--- ahora agrupamos por el nombre\n",
    "         .agg(\n",
    "             low=(\"dosis total\", \"min\"),\n",
    "             q1=(\"dosis total\", q25),\n",
    "             median=(\"dosis total\", \"median\"),\n",
    "             q3=(\"dosis total\", q75),\n",
    "             high=(\"dosis total\", \"max\"),\n",
    "             n=(\"dosis total\", \"count\")\n",
    "         )\n",
    "         .reset_index())\n",
    "\n",
    "# --- 3) Graficar un solo candlestick con los 5 procedimientos ---\n",
    "fig = go.Figure()\n",
    "\n",
    "fig.add_trace(go.Candlestick(\n",
    "    x=stats[\"procedimiento\"],\n",
    "    open=stats[\"q1\"],    # límite inferior de la caja (IQR)\n",
    "    high=stats[\"high\"],  # mecha superior\n",
    "    low=stats[\"low\"],    # mecha inferior\n",
    "    close=stats[\"q3\"],   # límite superior de la caja (IQR)\n",
    "    name=\"Dosis total\"\n",
    "))\n",
    "\n",
    "# Mediana como punto \n",
    "fig.add_trace(go.Scatter(\n",
    "    x=stats[\"procedimiento\"],\n",
    "    y=stats[\"median\"],\n",
    "    mode=\"markers\",\n",
    "    name=\"Mediana\",\n",
    "    marker=dict(size=8, color=\"black\")\n",
    "))\n",
    "\n",
    "fig.update_layout(\n",
    "    title=\"Distribución de 'Dosis total' por procedimiento\",\n",
    "    xaxis_title=\"Procedimiento\",\n",
    "    yaxis_title=\"Dosis total\",\n",
    "    xaxis_rangeslider_visible=False\n",
    ")\n",
    "\n",
    "fig.show()\n"
   ]
  },
  {
   "cell_type": "markdown",
   "id": "890fc65e",
   "metadata": {},
   "source": [
    "### 2.2) Seccionando con ID para mayor seguridad y solo por procedimiento"
   ]
  },
  {
   "cell_type": "code",
   "execution_count": 12,
   "id": "7e52ead9",
   "metadata": {},
   "outputs": [
    {
     "data": {
      "application/vnd.plotly.v1+json": {
       "config": {
        "plotlyServerURL": "https://plot.ly"
       },
       "data": [
        {
         "boxmean": true,
         "boxpoints": "outliers",
         "name": "Dosis total por estudio",
         "type": "box",
         "x": [
          "Histerosalpingografía (HSG)",
          "Uretrocistografía miccional (VCUG)",
          "Histerosalpingografía (HSG)",
          "Esofagograma",
          "Enema opaco",
          "Uretrocistografía miccional (VCUG)",
          "Uretrocistografía miccional (VCUG)",
          "Tránsito intestinal",
          "Histerosalpingografía (HSG)",
          "Uretrocistografía miccional (VCUG)",
          "Tránsito intestinal",
          "Histerosalpingografía (HSG)",
          "Histerosalpingografía (HSG)",
          "Histerosalpingografía (HSG)",
          "Uretrocistografía miccional (VCUG)",
          "Uretrocistografía miccional (VCUG)",
          "Tránsito intestinal",
          "Tránsito intestinal",
          "Esofagograma",
          "Histerosalpingografía (HSG)",
          "Tránsito intestinal",
          "Tránsito intestinal",
          "Tránsito intestinal",
          "Tránsito intestinal",
          "Enema opaco",
          "Histerosalpingografía (HSG)",
          "Tránsito intestinal",
          "Esofagograma",
          "Uretrocistografía miccional (VCUG)",
          "Esofagograma",
          "Esofagograma",
          "Uretrocistografía miccional (VCUG)",
          "Histerosalpingografía (HSG)",
          "Uretrocistografía miccional (VCUG)",
          "Esofagograma",
          "Uretrocistografía miccional (VCUG)",
          "Enema opaco",
          "Histerosalpingografía (HSG)",
          "Uretrocistografía miccional (VCUG)",
          "Tránsito intestinal",
          "Enema opaco",
          "Uretrocistografía miccional (VCUG)",
          "Enema opaco",
          "Esofagograma",
          "Esofagograma",
          "Tránsito intestinal",
          "Tránsito intestinal",
          "Tránsito intestinal",
          "Tránsito intestinal",
          "Tránsito intestinal",
          "Uretrocistografía miccional (VCUG)",
          "Enema opaco",
          "Esofagograma",
          "Tránsito intestinal",
          "Enema opaco",
          "Histerosalpingografía (HSG)",
          "Enema opaco",
          "Enema opaco",
          "Esofagograma",
          "Esofagograma",
          "Esofagograma",
          "Enema opaco",
          "Esofagograma",
          "Enema opaco",
          "Tránsito intestinal",
          "Uretrocistografía miccional (VCUG)",
          "Enema opaco",
          "Esofagograma",
          "Uretrocistografía miccional (VCUG)",
          "Uretrocistografía miccional (VCUG)",
          "Uretrocistografía miccional (VCUG)",
          "Tránsito intestinal",
          "Tránsito intestinal",
          "Uretrocistografía miccional (VCUG)",
          "Tránsito intestinal",
          "Esofagograma",
          "Uretrocistografía miccional (VCUG)",
          "Tránsito intestinal",
          "Histerosalpingografía (HSG)",
          "Tránsito intestinal",
          "Esofagograma",
          "Esofagograma",
          "Tránsito intestinal",
          "Histerosalpingografía (HSG)",
          "Histerosalpingografía (HSG)",
          "Histerosalpingografía (HSG)",
          "Histerosalpingografía (HSG)",
          "Enema opaco",
          "Histerosalpingografía (HSG)",
          "Tránsito intestinal",
          "Esofagograma",
          "Enema opaco",
          "Enema opaco",
          "Enema opaco",
          "Uretrocistografía miccional (VCUG)",
          "Enema opaco",
          "Tránsito intestinal",
          "Histerosalpingografía (HSG)",
          "Histerosalpingografía (HSG)",
          "Histerosalpingografía (HSG)",
          "Histerosalpingografía (HSG)",
          "Esofagograma",
          "Uretrocistografía miccional (VCUG)",
          "Uretrocistografía miccional (VCUG)",
          "Histerosalpingografía (HSG)",
          "Esofagograma",
          "Tránsito intestinal",
          "Enema opaco",
          "Histerosalpingografía (HSG)",
          "Enema opaco",
          "Histerosalpingografía (HSG)",
          "Tránsito intestinal",
          "Uretrocistografía miccional (VCUG)",
          "Tránsito intestinal",
          "Enema opaco",
          "Tránsito intestinal",
          "Esofagograma",
          "Histerosalpingografía (HSG)",
          "Tránsito intestinal",
          "Uretrocistografía miccional (VCUG)",
          "Enema opaco",
          "Esofagograma",
          "Uretrocistografía miccional (VCUG)",
          "Esofagograma",
          "Tránsito intestinal",
          "Histerosalpingografía (HSG)",
          "Histerosalpingografía (HSG)",
          "Tránsito intestinal",
          "Enema opaco",
          "Histerosalpingografía (HSG)",
          "Esofagograma",
          "Enema opaco",
          "Tránsito intestinal",
          "Tránsito intestinal",
          "Esofagograma",
          "Histerosalpingografía (HSG)",
          "Esofagograma",
          "Enema opaco",
          "Histerosalpingografía (HSG)",
          "Esofagograma",
          "Histerosalpingografía (HSG)",
          "Histerosalpingografía (HSG)",
          "Histerosalpingografía (HSG)",
          "Histerosalpingografía (HSG)",
          "Uretrocistografía miccional (VCUG)",
          "Esofagograma",
          "Histerosalpingografía (HSG)",
          "Tránsito intestinal",
          "Uretrocistografía miccional (VCUG)",
          "Tránsito intestinal",
          "Enema opaco",
          "Uretrocistografía miccional (VCUG)",
          "Esofagograma",
          "Tránsito intestinal",
          "Histerosalpingografía (HSG)",
          "Histerosalpingografía (HSG)",
          "Esofagograma",
          "Esofagograma",
          "Esofagograma",
          "Esofagograma",
          "Enema opaco",
          "Histerosalpingografía (HSG)",
          "Uretrocistografía miccional (VCUG)",
          "Enema opaco",
          "Enema opaco",
          "Histerosalpingografía (HSG)",
          "Enema opaco",
          "Histerosalpingografía (HSG)",
          "Esofagograma",
          "Esofagograma",
          "Uretrocistografía miccional (VCUG)",
          "Enema opaco",
          "Enema opaco",
          "Enema opaco",
          "Histerosalpingografía (HSG)",
          "Uretrocistografía miccional (VCUG)",
          "Histerosalpingografía (HSG)",
          "Tránsito intestinal",
          "Uretrocistografía miccional (VCUG)",
          "Esofagograma",
          "Uretrocistografía miccional (VCUG)",
          "Tránsito intestinal",
          "Esofagograma",
          "Uretrocistografía miccional (VCUG)",
          "Tránsito intestinal",
          "Histerosalpingografía (HSG)",
          "Histerosalpingografía (HSG)",
          "Histerosalpingografía (HSG)",
          "Uretrocistografía miccional (VCUG)",
          "Enema opaco",
          "Uretrocistografía miccional (VCUG)",
          "Tránsito intestinal",
          "Histerosalpingografía (HSG)",
          "Uretrocistografía miccional (VCUG)",
          "Enema opaco",
          "Tránsito intestinal",
          "Enema opaco",
          "Tránsito intestinal",
          "Enema opaco",
          "Tránsito intestinal",
          "Uretrocistografía miccional (VCUG)",
          "Uretrocistografía miccional (VCUG)",
          "Histerosalpingografía (HSG)",
          "Uretrocistografía miccional (VCUG)",
          "Histerosalpingografía (HSG)",
          "Histerosalpingografía (HSG)",
          "Tránsito intestinal",
          "Tránsito intestinal",
          "Enema opaco",
          "Esofagograma",
          "Uretrocistografía miccional (VCUG)",
          "Esofagograma",
          "Uretrocistografía miccional (VCUG)",
          "Esofagograma",
          "Enema opaco",
          "Histerosalpingografía (HSG)",
          "Uretrocistografía miccional (VCUG)",
          "Uretrocistografía miccional (VCUG)",
          "Histerosalpingografía (HSG)",
          "Uretrocistografía miccional (VCUG)",
          "Tránsito intestinal",
          "Uretrocistografía miccional (VCUG)",
          "Tránsito intestinal",
          "Enema opaco",
          "Histerosalpingografía (HSG)",
          "Histerosalpingografía (HSG)",
          "Histerosalpingografía (HSG)",
          "Esofagograma",
          "Esofagograma",
          "Uretrocistografía miccional (VCUG)",
          "Tránsito intestinal",
          "Esofagograma",
          "Enema opaco",
          "Histerosalpingografía (HSG)",
          "Tránsito intestinal",
          "Histerosalpingografía (HSG)",
          "Histerosalpingografía (HSG)",
          "Esofagograma",
          "Esofagograma",
          "Enema opaco",
          "Enema opaco",
          "Enema opaco",
          "Tránsito intestinal",
          "Enema opaco",
          "Enema opaco",
          "Uretrocistografía miccional (VCUG)",
          "Esofagograma",
          "Tránsito intestinal",
          "Histerosalpingografía (HSG)",
          "Esofagograma",
          "Esofagograma",
          "Uretrocistografía miccional (VCUG)",
          "Enema opaco",
          "Tránsito intestinal",
          "Uretrocistografía miccional (VCUG)",
          "Uretrocistografía miccional (VCUG)",
          "Enema opaco",
          "Histerosalpingografía (HSG)",
          "Tránsito intestinal",
          "Uretrocistografía miccional (VCUG)",
          "Uretrocistografía miccional (VCUG)",
          "Uretrocistografía miccional (VCUG)",
          "Enema opaco",
          "Histerosalpingografía (HSG)",
          "Enema opaco",
          "Esofagograma",
          "Uretrocistografía miccional (VCUG)",
          "Uretrocistografía miccional (VCUG)",
          "Enema opaco",
          "Enema opaco",
          "Uretrocistografía miccional (VCUG)",
          "Esofagograma",
          "Tránsito intestinal",
          "Histerosalpingografía (HSG)",
          "Uretrocistografía miccional (VCUG)",
          "Uretrocistografía miccional (VCUG)",
          "Tránsito intestinal",
          "Uretrocistografía miccional (VCUG)",
          "Uretrocistografía miccional (VCUG)",
          "Histerosalpingografía (HSG)",
          "Uretrocistografía miccional (VCUG)",
          "Esofagograma",
          "Enema opaco",
          "Esofagograma",
          "Enema opaco",
          "Tránsito intestinal",
          "Histerosalpingografía (HSG)",
          "Uretrocistografía miccional (VCUG)",
          "Enema opaco",
          "Tránsito intestinal",
          "Uretrocistografía miccional (VCUG)",
          "Histerosalpingografía (HSG)",
          "Enema opaco",
          "Esofagograma",
          "Tránsito intestinal",
          "Esofagograma",
          "Uretrocistografía miccional (VCUG)",
          "Histerosalpingografía (HSG)",
          "Esofagograma",
          "Enema opaco",
          "Uretrocistografía miccional (VCUG)",
          "Tránsito intestinal",
          "Esofagograma",
          "Esofagograma",
          "Histerosalpingografía (HSG)",
          "Uretrocistografía miccional (VCUG)",
          "Uretrocistografía miccional (VCUG)",
          "Histerosalpingografía (HSG)",
          "Histerosalpingografía (HSG)",
          "Histerosalpingografía (HSG)",
          "Enema opaco",
          "Histerosalpingografía (HSG)",
          "Tránsito intestinal",
          "Esofagograma",
          "Enema opaco",
          "Enema opaco",
          "Histerosalpingografía (HSG)",
          "Tránsito intestinal",
          "Histerosalpingografía (HSG)",
          "Uretrocistografía miccional (VCUG)",
          "Histerosalpingografía (HSG)",
          "Enema opaco",
          "Histerosalpingografía (HSG)",
          "Enema opaco",
          "Uretrocistografía miccional (VCUG)",
          "Tránsito intestinal",
          "Tránsito intestinal",
          "Esofagograma",
          "Tránsito intestinal",
          "Enema opaco",
          "Esofagograma",
          "Histerosalpingografía (HSG)",
          "Histerosalpingografía (HSG)",
          "Histerosalpingografía (HSG)",
          "Histerosalpingografía (HSG)",
          "Tránsito intestinal",
          "Esofagograma",
          "Enema opaco",
          "Esofagograma",
          "Uretrocistografía miccional (VCUG)",
          "Uretrocistografía miccional (VCUG)",
          "Histerosalpingografía (HSG)",
          "Histerosalpingografía (HSG)",
          "Uretrocistografía miccional (VCUG)",
          "Enema opaco",
          "Enema opaco",
          "Esofagograma",
          "Histerosalpingografía (HSG)",
          "Uretrocistografía miccional (VCUG)",
          "Esofagograma",
          "Uretrocistografía miccional (VCUG)",
          "Enema opaco",
          "Enema opaco",
          "Histerosalpingografía (HSG)",
          "Histerosalpingografía (HSG)",
          "Esofagograma",
          "Uretrocistografía miccional (VCUG)",
          "Enema opaco",
          "Uretrocistografía miccional (VCUG)",
          "Esofagograma",
          "Histerosalpingografía (HSG)",
          "Uretrocistografía miccional (VCUG)",
          "Esofagograma",
          "Uretrocistografía miccional (VCUG)",
          "Enema opaco",
          "Uretrocistografía miccional (VCUG)",
          "Tránsito intestinal",
          "Uretrocistografía miccional (VCUG)",
          "Enema opaco",
          "Esofagograma",
          "Uretrocistografía miccional (VCUG)",
          "Esofagograma",
          "Histerosalpingografía (HSG)",
          "Esofagograma",
          "Enema opaco",
          "Histerosalpingografía (HSG)",
          "Enema opaco",
          "Uretrocistografía miccional (VCUG)",
          "Esofagograma",
          "Uretrocistografía miccional (VCUG)",
          "Esofagograma",
          "Esofagograma",
          "Esofagograma",
          "Uretrocistografía miccional (VCUG)",
          "Uretrocistografía miccional (VCUG)",
          "Uretrocistografía miccional (VCUG)",
          "Tránsito intestinal",
          "Esofagograma",
          "Tránsito intestinal",
          "Histerosalpingografía (HSG)",
          "Histerosalpingografía (HSG)",
          "Uretrocistografía miccional (VCUG)",
          "Esofagograma",
          "Esofagograma",
          "Uretrocistografía miccional (VCUG)",
          "Enema opaco",
          "Enema opaco",
          "Histerosalpingografía (HSG)",
          "Enema opaco",
          "Uretrocistografía miccional (VCUG)",
          "Histerosalpingografía (HSG)",
          "Tránsito intestinal",
          "Tránsito intestinal",
          "Esofagograma",
          "Histerosalpingografía (HSG)",
          "Histerosalpingografía (HSG)",
          "Uretrocistografía miccional (VCUG)",
          "Tránsito intestinal",
          "Esofagograma",
          "Uretrocistografía miccional (VCUG)",
          "Tránsito intestinal",
          "Esofagograma",
          "Uretrocistografía miccional (VCUG)",
          "Tránsito intestinal",
          "Histerosalpingografía (HSG)",
          "Tránsito intestinal",
          "Tránsito intestinal",
          "Uretrocistografía miccional (VCUG)",
          "Enema opaco",
          "Esofagograma",
          "Uretrocistografía miccional (VCUG)",
          "Tránsito intestinal",
          "Esofagograma",
          "Tránsito intestinal",
          "Esofagograma",
          "Tránsito intestinal",
          "Histerosalpingografía (HSG)",
          "Enema opaco",
          "Enema opaco",
          "Esofagograma",
          "Tránsito intestinal",
          "Histerosalpingografía (HSG)",
          "Tránsito intestinal",
          "Histerosalpingografía (HSG)",
          "Tránsito intestinal",
          "Uretrocistografía miccional (VCUG)",
          "Histerosalpingografía (HSG)",
          "Enema opaco",
          "Esofagograma",
          "Tránsito intestinal",
          "Enema opaco",
          "Esofagograma",
          "Uretrocistografía miccional (VCUG)",
          "Tránsito intestinal",
          "Uretrocistografía miccional (VCUG)",
          "Uretrocistografía miccional (VCUG)",
          "Tránsito intestinal",
          "Enema opaco",
          "Enema opaco",
          "Histerosalpingografía (HSG)",
          "Tránsito intestinal",
          "Histerosalpingografía (HSG)",
          "Histerosalpingografía (HSG)",
          "Uretrocistografía miccional (VCUG)",
          "Tránsito intestinal",
          "Uretrocistografía miccional (VCUG)",
          "Tránsito intestinal",
          "Enema opaco",
          "Esofagograma",
          "Uretrocistografía miccional (VCUG)",
          "Uretrocistografía miccional (VCUG)",
          "Enema opaco",
          "Tránsito intestinal",
          "Esofagograma",
          "Enema opaco",
          "Uretrocistografía miccional (VCUG)",
          "Esofagograma",
          "Enema opaco",
          "Uretrocistografía miccional (VCUG)",
          "Tránsito intestinal",
          "Uretrocistografía miccional (VCUG)",
          "Tránsito intestinal",
          "Esofagograma",
          "Tránsito intestinal",
          "Uretrocistografía miccional (VCUG)",
          "Histerosalpingografía (HSG)",
          "Esofagograma",
          "Uretrocistografía miccional (VCUG)",
          "Enema opaco",
          "Esofagograma",
          "Histerosalpingografía (HSG)",
          "Enema opaco",
          "Uretrocistografía miccional (VCUG)",
          "Uretrocistografía miccional (VCUG)",
          "Enema opaco",
          "Enema opaco",
          "Uretrocistografía miccional (VCUG)",
          "Tránsito intestinal",
          "Uretrocistografía miccional (VCUG)",
          "Uretrocistografía miccional (VCUG)",
          "Uretrocistografía miccional (VCUG)",
          "Uretrocistografía miccional (VCUG)",
          "Uretrocistografía miccional (VCUG)",
          "Enema opaco",
          "Histerosalpingografía (HSG)",
          "Tránsito intestinal",
          "Uretrocistografía miccional (VCUG)",
          "Esofagograma",
          "Uretrocistografía miccional (VCUG)",
          "Tránsito intestinal",
          "Enema opaco",
          "Esofagograma",
          "Esofagograma",
          "Histerosalpingografía (HSG)",
          "Tránsito intestinal",
          "Tránsito intestinal",
          "Enema opaco",
          "Histerosalpingografía (HSG)",
          "Enema opaco",
          "Uretrocistografía miccional (VCUG)",
          "Histerosalpingografía (HSG)",
          "Esofagograma",
          "Histerosalpingografía (HSG)",
          "Enema opaco",
          "Uretrocistografía miccional (VCUG)",
          "Esofagograma",
          "Enema opaco",
          "Esofagograma",
          "Esofagograma",
          "Tránsito intestinal",
          "Histerosalpingografía (HSG)",
          "Enema opaco",
          "Uretrocistografía miccional (VCUG)",
          "Tránsito intestinal",
          "Enema opaco",
          "Enema opaco",
          "Histerosalpingografía (HSG)",
          "Enema opaco",
          "Esofagograma",
          "Enema opaco",
          "Tránsito intestinal",
          "Esofagograma",
          "Uretrocistografía miccional (VCUG)",
          "Enema opaco",
          "Enema opaco",
          "Uretrocistografía miccional (VCUG)",
          "Enema opaco",
          "Esofagograma",
          "Tránsito intestinal",
          "Esofagograma",
          "Uretrocistografía miccional (VCUG)",
          "Tránsito intestinal",
          "Esofagograma",
          "Histerosalpingografía (HSG)",
          "Histerosalpingografía (HSG)",
          "Enema opaco",
          "Histerosalpingografía (HSG)",
          "Histerosalpingografía (HSG)",
          "Esofagograma",
          "Esofagograma",
          "Uretrocistografía miccional (VCUG)",
          "Uretrocistografía miccional (VCUG)",
          "Histerosalpingografía (HSG)",
          "Uretrocistografía miccional (VCUG)",
          "Uretrocistografía miccional (VCUG)",
          "Esofagograma",
          "Tránsito intestinal",
          "Uretrocistografía miccional (VCUG)",
          "Histerosalpingografía (HSG)",
          "Esofagograma",
          "Tránsito intestinal",
          "Enema opaco",
          "Histerosalpingografía (HSG)",
          "Uretrocistografía miccional (VCUG)",
          "Esofagograma",
          "Enema opaco",
          "Histerosalpingografía (HSG)",
          "Uretrocistografía miccional (VCUG)",
          "Histerosalpingografía (HSG)",
          "Enema opaco",
          "Enema opaco",
          "Histerosalpingografía (HSG)",
          "Enema opaco",
          "Histerosalpingografía (HSG)",
          "Uretrocistografía miccional (VCUG)",
          "Uretrocistografía miccional (VCUG)",
          "Esofagograma",
          "Enema opaco",
          "Esofagograma",
          "Uretrocistografía miccional (VCUG)",
          "Enema opaco",
          "Enema opaco",
          "Tránsito intestinal",
          "Tránsito intestinal",
          "Esofagograma",
          "Enema opaco",
          "Histerosalpingografía (HSG)",
          "Histerosalpingografía (HSG)",
          "Esofagograma",
          "Histerosalpingografía (HSG)",
          "Tránsito intestinal",
          "Histerosalpingografía (HSG)",
          "Tránsito intestinal",
          "Histerosalpingografía (HSG)",
          "Histerosalpingografía (HSG)",
          "Enema opaco",
          "Histerosalpingografía (HSG)",
          "Enema opaco",
          "Tránsito intestinal",
          "Uretrocistografía miccional (VCUG)"
         ],
         "y": [
          5.63,
          7.31,
          5.04,
          4.57,
          7.09,
          10.15,
          8.280000000000001,
          6.49,
          13.06,
          6.199999999999999,
          6.01,
          8.16,
          12.56,
          1.91,
          7.33,
          13.42,
          7.52,
          4.66,
          6.44,
          4.390000000000001,
          4.67,
          10.46,
          1.93,
          10.88,
          9.32,
          10.25,
          5.29,
          14.47,
          10.13,
          6.710000000000001,
          4.53,
          9.36,
          3.86,
          3.71,
          4.9,
          4.64,
          6.609999999999999,
          9.46,
          7.51,
          4.37,
          7.51,
          3.73,
          5.28,
          0.35,
          5.6,
          7.77,
          3.57,
          7.970000000000001,
          12.89,
          0.58,
          6.7,
          12.42,
          9.6,
          1.93,
          2.69,
          1.58,
          7.4,
          6.01,
          2.77,
          12.28,
          10.04,
          6.59,
          4.51,
          7.99,
          0.63,
          4.91,
          9.35,
          9.4,
          4.47,
          4.57,
          13.81,
          5.01,
          14.08,
          4.81,
          4.760000000000001,
          8.56,
          2.83,
          8.99,
          7.84,
          6.92,
          0.81,
          15.58,
          1.19,
          4.75,
          4.85,
          3.59,
          8.110000000000001,
          5.300000000000001,
          4.5,
          3.41,
          11.25,
          13.83,
          3.17,
          9.45,
          10.68,
          2.8,
          8.55,
          7.24,
          0.4,
          5.94,
          5.82,
          11.9,
          5.07,
          4.06,
          11.11,
          5.550000000000001,
          8.31,
          7.340000000000001,
          12.9,
          14.74,
          3.29,
          10.12,
          3.45,
          10.21,
          7.2,
          5.970000000000001,
          3.66,
          9.93,
          7.109999999999999,
          1.35,
          7.140000000000001,
          4.029999999999999,
          14.1,
          3.21,
          9.74,
          11.01,
          4.66,
          7.63,
          3.94,
          4.81,
          6.9,
          13.92,
          7.459999999999999,
          10.37,
          11.46,
          2.54,
          12.59,
          1.23,
          6.899999999999999,
          5.470000000000001,
          5.46,
          7.629999999999999,
          8.22,
          2.08,
          4.82,
          5.2,
          4.28,
          11.42,
          8.9,
          2.46,
          13.1,
          2.31,
          10.51,
          7.91,
          10.83,
          5.359999999999999,
          8.5,
          2.62,
          11.38,
          1.95,
          3.87,
          5.02,
          4.42,
          12.91,
          9.540000000000001,
          15.81,
          5.359999999999999,
          6.34,
          2.72,
          4.93,
          1.7,
          1.77,
          10.82,
          1.19,
          10.4,
          1.97,
          1.92,
          0.41,
          9.84,
          14.34,
          2.51,
          9.65,
          9.700000000000001,
          5.72,
          11.82,
          4.51,
          7.13,
          12.03,
          4.6,
          10.63,
          0.29,
          2.63,
          8.41,
          3.08,
          10.39,
          3.79,
          2.69,
          8.45,
          11.26,
          8.25,
          9.200000000000001,
          7.74,
          6.64,
          8.9,
          1.27,
          6.65,
          11.89,
          7.35,
          6.06,
          8.12,
          6.39,
          9.96,
          3.09,
          4.75,
          4.46,
          9.77,
          10.28,
          13.37,
          11.73,
          11.74,
          10.02,
          12.13,
          12.6,
          3.75,
          10.42,
          3.18,
          10.41,
          7.18,
          9.16,
          11.74,
          13.81,
          11.12,
          10.25,
          3.44,
          5.15,
          2.35,
          5.45,
          4.31,
          6.83,
          3.94,
          11.95,
          8.24,
          9.14,
          9.57,
          3.16,
          4.05,
          11.33,
          1.9,
          10.22,
          10.15,
          6.99,
          4.24,
          5.08,
          14.96,
          3.92,
          3.19,
          7.8,
          4.5,
          4.949999999999999,
          9.91,
          6.28,
          8.82,
          2.47,
          2.36,
          8.01,
          5.87,
          12.09,
          13.45,
          4.49,
          1.41,
          3.82,
          5.6,
          2.95,
          4.99,
          4.9,
          10,
          2.63,
          8.18,
          1.88,
          3.21,
          1.24,
          8.459999999999999,
          1.12,
          8.95,
          6.550000000000001,
          3.52,
          7.160000000000001,
          7.97,
          3.84,
          1.53,
          10.64,
          8.92,
          1.64,
          2.49,
          2.47,
          10.36,
          9.33,
          6.18,
          1.83,
          8.43,
          6.17,
          5.909999999999999,
          2.72,
          4.82,
          5.859999999999999,
          10.77,
          3.16,
          1.4,
          3.38,
          7.64,
          1.48,
          5.41,
          5.43,
          7.17,
          4.39,
          0.75,
          0.27,
          10.51,
          4.9,
          9.16,
          7.390000000000001,
          1.01,
          5.36,
          3.07,
          7.619999999999999,
          4.699999999999999,
          11.23,
          6.6,
          8.87,
          4.03,
          5.21,
          12.82,
          4.94,
          11.19,
          15.22,
          4.55,
          7.63,
          3.28,
          6.42,
          1.14,
          3.2,
          8.32,
          0.28,
          5.82,
          4.83,
          3.64,
          8.15,
          1.71,
          9.74,
          7.050000000000001,
          12.01,
          4.85,
          8.5,
          1.05,
          3.42,
          6.93,
          3.28,
          1.56,
          8.13,
          1.85,
          9.58,
          2.81,
          8.29,
          5.99,
          4.17,
          5.22,
          8.41,
          1.78,
          7.62,
          7.129999999999999,
          10.59,
          8.25,
          6.69,
          10.68,
          12.94,
          1.38,
          3.51,
          6.210000000000001,
          6.62,
          9.149999999999999,
          8.530000000000001,
          10.42,
          8.75,
          5.01,
          6.22,
          14.55,
          5.96,
          1.52,
          6.66,
          5.91,
          3.63,
          6.51,
          12.98,
          5.300000000000001,
          10.13,
          8.11,
          8.84,
          0.51,
          8.67,
          2.48,
          7.32,
          8.33,
          10.22,
          0.88,
          2.02,
          6.94,
          13.26,
          7.93,
          6.9,
          4.529999999999999,
          6.44,
          3.69,
          0.43,
          8.64,
          2.84,
          1.68,
          11.01,
          9.15,
          1.24,
          8.17,
          11.02,
          7.42,
          7.29,
          14.61,
          3.59,
          4.96,
          3.9,
          8.82,
          8.89,
          0.48,
          9.1,
          9.98,
          8.64,
          9.469999999999999,
          5.680000000000001,
          5.27,
          9.54,
          9.32,
          4.33,
          2.2,
          3.03,
          1.73,
          3.07,
          8.01,
          6.91,
          7.75,
          4.08,
          10.94,
          3.94,
          7.58,
          5.399999999999999,
          7.22,
          8.69,
          7.4,
          6.58,
          6.3,
          0.3,
          1.4,
          1.91,
          11.01,
          6.91,
          3.46,
          8.61,
          12.94,
          0.55,
          3.01,
          7.95,
          10.03,
          4.51,
          7.17,
          5.16,
          6.26,
          7.93,
          9.21,
          5.640000000000001,
          5.31,
          11.15,
          11.17,
          8.13,
          2.58,
          6.34,
          12.15,
          8.46,
          4.95,
          1.06,
          10.42,
          12.13,
          7.79,
          9.17,
          0.38,
          2.43,
          13.26,
          1.22,
          5.67,
          11.13,
          9.53,
          9.62,
          2.85,
          2.97,
          3.92,
          11.95,
          4.71,
          0.36,
          0.54,
          13.21,
          13.12,
          13.54,
          1.14,
          7.23,
          5.01,
          3.82,
          7.5,
          3.75,
          6.890000000000001,
          7.8,
          6.71,
          3.7,
          4.47,
          2.9,
          10.1,
          14.42,
          6.08,
          2.64,
          4.27,
          6.72,
          2.95,
          10.21,
          11.27,
          11.65,
          4.04,
          9.509999999999998,
          7.13,
          13.52,
          6.36,
          8.610000000000001,
          9.38,
          8.989999999999998,
          6.09,
          9.620000000000001,
          8.71,
          10.45,
          9.879999999999999,
          8.989999999999998,
          3.45,
          9.92,
          12.12,
          7.15,
          3.24,
          6.9,
          3.36,
          1.85,
          10.26,
          12.71,
          6.77,
          5.76,
          12.24,
          8.850000000000001,
          8.66,
          10.16,
          4.04,
          3.68,
          12.25,
          10.42,
          4.92,
          0.86,
          0.56,
          13.11,
          11.15,
          0.58,
          4.16,
          5.66,
          0.54,
          4.06,
          6.590000000000001,
          7.05,
          4.86,
          11.03,
          1.42,
          3.73,
          5.220000000000001,
          7.4,
          5.48,
          7.83,
          6.83,
          11.26,
          12.84,
          6.23,
          3.56,
          2.6,
          8.01,
          7.29,
          9.66,
          9.379999999999999,
          6.609999999999999,
          10.44,
          7.09,
          9.65,
          4.8,
          12.38,
          8.16
         ]
        }
       ],
       "layout": {
        "template": {
         "data": {
          "bar": [
           {
            "error_x": {
             "color": "#2a3f5f"
            },
            "error_y": {
             "color": "#2a3f5f"
            },
            "marker": {
             "line": {
              "color": "#E5ECF6",
              "width": 0.5
             },
             "pattern": {
              "fillmode": "overlay",
              "size": 10,
              "solidity": 0.2
             }
            },
            "type": "bar"
           }
          ],
          "barpolar": [
           {
            "marker": {
             "line": {
              "color": "#E5ECF6",
              "width": 0.5
             },
             "pattern": {
              "fillmode": "overlay",
              "size": 10,
              "solidity": 0.2
             }
            },
            "type": "barpolar"
           }
          ],
          "carpet": [
           {
            "aaxis": {
             "endlinecolor": "#2a3f5f",
             "gridcolor": "white",
             "linecolor": "white",
             "minorgridcolor": "white",
             "startlinecolor": "#2a3f5f"
            },
            "baxis": {
             "endlinecolor": "#2a3f5f",
             "gridcolor": "white",
             "linecolor": "white",
             "minorgridcolor": "white",
             "startlinecolor": "#2a3f5f"
            },
            "type": "carpet"
           }
          ],
          "choropleth": [
           {
            "colorbar": {
             "outlinewidth": 0,
             "ticks": ""
            },
            "type": "choropleth"
           }
          ],
          "contour": [
           {
            "colorbar": {
             "outlinewidth": 0,
             "ticks": ""
            },
            "colorscale": [
             [
              0,
              "#0d0887"
             ],
             [
              0.1111111111111111,
              "#46039f"
             ],
             [
              0.2222222222222222,
              "#7201a8"
             ],
             [
              0.3333333333333333,
              "#9c179e"
             ],
             [
              0.4444444444444444,
              "#bd3786"
             ],
             [
              0.5555555555555556,
              "#d8576b"
             ],
             [
              0.6666666666666666,
              "#ed7953"
             ],
             [
              0.7777777777777778,
              "#fb9f3a"
             ],
             [
              0.8888888888888888,
              "#fdca26"
             ],
             [
              1,
              "#f0f921"
             ]
            ],
            "type": "contour"
           }
          ],
          "contourcarpet": [
           {
            "colorbar": {
             "outlinewidth": 0,
             "ticks": ""
            },
            "type": "contourcarpet"
           }
          ],
          "heatmap": [
           {
            "colorbar": {
             "outlinewidth": 0,
             "ticks": ""
            },
            "colorscale": [
             [
              0,
              "#0d0887"
             ],
             [
              0.1111111111111111,
              "#46039f"
             ],
             [
              0.2222222222222222,
              "#7201a8"
             ],
             [
              0.3333333333333333,
              "#9c179e"
             ],
             [
              0.4444444444444444,
              "#bd3786"
             ],
             [
              0.5555555555555556,
              "#d8576b"
             ],
             [
              0.6666666666666666,
              "#ed7953"
             ],
             [
              0.7777777777777778,
              "#fb9f3a"
             ],
             [
              0.8888888888888888,
              "#fdca26"
             ],
             [
              1,
              "#f0f921"
             ]
            ],
            "type": "heatmap"
           }
          ],
          "heatmapgl": [
           {
            "colorbar": {
             "outlinewidth": 0,
             "ticks": ""
            },
            "colorscale": [
             [
              0,
              "#0d0887"
             ],
             [
              0.1111111111111111,
              "#46039f"
             ],
             [
              0.2222222222222222,
              "#7201a8"
             ],
             [
              0.3333333333333333,
              "#9c179e"
             ],
             [
              0.4444444444444444,
              "#bd3786"
             ],
             [
              0.5555555555555556,
              "#d8576b"
             ],
             [
              0.6666666666666666,
              "#ed7953"
             ],
             [
              0.7777777777777778,
              "#fb9f3a"
             ],
             [
              0.8888888888888888,
              "#fdca26"
             ],
             [
              1,
              "#f0f921"
             ]
            ],
            "type": "heatmapgl"
           }
          ],
          "histogram": [
           {
            "marker": {
             "pattern": {
              "fillmode": "overlay",
              "size": 10,
              "solidity": 0.2
             }
            },
            "type": "histogram"
           }
          ],
          "histogram2d": [
           {
            "colorbar": {
             "outlinewidth": 0,
             "ticks": ""
            },
            "colorscale": [
             [
              0,
              "#0d0887"
             ],
             [
              0.1111111111111111,
              "#46039f"
             ],
             [
              0.2222222222222222,
              "#7201a8"
             ],
             [
              0.3333333333333333,
              "#9c179e"
             ],
             [
              0.4444444444444444,
              "#bd3786"
             ],
             [
              0.5555555555555556,
              "#d8576b"
             ],
             [
              0.6666666666666666,
              "#ed7953"
             ],
             [
              0.7777777777777778,
              "#fb9f3a"
             ],
             [
              0.8888888888888888,
              "#fdca26"
             ],
             [
              1,
              "#f0f921"
             ]
            ],
            "type": "histogram2d"
           }
          ],
          "histogram2dcontour": [
           {
            "colorbar": {
             "outlinewidth": 0,
             "ticks": ""
            },
            "colorscale": [
             [
              0,
              "#0d0887"
             ],
             [
              0.1111111111111111,
              "#46039f"
             ],
             [
              0.2222222222222222,
              "#7201a8"
             ],
             [
              0.3333333333333333,
              "#9c179e"
             ],
             [
              0.4444444444444444,
              "#bd3786"
             ],
             [
              0.5555555555555556,
              "#d8576b"
             ],
             [
              0.6666666666666666,
              "#ed7953"
             ],
             [
              0.7777777777777778,
              "#fb9f3a"
             ],
             [
              0.8888888888888888,
              "#fdca26"
             ],
             [
              1,
              "#f0f921"
             ]
            ],
            "type": "histogram2dcontour"
           }
          ],
          "mesh3d": [
           {
            "colorbar": {
             "outlinewidth": 0,
             "ticks": ""
            },
            "type": "mesh3d"
           }
          ],
          "parcoords": [
           {
            "line": {
             "colorbar": {
              "outlinewidth": 0,
              "ticks": ""
             }
            },
            "type": "parcoords"
           }
          ],
          "pie": [
           {
            "automargin": true,
            "type": "pie"
           }
          ],
          "scatter": [
           {
            "fillpattern": {
             "fillmode": "overlay",
             "size": 10,
             "solidity": 0.2
            },
            "type": "scatter"
           }
          ],
          "scatter3d": [
           {
            "line": {
             "colorbar": {
              "outlinewidth": 0,
              "ticks": ""
             }
            },
            "marker": {
             "colorbar": {
              "outlinewidth": 0,
              "ticks": ""
             }
            },
            "type": "scatter3d"
           }
          ],
          "scattercarpet": [
           {
            "marker": {
             "colorbar": {
              "outlinewidth": 0,
              "ticks": ""
             }
            },
            "type": "scattercarpet"
           }
          ],
          "scattergeo": [
           {
            "marker": {
             "colorbar": {
              "outlinewidth": 0,
              "ticks": ""
             }
            },
            "type": "scattergeo"
           }
          ],
          "scattergl": [
           {
            "marker": {
             "colorbar": {
              "outlinewidth": 0,
              "ticks": ""
             }
            },
            "type": "scattergl"
           }
          ],
          "scattermapbox": [
           {
            "marker": {
             "colorbar": {
              "outlinewidth": 0,
              "ticks": ""
             }
            },
            "type": "scattermapbox"
           }
          ],
          "scatterpolar": [
           {
            "marker": {
             "colorbar": {
              "outlinewidth": 0,
              "ticks": ""
             }
            },
            "type": "scatterpolar"
           }
          ],
          "scatterpolargl": [
           {
            "marker": {
             "colorbar": {
              "outlinewidth": 0,
              "ticks": ""
             }
            },
            "type": "scatterpolargl"
           }
          ],
          "scatterternary": [
           {
            "marker": {
             "colorbar": {
              "outlinewidth": 0,
              "ticks": ""
             }
            },
            "type": "scatterternary"
           }
          ],
          "surface": [
           {
            "colorbar": {
             "outlinewidth": 0,
             "ticks": ""
            },
            "colorscale": [
             [
              0,
              "#0d0887"
             ],
             [
              0.1111111111111111,
              "#46039f"
             ],
             [
              0.2222222222222222,
              "#7201a8"
             ],
             [
              0.3333333333333333,
              "#9c179e"
             ],
             [
              0.4444444444444444,
              "#bd3786"
             ],
             [
              0.5555555555555556,
              "#d8576b"
             ],
             [
              0.6666666666666666,
              "#ed7953"
             ],
             [
              0.7777777777777778,
              "#fb9f3a"
             ],
             [
              0.8888888888888888,
              "#fdca26"
             ],
             [
              1,
              "#f0f921"
             ]
            ],
            "type": "surface"
           }
          ],
          "table": [
           {
            "cells": {
             "fill": {
              "color": "#EBF0F8"
             },
             "line": {
              "color": "white"
             }
            },
            "header": {
             "fill": {
              "color": "#C8D4E3"
             },
             "line": {
              "color": "white"
             }
            },
            "type": "table"
           }
          ]
         },
         "layout": {
          "annotationdefaults": {
           "arrowcolor": "#2a3f5f",
           "arrowhead": 0,
           "arrowwidth": 1
          },
          "autotypenumbers": "strict",
          "coloraxis": {
           "colorbar": {
            "outlinewidth": 0,
            "ticks": ""
           }
          },
          "colorscale": {
           "diverging": [
            [
             0,
             "#8e0152"
            ],
            [
             0.1,
             "#c51b7d"
            ],
            [
             0.2,
             "#de77ae"
            ],
            [
             0.3,
             "#f1b6da"
            ],
            [
             0.4,
             "#fde0ef"
            ],
            [
             0.5,
             "#f7f7f7"
            ],
            [
             0.6,
             "#e6f5d0"
            ],
            [
             0.7,
             "#b8e186"
            ],
            [
             0.8,
             "#7fbc41"
            ],
            [
             0.9,
             "#4d9221"
            ],
            [
             1,
             "#276419"
            ]
           ],
           "sequential": [
            [
             0,
             "#0d0887"
            ],
            [
             0.1111111111111111,
             "#46039f"
            ],
            [
             0.2222222222222222,
             "#7201a8"
            ],
            [
             0.3333333333333333,
             "#9c179e"
            ],
            [
             0.4444444444444444,
             "#bd3786"
            ],
            [
             0.5555555555555556,
             "#d8576b"
            ],
            [
             0.6666666666666666,
             "#ed7953"
            ],
            [
             0.7777777777777778,
             "#fb9f3a"
            ],
            [
             0.8888888888888888,
             "#fdca26"
            ],
            [
             1,
             "#f0f921"
            ]
           ],
           "sequentialminus": [
            [
             0,
             "#0d0887"
            ],
            [
             0.1111111111111111,
             "#46039f"
            ],
            [
             0.2222222222222222,
             "#7201a8"
            ],
            [
             0.3333333333333333,
             "#9c179e"
            ],
            [
             0.4444444444444444,
             "#bd3786"
            ],
            [
             0.5555555555555556,
             "#d8576b"
            ],
            [
             0.6666666666666666,
             "#ed7953"
            ],
            [
             0.7777777777777778,
             "#fb9f3a"
            ],
            [
             0.8888888888888888,
             "#fdca26"
            ],
            [
             1,
             "#f0f921"
            ]
           ]
          },
          "colorway": [
           "#636efa",
           "#EF553B",
           "#00cc96",
           "#ab63fa",
           "#FFA15A",
           "#19d3f3",
           "#FF6692",
           "#B6E880",
           "#FF97FF",
           "#FECB52"
          ],
          "font": {
           "color": "#2a3f5f"
          },
          "geo": {
           "bgcolor": "white",
           "lakecolor": "white",
           "landcolor": "#E5ECF6",
           "showlakes": true,
           "showland": true,
           "subunitcolor": "white"
          },
          "hoverlabel": {
           "align": "left"
          },
          "hovermode": "closest",
          "mapbox": {
           "style": "light"
          },
          "paper_bgcolor": "white",
          "plot_bgcolor": "#E5ECF6",
          "polar": {
           "angularaxis": {
            "gridcolor": "white",
            "linecolor": "white",
            "ticks": ""
           },
           "bgcolor": "#E5ECF6",
           "radialaxis": {
            "gridcolor": "white",
            "linecolor": "white",
            "ticks": ""
           }
          },
          "scene": {
           "xaxis": {
            "backgroundcolor": "#E5ECF6",
            "gridcolor": "white",
            "gridwidth": 2,
            "linecolor": "white",
            "showbackground": true,
            "ticks": "",
            "zerolinecolor": "white"
           },
           "yaxis": {
            "backgroundcolor": "#E5ECF6",
            "gridcolor": "white",
            "gridwidth": 2,
            "linecolor": "white",
            "showbackground": true,
            "ticks": "",
            "zerolinecolor": "white"
           },
           "zaxis": {
            "backgroundcolor": "#E5ECF6",
            "gridcolor": "white",
            "gridwidth": 2,
            "linecolor": "white",
            "showbackground": true,
            "ticks": "",
            "zerolinecolor": "white"
           }
          },
          "shapedefaults": {
           "line": {
            "color": "#2a3f5f"
           }
          },
          "ternary": {
           "aaxis": {
            "gridcolor": "white",
            "linecolor": "white",
            "ticks": ""
           },
           "baxis": {
            "gridcolor": "white",
            "linecolor": "white",
            "ticks": ""
           },
           "bgcolor": "#E5ECF6",
           "caxis": {
            "gridcolor": "white",
            "linecolor": "white",
            "ticks": ""
           }
          },
          "title": {
           "x": 0.05
          },
          "xaxis": {
           "automargin": true,
           "gridcolor": "white",
           "linecolor": "white",
           "ticks": "",
           "title": {
            "standoff": 15
           },
           "zerolinecolor": "white",
           "zerolinewidth": 2
          },
          "yaxis": {
           "automargin": true,
           "gridcolor": "white",
           "linecolor": "white",
           "ticks": "",
           "title": {
            "standoff": 15
           },
           "zerolinecolor": "white",
           "zerolinewidth": 2
          }
         }
        },
        "title": {
         "text": "Distribución de 'Dosis total' por procedimiento (boxplots, 1 valor por estudio)"
        },
        "xaxis": {
         "categoryarray": [
          "Histerosalpingografía (HSG)",
          "Esofagograma",
          "Tránsito intestinal",
          "Enema opaco",
          "Uretrocistografía miccional (VCUG)"
         ],
         "categoryorder": "array",
         "title": {
          "text": "Procedimiento"
         }
        },
        "yaxis": {
         "title": {
          "text": "Dosis total"
         }
        }
       }
      }
     },
     "metadata": {},
     "output_type": "display_data"
    }
   ],
   "source": [
    "# --- Boxplots en lugar de candlesticks para 'dosis total' (1 valor por estudio) ---\n",
    "\n",
    "\n",
    "# --- 1) Quedarnos con un valor de \"dosis total\" por estudio (procedimiento_id) ---\n",
    "# Si existe el nombre del procedimiento, lo conservamos; si no, usamos la propia ID como nombre.\n",
    "if \"procedimiento\" in df.columns:\n",
    "    total_por_estudio = (df\n",
    "        .dropna(subset=[\"dosis total\"])\n",
    "        .sort_values(\"procedimiento_id\")\n",
    "        .groupby(\"procedimiento_id\", as_index=False)\n",
    "        .agg({\n",
    "            \"dosis total\": \"max\",   # o \"first\" si prefieres\n",
    "            \"procedimiento\": \"first\"\n",
    "        })\n",
    "    )\n",
    "else:\n",
    "    total_por_estudio = (df\n",
    "        .dropna(subset=[\"dosis total\"])\n",
    "        .sort_values(\"procedimiento_id\")\n",
    "        .groupby(\"procedimiento_id\", as_index=False)[\"dosis total\"].max()\n",
    "    )\n",
    "    # Sin columna de nombre, usamos la ID como etiqueta (recomendado unir un catálogo si lo tienes)\n",
    "    total_por_estudio[\"procedimiento\"] = total_por_estudio[\"procedimiento_id\"].astype(str)\n",
    "\n",
    "# --- 2) (Opcional) Mantener sólo 5 procedimientos objetivo y ordenarlos ---\n",
    "objetivo = [\n",
    "    \"Histerosalpingografía (HSG)\",\n",
    "    \"Esofagograma\",\n",
    "    \"Tránsito intestinal\",\n",
    "    \"Enema opaco\",\n",
    "    \"Uretrocistografía miccional (VCUG)\",\n",
    "]\n",
    "presentes = [p for p in objetivo if p in set(total_por_estudio[\"procedimiento\"])]\n",
    "\n",
    "# Si los 5 (o algunos) están presentes, filtramos a esos; si no, graficamos todos.\n",
    "df_plot = (total_por_estudio\n",
    "           if not presentes\n",
    "           else total_por_estudio[total_por_estudio[\"procedimiento\"].isin(presentes)].copy())\n",
    "\n",
    "# Orden del eje X: fijo (si filtramos a los 5) o por mediana ascendente\n",
    "if presentes:\n",
    "    orden_x = presentes\n",
    "else:\n",
    "    orden_x = (df_plot.groupby(\"procedimiento\")[\"dosis total\"]\n",
    "               .median()\n",
    "               .sort_values()\n",
    "               .index\n",
    "               .tolist())\n",
    "\n",
    "# --- 3) Boxplots por procedimiento ---\n",
    "fig = go.Figure()\n",
    "\n",
    "fig.add_trace(go.Box(\n",
    "    x=df_plot[\"procedimiento\"],       # un box por procedimiento\n",
    "    y=df_plot[\"dosis total\"],         # valores (1 por estudio)\n",
    "    name=\"Dosis total por estudio\",\n",
    "    boxpoints=\"outliers\",             # muestra outliers (usa \"all\" para todos los puntos)\n",
    "    boxmean=True                      # marca la media (usa \"sd\" para mostrar también ±1 SD)\n",
    "))\n",
    "\n",
    "fig.update_layout(\n",
    "    title=\"Distribución de 'Dosis total' por procedimiento (boxplots, 1 valor por estudio)\",\n",
    "    xaxis_title=\"Procedimiento\",\n",
    "    yaxis_title=\"Dosis total\",\n",
    ")\n",
    "\n",
    "fig.update_xaxes(categoryorder=\"array\", categoryarray=orden_x)\n",
    "\n",
    "fig.show()\n"
   ]
  },
  {
   "cell_type": "markdown",
   "id": "3e8b9521",
   "metadata": {},
   "source": [
    "## 3) Para un procedimiento espesifico:"
   ]
  },
  {
   "cell_type": "code",
   "execution_count": 13,
   "id": "a021d32f",
   "metadata": {},
   "outputs": [
    {
     "data": {
      "application/vnd.plotly.v1+json": {
       "config": {
        "plotlyServerURL": "https://plot.ly"
       },
       "data": [
        {
         "boxmean": true,
         "boxpoints": "outliers",
         "name": "Dosis en Esofagograma",
         "type": "box",
         "x": [
          "LAT",
          "LAT",
          "PA",
          "AP",
          "AP",
          "PA",
          "OBLICUA",
          "LAT",
          "LAT",
          "PA",
          "AP",
          "OBLICUA",
          "OBLICUA",
          "PA",
          "AP",
          "AP",
          "PA",
          "LAT",
          "OBLICUA",
          "AP",
          "PA",
          "LAT",
          "PA",
          "AP",
          "LAT",
          "PA",
          "LAT",
          "AP",
          "OBLICUA",
          "PA",
          "LAT",
          "OBLICUA",
          "PA",
          "PA",
          "LAT",
          "OBLICUA",
          "PA",
          "AP",
          "OBLICUA",
          "LAT",
          "PA",
          "OBLICUA",
          "LAT",
          "AP",
          "PA",
          "PA",
          "OBLICUA",
          "AP",
          "LAT",
          "PA",
          "LAT",
          "OBLICUA",
          "AP",
          "OBLICUA",
          "LAT",
          "PA",
          "LAT",
          "PA",
          "AP",
          "PA",
          "LAT",
          "AP",
          "LAT",
          "PA",
          "AP",
          "OBLICUA",
          "AP",
          "OBLICUA",
          "LAT",
          "PA",
          "PA",
          "AP",
          "LAT",
          "PA",
          "OBLICUA",
          "AP",
          "PA",
          "LAT",
          "PA",
          "OBLICUA",
          "AP",
          "LAT",
          "OBLICUA",
          "AP",
          "PA",
          "LAT",
          "AP",
          "PA",
          "LAT",
          "PA",
          "OBLICUA",
          "AP",
          "LAT",
          "PA",
          "LAT",
          "AP",
          "PA",
          "LAT",
          "AP",
          "PA",
          "AP",
          "OBLICUA",
          "LAT",
          "PA",
          "AP",
          "PA",
          "PA",
          "AP",
          "OBLICUA",
          "AP",
          "OBLICUA",
          "PA",
          "LAT",
          "PA",
          "OBLICUA",
          "AP",
          "LAT",
          "AP",
          "PA",
          "LAT",
          "AP",
          "LAT",
          "PA",
          "OBLICUA",
          "AP",
          "OBLICUA",
          "PA",
          "PA",
          "LAT",
          "LAT",
          "AP",
          "AP",
          "LAT",
          "AP",
          "OBLICUA",
          "LAT",
          "PA",
          "OBLICUA",
          "PA",
          "LAT",
          "AP",
          "OBLICUA",
          "AP",
          "OBLICUA",
          "LAT",
          "PA",
          "OBLICUA",
          "PA",
          "LAT",
          "LAT",
          "LAT",
          "AP",
          "OBLICUA",
          "PA",
          "PA",
          "LAT",
          "OBLICUA",
          "AP",
          "PA",
          "LAT",
          "AP",
          "PA",
          "OBLICUA",
          "AP",
          "OBLICUA",
          "LAT",
          "AP",
          "LAT",
          "OBLICUA",
          "PA",
          "LAT",
          "OBLICUA",
          "OBLICUA",
          "LAT",
          "PA",
          "OBLICUA",
          "OBLICUA",
          "PA",
          "PA",
          "OBLICUA",
          "LAT",
          "AP",
          "LAT",
          "OBLICUA",
          "AP",
          "PA",
          "OBLICUA",
          "AP",
          "AP",
          "LAT",
          "OBLICUA",
          "PA",
          "AP",
          "OBLICUA",
          "PA",
          "LAT",
          "AP",
          "OBLICUA",
          "PA",
          "LAT",
          "AP",
          "OBLICUA",
          "AP",
          "OBLICUA",
          "LAT",
          "LAT",
          "AP",
          "PA",
          "LAT",
          "AP",
          "PA",
          "AP",
          "OBLICUA",
          "AP",
          "LAT",
          "PA",
          "OBLICUA",
          "LAT",
          "AP",
          "LAT",
          "AP",
          "AP",
          "LAT",
          "AP",
          "OBLICUA",
          "OBLICUA",
          "PA",
          "AP",
          "OBLICUA",
          "LAT",
          "LAT",
          "PA",
          "OBLICUA",
          "LAT",
          "AP",
          "PA",
          "OBLICUA",
          "AP",
          "PA",
          "LAT",
          "LAT",
          "PA",
          "AP",
          "OBLICUA",
          "OBLICUA",
          "AP",
          "AP",
          "OBLICUA",
          "PA",
          "LAT",
          "LAT",
          "LAT",
          "OBLICUA",
          "AP",
          "PA",
          "LAT",
          "OBLICUA",
          "AP",
          "LAT",
          "PA",
          "LAT",
          "AP",
          "LAT",
          "OBLICUA",
          "AP",
          "PA",
          "LAT",
          "PA",
          "OBLICUA",
          "AP",
          "LAT",
          "AP",
          "LAT",
          "AP",
          "PA",
          "OBLICUA",
          "PA",
          "AP",
          "OBLICUA",
          "PA",
          "LAT",
          "AP",
          "LAT",
          "AP",
          "OBLICUA",
          "LAT",
          "PA",
          "LAT"
         ],
         "y": [
          4.57,
          4.7,
          0.59,
          1.15,
          4.38,
          4.48,
          1.26,
          4.35,
          2.58,
          0.99,
          0.42,
          2.72,
          1.56,
          0.64,
          2.33,
          4.65,
          0.25,
          0.35,
          0.47,
          0.75,
          3.54,
          0.84,
          5,
          3.1,
          1.5,
          2.77,
          4,
          2.09,
          2.93,
          3.26,
          4.97,
          3.39,
          1.68,
          4.51,
          3.59,
          1.56,
          4.25,
          4.07,
          1,
          3.49,
          0.81,
          4.74,
          4.66,
          1.49,
          4.69,
          2.43,
          3.99,
          2.48,
          2.35,
          4.79,
          3.15,
          1.69,
          2.27,
          4.98,
          0.57,
          1.53,
          2.13,
          3.51,
          0.52,
          3.21,
          2.29,
          4.61,
          2.59,
          3.2,
          3.54,
          2.13,
          2.49,
          2.85,
          3.52,
          3.73,
          0.61,
          4.86,
          0.5,
          4.7,
          4.33,
          1.52,
          4.05,
          0.61,
          2.14,
          4.15,
          2.21,
          2.62,
          1.64,
          4.78,
          0.47,
          4.49,
          1.95,
          2.72,
          1.57,
          3.36,
          4.63,
          2.19,
          2.6,
          4.92,
          4.58,
          3.72,
          1.4,
          2.36,
          1.42,
          4.34,
          4.16,
          1.19,
          3.64,
          0.97,
          3.48,
          1.27,
          2.61,
          1.48,
          3.09,
          3.55,
          4.72,
          0.89,
          3.74,
          2.51,
          1.25,
          3.62,
          4.31,
          4.95,
          0.65,
          1.23,
          2.93,
          2.79,
          2.36,
          3.25,
          2.52,
          4.88,
          2.75,
          4.51,
          2.48,
          1.39,
          4.48,
          0.92,
          4.68,
          1.98,
          1.92,
          3.7,
          0.86,
          0.68,
          2.61,
          2.84,
          2.82,
          2.49,
          2.78,
          3.34,
          0.62,
          3.62,
          1.83,
          0.68,
          2.04,
          4.82,
          0.28,
          3.7,
          2.92,
          0.27,
          2.17,
          1.62,
          2.81,
          3.37,
          1.84,
          1.52,
          3.42,
          1.03,
          1.66,
          1.09,
          4.56,
          0.77,
          4.69,
          1.79,
          1.11,
          0.56,
          2.07,
          4.98,
          0.74,
          2.86,
          3.33,
          1.85,
          4.42,
          3.87,
          1.44,
          1.45,
          1.42,
          2.82,
          2.03,
          2.56,
          3.66,
          3.77,
          4.96,
          1.95,
          5,
          1.62,
          3.09,
          4.9,
          0.54,
          2.8,
          2.66,
          4.25,
          0.71,
          2.16,
          2.79,
          3.34,
          0.46,
          1.52,
          4.11,
          4.66,
          4.21,
          3.24,
          2.06,
          0.88,
          4.48,
          0.67,
          1.75,
          3.69,
          4.68,
          3.13,
          0.36,
          0.48,
          1.35,
          4.03,
          1.43,
          0.53,
          3.06,
          0.48,
          4.33,
          0.31,
          1.42,
          1.91,
          3.4,
          4.55,
          2.01,
          2.98,
          1.83,
          4.26,
          1.86,
          2.56,
          4.44,
          0.93,
          2.92,
          3.45,
          4.78,
          2.58,
          0.21,
          2.64,
          4.71,
          0.36,
          4.95,
          2.55,
          2.5,
          1.25,
          1.2,
          1.76,
          4.47,
          2.9,
          2.79,
          1.75,
          4.6,
          2.51,
          1.29,
          0.65,
          3.33,
          1.86,
          4.74,
          1.35,
          2.72,
          2.67,
          3.32,
          4.93,
          4.06,
          0.44,
          4.34,
          1.53,
          0.59,
          3.36,
          4.83,
          3.43,
          1.55,
          2.43,
          4.04,
          0.86,
          3.2,
          4.26,
          3.57,
          3.13,
          0.6,
          3.82,
          2.54,
          0.79,
          4.11,
          2.6
         ]
        }
       ],
       "layout": {
        "template": {
         "data": {
          "bar": [
           {
            "error_x": {
             "color": "#2a3f5f"
            },
            "error_y": {
             "color": "#2a3f5f"
            },
            "marker": {
             "line": {
              "color": "#E5ECF6",
              "width": 0.5
             },
             "pattern": {
              "fillmode": "overlay",
              "size": 10,
              "solidity": 0.2
             }
            },
            "type": "bar"
           }
          ],
          "barpolar": [
           {
            "marker": {
             "line": {
              "color": "#E5ECF6",
              "width": 0.5
             },
             "pattern": {
              "fillmode": "overlay",
              "size": 10,
              "solidity": 0.2
             }
            },
            "type": "barpolar"
           }
          ],
          "carpet": [
           {
            "aaxis": {
             "endlinecolor": "#2a3f5f",
             "gridcolor": "white",
             "linecolor": "white",
             "minorgridcolor": "white",
             "startlinecolor": "#2a3f5f"
            },
            "baxis": {
             "endlinecolor": "#2a3f5f",
             "gridcolor": "white",
             "linecolor": "white",
             "minorgridcolor": "white",
             "startlinecolor": "#2a3f5f"
            },
            "type": "carpet"
           }
          ],
          "choropleth": [
           {
            "colorbar": {
             "outlinewidth": 0,
             "ticks": ""
            },
            "type": "choropleth"
           }
          ],
          "contour": [
           {
            "colorbar": {
             "outlinewidth": 0,
             "ticks": ""
            },
            "colorscale": [
             [
              0,
              "#0d0887"
             ],
             [
              0.1111111111111111,
              "#46039f"
             ],
             [
              0.2222222222222222,
              "#7201a8"
             ],
             [
              0.3333333333333333,
              "#9c179e"
             ],
             [
              0.4444444444444444,
              "#bd3786"
             ],
             [
              0.5555555555555556,
              "#d8576b"
             ],
             [
              0.6666666666666666,
              "#ed7953"
             ],
             [
              0.7777777777777778,
              "#fb9f3a"
             ],
             [
              0.8888888888888888,
              "#fdca26"
             ],
             [
              1,
              "#f0f921"
             ]
            ],
            "type": "contour"
           }
          ],
          "contourcarpet": [
           {
            "colorbar": {
             "outlinewidth": 0,
             "ticks": ""
            },
            "type": "contourcarpet"
           }
          ],
          "heatmap": [
           {
            "colorbar": {
             "outlinewidth": 0,
             "ticks": ""
            },
            "colorscale": [
             [
              0,
              "#0d0887"
             ],
             [
              0.1111111111111111,
              "#46039f"
             ],
             [
              0.2222222222222222,
              "#7201a8"
             ],
             [
              0.3333333333333333,
              "#9c179e"
             ],
             [
              0.4444444444444444,
              "#bd3786"
             ],
             [
              0.5555555555555556,
              "#d8576b"
             ],
             [
              0.6666666666666666,
              "#ed7953"
             ],
             [
              0.7777777777777778,
              "#fb9f3a"
             ],
             [
              0.8888888888888888,
              "#fdca26"
             ],
             [
              1,
              "#f0f921"
             ]
            ],
            "type": "heatmap"
           }
          ],
          "heatmapgl": [
           {
            "colorbar": {
             "outlinewidth": 0,
             "ticks": ""
            },
            "colorscale": [
             [
              0,
              "#0d0887"
             ],
             [
              0.1111111111111111,
              "#46039f"
             ],
             [
              0.2222222222222222,
              "#7201a8"
             ],
             [
              0.3333333333333333,
              "#9c179e"
             ],
             [
              0.4444444444444444,
              "#bd3786"
             ],
             [
              0.5555555555555556,
              "#d8576b"
             ],
             [
              0.6666666666666666,
              "#ed7953"
             ],
             [
              0.7777777777777778,
              "#fb9f3a"
             ],
             [
              0.8888888888888888,
              "#fdca26"
             ],
             [
              1,
              "#f0f921"
             ]
            ],
            "type": "heatmapgl"
           }
          ],
          "histogram": [
           {
            "marker": {
             "pattern": {
              "fillmode": "overlay",
              "size": 10,
              "solidity": 0.2
             }
            },
            "type": "histogram"
           }
          ],
          "histogram2d": [
           {
            "colorbar": {
             "outlinewidth": 0,
             "ticks": ""
            },
            "colorscale": [
             [
              0,
              "#0d0887"
             ],
             [
              0.1111111111111111,
              "#46039f"
             ],
             [
              0.2222222222222222,
              "#7201a8"
             ],
             [
              0.3333333333333333,
              "#9c179e"
             ],
             [
              0.4444444444444444,
              "#bd3786"
             ],
             [
              0.5555555555555556,
              "#d8576b"
             ],
             [
              0.6666666666666666,
              "#ed7953"
             ],
             [
              0.7777777777777778,
              "#fb9f3a"
             ],
             [
              0.8888888888888888,
              "#fdca26"
             ],
             [
              1,
              "#f0f921"
             ]
            ],
            "type": "histogram2d"
           }
          ],
          "histogram2dcontour": [
           {
            "colorbar": {
             "outlinewidth": 0,
             "ticks": ""
            },
            "colorscale": [
             [
              0,
              "#0d0887"
             ],
             [
              0.1111111111111111,
              "#46039f"
             ],
             [
              0.2222222222222222,
              "#7201a8"
             ],
             [
              0.3333333333333333,
              "#9c179e"
             ],
             [
              0.4444444444444444,
              "#bd3786"
             ],
             [
              0.5555555555555556,
              "#d8576b"
             ],
             [
              0.6666666666666666,
              "#ed7953"
             ],
             [
              0.7777777777777778,
              "#fb9f3a"
             ],
             [
              0.8888888888888888,
              "#fdca26"
             ],
             [
              1,
              "#f0f921"
             ]
            ],
            "type": "histogram2dcontour"
           }
          ],
          "mesh3d": [
           {
            "colorbar": {
             "outlinewidth": 0,
             "ticks": ""
            },
            "type": "mesh3d"
           }
          ],
          "parcoords": [
           {
            "line": {
             "colorbar": {
              "outlinewidth": 0,
              "ticks": ""
             }
            },
            "type": "parcoords"
           }
          ],
          "pie": [
           {
            "automargin": true,
            "type": "pie"
           }
          ],
          "scatter": [
           {
            "fillpattern": {
             "fillmode": "overlay",
             "size": 10,
             "solidity": 0.2
            },
            "type": "scatter"
           }
          ],
          "scatter3d": [
           {
            "line": {
             "colorbar": {
              "outlinewidth": 0,
              "ticks": ""
             }
            },
            "marker": {
             "colorbar": {
              "outlinewidth": 0,
              "ticks": ""
             }
            },
            "type": "scatter3d"
           }
          ],
          "scattercarpet": [
           {
            "marker": {
             "colorbar": {
              "outlinewidth": 0,
              "ticks": ""
             }
            },
            "type": "scattercarpet"
           }
          ],
          "scattergeo": [
           {
            "marker": {
             "colorbar": {
              "outlinewidth": 0,
              "ticks": ""
             }
            },
            "type": "scattergeo"
           }
          ],
          "scattergl": [
           {
            "marker": {
             "colorbar": {
              "outlinewidth": 0,
              "ticks": ""
             }
            },
            "type": "scattergl"
           }
          ],
          "scattermapbox": [
           {
            "marker": {
             "colorbar": {
              "outlinewidth": 0,
              "ticks": ""
             }
            },
            "type": "scattermapbox"
           }
          ],
          "scatterpolar": [
           {
            "marker": {
             "colorbar": {
              "outlinewidth": 0,
              "ticks": ""
             }
            },
            "type": "scatterpolar"
           }
          ],
          "scatterpolargl": [
           {
            "marker": {
             "colorbar": {
              "outlinewidth": 0,
              "ticks": ""
             }
            },
            "type": "scatterpolargl"
           }
          ],
          "scatterternary": [
           {
            "marker": {
             "colorbar": {
              "outlinewidth": 0,
              "ticks": ""
             }
            },
            "type": "scatterternary"
           }
          ],
          "surface": [
           {
            "colorbar": {
             "outlinewidth": 0,
             "ticks": ""
            },
            "colorscale": [
             [
              0,
              "#0d0887"
             ],
             [
              0.1111111111111111,
              "#46039f"
             ],
             [
              0.2222222222222222,
              "#7201a8"
             ],
             [
              0.3333333333333333,
              "#9c179e"
             ],
             [
              0.4444444444444444,
              "#bd3786"
             ],
             [
              0.5555555555555556,
              "#d8576b"
             ],
             [
              0.6666666666666666,
              "#ed7953"
             ],
             [
              0.7777777777777778,
              "#fb9f3a"
             ],
             [
              0.8888888888888888,
              "#fdca26"
             ],
             [
              1,
              "#f0f921"
             ]
            ],
            "type": "surface"
           }
          ],
          "table": [
           {
            "cells": {
             "fill": {
              "color": "#EBF0F8"
             },
             "line": {
              "color": "white"
             }
            },
            "header": {
             "fill": {
              "color": "#C8D4E3"
             },
             "line": {
              "color": "white"
             }
            },
            "type": "table"
           }
          ]
         },
         "layout": {
          "annotationdefaults": {
           "arrowcolor": "#2a3f5f",
           "arrowhead": 0,
           "arrowwidth": 1
          },
          "autotypenumbers": "strict",
          "coloraxis": {
           "colorbar": {
            "outlinewidth": 0,
            "ticks": ""
           }
          },
          "colorscale": {
           "diverging": [
            [
             0,
             "#8e0152"
            ],
            [
             0.1,
             "#c51b7d"
            ],
            [
             0.2,
             "#de77ae"
            ],
            [
             0.3,
             "#f1b6da"
            ],
            [
             0.4,
             "#fde0ef"
            ],
            [
             0.5,
             "#f7f7f7"
            ],
            [
             0.6,
             "#e6f5d0"
            ],
            [
             0.7,
             "#b8e186"
            ],
            [
             0.8,
             "#7fbc41"
            ],
            [
             0.9,
             "#4d9221"
            ],
            [
             1,
             "#276419"
            ]
           ],
           "sequential": [
            [
             0,
             "#0d0887"
            ],
            [
             0.1111111111111111,
             "#46039f"
            ],
            [
             0.2222222222222222,
             "#7201a8"
            ],
            [
             0.3333333333333333,
             "#9c179e"
            ],
            [
             0.4444444444444444,
             "#bd3786"
            ],
            [
             0.5555555555555556,
             "#d8576b"
            ],
            [
             0.6666666666666666,
             "#ed7953"
            ],
            [
             0.7777777777777778,
             "#fb9f3a"
            ],
            [
             0.8888888888888888,
             "#fdca26"
            ],
            [
             1,
             "#f0f921"
            ]
           ],
           "sequentialminus": [
            [
             0,
             "#0d0887"
            ],
            [
             0.1111111111111111,
             "#46039f"
            ],
            [
             0.2222222222222222,
             "#7201a8"
            ],
            [
             0.3333333333333333,
             "#9c179e"
            ],
            [
             0.4444444444444444,
             "#bd3786"
            ],
            [
             0.5555555555555556,
             "#d8576b"
            ],
            [
             0.6666666666666666,
             "#ed7953"
            ],
            [
             0.7777777777777778,
             "#fb9f3a"
            ],
            [
             0.8888888888888888,
             "#fdca26"
            ],
            [
             1,
             "#f0f921"
            ]
           ]
          },
          "colorway": [
           "#636efa",
           "#EF553B",
           "#00cc96",
           "#ab63fa",
           "#FFA15A",
           "#19d3f3",
           "#FF6692",
           "#B6E880",
           "#FF97FF",
           "#FECB52"
          ],
          "font": {
           "color": "#2a3f5f"
          },
          "geo": {
           "bgcolor": "white",
           "lakecolor": "white",
           "landcolor": "#E5ECF6",
           "showlakes": true,
           "showland": true,
           "subunitcolor": "white"
          },
          "hoverlabel": {
           "align": "left"
          },
          "hovermode": "closest",
          "mapbox": {
           "style": "light"
          },
          "paper_bgcolor": "white",
          "plot_bgcolor": "#E5ECF6",
          "polar": {
           "angularaxis": {
            "gridcolor": "white",
            "linecolor": "white",
            "ticks": ""
           },
           "bgcolor": "#E5ECF6",
           "radialaxis": {
            "gridcolor": "white",
            "linecolor": "white",
            "ticks": ""
           }
          },
          "scene": {
           "xaxis": {
            "backgroundcolor": "#E5ECF6",
            "gridcolor": "white",
            "gridwidth": 2,
            "linecolor": "white",
            "showbackground": true,
            "ticks": "",
            "zerolinecolor": "white"
           },
           "yaxis": {
            "backgroundcolor": "#E5ECF6",
            "gridcolor": "white",
            "gridwidth": 2,
            "linecolor": "white",
            "showbackground": true,
            "ticks": "",
            "zerolinecolor": "white"
           },
           "zaxis": {
            "backgroundcolor": "#E5ECF6",
            "gridcolor": "white",
            "gridwidth": 2,
            "linecolor": "white",
            "showbackground": true,
            "ticks": "",
            "zerolinecolor": "white"
           }
          },
          "shapedefaults": {
           "line": {
            "color": "#2a3f5f"
           }
          },
          "ternary": {
           "aaxis": {
            "gridcolor": "white",
            "linecolor": "white",
            "ticks": ""
           },
           "baxis": {
            "gridcolor": "white",
            "linecolor": "white",
            "ticks": ""
           },
           "bgcolor": "#E5ECF6",
           "caxis": {
            "gridcolor": "white",
            "linecolor": "white",
            "ticks": ""
           }
          },
          "title": {
           "x": 0.05
          },
          "xaxis": {
           "automargin": true,
           "gridcolor": "white",
           "linecolor": "white",
           "ticks": "",
           "title": {
            "standoff": 15
           },
           "zerolinecolor": "white",
           "zerolinewidth": 2
          },
          "yaxis": {
           "automargin": true,
           "gridcolor": "white",
           "linecolor": "white",
           "ticks": "",
           "title": {
            "standoff": 15
           },
           "zerolinecolor": "white",
           "zerolinewidth": 2
          }
         }
        },
        "title": {
         "text": "Distribución de dosis por proyección (Esofagograma)"
        },
        "xaxis": {
         "categoryarray": [
          "OBLICUA",
          "LAT",
          "PA",
          "AP"
         ],
         "categoryorder": "array",
         "title": {
          "text": "Proyección"
         }
        },
        "yaxis": {
         "title": {
          "text": "Dosis"
         }
        }
       }
      }
     },
     "metadata": {},
     "output_type": "display_data"
    }
   ],
   "source": [
    "# --- 1) Filtrar al procedimiento de interés ---\n",
    "proc_name = \"Esofagograma\"\n",
    "df_proc = df[df[\"procedimiento\"] == proc_name].dropna(subset=[\"dosis\"])\n",
    "\n",
    "# --- 2) (Opcional) ordenar proyecciones por mediana para un eje X más legible ---\n",
    "orden = (df_proc.groupby(\"proyeccion\")[\"dosis\"]\n",
    "         .median()\n",
    "         .sort_values()\n",
    "         .index\n",
    "         .tolist())\n",
    "\n",
    "# --- 3) Graficar boxplots por proyección ---\n",
    "import plotly.graph_objects as go\n",
    "\n",
    "fig = go.Figure()\n",
    "\n",
    "fig.add_trace(go.Box(\n",
    "    x=df_proc[\"proyeccion\"],   # un box por proyección\n",
    "    y=df_proc[\"dosis\"],        # valores de dosis\n",
    "    name=f\"Dosis en {proc_name}\",\n",
    "    boxpoints=\"outliers\",      # muestra outliers (usa \"all\" para todos los puntos)\n",
    "    boxmean=True               # muestra la media (además de la mediana por defecto)\n",
    "))\n",
    "\n",
    "fig.update_layout(\n",
    "    title=f\"Distribución de dosis por proyección ({proc_name})\",\n",
    "    xaxis_title=\"Proyección\",\n",
    "    yaxis_title=\"Dosis\",\n",
    ")\n",
    "\n",
    "# Aplica el orden elegido al eje X\n",
    "fig.update_xaxes(categoryorder=\"array\", categoryarray=orden)\n",
    "\n",
    "fig.show()\n"
   ]
  },
  {
   "cell_type": "code",
   "execution_count": 14,
   "id": "f54e255f",
   "metadata": {},
   "outputs": [
    {
     "data": {
      "application/vnd.plotly.v1+json": {
       "config": {
        "plotlyServerURL": "https://plot.ly"
       },
       "data": [
        {
         "close": [
          3.6825,
          3.935,
          3.6900000000000004,
          4.04
         ],
         "high": [
          5,
          4.97,
          4.98,
          5
         ],
         "low": [
          0.31,
          0.21,
          0.36,
          0.25
         ],
         "name": "Dosis en Esofagograma",
         "open": [
          1.4975,
          1.5825,
          1.56,
          1.03
         ],
         "type": "candlestick",
         "x": [
          "AP",
          "LAT",
          "OBLICUA",
          "PA"
         ]
        },
        {
         "marker": {
          "color": "black",
          "size": 8
         },
         "mode": "markers",
         "name": "Mediana",
         "type": "scatter",
         "x": [
          "AP",
          "LAT",
          "OBLICUA",
          "PA"
         ],
         "y": [
          2.8,
          2.6,
          2.56,
          2.64
         ]
        }
       ],
       "layout": {
        "template": {
         "data": {
          "bar": [
           {
            "error_x": {
             "color": "#2a3f5f"
            },
            "error_y": {
             "color": "#2a3f5f"
            },
            "marker": {
             "line": {
              "color": "#E5ECF6",
              "width": 0.5
             },
             "pattern": {
              "fillmode": "overlay",
              "size": 10,
              "solidity": 0.2
             }
            },
            "type": "bar"
           }
          ],
          "barpolar": [
           {
            "marker": {
             "line": {
              "color": "#E5ECF6",
              "width": 0.5
             },
             "pattern": {
              "fillmode": "overlay",
              "size": 10,
              "solidity": 0.2
             }
            },
            "type": "barpolar"
           }
          ],
          "carpet": [
           {
            "aaxis": {
             "endlinecolor": "#2a3f5f",
             "gridcolor": "white",
             "linecolor": "white",
             "minorgridcolor": "white",
             "startlinecolor": "#2a3f5f"
            },
            "baxis": {
             "endlinecolor": "#2a3f5f",
             "gridcolor": "white",
             "linecolor": "white",
             "minorgridcolor": "white",
             "startlinecolor": "#2a3f5f"
            },
            "type": "carpet"
           }
          ],
          "choropleth": [
           {
            "colorbar": {
             "outlinewidth": 0,
             "ticks": ""
            },
            "type": "choropleth"
           }
          ],
          "contour": [
           {
            "colorbar": {
             "outlinewidth": 0,
             "ticks": ""
            },
            "colorscale": [
             [
              0,
              "#0d0887"
             ],
             [
              0.1111111111111111,
              "#46039f"
             ],
             [
              0.2222222222222222,
              "#7201a8"
             ],
             [
              0.3333333333333333,
              "#9c179e"
             ],
             [
              0.4444444444444444,
              "#bd3786"
             ],
             [
              0.5555555555555556,
              "#d8576b"
             ],
             [
              0.6666666666666666,
              "#ed7953"
             ],
             [
              0.7777777777777778,
              "#fb9f3a"
             ],
             [
              0.8888888888888888,
              "#fdca26"
             ],
             [
              1,
              "#f0f921"
             ]
            ],
            "type": "contour"
           }
          ],
          "contourcarpet": [
           {
            "colorbar": {
             "outlinewidth": 0,
             "ticks": ""
            },
            "type": "contourcarpet"
           }
          ],
          "heatmap": [
           {
            "colorbar": {
             "outlinewidth": 0,
             "ticks": ""
            },
            "colorscale": [
             [
              0,
              "#0d0887"
             ],
             [
              0.1111111111111111,
              "#46039f"
             ],
             [
              0.2222222222222222,
              "#7201a8"
             ],
             [
              0.3333333333333333,
              "#9c179e"
             ],
             [
              0.4444444444444444,
              "#bd3786"
             ],
             [
              0.5555555555555556,
              "#d8576b"
             ],
             [
              0.6666666666666666,
              "#ed7953"
             ],
             [
              0.7777777777777778,
              "#fb9f3a"
             ],
             [
              0.8888888888888888,
              "#fdca26"
             ],
             [
              1,
              "#f0f921"
             ]
            ],
            "type": "heatmap"
           }
          ],
          "heatmapgl": [
           {
            "colorbar": {
             "outlinewidth": 0,
             "ticks": ""
            },
            "colorscale": [
             [
              0,
              "#0d0887"
             ],
             [
              0.1111111111111111,
              "#46039f"
             ],
             [
              0.2222222222222222,
              "#7201a8"
             ],
             [
              0.3333333333333333,
              "#9c179e"
             ],
             [
              0.4444444444444444,
              "#bd3786"
             ],
             [
              0.5555555555555556,
              "#d8576b"
             ],
             [
              0.6666666666666666,
              "#ed7953"
             ],
             [
              0.7777777777777778,
              "#fb9f3a"
             ],
             [
              0.8888888888888888,
              "#fdca26"
             ],
             [
              1,
              "#f0f921"
             ]
            ],
            "type": "heatmapgl"
           }
          ],
          "histogram": [
           {
            "marker": {
             "pattern": {
              "fillmode": "overlay",
              "size": 10,
              "solidity": 0.2
             }
            },
            "type": "histogram"
           }
          ],
          "histogram2d": [
           {
            "colorbar": {
             "outlinewidth": 0,
             "ticks": ""
            },
            "colorscale": [
             [
              0,
              "#0d0887"
             ],
             [
              0.1111111111111111,
              "#46039f"
             ],
             [
              0.2222222222222222,
              "#7201a8"
             ],
             [
              0.3333333333333333,
              "#9c179e"
             ],
             [
              0.4444444444444444,
              "#bd3786"
             ],
             [
              0.5555555555555556,
              "#d8576b"
             ],
             [
              0.6666666666666666,
              "#ed7953"
             ],
             [
              0.7777777777777778,
              "#fb9f3a"
             ],
             [
              0.8888888888888888,
              "#fdca26"
             ],
             [
              1,
              "#f0f921"
             ]
            ],
            "type": "histogram2d"
           }
          ],
          "histogram2dcontour": [
           {
            "colorbar": {
             "outlinewidth": 0,
             "ticks": ""
            },
            "colorscale": [
             [
              0,
              "#0d0887"
             ],
             [
              0.1111111111111111,
              "#46039f"
             ],
             [
              0.2222222222222222,
              "#7201a8"
             ],
             [
              0.3333333333333333,
              "#9c179e"
             ],
             [
              0.4444444444444444,
              "#bd3786"
             ],
             [
              0.5555555555555556,
              "#d8576b"
             ],
             [
              0.6666666666666666,
              "#ed7953"
             ],
             [
              0.7777777777777778,
              "#fb9f3a"
             ],
             [
              0.8888888888888888,
              "#fdca26"
             ],
             [
              1,
              "#f0f921"
             ]
            ],
            "type": "histogram2dcontour"
           }
          ],
          "mesh3d": [
           {
            "colorbar": {
             "outlinewidth": 0,
             "ticks": ""
            },
            "type": "mesh3d"
           }
          ],
          "parcoords": [
           {
            "line": {
             "colorbar": {
              "outlinewidth": 0,
              "ticks": ""
             }
            },
            "type": "parcoords"
           }
          ],
          "pie": [
           {
            "automargin": true,
            "type": "pie"
           }
          ],
          "scatter": [
           {
            "fillpattern": {
             "fillmode": "overlay",
             "size": 10,
             "solidity": 0.2
            },
            "type": "scatter"
           }
          ],
          "scatter3d": [
           {
            "line": {
             "colorbar": {
              "outlinewidth": 0,
              "ticks": ""
             }
            },
            "marker": {
             "colorbar": {
              "outlinewidth": 0,
              "ticks": ""
             }
            },
            "type": "scatter3d"
           }
          ],
          "scattercarpet": [
           {
            "marker": {
             "colorbar": {
              "outlinewidth": 0,
              "ticks": ""
             }
            },
            "type": "scattercarpet"
           }
          ],
          "scattergeo": [
           {
            "marker": {
             "colorbar": {
              "outlinewidth": 0,
              "ticks": ""
             }
            },
            "type": "scattergeo"
           }
          ],
          "scattergl": [
           {
            "marker": {
             "colorbar": {
              "outlinewidth": 0,
              "ticks": ""
             }
            },
            "type": "scattergl"
           }
          ],
          "scattermapbox": [
           {
            "marker": {
             "colorbar": {
              "outlinewidth": 0,
              "ticks": ""
             }
            },
            "type": "scattermapbox"
           }
          ],
          "scatterpolar": [
           {
            "marker": {
             "colorbar": {
              "outlinewidth": 0,
              "ticks": ""
             }
            },
            "type": "scatterpolar"
           }
          ],
          "scatterpolargl": [
           {
            "marker": {
             "colorbar": {
              "outlinewidth": 0,
              "ticks": ""
             }
            },
            "type": "scatterpolargl"
           }
          ],
          "scatterternary": [
           {
            "marker": {
             "colorbar": {
              "outlinewidth": 0,
              "ticks": ""
             }
            },
            "type": "scatterternary"
           }
          ],
          "surface": [
           {
            "colorbar": {
             "outlinewidth": 0,
             "ticks": ""
            },
            "colorscale": [
             [
              0,
              "#0d0887"
             ],
             [
              0.1111111111111111,
              "#46039f"
             ],
             [
              0.2222222222222222,
              "#7201a8"
             ],
             [
              0.3333333333333333,
              "#9c179e"
             ],
             [
              0.4444444444444444,
              "#bd3786"
             ],
             [
              0.5555555555555556,
              "#d8576b"
             ],
             [
              0.6666666666666666,
              "#ed7953"
             ],
             [
              0.7777777777777778,
              "#fb9f3a"
             ],
             [
              0.8888888888888888,
              "#fdca26"
             ],
             [
              1,
              "#f0f921"
             ]
            ],
            "type": "surface"
           }
          ],
          "table": [
           {
            "cells": {
             "fill": {
              "color": "#EBF0F8"
             },
             "line": {
              "color": "white"
             }
            },
            "header": {
             "fill": {
              "color": "#C8D4E3"
             },
             "line": {
              "color": "white"
             }
            },
            "type": "table"
           }
          ]
         },
         "layout": {
          "annotationdefaults": {
           "arrowcolor": "#2a3f5f",
           "arrowhead": 0,
           "arrowwidth": 1
          },
          "autotypenumbers": "strict",
          "coloraxis": {
           "colorbar": {
            "outlinewidth": 0,
            "ticks": ""
           }
          },
          "colorscale": {
           "diverging": [
            [
             0,
             "#8e0152"
            ],
            [
             0.1,
             "#c51b7d"
            ],
            [
             0.2,
             "#de77ae"
            ],
            [
             0.3,
             "#f1b6da"
            ],
            [
             0.4,
             "#fde0ef"
            ],
            [
             0.5,
             "#f7f7f7"
            ],
            [
             0.6,
             "#e6f5d0"
            ],
            [
             0.7,
             "#b8e186"
            ],
            [
             0.8,
             "#7fbc41"
            ],
            [
             0.9,
             "#4d9221"
            ],
            [
             1,
             "#276419"
            ]
           ],
           "sequential": [
            [
             0,
             "#0d0887"
            ],
            [
             0.1111111111111111,
             "#46039f"
            ],
            [
             0.2222222222222222,
             "#7201a8"
            ],
            [
             0.3333333333333333,
             "#9c179e"
            ],
            [
             0.4444444444444444,
             "#bd3786"
            ],
            [
             0.5555555555555556,
             "#d8576b"
            ],
            [
             0.6666666666666666,
             "#ed7953"
            ],
            [
             0.7777777777777778,
             "#fb9f3a"
            ],
            [
             0.8888888888888888,
             "#fdca26"
            ],
            [
             1,
             "#f0f921"
            ]
           ],
           "sequentialminus": [
            [
             0,
             "#0d0887"
            ],
            [
             0.1111111111111111,
             "#46039f"
            ],
            [
             0.2222222222222222,
             "#7201a8"
            ],
            [
             0.3333333333333333,
             "#9c179e"
            ],
            [
             0.4444444444444444,
             "#bd3786"
            ],
            [
             0.5555555555555556,
             "#d8576b"
            ],
            [
             0.6666666666666666,
             "#ed7953"
            ],
            [
             0.7777777777777778,
             "#fb9f3a"
            ],
            [
             0.8888888888888888,
             "#fdca26"
            ],
            [
             1,
             "#f0f921"
            ]
           ]
          },
          "colorway": [
           "#636efa",
           "#EF553B",
           "#00cc96",
           "#ab63fa",
           "#FFA15A",
           "#19d3f3",
           "#FF6692",
           "#B6E880",
           "#FF97FF",
           "#FECB52"
          ],
          "font": {
           "color": "#2a3f5f"
          },
          "geo": {
           "bgcolor": "white",
           "lakecolor": "white",
           "landcolor": "#E5ECF6",
           "showlakes": true,
           "showland": true,
           "subunitcolor": "white"
          },
          "hoverlabel": {
           "align": "left"
          },
          "hovermode": "closest",
          "mapbox": {
           "style": "light"
          },
          "paper_bgcolor": "white",
          "plot_bgcolor": "#E5ECF6",
          "polar": {
           "angularaxis": {
            "gridcolor": "white",
            "linecolor": "white",
            "ticks": ""
           },
           "bgcolor": "#E5ECF6",
           "radialaxis": {
            "gridcolor": "white",
            "linecolor": "white",
            "ticks": ""
           }
          },
          "scene": {
           "xaxis": {
            "backgroundcolor": "#E5ECF6",
            "gridcolor": "white",
            "gridwidth": 2,
            "linecolor": "white",
            "showbackground": true,
            "ticks": "",
            "zerolinecolor": "white"
           },
           "yaxis": {
            "backgroundcolor": "#E5ECF6",
            "gridcolor": "white",
            "gridwidth": 2,
            "linecolor": "white",
            "showbackground": true,
            "ticks": "",
            "zerolinecolor": "white"
           },
           "zaxis": {
            "backgroundcolor": "#E5ECF6",
            "gridcolor": "white",
            "gridwidth": 2,
            "linecolor": "white",
            "showbackground": true,
            "ticks": "",
            "zerolinecolor": "white"
           }
          },
          "shapedefaults": {
           "line": {
            "color": "#2a3f5f"
           }
          },
          "ternary": {
           "aaxis": {
            "gridcolor": "white",
            "linecolor": "white",
            "ticks": ""
           },
           "baxis": {
            "gridcolor": "white",
            "linecolor": "white",
            "ticks": ""
           },
           "bgcolor": "#E5ECF6",
           "caxis": {
            "gridcolor": "white",
            "linecolor": "white",
            "ticks": ""
           }
          },
          "title": {
           "x": 0.05
          },
          "xaxis": {
           "automargin": true,
           "gridcolor": "white",
           "linecolor": "white",
           "ticks": "",
           "title": {
            "standoff": 15
           },
           "zerolinecolor": "white",
           "zerolinewidth": 2
          },
          "yaxis": {
           "automargin": true,
           "gridcolor": "white",
           "linecolor": "white",
           "ticks": "",
           "title": {
            "standoff": 15
           },
           "zerolinecolor": "white",
           "zerolinewidth": 2
          }
         }
        },
        "title": {
         "text": "Distribución de dosis por proyección (Esofagograma)"
        },
        "xaxis": {
         "rangeslider": {
          "visible": false
         },
         "title": {
          "text": "Proyección"
         }
        },
        "yaxis": {
         "title": {
          "text": "Dosis"
         }
        }
       }
      }
     },
     "metadata": {},
     "output_type": "display_data"
    }
   ],
   "source": [
    "# --- 1) Filtrar al procedimiento de interés ---\n",
    "proc_name = \"Esofagograma\"\n",
    "df_proc = df[df[\"procedimiento\"] == proc_name]\n",
    "\n",
    "# --- 2) Calcular estadísticos por proyección ---\n",
    "def q25(x): return np.nanpercentile(x, 25)\n",
    "def q75(x): return np.nanpercentile(x, 75)\n",
    "\n",
    "stats_proj = (df_proc.groupby(\"proyeccion\")\n",
    "              .agg(low=(\"dosis\", \"min\"),\n",
    "                   q1=(\"dosis\", q25),\n",
    "                   median=(\"dosis\", \"median\"),\n",
    "                   q3=(\"dosis\", q75),\n",
    "                   high=(\"dosis\", \"max\"),\n",
    "                   n=(\"dosis\", \"count\"))\n",
    "              .reset_index())\n",
    "\n",
    "# --- 3) Graficar candlestick por proyección ---\n",
    "fig = go.Figure()\n",
    "\n",
    "fig.add_trace(go.Candlestick(\n",
    "    x=stats_proj[\"proyeccion\"],\n",
    "    open=stats_proj[\"q1\"],     # límite inferior de la caja (IQR)\n",
    "    high=stats_proj[\"high\"],   # mecha superior\n",
    "    low=stats_proj[\"low\"],     # mecha inferior\n",
    "    close=stats_proj[\"q3\"],    # límite superior de la caja (IQR)\n",
    "    name=f\"Dosis en {proc_name}\"\n",
    "))\n",
    "\n",
    "# Agregar la mediana como marcador\n",
    "fig.add_trace(go.Scatter(\n",
    "    x=stats_proj[\"proyeccion\"],\n",
    "    y=stats_proj[\"median\"],\n",
    "    mode=\"markers\",\n",
    "    name=\"Mediana\",\n",
    "    marker=dict(size=8, color=\"black\")\n",
    "))\n",
    "\n",
    "fig.update_layout(\n",
    "    title=f\"Distribución de dosis por proyección ({proc_name})\",\n",
    "    xaxis_title=\"Proyección\",\n",
    "    yaxis_title=\"Dosis\",\n",
    "    xaxis_rangeslider_visible=False\n",
    ")\n",
    "\n",
    "fig.show()"
   ]
  }
 ],
 "metadata": {
  "kernelspec": {
   "display_name": "all-in-purpose",
   "language": "python",
   "name": "python3"
  },
  "language_info": {
   "codemirror_mode": {
    "name": "ipython",
    "version": 3
   },
   "file_extension": ".py",
   "mimetype": "text/x-python",
   "name": "python",
   "nbconvert_exporter": "python",
   "pygments_lexer": "ipython3",
   "version": "3.11.5"
  }
 },
 "nbformat": 4,
 "nbformat_minor": 5
}
