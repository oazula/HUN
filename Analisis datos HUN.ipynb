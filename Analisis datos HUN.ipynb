{
 "cells": [
  {
   "cell_type": "markdown",
   "id": "1b7639ab",
   "metadata": {},
   "source": [
    "# Ccarga y conteo de datos"
   ]
  },
  {
   "cell_type": "code",
   "execution_count": 454,
   "id": "f3c88816",
   "metadata": {},
   "outputs": [
    {
     "name": "stdout",
     "output_type": "stream",
     "text": [
      "Numero de filas df1: 113\n",
      "Numero de filas df2: 72\n",
      "Numero de filas df3: 268\n",
      "Numero de filas df4: 68\n",
      "Numero de filas df5: 49\n",
      "Numero de filas df_agrupado: 1626\n"
     ]
    }
   ],
   "source": [
    "\n",
    "import numpy as np\n",
    "import pandas as pd\n",
    "\n",
    "import plotly.graph_objects as go\n",
    "\n",
    "\n",
    "#leer los 5 archivos en la carpeta de Datos cargar y solo la hoja llamada \"Datos\" de cada uno\n",
    "df_agrupado = pd.read_excel('Datos/rx fijo Calculadora de dosis HUN 2024 V4 (Autoguardado).xlsm', sheet_name='Datos')\n",
    "df1 = pd.read_excel('Datos/datos 00 Calculadora de dosis HUN 2024.xlsm', sheet_name='Datos')\n",
    "df2 = pd.read_excel('Datos/datos 0 Calculadora de dosis HUN 2024 V3.0.xlsm', sheet_name='Datos')\n",
    "df3 = pd.read_excel('Datos/datos 01 Calculadora de dosis HUN 2024 V3.0.xlsm', sheet_name='Datos')\n",
    "df4 = pd.read_excel('Datos/fluoro rx Calculadora de dosis HUN 2025 V4.0.xlsm', sheet_name='Datos')\n",
    "df5 = pd.read_excel('Datos/rx fijo 1 Calculadora de dosis HUN 2025 V4.0.xlsm', sheet_name='Datos')\n",
    "\n",
    "#imprime el numero de filas de cada df y lo guardamos para compar\n",
    "num_filas = {\n",
    "    \"df1\": len(df1),\n",
    "    \"df2\": len(df2),\n",
    "    \"df3\": len(df3),\n",
    "    \"df4\": len(df4),\n",
    "}\n",
    "\n",
    "print(\"Numero de filas df1:\", len(df1))\n",
    "print(\"Numero de filas df2:\", len(df2))\n",
    "print(\"Numero de filas df3:\", len(df3))\n",
    "print(\"Numero de filas df4:\", len(df4))\n",
    "print(\"Numero de filas df5:\", len(df5))\n",
    "print(\"Numero de filas df_agrupado:\", len(df_agrupado))"
   ]
  },
  {
   "cell_type": "code",
   "execution_count": 455,
   "id": "d18da61d",
   "metadata": {},
   "outputs": [
    {
     "name": "stdout",
     "output_type": "stream",
     "text": [
      "Info df1:\n",
      "<class 'pandas.core.frame.DataFrame'>\n",
      "RangeIndex: 113 entries, 0 to 112\n",
      "Data columns (total 11 columns):\n",
      " #   Column                   Non-Null Count  Dtype         \n",
      "---  ------                   --------------  -----         \n",
      " 0   Fecha                    113 non-null    datetime64[ns]\n",
      " 1   Estudio                  113 non-null    object        \n",
      " 2   Peso[kg]                 113 non-null    int64         \n",
      " 3   Distancia foco-detector  113 non-null    object        \n",
      " 4   Proyección               113 non-null    object        \n",
      " 5   kV                       113 non-null    int64         \n",
      " 6   mAs                      113 non-null    float64       \n",
      " 7   Img Aprobadas            113 non-null    int64         \n",
      " 8   Img Rechazadas           104 non-null    float64       \n",
      " 9   Dosis [mGy]              113 non-null    float64       \n",
      " 10  Dosis Total [mGy]        56 non-null     object        \n",
      "dtypes: datetime64[ns](1), float64(3), int64(3), object(4)\n",
      "memory usage: 9.8+ KB\n",
      "None\n",
      "Info df2:\n",
      "<class 'pandas.core.frame.DataFrame'>\n",
      "RangeIndex: 72 entries, 0 to 71\n",
      "Data columns (total 11 columns):\n",
      " #   Column                   Non-Null Count  Dtype         \n",
      "---  ------                   --------------  -----         \n",
      " 0   Fecha                    71 non-null     datetime64[ns]\n",
      " 1   Estudio                  71 non-null     object        \n",
      " 2   Peso[kg]                 71 non-null     float64       \n",
      " 3   Distancia foco-detector  71 non-null     object        \n",
      " 4   Proyección               72 non-null     object        \n",
      " 5   kV                       72 non-null     int64         \n",
      " 6   mAs                      72 non-null     float64       \n",
      " 7   Img Aprobadas            72 non-null     int64         \n",
      " 8   Img Rechazadas           72 non-null     int64         \n",
      " 9   Dosis [mGy]              72 non-null     float64       \n",
      " 10  Dosis Total [mGy]        40 non-null     float64       \n",
      "dtypes: datetime64[ns](1), float64(4), int64(3), object(3)\n",
      "memory usage: 6.3+ KB\n",
      "None\n",
      "Info df3:\n",
      "<class 'pandas.core.frame.DataFrame'>\n",
      "RangeIndex: 268 entries, 0 to 267\n",
      "Data columns (total 11 columns):\n",
      " #   Column                   Non-Null Count  Dtype         \n",
      "---  ------                   --------------  -----         \n",
      " 0   Fecha                    268 non-null    datetime64[ns]\n",
      " 1   Estudio                  268 non-null    object        \n",
      " 2   Peso[kg]                 268 non-null    int64         \n",
      " 3   Distancia foco-detector  268 non-null    object        \n",
      " 4   Proyección               268 non-null    object        \n",
      " 5   kV                       268 non-null    int64         \n",
      " 6   mAs                      268 non-null    float64       \n",
      " 7   Img Aprobadas            268 non-null    int64         \n",
      " 8   Img Rechazadas           267 non-null    float64       \n",
      " 9   Dosis [mGy]              268 non-null    float64       \n",
      " 10  Dosis Total [mGy]        144 non-null    object        \n",
      "dtypes: datetime64[ns](1), float64(3), int64(3), object(4)\n",
      "memory usage: 23.2+ KB\n",
      "None\n",
      "Info df4:\n",
      "<class 'pandas.core.frame.DataFrame'>\n",
      "RangeIndex: 68 entries, 0 to 67\n",
      "Data columns (total 11 columns):\n",
      " #   Column                   Non-Null Count  Dtype         \n",
      "---  ------                   --------------  -----         \n",
      " 0   Fecha                    68 non-null     datetime64[ns]\n",
      " 1   Estudio                  68 non-null     object        \n",
      " 2   Peso[kg]                 36 non-null     object        \n",
      " 3   Distancia foco-detector  68 non-null     object        \n",
      " 4   Proyección               68 non-null     object        \n",
      " 5   kV                       68 non-null     int64         \n",
      " 6   mAs                      68 non-null     float64       \n",
      " 7   Img Aprobadas            68 non-null     int64         \n",
      " 8   Img Rechazadas           68 non-null     int64         \n",
      " 9   Dosis [mGy]              68 non-null     float64       \n",
      " 10  Dosis Total [mGy]        38 non-null     object        \n",
      "dtypes: datetime64[ns](1), float64(2), int64(3), object(5)\n",
      "memory usage: 6.0+ KB\n",
      "None\n",
      "Info df5:\n",
      "<class 'pandas.core.frame.DataFrame'>\n",
      "RangeIndex: 49 entries, 0 to 48\n",
      "Data columns (total 11 columns):\n",
      " #   Column                   Non-Null Count  Dtype         \n",
      "---  ------                   --------------  -----         \n",
      " 0   Fecha                    49 non-null     datetime64[ns]\n",
      " 1   Estudio                  49 non-null     object        \n",
      " 2   Peso[kg]                 22 non-null     float64       \n",
      " 3   Distancia foco-detector  49 non-null     object        \n",
      " 4   Proyección               49 non-null     object        \n",
      " 5   kV                       49 non-null     int64         \n",
      " 6   mAs                      49 non-null     float64       \n",
      " 7   Img Aprobadas            49 non-null     int64         \n",
      " 8   Img Rechazadas           49 non-null     int64         \n",
      " 9   Dosis [mGy]              49 non-null     float64       \n",
      " 10  Dosis Total [mGy]        26 non-null     float64       \n",
      "dtypes: datetime64[ns](1), float64(4), int64(3), object(3)\n",
      "memory usage: 4.3+ KB\n",
      "None\n",
      "Info df_agrupado:\n",
      "<class 'pandas.core.frame.DataFrame'>\n",
      "RangeIndex: 1626 entries, 0 to 1625\n",
      "Data columns (total 11 columns):\n",
      " #   Column                   Non-Null Count  Dtype         \n",
      "---  ------                   --------------  -----         \n",
      " 0   Fecha                    1488 non-null   datetime64[ns]\n",
      " 1   Estudio                  1488 non-null   object        \n",
      " 2   Peso[kg]                 1016 non-null   float64       \n",
      " 3   Distancia foco-detector  1491 non-null   object        \n",
      " 4   Proyección               1626 non-null   object        \n",
      " 5   kV                       1626 non-null   float64       \n",
      " 6   mAs                      1626 non-null   float64       \n",
      " 7   Img Aprobadas            1626 non-null   int64         \n",
      " 8   Img Rechazadas           1616 non-null   float64       \n",
      " 9   Dosis [mGy]              1626 non-null   float64       \n",
      " 10  Dosis Total [mGy]        916 non-null    object        \n",
      "dtypes: datetime64[ns](1), float64(5), int64(1), object(4)\n",
      "memory usage: 139.9+ KB\n",
      "None\n"
     ]
    }
   ],
   "source": [
    "#imprime la info() de cada df\n",
    "print(\"Info df1:\")\n",
    "print(df1.info())\n",
    "print(\"Info df2:\")\n",
    "print(df2.info())\n",
    "print(\"Info df3:\")\n",
    "print(df3.info())\n",
    "print(\"Info df4:\")\n",
    "print(df4.info())\n",
    "print(\"Info df5:\")\n",
    "print(df5.info())\n",
    "print(\"Info df_agrupado:\")\n",
    "print(df_agrupado.info())"
   ]
  },
  {
   "cell_type": "markdown",
   "id": "323bed8f",
   "metadata": {},
   "source": [
    "## Econtrando el error de los datos"
   ]
  },
  {
   "cell_type": "code",
   "execution_count": 456,
   "id": "3c7b8f00",
   "metadata": {},
   "outputs": [
    {
     "name": "stdout",
     "output_type": "stream",
     "text": [
      "<class 'pandas.core.frame.DataFrame'>\n",
      "RangeIndex: 268 entries, 0 to 267\n",
      "Data columns (total 11 columns):\n",
      " #   Column                   Non-Null Count  Dtype         \n",
      "---  ------                   --------------  -----         \n",
      " 0   Fecha                    268 non-null    datetime64[ns]\n",
      " 1   Estudio                  268 non-null    object        \n",
      " 2   Peso[kg]                 268 non-null    int64         \n",
      " 3   Distancia foco-detector  268 non-null    object        \n",
      " 4   Proyección               268 non-null    object        \n",
      " 5   kV                       268 non-null    int64         \n",
      " 6   mAs                      268 non-null    float64       \n",
      " 7   Img Aprobadas            268 non-null    int64         \n",
      " 8   Img Rechazadas           267 non-null    float64       \n",
      " 9   Dosis [mGy]              268 non-null    float64       \n",
      " 10  Dosis Total [mGy]        144 non-null    object        \n",
      "dtypes: datetime64[ns](1), float64(3), int64(3), object(4)\n",
      "memory usage: 23.2+ KB\n"
     ]
    }
   ],
   "source": [
    "df3.info()"
   ]
  },
  {
   "cell_type": "code",
   "execution_count": 457,
   "id": "83805c8a",
   "metadata": {},
   "outputs": [
    {
     "name": "stderr",
     "output_type": "stream",
     "text": [
      "C:\\Users\\oscar\\AppData\\Local\\Temp\\ipykernel_9892\\2572050912.py:6: SettingWithCopyWarning:\n",
      "\n",
      "\n",
      "A value is trying to be set on a copy of a slice from a DataFrame.\n",
      "Try using .loc[row_indexer,col_indexer] = value instead\n",
      "\n",
      "See the caveats in the documentation: https://pandas.pydata.org/pandas-docs/stable/user_guide/indexing.html#returning-a-view-versus-a-copy\n",
      "\n"
     ]
    }
   ],
   "source": [
    "# --- 1) Nos quedamos solo con las filas donde 'Dosis Total [mGy]' no es NaN,es decir cada procedimiento unico\n",
    "df_totales = df3.dropna(subset=[\"Dosis Total [mGy]\"])\n",
    "\n",
    "# Convertir \"Dosis Total [mGy]\" a float, reemplazando la coma por punto\n",
    "# Convertimos todo a string, reemplazamos coma por punto, y luego a float\n",
    "df_totales[\"Dosis Total [mGy]\"] = (\n",
    "    df_totales[\"Dosis Total [mGy]\"]\n",
    "    .astype(str)\n",
    "    .str.replace(\",\", \".\", regex=False)\n",
    "    .astype(float)\n",
    ")"
   ]
  },
  {
   "cell_type": "code",
   "execution_count": 458,
   "id": "1e0262f0",
   "metadata": {},
   "outputs": [
    {
     "name": "stdout",
     "output_type": "stream",
     "text": [
      "<class 'pandas.core.frame.DataFrame'>\n",
      "Index: 144 entries, 1 to 267\n",
      "Data columns (total 11 columns):\n",
      " #   Column                   Non-Null Count  Dtype         \n",
      "---  ------                   --------------  -----         \n",
      " 0   Fecha                    144 non-null    datetime64[ns]\n",
      " 1   Estudio                  144 non-null    object        \n",
      " 2   Peso[kg]                 144 non-null    int64         \n",
      " 3   Distancia foco-detector  144 non-null    object        \n",
      " 4   Proyección               144 non-null    object        \n",
      " 5   kV                       144 non-null    int64         \n",
      " 6   mAs                      144 non-null    float64       \n",
      " 7   Img Aprobadas            144 non-null    int64         \n",
      " 8   Img Rechazadas           143 non-null    float64       \n",
      " 9   Dosis [mGy]              144 non-null    float64       \n",
      " 10  Dosis Total [mGy]        144 non-null    float64       \n",
      "dtypes: datetime64[ns](1), float64(4), int64(3), object(3)\n",
      "memory usage: 13.5+ KB\n"
     ]
    }
   ],
   "source": [
    "df_totales.info()"
   ]
  },
  {
   "cell_type": "markdown",
   "id": "a13ccd48",
   "metadata": {},
   "source": [
    "# Tratamiento antes de verificacion"
   ]
  },
  {
   "cell_type": "code",
   "execution_count": 459,
   "id": "729db57d",
   "metadata": {},
   "outputs": [],
   "source": [
    "#convertimos primero a string y luego a float todos los df de \"Dosis Total [mGy]\"\n",
    "df1[\"Dosis Total [mGy]\"] = df1[\"Dosis Total [mGy]\"].astype(str).str.replace(\",\", \".\", regex=False).astype(float)\n",
    "df2[\"Dosis Total [mGy]\"] = df2[\"Dosis Total [mGy]\"].astype(str).str.replace(\",\", \".\", regex=False).astype(float)\n",
    "df3[\"Dosis Total [mGy]\"] = df3[\"Dosis Total [mGy]\"].astype(str).str.replace(\",\", \".\", regex=False).astype(float)\n",
    "df4[\"Dosis Total [mGy]\"] = df4[\"Dosis Total [mGy]\"].astype(str).str.replace(\",\", \".\", regex=False).astype(float)\n",
    "df5[\"Dosis Total [mGy]\"] = df5[\"Dosis Total [mGy]\"].astype(str).str.replace(\",\", \".\", regex=False).astype(float)\n",
    "df_agrupado[\"Dosis Total [mGy]\"] = df_agrupado[\"Dosis Total [mGy]\"].astype(str).str.replace(\",\", \".\", regex=False).astype(float)"
   ]
  },
  {
   "cell_type": "code",
   "execution_count": 460,
   "id": "b04748a9",
   "metadata": {},
   "outputs": [
    {
     "name": "stdout",
     "output_type": "stream",
     "text": [
      "\n",
      "=== df1 ===\n",
      "Faltantes: Ninguno\n",
      "Extras: Ninguno\n",
      "Orden igual a ref: True\n",
      "Diferencias de dtype (col, este_df, ref_df):\n",
      "   ('Peso[kg]', 'int64', 'float64')\n",
      "   ('kV', 'int64', 'float64')\n",
      "\n",
      "=== df2 ===\n",
      "Faltantes: Ninguno\n",
      "Extras: Ninguno\n",
      "Orden igual a ref: True\n",
      "Diferencias de dtype (col, este_df, ref_df):\n",
      "   ('kV', 'int64', 'float64')\n",
      "   ('Img Rechazadas', 'int64', 'float64')\n",
      "\n",
      "=== df3 ===\n",
      "Faltantes: Ninguno\n",
      "Extras: Ninguno\n",
      "Orden igual a ref: True\n",
      "Diferencias de dtype (col, este_df, ref_df):\n",
      "   ('Peso[kg]', 'int64', 'float64')\n",
      "   ('kV', 'int64', 'float64')\n",
      "\n",
      "=== df4 ===\n",
      "Faltantes: Ninguno\n",
      "Extras: Ninguno\n",
      "Orden igual a ref: True\n",
      "Diferencias de dtype (col, este_df, ref_df):\n",
      "   ('Peso[kg]', 'object', 'float64')\n",
      "   ('kV', 'int64', 'float64')\n",
      "   ('Img Rechazadas', 'int64', 'float64')\n",
      "\n",
      "=== df5 ===\n",
      "Faltantes: Ninguno\n",
      "Extras: Ninguno\n",
      "Orden igual a ref: True\n",
      "Diferencias de dtype (col, este_df, ref_df):\n",
      "   ('kV', 'int64', 'float64')\n",
      "   ('Img Rechazadas', 'int64', 'float64')\n",
      "\n",
      "=== df_agrupado ===\n",
      "Faltantes: Ninguno\n",
      "Extras: Ninguno\n",
      "Orden igual a ref: True\n",
      "Sin diferencias de dtype.\n",
      "\n",
      "Resumen:\n",
      "            df  faltantes  extras  orden_ok  dtypes_diff\n",
      "0          df1          0       0      True            2\n",
      "1          df2          0       0      True            2\n",
      "2          df3          0       0      True            2\n",
      "3          df4          0       0      True            3\n",
      "4          df5          0       0      True            2\n",
      "5  df_agrupado          0       0      True            0\n"
     ]
    }
   ],
   "source": [
    "# Comparar nombres de columnas y tipos de datos entre los DataFrames\n",
    "\n",
    "# Diccionario con todos los DataFrames a comparar\n",
    "dfs = {\n",
    "    \"df1\": df1,\n",
    "    \"df2\": df2,\n",
    "    \"df3\": df3,\n",
    "    \"df4\": df4,\n",
    "    \"df5\": df5,\n",
    "    \"df_agrupado\": df_agrupado\n",
    "}\n",
    "\n",
    "# Definimos el DataFrame de referencia (estructura \"correcta\" esperada)\n",
    "ref_name = \"df_agrupado\"\n",
    "ref_cols = list(dfs[ref_name].columns)   # Orden y nombres de columnas de referencia\n",
    "ref_dtypes = dfs[ref_name].dtypes        # Tipos de datos de referencia\n",
    "\n",
    "results = []\n",
    "\n",
    "# Recorremos cada DataFrame y comparamos contra la referencia\n",
    "for name, d in dfs.items():\n",
    "    # Columnas que faltan respecto a la referencia\n",
    "    missing = [c for c in ref_cols if c not in d.columns]\n",
    "    # Columnas extra que no están en la referencia\n",
    "    extra = [c for c in d.columns if c not in ref_cols]\n",
    "    # Verificación de que el orden de columnas coincide exactamente\n",
    "    order_ok = list(d.columns) == ref_cols\n",
    "    # Lista de diferencias de tipo de datos (columna, dtype_en_df_actual, dtype_ref)\n",
    "    dtype_diff = []\n",
    "    for c in ref_cols:\n",
    "        if c in d.columns and d[c].dtype != ref_dtypes[c]:\n",
    "            dtype_diff.append((c, str(d[c].dtype), str(ref_dtypes[c])))\n",
    "\n",
    "    results.append({\n",
    "        \"df\": name,\n",
    "        \"missing_cols\": missing,\n",
    "        \"extra_cols\": extra,\n",
    "        \"column_order_matches_ref\": order_ok,\n",
    "        \"dtype_differences\": dtype_diff\n",
    "    })\n",
    "\n",
    "# Impresión detallada por DataFrame\n",
    "for r in results:\n",
    "    print(f\"\\n=== {r['df']} ===\")\n",
    "    print(\"Faltantes:\", r[\"missing_cols\"] if r[\"missing_cols\"] else \"Ninguno\")\n",
    "    print(\"Extras:\", r[\"extra_cols\"] if r[\"extra_cols\"] else \"Ninguno\")\n",
    "    print(\"Orden igual a ref:\", r[\"column_order_matches_ref\"])\n",
    "    if r[\"dtype_differences\"]:\n",
    "        print(\"Diferencias de dtype (col, este_df, ref_df):\")\n",
    "        for diff in r[\"dtype_differences\"]:\n",
    "            print(\"  \", diff)\n",
    "    else:\n",
    "        print(\"Sin diferencias de dtype.\")\n",
    "\n",
    "# Resumen consolidado (cuenta de incidencias por DataFrame)\n",
    "summary = pd.DataFrame([{\n",
    "    \"df\": r[\"df\"],\n",
    "    \"faltantes\": len(r[\"missing_cols\"]),\n",
    "    \"extras\": len(r[\"extra_cols\"]),\n",
    "    \"orden_ok\": r[\"column_order_matches_ref\"],\n",
    "    \"dtypes_diff\": len(r[\"dtype_differences\"])\n",
    "} for r in results])\n",
    "\n",
    "print(\"\\nResumen:\")\n",
    "print(summary)\n",
    "\n",
    "\n",
    "   \n",
    "            "
   ]
  },
  {
   "cell_type": "code",
   "execution_count": 461,
   "id": "4028f0d7",
   "metadata": {},
   "outputs": [
    {
     "name": "stdout",
     "output_type": "stream",
     "text": [
      "\n",
      "Diferencias de tipo en df1:\n",
      "  Columna: Peso[kg], Tipo en df1: int64, Tipo en referencia: float64\n",
      "  Columna: kV, Tipo en df1: int64, Tipo en referencia: float64\n",
      "\n",
      "Diferencias de tipo en df2:\n",
      "  Columna: kV, Tipo en df2: int64, Tipo en referencia: float64\n",
      "  Columna: Img Rechazadas, Tipo en df2: int64, Tipo en referencia: float64\n",
      "\n",
      "Diferencias de tipo en df3:\n",
      "  Columna: Peso[kg], Tipo en df3: int64, Tipo en referencia: float64\n",
      "  Columna: kV, Tipo en df3: int64, Tipo en referencia: float64\n",
      "\n",
      "Diferencias de tipo en df4:\n",
      "  Columna: Peso[kg], Tipo en df4: object, Tipo en referencia: float64\n",
      "  Columna: kV, Tipo en df4: int64, Tipo en referencia: float64\n",
      "  Columna: Img Rechazadas, Tipo en df4: int64, Tipo en referencia: float64\n",
      "\n",
      "Diferencias de tipo en df5:\n",
      "  Columna: kV, Tipo en df5: int64, Tipo en referencia: float64\n",
      "  Columna: Img Rechazadas, Tipo en df5: int64, Tipo en referencia: float64\n"
     ]
    }
   ],
   "source": [
    "#los que tienen diferencias de tipo dame espesificamente las columnas que son diferentes\n",
    "for r in results:\n",
    "    if r[\"dtype_differences\"]:\n",
    "        print(f\"\\nDiferencias de tipo en {r['df']}:\")\n",
    "        for col, dtype_df, dtype_ref in r[\"dtype_differences\"]:\n",
    "            print(f\"  Columna: {col}, Tipo en {r['df']}: {dtype_df}, Tipo en referencia: {dtype_ref}\")   "
   ]
  },
  {
   "cell_type": "code",
   "execution_count": 462,
   "id": "a6e0004c",
   "metadata": {},
   "outputs": [
    {
     "name": "stdout",
     "output_type": "stream",
     "text": [
      "\n",
      "df1 dtypes:\n",
      "Fecha                      datetime64[ns]\n",
      "Estudio                            object\n",
      "Peso[kg]                          float64\n",
      "Distancia foco-detector            object\n",
      "Proyección                         object\n",
      "kV                                float64\n",
      "mAs                               float64\n",
      "Img Aprobadas                       int64\n",
      "Img Rechazadas                    float64\n",
      "Dosis [mGy]                       float64\n",
      "Dosis Total [mGy]                 float64\n",
      "dtype: object\n",
      "\n",
      "df2 dtypes:\n",
      "Fecha                      datetime64[ns]\n",
      "Estudio                            object\n",
      "Peso[kg]                          float64\n",
      "Distancia foco-detector            object\n",
      "Proyección                         object\n",
      "kV                                float64\n",
      "mAs                               float64\n",
      "Img Aprobadas                       int64\n",
      "Img Rechazadas                    float64\n",
      "Dosis [mGy]                       float64\n",
      "Dosis Total [mGy]                 float64\n",
      "dtype: object\n",
      "\n",
      "df3 dtypes:\n",
      "Fecha                      datetime64[ns]\n",
      "Estudio                            object\n",
      "Peso[kg]                          float64\n",
      "Distancia foco-detector            object\n",
      "Proyección                         object\n",
      "kV                                float64\n",
      "mAs                               float64\n",
      "Img Aprobadas                       int64\n",
      "Img Rechazadas                    float64\n",
      "Dosis [mGy]                       float64\n",
      "Dosis Total [mGy]                 float64\n",
      "dtype: object\n",
      "\n",
      "df4 dtypes:\n",
      "Fecha                      datetime64[ns]\n",
      "Estudio                            object\n",
      "Peso[kg]                          float64\n",
      "Distancia foco-detector            object\n",
      "Proyección                         object\n",
      "kV                                float64\n",
      "mAs                               float64\n",
      "Img Aprobadas                       int64\n",
      "Img Rechazadas                    float64\n",
      "Dosis [mGy]                       float64\n",
      "Dosis Total [mGy]                 float64\n",
      "dtype: object\n",
      "\n",
      "df5 dtypes:\n",
      "Fecha                      datetime64[ns]\n",
      "Estudio                            object\n",
      "Peso[kg]                          float64\n",
      "Distancia foco-detector            object\n",
      "Proyección                         object\n",
      "kV                                float64\n",
      "mAs                               float64\n",
      "Img Aprobadas                       int64\n",
      "Img Rechazadas                    float64\n",
      "Dosis [mGy]                       float64\n",
      "Dosis Total [mGy]                 float64\n",
      "dtype: object\n",
      "\n",
      "df_totales dtypes:\n",
      "Fecha                      datetime64[ns]\n",
      "Estudio                            object\n",
      "Peso[kg]                          float64\n",
      "Distancia foco-detector            object\n",
      "Proyección                         object\n",
      "kV                                float64\n",
      "mAs                               float64\n",
      "Img Aprobadas                       int64\n",
      "Img Rechazadas                    float64\n",
      "Dosis [mGy]                       float64\n",
      "Dosis Total [mGy]                 float64\n",
      "dtype: object\n"
     ]
    },
    {
     "name": "stderr",
     "output_type": "stream",
     "text": [
      "C:\\Users\\oscar\\AppData\\Local\\Temp\\ipykernel_9892\\1804942543.py:10: SettingWithCopyWarning:\n",
      "\n",
      "\n",
      "A value is trying to be set on a copy of a slice from a DataFrame.\n",
      "Try using .loc[row_indexer,col_indexer] = value instead\n",
      "\n",
      "See the caveats in the documentation: https://pandas.pydata.org/pandas-docs/stable/user_guide/indexing.html#returning-a-view-versus-a-copy\n",
      "\n",
      "C:\\Users\\oscar\\AppData\\Local\\Temp\\ipykernel_9892\\1804942543.py:12: SettingWithCopyWarning:\n",
      "\n",
      "\n",
      "A value is trying to be set on a copy of a slice from a DataFrame.\n",
      "Try using .loc[row_indexer,col_indexer] = value instead\n",
      "\n",
      "See the caveats in the documentation: https://pandas.pydata.org/pandas-docs/stable/user_guide/indexing.html#returning-a-view-versus-a-copy\n",
      "\n",
      "C:\\Users\\oscar\\AppData\\Local\\Temp\\ipykernel_9892\\1804942543.py:12: SettingWithCopyWarning:\n",
      "\n",
      "\n",
      "A value is trying to be set on a copy of a slice from a DataFrame.\n",
      "Try using .loc[row_indexer,col_indexer] = value instead\n",
      "\n",
      "See the caveats in the documentation: https://pandas.pydata.org/pandas-docs/stable/user_guide/indexing.html#returning-a-view-versus-a-copy\n",
      "\n",
      "C:\\Users\\oscar\\AppData\\Local\\Temp\\ipykernel_9892\\1804942543.py:12: SettingWithCopyWarning:\n",
      "\n",
      "\n",
      "A value is trying to be set on a copy of a slice from a DataFrame.\n",
      "Try using .loc[row_indexer,col_indexer] = value instead\n",
      "\n",
      "See the caveats in the documentation: https://pandas.pydata.org/pandas-docs/stable/user_guide/indexing.html#returning-a-view-versus-a-copy\n",
      "\n",
      "C:\\Users\\oscar\\AppData\\Local\\Temp\\ipykernel_9892\\1804942543.py:18: SettingWithCopyWarning:\n",
      "\n",
      "\n",
      "A value is trying to be set on a copy of a slice from a DataFrame.\n",
      "Try using .loc[row_indexer,col_indexer] = value instead\n",
      "\n",
      "See the caveats in the documentation: https://pandas.pydata.org/pandas-docs/stable/user_guide/indexing.html#returning-a-view-versus-a-copy\n",
      "\n",
      "C:\\Users\\oscar\\AppData\\Local\\Temp\\ipykernel_9892\\1804942543.py:12: SettingWithCopyWarning:\n",
      "\n",
      "\n",
      "A value is trying to be set on a copy of a slice from a DataFrame.\n",
      "Try using .loc[row_indexer,col_indexer] = value instead\n",
      "\n",
      "See the caveats in the documentation: https://pandas.pydata.org/pandas-docs/stable/user_guide/indexing.html#returning-a-view-versus-a-copy\n",
      "\n",
      "C:\\Users\\oscar\\AppData\\Local\\Temp\\ipykernel_9892\\1804942543.py:12: SettingWithCopyWarning:\n",
      "\n",
      "\n",
      "A value is trying to be set on a copy of a slice from a DataFrame.\n",
      "Try using .loc[row_indexer,col_indexer] = value instead\n",
      "\n",
      "See the caveats in the documentation: https://pandas.pydata.org/pandas-docs/stable/user_guide/indexing.html#returning-a-view-versus-a-copy\n",
      "\n",
      "C:\\Users\\oscar\\AppData\\Local\\Temp\\ipykernel_9892\\1804942543.py:12: SettingWithCopyWarning:\n",
      "\n",
      "\n",
      "A value is trying to be set on a copy of a slice from a DataFrame.\n",
      "Try using .loc[row_indexer,col_indexer] = value instead\n",
      "\n",
      "See the caveats in the documentation: https://pandas.pydata.org/pandas-docs/stable/user_guide/indexing.html#returning-a-view-versus-a-copy\n",
      "\n"
     ]
    }
   ],
   "source": [
    "# Convertimos los tipos para que coincidan con ref_dtypes (del df_agrupado)\n",
    "to_fix = [\"df1\", \"df2\", \"df3\", \"df4\", \"df5\", \"df_totales\"]\n",
    "\n",
    "for name in to_fix:\n",
    "    d = globals()[name]\n",
    "    for col, ref_dtype in ref_dtypes.items():\n",
    "        if col not in d.columns:\n",
    "            continue\n",
    "        if \"datetime64\" in str(ref_dtype):\n",
    "            d[col] = pd.to_datetime(d[col], errors=\"coerce\")\n",
    "        elif ref_dtype == \"float64\":\n",
    "            d[col] = pd.to_numeric(d[col], errors=\"coerce\").astype(\"float64\")\n",
    "        elif ref_dtype == \"int64\":\n",
    "            # Solo si no hay NaNs; si los hubiera podríamos usar Int64 (nullable)\n",
    "            if d[col].isna().any():\n",
    "                d[col] = pd.to_numeric(d[col], errors=\"coerce\").astype(\"Int64\")\n",
    "            else:\n",
    "                d[col] = pd.to_numeric(d[col], errors=\"coerce\").astype(\"int64\")\n",
    "        # object lo dejamos como está\n",
    "    globals()[name] = d  # asegurar (aunque ya es in place)\n",
    "\n",
    "# Verificación rápida\n",
    "for name in to_fix:\n",
    "    print(f\"\\n{name} dtypes:\")\n",
    "    print(globals()[name].dtypes)"
   ]
  },
  {
   "cell_type": "code",
   "execution_count": 463,
   "id": "08ebc10e",
   "metadata": {},
   "outputs": [
    {
     "name": "stdout",
     "output_type": "stream",
     "text": [
      "Info df1:\n",
      "<class 'pandas.core.frame.DataFrame'>\n",
      "RangeIndex: 113 entries, 0 to 112\n",
      "Data columns (total 11 columns):\n",
      " #   Column                   Non-Null Count  Dtype         \n",
      "---  ------                   --------------  -----         \n",
      " 0   Fecha                    113 non-null    datetime64[ns]\n",
      " 1   Estudio                  113 non-null    object        \n",
      " 2   Peso[kg]                 113 non-null    float64       \n",
      " 3   Distancia foco-detector  113 non-null    object        \n",
      " 4   Proyección               113 non-null    object        \n",
      " 5   kV                       113 non-null    float64       \n",
      " 6   mAs                      113 non-null    float64       \n",
      " 7   Img Aprobadas            113 non-null    int64         \n",
      " 8   Img Rechazadas           104 non-null    float64       \n",
      " 9   Dosis [mGy]              113 non-null    float64       \n",
      " 10  Dosis Total [mGy]        56 non-null     float64       \n",
      "dtypes: datetime64[ns](1), float64(6), int64(1), object(3)\n",
      "memory usage: 9.8+ KB\n",
      "None\n",
      "Info df2:\n",
      "<class 'pandas.core.frame.DataFrame'>\n",
      "RangeIndex: 72 entries, 0 to 71\n",
      "Data columns (total 11 columns):\n",
      " #   Column                   Non-Null Count  Dtype         \n",
      "---  ------                   --------------  -----         \n",
      " 0   Fecha                    71 non-null     datetime64[ns]\n",
      " 1   Estudio                  71 non-null     object        \n",
      " 2   Peso[kg]                 71 non-null     float64       \n",
      " 3   Distancia foco-detector  71 non-null     object        \n",
      " 4   Proyección               72 non-null     object        \n",
      " 5   kV                       72 non-null     float64       \n",
      " 6   mAs                      72 non-null     float64       \n",
      " 7   Img Aprobadas            72 non-null     int64         \n",
      " 8   Img Rechazadas           72 non-null     float64       \n",
      " 9   Dosis [mGy]              72 non-null     float64       \n",
      " 10  Dosis Total [mGy]        40 non-null     float64       \n",
      "dtypes: datetime64[ns](1), float64(6), int64(1), object(3)\n",
      "memory usage: 6.3+ KB\n",
      "None\n",
      "Info df3:\n",
      "<class 'pandas.core.frame.DataFrame'>\n",
      "RangeIndex: 268 entries, 0 to 267\n",
      "Data columns (total 11 columns):\n",
      " #   Column                   Non-Null Count  Dtype         \n",
      "---  ------                   --------------  -----         \n",
      " 0   Fecha                    268 non-null    datetime64[ns]\n",
      " 1   Estudio                  268 non-null    object        \n",
      " 2   Peso[kg]                 268 non-null    float64       \n",
      " 3   Distancia foco-detector  268 non-null    object        \n",
      " 4   Proyección               268 non-null    object        \n",
      " 5   kV                       268 non-null    float64       \n",
      " 6   mAs                      268 non-null    float64       \n",
      " 7   Img Aprobadas            268 non-null    int64         \n",
      " 8   Img Rechazadas           267 non-null    float64       \n",
      " 9   Dosis [mGy]              268 non-null    float64       \n",
      " 10  Dosis Total [mGy]        144 non-null    float64       \n",
      "dtypes: datetime64[ns](1), float64(6), int64(1), object(3)\n",
      "memory usage: 23.2+ KB\n",
      "None\n",
      "Info df4:\n",
      "<class 'pandas.core.frame.DataFrame'>\n",
      "RangeIndex: 68 entries, 0 to 67\n",
      "Data columns (total 11 columns):\n",
      " #   Column                   Non-Null Count  Dtype         \n",
      "---  ------                   --------------  -----         \n",
      " 0   Fecha                    68 non-null     datetime64[ns]\n",
      " 1   Estudio                  68 non-null     object        \n",
      " 2   Peso[kg]                 34 non-null     float64       \n",
      " 3   Distancia foco-detector  68 non-null     object        \n",
      " 4   Proyección               68 non-null     object        \n",
      " 5   kV                       68 non-null     float64       \n",
      " 6   mAs                      68 non-null     float64       \n",
      " 7   Img Aprobadas            68 non-null     int64         \n",
      " 8   Img Rechazadas           68 non-null     float64       \n",
      " 9   Dosis [mGy]              68 non-null     float64       \n",
      " 10  Dosis Total [mGy]        38 non-null     float64       \n",
      "dtypes: datetime64[ns](1), float64(6), int64(1), object(3)\n",
      "memory usage: 6.0+ KB\n",
      "None\n",
      "Info df5:\n",
      "<class 'pandas.core.frame.DataFrame'>\n",
      "RangeIndex: 49 entries, 0 to 48\n",
      "Data columns (total 11 columns):\n",
      " #   Column                   Non-Null Count  Dtype         \n",
      "---  ------                   --------------  -----         \n",
      " 0   Fecha                    49 non-null     datetime64[ns]\n",
      " 1   Estudio                  49 non-null     object        \n",
      " 2   Peso[kg]                 22 non-null     float64       \n",
      " 3   Distancia foco-detector  49 non-null     object        \n",
      " 4   Proyección               49 non-null     object        \n",
      " 5   kV                       49 non-null     float64       \n",
      " 6   mAs                      49 non-null     float64       \n",
      " 7   Img Aprobadas            49 non-null     int64         \n",
      " 8   Img Rechazadas           49 non-null     float64       \n",
      " 9   Dosis [mGy]              49 non-null     float64       \n",
      " 10  Dosis Total [mGy]        26 non-null     float64       \n",
      "dtypes: datetime64[ns](1), float64(6), int64(1), object(3)\n",
      "memory usage: 4.3+ KB\n",
      "None\n",
      "Info df_agrupado:\n",
      "<class 'pandas.core.frame.DataFrame'>\n",
      "RangeIndex: 1626 entries, 0 to 1625\n",
      "Data columns (total 11 columns):\n",
      " #   Column                   Non-Null Count  Dtype         \n",
      "---  ------                   --------------  -----         \n",
      " 0   Fecha                    1488 non-null   datetime64[ns]\n",
      " 1   Estudio                  1488 non-null   object        \n",
      " 2   Peso[kg]                 1016 non-null   float64       \n",
      " 3   Distancia foco-detector  1491 non-null   object        \n",
      " 4   Proyección               1626 non-null   object        \n",
      " 5   kV                       1626 non-null   float64       \n",
      " 6   mAs                      1626 non-null   float64       \n",
      " 7   Img Aprobadas            1626 non-null   int64         \n",
      " 8   Img Rechazadas           1616 non-null   float64       \n",
      " 9   Dosis [mGy]              1626 non-null   float64       \n",
      " 10  Dosis Total [mGy]        916 non-null    float64       \n",
      "dtypes: datetime64[ns](1), float64(6), int64(1), object(3)\n",
      "memory usage: 139.9+ KB\n",
      "None\n",
      "All good\n"
     ]
    }
   ],
   "source": [
    "#imprime la info() de cada df\n",
    "print(\"Info df1:\")\n",
    "print(df1.info())\n",
    "print(\"Info df2:\")\n",
    "print(df2.info())\n",
    "print(\"Info df3:\")\n",
    "print(df3.info())\n",
    "print(\"Info df4:\")\n",
    "print(df4.info())\n",
    "print(\"Info df5:\")\n",
    "print(df5.info())\n",
    "print(\"Info df_agrupado:\")\n",
    "print(df_agrupado.info())\n",
    "\n",
    "#verificamos si todos los df tienen el mismo numero de columnas y el mismo tipo de datos, si si imprimir all good\n",
    "if all(df.shape[1] == df_agrupado.shape[1] for df in [df1, df2, df3, df4, df5]) and all(df.dtypes.equals(df_agrupado.dtypes) for df in [df1, df2, df3, df4, df5]):\n",
    "    print(\"All good\")"
   ]
  },
  {
   "cell_type": "code",
   "execution_count": 464,
   "id": "b5edfa66",
   "metadata": {},
   "outputs": [
    {
     "name": "stdout",
     "output_type": "stream",
     "text": [
      "El número de filas de df1 es correcto.\n",
      "El número de filas de df2 es correcto.\n",
      "El número de filas de df3 es correcto.\n",
      "El número de filas de df4 es correcto.\n"
     ]
    }
   ],
   "source": [
    "#verifica si numero de filas de cada df es es mismo del dic num_filas\n",
    "for df_name, num_rows in num_filas.items():\n",
    "    if len(eval(df_name)) == num_rows:\n",
    "        print(f\"El número de filas de {df_name} es correcto.\")\n",
    "    else:\n",
    "        print(f\"El número de filas de {df_name} es incorrecto.\")\n"
   ]
  },
  {
   "cell_type": "markdown",
   "id": "fcfdf5a7",
   "metadata": {},
   "source": [
    "# Comparacion"
   ]
  },
  {
   "cell_type": "code",
   "execution_count": 465,
   "id": "87bd8d0a",
   "metadata": {},
   "outputs": [
    {
     "name": "stdout",
     "output_type": "stream",
     "text": [
      "--- Registros de df1 que NO están en df_agrupado ---\n",
      "       Fecha  Estudio  Peso[kg] Distancia foco-detector Proyección    kV  \\\n",
      "0 2024-11-14  Rodilla      53.0                 Camilla      AP-PA  60.0   \n",
      "1 2024-11-14   Muñeca      70.0                 Camilla      AP-PA  55.0   \n",
      "2 2024-11-14   Muñeca      62.0                 Camilla      AP-PA  55.0   \n",
      "3 2024-11-14   Muñeca      62.0                 Camilla        LAT  55.0   \n",
      "4 2024-11-14   Muñeca      62.0                 Camilla    OBLICUO  55.0   \n",
      "\n",
      "    mAs  Img Aprobadas  Img Rechazadas  Dosis [mGy]  Dosis Total [mGy]  \\\n",
      "0  10.0              3             0.0         1.77               1.77   \n",
      "1   2.9              3             0.0         0.36               0.36   \n",
      "2   4.5              1             0.0         0.19                NaN   \n",
      "3   4.5              1             0.0         0.19                NaN   \n",
      "4   4.5              1             0.0         0.15               0.53   \n",
      "\n",
      "      _merge  \n",
      "0  left_only  \n",
      "1  left_only  \n",
      "2  left_only  \n",
      "3  left_only  \n",
      "4  left_only  \n",
      "Total: 113\n",
      "\n",
      "--- Registros de df2 que NO están en df_agrupado ---\n",
      "       Fecha     Estudio  Peso[kg] Distancia foco-detector Proyección    kV  \\\n",
      "0 2024-11-22     Tobillo      65.0                   Bucky      AP-PA  65.0   \n",
      "1 2024-12-11       Tórax      60.0                   Bucky      AP-PA  85.0   \n",
      "2 2024-12-12     Abdomen      60.0                   Bucky      AP-PA  83.0   \n",
      "3 2024-12-12  Col Lumbar      60.0                   Bucky      AP-PA  75.0   \n",
      "4 2024-12-12  Col Lumbar      60.0                   Bucky        LAT  75.0   \n",
      "\n",
      "    mAs  Img Aprobadas  Img Rechazadas  Dosis [mGy]  Dosis Total [mGy]  \\\n",
      "0   5.0              1             0.0         0.13               0.13   \n",
      "1   3.5              1             0.0         0.11               0.11   \n",
      "2  32.0              1             0.0         2.57                NaN   \n",
      "3  35.0              1             0.0         0.87                NaN   \n",
      "4  40.0              2             0.0         2.19               3.06   \n",
      "\n",
      "      _merge  \n",
      "0  left_only  \n",
      "1  left_only  \n",
      "2  left_only  \n",
      "3  left_only  \n",
      "4  left_only  \n",
      "Total: 72\n",
      "\n",
      "--- Registros de df3 que NO están en df_agrupado ---\n",
      "       Fecha Estudio  Peso[kg] Distancia foco-detector Proyección     kV  mAs  \\\n",
      "0 2024-11-25     Pie      63.0                   Bucky      AP-PA   57.0  4.5   \n",
      "1 2024-11-25     Pie      63.0                   Bucky        LAT   54.0  4.5   \n",
      "2 2024-11-26     Pie      63.0                   Bucky      AP-PA   57.0  4.5   \n",
      "3 2024-11-26     Pie      63.0                   Bucky        LAT   54.0  4.5   \n",
      "4 2024-11-26   Tórax      56.0                   Bucky      AP-PA  106.0  2.5   \n",
      "\n",
      "   Img Aprobadas  Img Rechazadas  Dosis [mGy]  Dosis Total [mGy]     _merge  \n",
      "0              1             0.0         0.09                NaN  left_only  \n",
      "1              1             0.0         0.08               0.17  left_only  \n",
      "2              1             0.0         0.09                NaN  left_only  \n",
      "3              1             0.0         0.08               0.17  left_only  \n",
      "4              1             0.0         0.12                NaN  left_only  \n",
      "Total: 268\n",
      "\n",
      "--- Registros de df4 que NO están en df_agrupado ---\n",
      "       Fecha          Estudio  Peso[kg] Distancia foco-detector Proyección  \\\n",
      "0 2025-03-09           Lumbar       NaN                 Camilla        LAT   \n",
      "1 2025-03-09           Lumbar       NaN                 Camilla    OBLICUO   \n",
      "2 2025-03-09  Dorsal torácica       NaN                 Camilla        LAT   \n",
      "3 2025-03-09  Dorsal torácica       NaN                 Camilla    OBLICUO   \n",
      "4 2025-03-09           Pelvis       NaN                 Camilla        LAT   \n",
      "\n",
      "     kV   mAs  Img Aprobadas  Img Rechazadas  Dosis [mGy]  Dosis Total [mGy]  \\\n",
      "0  70.0  30.0              1             0.0         3.54                NaN   \n",
      "1  70.0  60.0              1             0.0         6.67              10.21   \n",
      "2  70.0  30.0              1             0.0         2.90                NaN   \n",
      "3  70.0  60.0              1             0.0         7.40              10.30   \n",
      "4  70.0  30.0              1             0.0         2.75                NaN   \n",
      "\n",
      "      _merge  \n",
      "0  left_only  \n",
      "1  left_only  \n",
      "2  left_only  \n",
      "3  left_only  \n",
      "4  left_only  \n",
      "Total: 68\n",
      "\n",
      "--- Registros de df5 que NO están en df_agrupado ---\n",
      "       Fecha          Estudio  Peso[kg] Distancia foco-detector Proyección  \\\n",
      "0 2025-03-09           Lumbar       NaN                 Camilla        LAT   \n",
      "1 2025-03-09           Lumbar       NaN                 Camilla    OBLICUO   \n",
      "2 2025-03-09  Dorsal torácica       NaN                 Camilla        LAT   \n",
      "3 2025-03-09  Dorsal torácica       NaN                 Camilla    OBLICUO   \n",
      "4 2025-03-09           Pelvis       NaN                 Camilla        LAT   \n",
      "\n",
      "     kV   mAs  Img Aprobadas  Img Rechazadas  Dosis [mGy]  Dosis Total [mGy]  \\\n",
      "0  70.0  30.0              1             0.0         3.54                NaN   \n",
      "1  70.0  60.0              1             0.0         6.67              10.21   \n",
      "2  70.0  30.0              1             0.0         2.90                NaN   \n",
      "3  70.0  60.0              1             0.0         7.40              10.30   \n",
      "4  70.0  30.0              1             0.0         2.75                NaN   \n",
      "\n",
      "      _merge  \n",
      "0  left_only  \n",
      "1  left_only  \n",
      "2  left_only  \n",
      "3  left_only  \n",
      "4  left_only  \n",
      "Total: 49\n",
      "\n"
     ]
    }
   ],
   "source": [
    "\n",
    "for i, df in enumerate([df1, df2, df3, df4, df5], start=1):\n",
    "    df = df[df_agrupado.columns]  # mismas columnas y orden\n",
    "    merged = df.merge(df_agrupado, how=\"left\", indicator=True)\n",
    "    \n",
    "    no_included = merged[merged[\"_merge\"] == \"left_only\"]\n",
    "    print(f\"--- Registros de df{i} que NO están en df_agrupado ---\")\n",
    "    print(no_included.head())\n",
    "    print(f\"Total: {len(no_included)}\\n\")\n"
   ]
  },
  {
   "cell_type": "markdown",
   "id": "9bb31877",
   "metadata": {},
   "source": [
    "# Union de todos los df"
   ]
  },
  {
   "cell_type": "code",
   "execution_count": 466,
   "id": "158335fa",
   "metadata": {},
   "outputs": [
    {
     "name": "stdout",
     "output_type": "stream",
     "text": [
      "Numero de filas df_completo: 2196\n",
      "<class 'pandas.core.frame.DataFrame'>\n",
      "RangeIndex: 2196 entries, 0 to 2195\n",
      "Data columns (total 11 columns):\n",
      " #   Column                   Non-Null Count  Dtype         \n",
      "---  ------                   --------------  -----         \n",
      " 0   Fecha                    2057 non-null   datetime64[ns]\n",
      " 1   Estudio                  2057 non-null   object        \n",
      " 2   Peso[kg]                 1524 non-null   float64       \n",
      " 3   Distancia foco-detector  2060 non-null   object        \n",
      " 4   Proyección               2196 non-null   object        \n",
      " 5   kV                       2196 non-null   float64       \n",
      " 6   mAs                      2196 non-null   float64       \n",
      " 7   Img Aprobadas            2196 non-null   int64         \n",
      " 8   Img Rechazadas           2176 non-null   float64       \n",
      " 9   Dosis [mGy]              2196 non-null   float64       \n",
      " 10  Dosis Total [mGy]        1220 non-null   float64       \n",
      "dtypes: datetime64[ns](1), float64(6), int64(1), object(3)\n",
      "memory usage: 188.8+ KB\n"
     ]
    }
   ],
   "source": [
    "#Unimos todos los df en uno solo contando el df_agrupado\n",
    "df_completo = pd.concat([df_agrupado, df1, df2, df3, df4, df5], ignore_index=True)\n",
    "print(\"Numero de filas df_completo:\", len(df_completo))\n",
    "\n",
    "df_completo.info()"
   ]
  },
  {
   "cell_type": "markdown",
   "id": "b841be2c",
   "metadata": {},
   "source": [
    "# Analisis de datos"
   ]
  },
  {
   "cell_type": "markdown",
   "id": "8dc83e38",
   "metadata": {},
   "source": [
    "### 1) Frecuencia por estudio, solo los que tienen dosis total"
   ]
  },
  {
   "cell_type": "code",
   "execution_count": 467,
   "id": "5061093e",
   "metadata": {},
   "outputs": [
    {
     "name": "stderr",
     "output_type": "stream",
     "text": [
      "C:\\Users\\oscar\\AppData\\Local\\Temp\\ipykernel_9892\\2950836063.py:4: SettingWithCopyWarning:\n",
      "\n",
      "\n",
      "A value is trying to be set on a copy of a slice from a DataFrame.\n",
      "Try using .loc[row_indexer,col_indexer] = value instead\n",
      "\n",
      "See the caveats in the documentation: https://pandas.pydata.org/pandas-docs/stable/user_guide/indexing.html#returning-a-view-versus-a-copy\n",
      "\n",
      "C:\\Users\\oscar\\AppData\\Local\\Temp\\ipykernel_9892\\2950836063.py:5: SettingWithCopyWarning:\n",
      "\n",
      "\n",
      "A value is trying to be set on a copy of a slice from a DataFrame.\n",
      "Try using .loc[row_indexer,col_indexer] = value instead\n",
      "\n",
      "See the caveats in the documentation: https://pandas.pydata.org/pandas-docs/stable/user_guide/indexing.html#returning-a-view-versus-a-copy\n",
      "\n"
     ]
    },
    {
     "data": {
      "application/vnd.plotly.v1+json": {
       "config": {
        "plotlyServerURL": "https://plot.ly"
       },
       "data": [
        {
         "boxmean": true,
         "boxpoints": "outliers",
         "name": "Dosis Total [mGy]",
         "type": "box",
         "x": [
          "Pelvis",
          "Tórax",
          "Tórax",
          "Dorsal torácica",
          "Tórax",
          "Rodilla",
          "Lumbar",
          "Tórax",
          "Pelvis",
          "Mano",
          "Muñeca",
          "Abdomen",
          "Tórax",
          "Pelvis",
          "Rodilla",
          "Pie",
          "Tórax",
          "Hombro",
          "Tórax",
          "Rodilla",
          "Antebrazo",
          "Mano",
          "Codo",
          "Cráneo",
          "Hombro",
          "Rodilla",
          "Hombro",
          "Tórax",
          "Tórax",
          "Tórax",
          "Panorámica M. Inferiores",
          "Tórax",
          "Abdomen",
          "Tórax",
          "Pelvis",
          "Fémur",
          "Tórax",
          "Dorsal torácica",
          "Lumbar",
          "Abdomen",
          "Reja Costal",
          "Goniometría Dorsal",
          "Hombro",
          "Dorsal torácica",
          "Cervical",
          "Lumbar",
          "Goniometría Dorsal",
          "Pie",
          "Tórax",
          "Fémur",
          "Pelvis",
          "Rodilla",
          "Tobillo",
          "Antebrazo",
          "Muñeca",
          "Pierna",
          "Rodilla",
          "Mano",
          "Tórax",
          "Pelvis",
          "Tórax",
          "Tórax",
          "Tórax",
          "Tórax",
          "Tórax",
          "Tórax",
          "Goniometría Lumbar",
          "Rodilla",
          "Tórax",
          "Mano",
          "Tórax",
          "Tórax",
          "Lumbar",
          "Tórax",
          "Pierna",
          "Pierna",
          "Tórax",
          "Tórax",
          "Tórax",
          "Abdomen",
          "Abdomen",
          "Tórax",
          "Tórax",
          "Pie",
          "Tórax",
          "Pelvis",
          "Tórax",
          "Tórax",
          "Mano",
          "Tórax",
          "Tórax",
          "Tórax",
          "Tórax",
          "Tórax",
          "Tórax",
          "Tórax",
          "Tórax",
          "Tórax",
          "Rodilla",
          "Panorámica M. Inferiores",
          "Pelvis",
          "Rodilla",
          "Antebrazo",
          "Cervical",
          "Goniometría Dorsal",
          "Hombro",
          "Tórax",
          "Tórax",
          "Tórax",
          "Tórax",
          "Tórax",
          "Senos Paranasales",
          "Pie",
          "Pie",
          "Tórax",
          "Mano",
          "Pie",
          "Pie",
          "Hombro",
          "Pierna",
          "Muñeca",
          "Muñeca",
          "Pelvis",
          "Hombro",
          "Pierna",
          "Tobillo",
          "Tórax",
          "Fémur",
          "Fémur",
          "Tórax",
          "Tórax",
          "Tórax",
          "Pelvis",
          "Pelvis",
          "Abdomen",
          "Lumbar",
          "Abdomen",
          "Tórax",
          "Tórax",
          "Pie",
          "Tórax",
          "Rodilla",
          "Pierna",
          "Tobillo",
          "Rodilla",
          "Rodilla",
          "Pelvis",
          "Goniometría Lumbar",
          "Dorsal torácica",
          "Lumbar",
          "Tórax",
          "Panorámica M. Inferiores",
          "Lumbar",
          "Cervical",
          "Lumbar",
          "Cara",
          "Mano",
          "Mano",
          "Muñeca",
          "Mano",
          "Rodilla",
          "Tórax",
          "Abdomen",
          "Tórax",
          "Tórax",
          "Tórax",
          "Reja Costal",
          "Tórax",
          "Tórax",
          "Tórax",
          "Tórax",
          "Tórax",
          "Tórax",
          "Tórax",
          "Tórax",
          "Tórax",
          "Abdomen",
          "Tórax",
          "Reja Costal",
          "Hombro",
          "Hombro",
          "Tórax",
          "Pelvis",
          "Tórax",
          "Abdomen",
          "Tórax",
          "Abdomen",
          "Tórax",
          "Tórax",
          "Mano",
          "Mano",
          "Tórax",
          "Abdomen",
          "Tórax",
          "Tórax",
          "Tórax",
          "Muñeca",
          "Antebrazo",
          "Panorámica M. Inferiores",
          "Pie",
          "Calcáneo",
          "Tórax",
          "Panorámica M. Inferiores",
          "Dorsal torácica",
          "Lumbar",
          "Rodilla",
          "Tórax",
          "Tórax",
          "Tórax",
          "Mano",
          "Tórax",
          "Tórax",
          "Pie",
          "Pie",
          "Goniometría Cervical",
          "Goniometría Dorsal",
          "Goniometría Lumbar",
          "Muñeca",
          "Codo",
          "Goniometría Lumbar",
          "Mano",
          "Hombro",
          "Reja Costal",
          "Fémur",
          "Abdomen",
          "Tórax",
          "Huesos Nasales",
          "Dorsal torácica",
          "Lumbar",
          "Pelvis",
          "Tórax",
          "Goniometría Lumbar",
          "Tórax",
          "Tórax",
          "Tórax",
          "Tórax",
          "Hombro",
          "Mano",
          "Antebrazo",
          "Mano",
          "Abdomen",
          "Pelvis",
          "Tórax",
          "Muñeca",
          "Hombro",
          "Reja Costal",
          "Cervical",
          "Cervical",
          "Goniometría Lumbar",
          "Tórax",
          "Mano",
          "Lumbar",
          "Cervical",
          "Hombro",
          "Hombro",
          "Mano",
          "Reja Costal",
          "Reja Costal",
          "Tórax",
          "Pierna",
          "Pierna",
          "Tobillo",
          "Reja Costal",
          "Mano",
          "Tórax",
          "Húmero",
          "Húmero",
          "Mano",
          "Tórax",
          "Tórax",
          "Pelvis",
          "Pelvis",
          "Pie",
          "Pie",
          "Mano",
          "Tórax",
          "Tórax",
          "Abdomen",
          "Lumbar",
          "Goniometría Lumbar",
          "Pelvis",
          "Cervical",
          "Tórax",
          "Pelvis",
          "Muñeca",
          "Mano",
          "Reja Costal",
          "Hombro",
          "Tórax Portatil",
          "Pie",
          "Codo",
          "Tórax",
          "Tórax",
          "Pelvis",
          "Tórax",
          "Tórax",
          "Muñeca",
          "Rodilla",
          "Tobillo",
          "Húmero",
          "Tórax",
          "Tórax",
          "Mano",
          "Tórax",
          "Dorsal torácica",
          "Lumbar",
          "Lumbar",
          "Goniometría Lumbar",
          "Lumbar",
          "Pelvis",
          "Mano",
          "Tórax",
          "Rodilla",
          "Tórax",
          "Reja Costal",
          "Goniometría Lumbar",
          "Pelvis",
          "Tórax",
          "Rodilla",
          "Muñeca",
          "Tórax Portatil",
          "Tórax Portatil",
          "Rodilla",
          "Tórax",
          "Rodilla",
          "Mano",
          "Rodilla",
          "Tórax",
          "Rodilla",
          "Tórax",
          "Tórax",
          "Tórax",
          "Hombro",
          "Tórax",
          "Tórax",
          "Lumbar",
          "Tórax",
          "Muñeca",
          "Lumbar",
          "Tórax",
          "Pelvis",
          "Goniometría Cervical",
          "Goniometría Dorsal",
          "Goniometría Lumbar",
          "Tobillo",
          "Tórax",
          "Panorámica M. Inferiores",
          "Rodilla",
          "Lumbar",
          "Tórax",
          "Muñeca",
          "Tórax",
          "Tórax",
          "Tórax",
          "Abdomen",
          "Tórax",
          "Órbitas",
          "Abdomen",
          "Reja Costal",
          "Clavícula",
          "Tórax",
          "Tórax",
          "Tórax",
          "Muñeca",
          "Pie",
          "Tórax",
          "Clavícula",
          "Hombro",
          "Pelvis",
          "Tórax",
          "Tórax",
          "Pie",
          "Tórax",
          "Tórax",
          "Tórax",
          "Tórax",
          "Tórax",
          "Reja Costal",
          "Hombro",
          "Antebrazo",
          "Tórax",
          "Tórax",
          "Rodilla",
          "Rodilla",
          "Tórax",
          "Tórax",
          "Mano",
          "Pelvis",
          "Goniometría Lumbar",
          "Hombro",
          "Goniometría Lumbar",
          "Pie",
          "Tórax",
          "Tórax",
          "Mano",
          "Senos Paranasales",
          "Lumbar",
          "Rodilla",
          "Abdomen",
          "Tórax Portatil",
          "Tórax Portatil",
          "Tórax",
          "Tórax",
          "Tórax",
          "Abdomen",
          "Codo",
          "Mano",
          "Pie",
          "Rodilla",
          "Goniometría Lumbar",
          "Abdomen",
          "Abdomen",
          "Tórax",
          "Lumbar",
          "Pelvis",
          "Rodilla",
          "Pie",
          "Tórax",
          "Pelvis",
          "Tórax",
          "Fémur",
          "Pelvis",
          "Rodilla",
          "Tórax",
          "Tórax",
          "Tórax",
          "Tórax",
          "Tórax",
          "Cervical",
          "Tórax",
          "Pelvis",
          "Tórax",
          "Pelvis",
          "Lumbar",
          "Pie",
          "Tórax",
          "Goniometría Dorsal",
          "Tórax",
          "Rodilla",
          "Cervical",
          "Pie",
          "Hombro",
          "Cervical",
          "Lumbar",
          "Pelvis",
          "Tórax",
          "Tórax",
          "Reja Costal",
          "Mano",
          "Muñeca",
          "Muñeca",
          "Codo",
          "Húmero",
          "Pelvis",
          "Tórax",
          "Tobillo",
          "Tobillo",
          "Tórax",
          "Tórax",
          "Tórax",
          "Lumbar",
          "Pelvis",
          "Goniometría Lumbar",
          "Pie",
          "Tórax",
          "Tórax",
          "Tórax",
          "Tórax",
          "Goniometría Lumbar",
          "Hombro",
          "Tórax",
          "Tórax",
          "Goniometría Dorsal",
          "Goniometría Lumbar",
          "Goniometría Lumbar",
          "Goniometría Lumbar",
          "Goniometría Lumbar",
          "Abdomen",
          "Abdomen",
          "Tórax Portatil",
          "Tórax",
          "Hombro",
          "Hombro",
          "Tórax",
          "Tórax",
          "Mano",
          "Hombro",
          "Reja Costal",
          "Tórax",
          "Pelvis",
          "Hombro",
          "Tórax Portatil",
          "Tórax",
          "Tórax",
          "Abdomen",
          "Tórax",
          "Tórax",
          "Tórax",
          "Tórax",
          "Tórax",
          "Tórax",
          "Tórax",
          "Tórax",
          "Mano",
          "Tórax",
          "Lumbar",
          "Tórax",
          "Tórax",
          "Abdomen",
          "Antebrazo",
          "Mano",
          "Mano",
          "Tórax",
          "Tórax",
          "Hombro",
          "Rodilla",
          "Tórax",
          "Tórax",
          "Mano",
          "Mano",
          "Tórax",
          "Lumbar",
          "Sacro",
          "Tórax",
          "Lumbar",
          "Rodilla",
          "Tórax",
          "Tórax",
          "Pie",
          "Hombro",
          "Hombro",
          "Pelvis",
          "Rodilla",
          "Rodilla",
          "Tórax",
          "Mano",
          "Goniometría Lumbar",
          "Pelvis",
          "Tórax",
          "Mano",
          "Pelvis",
          "Pelvis",
          "Tórax",
          "Tórax",
          "Mano",
          "Pie",
          "Pie",
          "Panorámica M. Inferiores",
          "Hombro",
          "Hombro",
          "Tórax",
          "Rodilla",
          "Tórax",
          "Tórax",
          "Mano",
          "Pelvis",
          "Tórax",
          "Abdomen",
          "Tórax",
          "Tórax",
          "Mano",
          "Pie",
          "Rodilla",
          "Rodilla",
          "Tórax",
          "Cráneo",
          "Cervical",
          "Mano",
          "Tórax",
          "Pelvis",
          "Tórax",
          "Tórax",
          "Tórax",
          "Tórax",
          "Mano",
          "Pelvis",
          "Pelvis",
          "Tórax",
          "Tórax",
          "Pie",
          "Rodilla",
          "Goniometría Lumbar",
          "Panorámica M. Inferiores",
          "Mano",
          "Pierna",
          "Tórax",
          "Lumbar",
          "Tórax",
          "Tórax",
          "Tobillo",
          "Clavícula",
          "Mano",
          "Tórax",
          "Pelvis",
          "Hombro",
          "Tórax",
          "Mano",
          "Mano",
          "Tórax",
          "Tórax",
          "Tórax",
          "Muñeca",
          "Mano",
          "Hombro",
          "Pelvis",
          "Fémur",
          "Tórax",
          "Tórax",
          "Abdomen",
          "Tórax",
          "Tórax",
          "Tórax",
          "Tórax",
          "Fémur",
          "Pelvis",
          "Tórax",
          "Rodilla",
          "Abdomen",
          "Tórax",
          "Tórax",
          "Antebrazo",
          "Muñeca",
          "Rodilla",
          "Tórax",
          "Tórax",
          "Pie",
          "Mano",
          "Rodilla",
          "Mano",
          "Muñeca",
          "Tórax",
          "Lumbar",
          "Pelvis",
          "Pelvis",
          "Muñeca",
          "Rodilla",
          "Pierna",
          "Pelvis",
          "Rodilla",
          "Tórax",
          "Pelvis",
          "Rodilla",
          "Pierna",
          "Tórax",
          "Lumbar",
          "Hombro",
          "Mano",
          "Tórax",
          "Tórax",
          "Lumbar",
          "Pelvis",
          "Pelvis",
          "Rodilla",
          "Mano",
          "Pie",
          "Rodilla",
          "Reja Costal",
          "Mano",
          "Mano",
          "Pelvis",
          "Fémur",
          "Pelvis",
          "Tórax",
          "Tórax",
          "Cráneo",
          "Tórax",
          "Tórax",
          "Pierna",
          "Rodilla",
          "Fémur",
          "Tórax",
          "Tórax",
          "Mano",
          "Pelvis",
          "Tórax",
          "Rodilla",
          "Tórax",
          "Tórax",
          "Tórax",
          "Pelvis",
          "Rodilla",
          "Tobillo",
          "Tórax",
          "Muñeca",
          "Tórax",
          "Rodilla",
          "Cervical",
          "Tórax",
          "Tórax",
          "Muñeca",
          "Cráneo",
          "Abdomen",
          "Tórax",
          "Tórax",
          "Pierna",
          "Tórax",
          "Tórax",
          "Tórax",
          "Rodilla",
          "Tórax",
          "Abdomen",
          "Pelvis",
          "Lumbar",
          "Lumbar",
          "Tórax",
          "Cervical",
          "Fémur",
          "Lumbar",
          "Lumbar",
          "Tórax",
          "Tórax",
          "Tórax",
          "Tórax",
          "Tórax",
          "Tórax",
          "Fémur",
          "Tórax",
          "Tórax",
          "Hombro",
          "Mano",
          "Pie",
          "Pelvis",
          "Tórax",
          "Tórax",
          "Mano",
          "Mano",
          "Cráneo",
          "Hombro",
          "Tórax",
          "Tórax",
          "Tórax",
          "Tórax",
          "Tórax",
          "Goniometría Lumbar",
          "Pelvis",
          "Goniometría Cervical",
          "Panorámica M. Inferiores",
          "Pelvis",
          "Tórax",
          "Tórax",
          "Tórax",
          "Mano",
          "Tórax",
          "Tórax",
          "Pelvis",
          null,
          null,
          null,
          null,
          null,
          null,
          null,
          null,
          null,
          null,
          null,
          null,
          "Tórax",
          "Tórax",
          null,
          null,
          "Pelvis",
          "Cervical",
          null,
          null,
          null,
          null,
          null,
          null,
          "Dorsal torácica",
          null,
          null,
          null,
          null,
          null,
          null,
          null,
          "Tórax",
          null,
          null,
          null,
          null,
          null,
          null,
          null,
          null,
          null,
          null,
          null,
          null,
          null,
          null,
          "Abdomen",
          "Mano",
          null,
          null,
          null,
          "Abdomen",
          "Tórax Portatil",
          null,
          null,
          null,
          null,
          "Cráneo",
          null,
          null,
          "Tórax",
          null,
          "Tórax",
          null,
          null,
          null,
          null,
          null,
          null,
          null,
          null,
          null,
          null,
          null,
          "Tórax",
          null,
          null,
          null,
          null,
          null,
          "Panorámica M. Inferiores",
          null,
          null,
          null,
          null,
          null,
          null,
          null,
          null,
          "Pelvis",
          null,
          "Tórax",
          null,
          null,
          null,
          "Pelvis",
          null,
          "Tórax",
          null,
          null,
          null,
          null,
          null,
          "Tórax",
          "Tórax",
          null,
          "Tórax",
          null,
          null,
          "Abdomen",
          null,
          "Abdomen",
          null,
          null,
          null,
          null,
          "Hombro",
          "Pie",
          "Tobillo",
          "Abdomen",
          null,
          null,
          null,
          "Pelvis",
          null,
          null,
          "Pelvis",
          null,
          null,
          "Panorámica M. Inferiores",
          "Tórax",
          null,
          null,
          "Tórax",
          null,
          null,
          null,
          null,
          null,
          null,
          "Tórax",
          null,
          null,
          null,
          null,
          "Tórax",
          null,
          null,
          "Pelvis",
          null,
          null,
          null,
          null,
          null,
          null,
          null,
          null,
          null,
          null,
          "Tórax",
          "Abdomen",
          "Tórax",
          "Abdomen",
          null,
          null,
          null,
          null,
          null,
          null,
          null,
          "Rodilla",
          "Muñeca",
          "Muñeca",
          "Tórax",
          "Tórax",
          "Col Torácica",
          "Lumbar",
          "Tórax",
          "Tórax",
          "Lumbar",
          "Pelvis",
          "Pelvis",
          "Pie",
          "Pie",
          "Mano",
          "Mano",
          "Mano",
          "Lumbar",
          "Tórax",
          "Abdomen",
          "Mano",
          "Mano",
          "Mano",
          "Muñeca",
          "Muñeca",
          "Codo",
          "Tórax",
          "Cervical",
          "Tórax",
          "Tórax",
          "Abdomen",
          "Lumbar",
          "Abdomen",
          "Columna Panorámica",
          "Tórax",
          "Tórax",
          "Tórax",
          "Tórax",
          "Rodilla",
          "Abdomen simple",
          "Tórax",
          "Rodilla",
          "Pelvis",
          "Mano",
          "Rodilla",
          "Tórax",
          "Tórax",
          "Abdomen",
          "Tórax",
          "Abdomen",
          "Abdomen",
          "Abdomen",
          "Hombro",
          "Tórax",
          "Pie",
          "Tobillo",
          "Tobillo",
          "Tórax",
          "Lumbar",
          "Tórax",
          "Tórax",
          "Tórax",
          "Pelvis",
          "Pie",
          "Rodilla",
          "Rodilla",
          "Reja costal",
          "Pelvis",
          "Pelvis",
          "Tórax",
          "Mano",
          "Tórax",
          "Abdomen",
          "Tórax",
          "Hombro",
          "Pelvis",
          "Pelvis",
          "Pelvis",
          "Pelvis",
          "Columna Panorámica",
          "Columna Panorámica",
          "Pelvis",
          "Tórax",
          "Pie",
          "Hombro",
          "Tórax",
          "Pie",
          "Tórax",
          "Cervical",
          "Lumbar",
          "Col Torácica",
          "Tórax",
          "Tórax",
          "Rodilla",
          "Abdomen",
          null,
          "Pie",
          "Pie",
          "Tórax",
          "Tórax",
          "Tórax",
          "Lumbar",
          "Muñeca",
          "Cráneo Simple",
          "Tórax",
          "Pelvis",
          "Pelvis",
          "Tórax",
          "Tórax",
          "Femur",
          "Tórax",
          "Tórax",
          "Tórax",
          "Tórax",
          "Pierna",
          "Cráneo Simple",
          "Tórax",
          "Col Torácica",
          "Lumbar",
          "Lumbar",
          "Pie",
          "Rodilla",
          "Tórax",
          "Hombro",
          "Rodilla",
          "Rodilla",
          "Rodilla",
          "Tórax",
          "Tórax",
          "Tórax",
          "Hombro",
          "Pelvis",
          "Tórax",
          "Tórax",
          "Tórax",
          "Rodilla",
          "Rodilla",
          "Columna Panorámica",
          "Tórax",
          "Tórax",
          "Tórax",
          "Hombro",
          "Tórax",
          "Hombro",
          "Tórax",
          "Tórax",
          "Tórax",
          "Abdomen",
          "Abdomen",
          "Pelvis",
          "Hombro",
          "Mano",
          "Tórax",
          "Pierna",
          "Lumbar",
          "Col Torácica",
          "Tórax",
          "Tórax",
          "Tórax",
          "Tórax",
          "Col Torácica",
          "Pie",
          "Columna Panorámica",
          "Tórax",
          "Tobillo",
          "Lumbar",
          "Rodilla",
          "Pelvis",
          "Hombro",
          "Tórax",
          "Pie",
          "Tórax",
          "Pelvis",
          "Cervical",
          "Tórax",
          "Abdomen",
          "Tórax",
          "Tórax",
          "Pierna",
          "Rodilla",
          "Femur",
          "Rodilla",
          "Tórax",
          "Columna Panorámica",
          "Pelvis",
          "Tórax",
          "Abdomen",
          "Cabeza",
          "Tórax",
          "Tórax",
          "Cervical",
          "Tórax",
          "Húmero",
          "Tórax",
          "Tórax",
          "Hombro",
          "Tórax",
          "Tórax",
          "Tórax",
          "Columna Panorámica",
          "Rodilla",
          "Tórax",
          "Tórax",
          "Tórax",
          "Tórax",
          "Tórax",
          "Tórax",
          "Pelvis",
          "Tórax",
          "Tórax",
          "Tórax",
          "Pierna",
          "Hombro",
          "Tórax",
          "Columna Panorámica",
          "Lumbar",
          "Rodilla",
          "Hombro",
          "Huesos Cara",
          "Cervical",
          "Tórax",
          "Cervical",
          "Col Torácica",
          "Lumbar",
          "Rodilla",
          "Tórax",
          "Tórax",
          "Femur",
          "Columna Panorámica",
          "Mano",
          "Pelvis",
          "Tórax",
          "Tórax",
          "Tórax",
          "Pelvis",
          "Pelvis",
          "Pelvis",
          "Tobillo",
          "Tórax",
          "Hombro",
          "Lumbar",
          "Dorsal torácica",
          "Pelvis",
          "Rodilla",
          "Rodilla",
          "Goniometría Cervical",
          "Goniometría Dorsal",
          "Goniometría Lumbar",
          "Rodilla",
          "Tórax",
          "Tórax",
          "Tórax",
          "Goniometría Lumbar",
          "Tórax",
          "Mano",
          "Pelvis",
          "Rodilla",
          "Tórax",
          "Goniometría Lumbar",
          "Tobillo",
          "Pie",
          "Mano",
          "Tórax",
          "Tórax",
          "Tórax",
          "Abdomen",
          "Abdomen",
          "Rodilla",
          "Codo",
          "Tórax",
          "Tórax",
          "Dedos",
          "Tórax",
          "Rodilla",
          "Mastoides",
          "Pie",
          "Mano",
          "Tórax",
          "Lumbar",
          "Dorsal torácica",
          "Pelvis",
          "Rodilla",
          "Rodilla",
          "Goniometría Cervical",
          "Goniometría Dorsal",
          "Goniometría Lumbar",
          "Rodilla",
          "Tórax",
          "Tórax",
          "Tórax",
          "Goniometría Lumbar",
          "Tórax",
          "Mano",
          "Pelvis",
          "Rodilla",
          "Tórax",
          "Goniometría Lumbar",
          "Tobillo",
          "Pie",
          "Mano",
          "Tórax",
          "Tórax",
          "Tórax",
          "Abdomen"
         ],
         "y": [
          2.3,
          1.76,
          1.76,
          3.43,
          0.78,
          1.05,
          6.59,
          0.68,
          2.3,
          0.11,
          0.14,
          4.17,
          0.52,
          14.88,
          0.41,
          0.23,
          0.57,
          5.21,
          0.77,
          1.1,
          0.37,
          0.16,
          0.3,
          1.28,
          3.58,
          1.01,
          2.6,
          0.44,
          0.79,
          0.79,
          5.1,
          0.36,
          3.38,
          0.36,
          4.49,
          1.64,
          0.94,
          4.59,
          6.58,
          5.75,
          1.12,
          14.16,
          0.37,
          1.53,
          2.03,
          7.59,
          14.16,
          0.43,
          0.83,
          1.39,
          9.25,
          2.26,
          0.59,
          0.78,
          0.82,
          1.23,
          0.76,
          0.17,
          0.46,
          4.22,
          0.57,
          0.99,
          0.87,
          2.54,
          0.87,
          0.69,
          43.68,
          1.73,
          0.53,
          0.28,
          0.49,
          2.7,
          37.15,
          0.06,
          0.35,
          0.35,
          0.05,
          0.46,
          0.67,
          4.98,
          7.24,
          0.11,
          0.29,
          0.5,
          0.09,
          0.74,
          0.69,
          0.33,
          0.1,
          0.35,
          0.32,
          0.42,
          0.68,
          0.39,
          0.46,
          0.33,
          0.41,
          0.3,
          0.23,
          1.29,
          2.24,
          2.53,
          0.32,
          1.05,
          11.059999999999999,
          1.91,
          0.54,
          3.97,
          0.45,
          0.81,
          2.02,
          3.65,
          0.33,
          0.33,
          0.2,
          0.18,
          0.2,
          0.19,
          4.77,
          0.54,
          0.27,
          0.27,
          4.99,
          0.12,
          0.31,
          0.25,
          0.76,
          0.84,
          1.28,
          0.98,
          0.58,
          0.43,
          47.81,
          6.63,
          6.63,
          20.69,
          5.75,
          0.48,
          0.48,
          0.76,
          0.46,
          1.29,
          0.87,
          0.59,
          1.22,
          1.01,
          9.96,
          53.16,
          4.39,
          15.5,
          0.48,
          0.57,
          1.11,
          0.62,
          1.11,
          0.79,
          0.77,
          0.19,
          0.16,
          0.06,
          0.44,
          0.49,
          3.45,
          0.38,
          0.36,
          0.36,
          1.4,
          0.43,
          0.57,
          0.39,
          0.54,
          1.72,
          0.33,
          0.61,
          0.49,
          1.6,
          4.21,
          0.39,
          3.99,
          1.35,
          0.67,
          0.49,
          4.31,
          0.26,
          9.57,
          0.2,
          9.57,
          0.17,
          0.26,
          0.25,
          0.41,
          0.88,
          5.12,
          0.19,
          0.5,
          0.42,
          0.04,
          0.04,
          5.56,
          0.59,
          0.29,
          0.71,
          5.56,
          1.92,
          9.18,
          1.57,
          0.42,
          1.08,
          0.44,
          0.04,
          0.54,
          0.6,
          0.14,
          0.37,
          3.34,
          5.92,
          6.35,
          0.23,
          0.28,
          9.2,
          0.15,
          4.54,
          3.28,
          0.51,
          7.49,
          0.5,
          1.08,
          3.03,
          9.48,
          18.28,
          0.46,
          67.29,
          0.46,
          0.6,
          0.22,
          0.32,
          1.38,
          0.23,
          0.27,
          0.1,
          2.87,
          14.58,
          0.42,
          0.75,
          0.86,
          4.06,
          3.46,
          3.46,
          31.89,
          0.42,
          0.21,
          31.89,
          4.17,
          4.73,
          2.36,
          0.15,
          1,
          1.26,
          1.14,
          0.31,
          0.31000000000000005,
          0.15,
          2.09,
          0.13,
          0.28,
          1.15,
          0.87,
          0.15,
          0.31,
          0.31,
          0.9,
          2.95,
          0.32,
          0.49,
          0.14,
          1.22,
          2.02,
          3.63,
          25.92,
          29.35,
          14.35,
          3.34,
          0.53,
          8.69,
          0.06,
          0.06,
          2.81,
          0.54,
          0.08,
          0.43,
          0.31,
          0.35,
          0.35,
          4.49,
          0.25,
          0.34,
          0.22,
          0.45,
          0.25,
          0.26,
          0.48,
          0.55,
          0.13,
          0.54,
          3.08,
          12.8,
          12.8,
          42.14,
          26.93,
          7.29,
          0.28,
          0.5,
          1.03,
          0.5,
          0.86,
          9.14,
          10.55,
          0.48,
          0.94,
          0.28,
          0.64,
          0.64,
          0.5,
          0.26,
          0.58,
          0.12,
          0.32,
          0.29,
          0.28,
          0.66,
          1.08,
          0.25,
          0.81,
          0.71,
          0.3,
          12.21,
          0.42,
          0.47,
          16.53,
          0.8,
          2.36,
          2.48,
          3.47,
          8.91,
          0.15,
          0.1,
          2.71,
          1.29,
          10.05,
          0.05,
          0.06,
          0.59,
          0.59,
          0.7,
          9.88,
          0.45,
          1.38,
          0.93,
          3.09,
          0.9,
          0.17,
          0.37,
          0.37,
          0.06,
          0.43,
          0.16,
          0.57,
          1.17,
          1.03,
          0.66,
          0.06,
          0.18,
          0.3,
          0.61,
          0.25,
          0.73,
          0.91,
          2.58,
          1.12,
          0.2,
          0.3,
          0.66,
          0.29,
          0.38,
          0.66,
          0.68,
          0.17,
          19.88,
          34.49,
          1.49,
          33.81,
          0.84,
          1.19,
          0.42,
          0.21,
          5.58,
          30.99,
          5.02,
          6.47,
          0.2,
          0.19,
          0.39,
          0.71,
          0.32,
          3.42,
          0.68,
          0.19,
          0.46,
          0.84,
          32.23,
          8.44,
          12.59,
          4.5,
          14.78,
          7.9,
          1.66,
          0.4,
          0.6,
          13.19,
          0.6,
          2.07,
          4.01,
          0.43,
          0.38,
          0.26,
          0.3,
          0.57,
          0.25,
          5.83,
          0.46,
          2.89,
          0.81,
          4.33,
          17.85,
          0.09,
          0.7,
          15.45,
          0.46,
          1.46,
          0.74,
          0.08,
          0.89,
          3.01,
          9.87,
          10.19,
          0,
          0.48,
          2.67,
          0.09,
          0.08,
          0.08,
          0.08,
          1.91,
          12.94,
          0.14,
          0.23,
          1.48,
          1.14,
          0.39,
          0.4,
          23.63,
          14.4,
          125.17,
          4.37,
          6.15,
          6.15,
          6.54,
          8.05,
          160.28,
          25.94,
          10.13,
          8.07,
          36.76,
          36.76,
          40.25,
          40.25,
          40.25,
          38.59,
          30.87,
          2.91,
          0.66,
          0.93,
          0.98,
          0.65,
          0.23,
          6.68,
          19,
          7.46,
          7.51,
          26.26,
          18.58,
          5.49,
          0.32,
          0.24,
          7.76,
          0.3,
          0.32,
          0.93,
          0.93,
          0.93,
          0.55,
          0.65,
          0.39,
          0.2,
          0.66,
          41.73,
          7.21,
          0.74,
          5.76,
          28.52,
          16.08,
          0.34,
          2.5,
          0.56,
          2.29,
          0.57,
          0.7,
          0.7,
          0.08,
          0.08,
          0.37,
          10.68,
          6.470000000000001,
          0.37,
          12.8,
          0.21,
          0.28,
          0.24,
          0.25,
          1.15,
          1.29,
          3.95,
          0.68,
          1.03,
          0.69,
          0.11,
          31.89,
          2.49,
          0.29,
          0.05,
          14.72,
          14.72,
          10.21,
          10.21,
          2.06,
          1.82,
          1.82,
          7.3,
          24.02,
          24.02,
          9.51,
          4.05,
          8.42,
          3.58,
          5.84,
          23.79,
          5.35,
          32.08,
          4.53,
          0.36,
          0.16,
          0.19,
          0.46,
          0.46,
          0.52,
          1.36,
          2.54,
          0.19,
          0.48,
          11.57,
          1.03,
          0.48,
          7,
          7,
          5.13,
          16.45,
          16.45,
          0.65,
          0.46,
          0.29,
          0.46,
          40.09,
          6.91,
          0.19,
          1.42,
          0.55,
          15.48,
          0.48,
          2.11,
          0.57,
          3.09,
          0.19,
          0.69,
          9.05,
          2.02,
          0.48,
          0.1,
          0.1,
          0.85,
          0.38,
          0.65,
          0.12,
          0.11,
          1.86,
          4.05,
          0.91,
          0.77,
          0.3,
          7.76,
          0.46,
          0.4,
          0.3,
          0.3,
          0.93,
          10.28,
          0.98,
          0.21,
          1.57,
          0.32,
          0.37,
          0.12,
          0.3,
          0.38,
          1.43,
          0.38,
          0.19,
          0.18,
          0.22,
          0.13,
          0.16,
          0.32,
          6.08,
          1.41,
          2.62,
          0.16,
          1.08,
          0.81,
          7.93,
          26.82,
          7.95,
          38.69,
          5.61,
          5.61,
          1.71,
          18.86,
          0.67,
          0.1,
          0.6,
          1.2,
          16.2,
          13.51,
          12.98,
          11.09,
          3.26,
          4.99,
          5.33,
          6.95,
          5.42,
          4.63,
          7.32,
          6.16,
          12.85,
          6.33,
          2.83,
          13.65,
          2.3,
          2.3,
          5.9,
          5.71,
          7.33,
          2.24,
          2.24,
          0.15,
          1.43,
          0.47,
          0.54,
          0.37,
          0.49,
          0.59,
          2.99,
          0.07,
          0.06,
          0.64,
          0.1,
          0.24,
          0.97,
          1.05,
          0.36,
          0.42,
          0.34,
          0.52,
          2.22,
          0.48,
          0.48,
          0.8,
          0.49,
          0.48,
          0.42,
          0.68,
          0.48,
          4.03,
          5.86,
          10.06,
          6.71,
          0.64,
          1.21,
          2.31,
          11.22,
          3.74,
          0.06,
          0.61,
          0.61,
          0.06,
          0.39,
          0.39,
          2.35,
          0.59,
          0.26,
          2.26,
          0.12,
          0.12,
          1.73,
          0.32,
          0.32,
          0.13,
          0.13,
          1.31,
          1.32,
          0.52,
          0.3,
          0.26,
          0.5,
          0.48,
          25.95,
          4.94,
          27.65,
          5.56,
          3.77,
          0.59,
          0.5,
          0.5,
          0.15,
          0.39,
          0.11,
          1.66,
          0.31,
          0.31,
          0.32,
          0.8,
          1.06,
          2.97,
          0.19,
          1.07,
          27.37,
          0.52,
          0.8,
          0.8,
          0,
          0.06,
          0.31,
          7.82,
          3.23,
          1.11,
          0.27,
          0.29,
          0.42,
          0.33,
          0.25,
          3.6,
          0.65,
          0.38,
          0.5,
          0.11,
          0.25,
          0.37,
          0.41,
          0.82,
          0.98,
          0.18,
          0.25,
          0.39,
          2.46,
          4.85,
          18.72,
          0.42,
          9.48,
          22.75,
          0.16,
          0.5,
          9.7,
          0.42,
          26.59,
          1.83,
          0.1,
          0.43,
          0.5,
          1.94,
          23.12,
          0.64,
          0.71,
          0.62,
          0.22,
          1.19,
          1.67,
          0.98,
          0.18,
          0.34,
          2.93,
          1.08,
          0.42,
          0.12,
          0.26,
          0.41,
          0.26,
          0.83,
          0.83,
          10.21,
          0.7,
          12.3,
          0.68,
          0.07,
          0.30000000000000004,
          0.21,
          2.62,
          0.31,
          0.63,
          0.79,
          16.25,
          5.38,
          0.4,
          28.43,
          4.87,
          2.37,
          1.31,
          0.09,
          5.68,
          2.21,
          0.06,
          0.51,
          0.43,
          2.25,
          0.69,
          0.06,
          0.54,
          0.14,
          0.35,
          0.06,
          0.75,
          0.53,
          0.26,
          0.26,
          0.14,
          0.04,
          7.85,
          4.2,
          3.89,
          20.38,
          1.84,
          0.38,
          11.06,
          0.27,
          0.47,
          0.41,
          0.23,
          0.34,
          2.07,
          0.29,
          0.1,
          0.06,
          5.68,
          0.48,
          0.06,
          2.41,
          1.82,
          0.61,
          1.51,
          0.06,
          0.09,
          5.69,
          0.31,
          0.66,
          0.75,
          0.23,
          0.23,
          2.9,
          0.84,
          0.46,
          1.18,
          0.82,
          35.61,
          7.62,
          0.52,
          2.89,
          1.19,
          5.68,
          0.92,
          0.92,
          0.7,
          0.15,
          0.09,
          0.06,
          0.06,
          0.88,
          0.36,
          2.93,
          0.42,
          1.01,
          0.11,
          0.75,
          0.23,
          0.62,
          0.65,
          0.8,
          0.7,
          0.33,
          0.33,
          1.77,
          0.36,
          0.53,
          0.54,
          0.3,
          1.19,
          1.29,
          0.9,
          0.51,
          2.13,
          5.41,
          5.41,
          0.8,
          0.8,
          0.19,
          0.14,
          0.32,
          2.81,
          0.71,
          10.34,
          0.1,
          0.14,
          0.11,
          0.12,
          0.18,
          0.18,
          0.73,
          0.84,
          0.71,
          0.67,
          2.77,
          1.87,
          4.05,
          1.53,
          0.73,
          0.44,
          0.31,
          0.43,
          0.43,
          4.25,
          0.26,
          1.24,
          5.18,
          0.07,
          0.69,
          0.3,
          0.68,
          8.72,
          0.5,
          3.55,
          3.07,
          3.55,
          1.15,
          0.64,
          0.19,
          0.19,
          0.13,
          0.11,
          3.06,
          0.21,
          0.98,
          0.65,
          3.45,
          0.14,
          1.01,
          0.33,
          1.37,
          7.9,
          7.9,
          0.43,
          0.15,
          0.87,
          5.45,
          0.92,
          2.55,
          18.32,
          5.91,
          5.91,
          28,
          11.46,
          11.46,
          9.65,
          0.46,
          0.09,
          1.75,
          0.35,
          0.23,
          0.26,
          0.94,
          5.52,
          4.46,
          0.06,
          0.25,
          0.68,
          1.87,
          12.16,
          0.17,
          0.17,
          0.39,
          0.59,
          0.32,
          4.94,
          0.11,
          1.04,
          0.62,
          0.86,
          0.86,
          0.33,
          0.33,
          3.77,
          0.74,
          0.13,
          0.47,
          0.37,
          0.51,
          1.3,
          1.01,
          2.73,
          7.16,
          0.39,
          0.54,
          0.41,
          0.51,
          3.22,
          1.68,
          0.09,
          0.88,
          0.57,
          0.57,
          0.45,
          1.99,
          3.29,
          0.7,
          0.45,
          0.37,
          0.59,
          0.64,
          6.06,
          0.39,
          0.2,
          0.28,
          2.07,
          0.28,
          1.08,
          0.75,
          0.76,
          0.07,
          6.83,
          4.44,
          2.5,
          0.68,
          0.08,
          0.65,
          0.11,
          4.58,
          2.12,
          0.22,
          0.61,
          0.38,
          0.38,
          1,
          0.11,
          2.83,
          0.21,
          0.17,
          6.07,
          0.17,
          1.96,
          1.88,
          0.22,
          0.08,
          0.25,
          2.16,
          3.64,
          0.22,
          1.15,
          0.34,
          0.22,
          0.55,
          0.29,
          0.41,
          0.29,
          0.89,
          18.77,
          6.21,
          0.66,
          2.11,
          0.58,
          0.63,
          0.8,
          0.85,
          0.09,
          0.2,
          0.7,
          1.42,
          1.99,
          0.1,
          0.29,
          0.29,
          6.23,
          0.42,
          0.1,
          0.1,
          0.32,
          0.76,
          0.7,
          0.65,
          5.76,
          0.36,
          0.34,
          0.3,
          0.48,
          0.85,
          0.64,
          2.36,
          6.35,
          0.08,
          2.82,
          1.81,
          0.88,
          0.23,
          1.46,
          2.27,
          5.06,
          0,
          0.25,
          0.25,
          0.3,
          2.99,
          0.06,
          1.5,
          0.76,
          0.76,
          0.38,
          1.7,
          2.75,
          0,
          0.14,
          0.1,
          1.52,
          10.21,
          10.3,
          9.1,
          1.7,
          1.7,
          1.95,
          6.74,
          10.66,
          0.16,
          0.47,
          0.47,
          0.24,
          8.07,
          0.27,
          0.16,
          1.93,
          0.37,
          0.33,
          5.01,
          0.28,
          0.16,
          0.14,
          0.28,
          0.48,
          0.56,
          1.08,
          1.08,
          1.09,
          0.96,
          0.75,
          0.3,
          0.16,
          6.45,
          0.32,
          0.37,
          0.09,
          0.06,
          0.36,
          10.21,
          10.3,
          9.1,
          1.7,
          1.7,
          1.95,
          6.74,
          10.66,
          0.16,
          0.47,
          0.47,
          0.24,
          8.07,
          0.27,
          0.16,
          1.93,
          0.37,
          0.33,
          5.01,
          0.28,
          0.16,
          0.14,
          0.28,
          0.48,
          0.56,
          1.08
         ]
        }
       ],
       "layout": {
        "template": {
         "data": {
          "bar": [
           {
            "error_x": {
             "color": "#2a3f5f"
            },
            "error_y": {
             "color": "#2a3f5f"
            },
            "marker": {
             "line": {
              "color": "#E5ECF6",
              "width": 0.5
             },
             "pattern": {
              "fillmode": "overlay",
              "size": 10,
              "solidity": 0.2
             }
            },
            "type": "bar"
           }
          ],
          "barpolar": [
           {
            "marker": {
             "line": {
              "color": "#E5ECF6",
              "width": 0.5
             },
             "pattern": {
              "fillmode": "overlay",
              "size": 10,
              "solidity": 0.2
             }
            },
            "type": "barpolar"
           }
          ],
          "carpet": [
           {
            "aaxis": {
             "endlinecolor": "#2a3f5f",
             "gridcolor": "white",
             "linecolor": "white",
             "minorgridcolor": "white",
             "startlinecolor": "#2a3f5f"
            },
            "baxis": {
             "endlinecolor": "#2a3f5f",
             "gridcolor": "white",
             "linecolor": "white",
             "minorgridcolor": "white",
             "startlinecolor": "#2a3f5f"
            },
            "type": "carpet"
           }
          ],
          "choropleth": [
           {
            "colorbar": {
             "outlinewidth": 0,
             "ticks": ""
            },
            "type": "choropleth"
           }
          ],
          "contour": [
           {
            "colorbar": {
             "outlinewidth": 0,
             "ticks": ""
            },
            "colorscale": [
             [
              0,
              "#0d0887"
             ],
             [
              0.1111111111111111,
              "#46039f"
             ],
             [
              0.2222222222222222,
              "#7201a8"
             ],
             [
              0.3333333333333333,
              "#9c179e"
             ],
             [
              0.4444444444444444,
              "#bd3786"
             ],
             [
              0.5555555555555556,
              "#d8576b"
             ],
             [
              0.6666666666666666,
              "#ed7953"
             ],
             [
              0.7777777777777778,
              "#fb9f3a"
             ],
             [
              0.8888888888888888,
              "#fdca26"
             ],
             [
              1,
              "#f0f921"
             ]
            ],
            "type": "contour"
           }
          ],
          "contourcarpet": [
           {
            "colorbar": {
             "outlinewidth": 0,
             "ticks": ""
            },
            "type": "contourcarpet"
           }
          ],
          "heatmap": [
           {
            "colorbar": {
             "outlinewidth": 0,
             "ticks": ""
            },
            "colorscale": [
             [
              0,
              "#0d0887"
             ],
             [
              0.1111111111111111,
              "#46039f"
             ],
             [
              0.2222222222222222,
              "#7201a8"
             ],
             [
              0.3333333333333333,
              "#9c179e"
             ],
             [
              0.4444444444444444,
              "#bd3786"
             ],
             [
              0.5555555555555556,
              "#d8576b"
             ],
             [
              0.6666666666666666,
              "#ed7953"
             ],
             [
              0.7777777777777778,
              "#fb9f3a"
             ],
             [
              0.8888888888888888,
              "#fdca26"
             ],
             [
              1,
              "#f0f921"
             ]
            ],
            "type": "heatmap"
           }
          ],
          "heatmapgl": [
           {
            "colorbar": {
             "outlinewidth": 0,
             "ticks": ""
            },
            "colorscale": [
             [
              0,
              "#0d0887"
             ],
             [
              0.1111111111111111,
              "#46039f"
             ],
             [
              0.2222222222222222,
              "#7201a8"
             ],
             [
              0.3333333333333333,
              "#9c179e"
             ],
             [
              0.4444444444444444,
              "#bd3786"
             ],
             [
              0.5555555555555556,
              "#d8576b"
             ],
             [
              0.6666666666666666,
              "#ed7953"
             ],
             [
              0.7777777777777778,
              "#fb9f3a"
             ],
             [
              0.8888888888888888,
              "#fdca26"
             ],
             [
              1,
              "#f0f921"
             ]
            ],
            "type": "heatmapgl"
           }
          ],
          "histogram": [
           {
            "marker": {
             "pattern": {
              "fillmode": "overlay",
              "size": 10,
              "solidity": 0.2
             }
            },
            "type": "histogram"
           }
          ],
          "histogram2d": [
           {
            "colorbar": {
             "outlinewidth": 0,
             "ticks": ""
            },
            "colorscale": [
             [
              0,
              "#0d0887"
             ],
             [
              0.1111111111111111,
              "#46039f"
             ],
             [
              0.2222222222222222,
              "#7201a8"
             ],
             [
              0.3333333333333333,
              "#9c179e"
             ],
             [
              0.4444444444444444,
              "#bd3786"
             ],
             [
              0.5555555555555556,
              "#d8576b"
             ],
             [
              0.6666666666666666,
              "#ed7953"
             ],
             [
              0.7777777777777778,
              "#fb9f3a"
             ],
             [
              0.8888888888888888,
              "#fdca26"
             ],
             [
              1,
              "#f0f921"
             ]
            ],
            "type": "histogram2d"
           }
          ],
          "histogram2dcontour": [
           {
            "colorbar": {
             "outlinewidth": 0,
             "ticks": ""
            },
            "colorscale": [
             [
              0,
              "#0d0887"
             ],
             [
              0.1111111111111111,
              "#46039f"
             ],
             [
              0.2222222222222222,
              "#7201a8"
             ],
             [
              0.3333333333333333,
              "#9c179e"
             ],
             [
              0.4444444444444444,
              "#bd3786"
             ],
             [
              0.5555555555555556,
              "#d8576b"
             ],
             [
              0.6666666666666666,
              "#ed7953"
             ],
             [
              0.7777777777777778,
              "#fb9f3a"
             ],
             [
              0.8888888888888888,
              "#fdca26"
             ],
             [
              1,
              "#f0f921"
             ]
            ],
            "type": "histogram2dcontour"
           }
          ],
          "mesh3d": [
           {
            "colorbar": {
             "outlinewidth": 0,
             "ticks": ""
            },
            "type": "mesh3d"
           }
          ],
          "parcoords": [
           {
            "line": {
             "colorbar": {
              "outlinewidth": 0,
              "ticks": ""
             }
            },
            "type": "parcoords"
           }
          ],
          "pie": [
           {
            "automargin": true,
            "type": "pie"
           }
          ],
          "scatter": [
           {
            "fillpattern": {
             "fillmode": "overlay",
             "size": 10,
             "solidity": 0.2
            },
            "type": "scatter"
           }
          ],
          "scatter3d": [
           {
            "line": {
             "colorbar": {
              "outlinewidth": 0,
              "ticks": ""
             }
            },
            "marker": {
             "colorbar": {
              "outlinewidth": 0,
              "ticks": ""
             }
            },
            "type": "scatter3d"
           }
          ],
          "scattercarpet": [
           {
            "marker": {
             "colorbar": {
              "outlinewidth": 0,
              "ticks": ""
             }
            },
            "type": "scattercarpet"
           }
          ],
          "scattergeo": [
           {
            "marker": {
             "colorbar": {
              "outlinewidth": 0,
              "ticks": ""
             }
            },
            "type": "scattergeo"
           }
          ],
          "scattergl": [
           {
            "marker": {
             "colorbar": {
              "outlinewidth": 0,
              "ticks": ""
             }
            },
            "type": "scattergl"
           }
          ],
          "scattermapbox": [
           {
            "marker": {
             "colorbar": {
              "outlinewidth": 0,
              "ticks": ""
             }
            },
            "type": "scattermapbox"
           }
          ],
          "scatterpolar": [
           {
            "marker": {
             "colorbar": {
              "outlinewidth": 0,
              "ticks": ""
             }
            },
            "type": "scatterpolar"
           }
          ],
          "scatterpolargl": [
           {
            "marker": {
             "colorbar": {
              "outlinewidth": 0,
              "ticks": ""
             }
            },
            "type": "scatterpolargl"
           }
          ],
          "scatterternary": [
           {
            "marker": {
             "colorbar": {
              "outlinewidth": 0,
              "ticks": ""
             }
            },
            "type": "scatterternary"
           }
          ],
          "surface": [
           {
            "colorbar": {
             "outlinewidth": 0,
             "ticks": ""
            },
            "colorscale": [
             [
              0,
              "#0d0887"
             ],
             [
              0.1111111111111111,
              "#46039f"
             ],
             [
              0.2222222222222222,
              "#7201a8"
             ],
             [
              0.3333333333333333,
              "#9c179e"
             ],
             [
              0.4444444444444444,
              "#bd3786"
             ],
             [
              0.5555555555555556,
              "#d8576b"
             ],
             [
              0.6666666666666666,
              "#ed7953"
             ],
             [
              0.7777777777777778,
              "#fb9f3a"
             ],
             [
              0.8888888888888888,
              "#fdca26"
             ],
             [
              1,
              "#f0f921"
             ]
            ],
            "type": "surface"
           }
          ],
          "table": [
           {
            "cells": {
             "fill": {
              "color": "#EBF0F8"
             },
             "line": {
              "color": "white"
             }
            },
            "header": {
             "fill": {
              "color": "#C8D4E3"
             },
             "line": {
              "color": "white"
             }
            },
            "type": "table"
           }
          ]
         },
         "layout": {
          "annotationdefaults": {
           "arrowcolor": "#2a3f5f",
           "arrowhead": 0,
           "arrowwidth": 1
          },
          "autotypenumbers": "strict",
          "coloraxis": {
           "colorbar": {
            "outlinewidth": 0,
            "ticks": ""
           }
          },
          "colorscale": {
           "diverging": [
            [
             0,
             "#8e0152"
            ],
            [
             0.1,
             "#c51b7d"
            ],
            [
             0.2,
             "#de77ae"
            ],
            [
             0.3,
             "#f1b6da"
            ],
            [
             0.4,
             "#fde0ef"
            ],
            [
             0.5,
             "#f7f7f7"
            ],
            [
             0.6,
             "#e6f5d0"
            ],
            [
             0.7,
             "#b8e186"
            ],
            [
             0.8,
             "#7fbc41"
            ],
            [
             0.9,
             "#4d9221"
            ],
            [
             1,
             "#276419"
            ]
           ],
           "sequential": [
            [
             0,
             "#0d0887"
            ],
            [
             0.1111111111111111,
             "#46039f"
            ],
            [
             0.2222222222222222,
             "#7201a8"
            ],
            [
             0.3333333333333333,
             "#9c179e"
            ],
            [
             0.4444444444444444,
             "#bd3786"
            ],
            [
             0.5555555555555556,
             "#d8576b"
            ],
            [
             0.6666666666666666,
             "#ed7953"
            ],
            [
             0.7777777777777778,
             "#fb9f3a"
            ],
            [
             0.8888888888888888,
             "#fdca26"
            ],
            [
             1,
             "#f0f921"
            ]
           ],
           "sequentialminus": [
            [
             0,
             "#0d0887"
            ],
            [
             0.1111111111111111,
             "#46039f"
            ],
            [
             0.2222222222222222,
             "#7201a8"
            ],
            [
             0.3333333333333333,
             "#9c179e"
            ],
            [
             0.4444444444444444,
             "#bd3786"
            ],
            [
             0.5555555555555556,
             "#d8576b"
            ],
            [
             0.6666666666666666,
             "#ed7953"
            ],
            [
             0.7777777777777778,
             "#fb9f3a"
            ],
            [
             0.8888888888888888,
             "#fdca26"
            ],
            [
             1,
             "#f0f921"
            ]
           ]
          },
          "colorway": [
           "#636efa",
           "#EF553B",
           "#00cc96",
           "#ab63fa",
           "#FFA15A",
           "#19d3f3",
           "#FF6692",
           "#B6E880",
           "#FF97FF",
           "#FECB52"
          ],
          "font": {
           "color": "#2a3f5f"
          },
          "geo": {
           "bgcolor": "white",
           "lakecolor": "white",
           "landcolor": "#E5ECF6",
           "showlakes": true,
           "showland": true,
           "subunitcolor": "white"
          },
          "hoverlabel": {
           "align": "left"
          },
          "hovermode": "closest",
          "mapbox": {
           "style": "light"
          },
          "paper_bgcolor": "white",
          "plot_bgcolor": "#E5ECF6",
          "polar": {
           "angularaxis": {
            "gridcolor": "white",
            "linecolor": "white",
            "ticks": ""
           },
           "bgcolor": "#E5ECF6",
           "radialaxis": {
            "gridcolor": "white",
            "linecolor": "white",
            "ticks": ""
           }
          },
          "scene": {
           "xaxis": {
            "backgroundcolor": "#E5ECF6",
            "gridcolor": "white",
            "gridwidth": 2,
            "linecolor": "white",
            "showbackground": true,
            "ticks": "",
            "zerolinecolor": "white"
           },
           "yaxis": {
            "backgroundcolor": "#E5ECF6",
            "gridcolor": "white",
            "gridwidth": 2,
            "linecolor": "white",
            "showbackground": true,
            "ticks": "",
            "zerolinecolor": "white"
           },
           "zaxis": {
            "backgroundcolor": "#E5ECF6",
            "gridcolor": "white",
            "gridwidth": 2,
            "linecolor": "white",
            "showbackground": true,
            "ticks": "",
            "zerolinecolor": "white"
           }
          },
          "shapedefaults": {
           "line": {
            "color": "#2a3f5f"
           }
          },
          "ternary": {
           "aaxis": {
            "gridcolor": "white",
            "linecolor": "white",
            "ticks": ""
           },
           "baxis": {
            "gridcolor": "white",
            "linecolor": "white",
            "ticks": ""
           },
           "bgcolor": "#E5ECF6",
           "caxis": {
            "gridcolor": "white",
            "linecolor": "white",
            "ticks": ""
           }
          },
          "title": {
           "x": 0.05
          },
          "xaxis": {
           "automargin": true,
           "gridcolor": "white",
           "linecolor": "white",
           "ticks": "",
           "title": {
            "standoff": 15
           },
           "zerolinecolor": "white",
           "zerolinewidth": 2
          },
          "yaxis": {
           "automargin": true,
           "gridcolor": "white",
           "linecolor": "white",
           "ticks": "",
           "title": {
            "standoff": 15
           },
           "zerolinecolor": "white",
           "zerolinewidth": 2
          }
         }
        },
        "title": {
         "text": "Distribución de 'Dosis Total [mGy]' por procedimiento (boxplots)"
        },
        "xaxis": {
         "categoryarray": [
          "Mano",
          "Muñeca",
          "Dedos",
          "Tobillo",
          "Pie",
          "Calcáneo",
          "Antebrazo",
          "Codo",
          "Mastoides",
          "Femur",
          "Tórax",
          "Pierna",
          "Cabeza",
          "Tórax Portatil",
          "Rodilla",
          "Cara",
          "Húmero",
          "Clavícula",
          "Huesos Nasales",
          "Cráneo Simple",
          "Cráneo",
          "Cervical",
          "Reja costal",
          "Órbitas",
          "Fémur",
          "Hombro",
          "Huesos Cara",
          "Col Torácica",
          "Goniometría Cervical",
          "Reja Costal",
          "Dorsal torácica",
          "Abdomen",
          "Abdomen simple",
          "Senos Paranasales",
          "Panorámica M. Inferiores",
          "Pelvis",
          "Columna Panorámica",
          "Sacro",
          "Lumbar",
          "Goniometría Dorsal",
          "Goniometría Lumbar"
         ],
         "categoryorder": "array",
         "title": {
          "text": "Estudio"
         }
        },
        "yaxis": {
         "title": {
          "text": "Dosis Total [mGy]"
         }
        }
       }
      }
     },
     "metadata": {},
     "output_type": "display_data"
    }
   ],
   "source": [
    "#quitamos los Nan de df_completo en la columna \"Dosis Total [mGy]\"\n",
    "df_completo_sin_NAN = df_completo.dropna(subset=[\"Dosis Total [mGy]\"])\n",
    "# Normalizar columna Estudio\n",
    "df_completo_sin_NAN[\"Estudio\"] = df_completo_sin_NAN[\"Estudio\"].str.strip()  # quita espacios adelante/atrás\n",
    "df_completo_sin_NAN[\"Estudio\"] = df_completo_sin_NAN[\"Estudio\"].replace({\n",
    "    \"Pelvis Cadera\": \"Pelvis\",\n",
    "    \"Col Lumbar\": \"Lumbar\"\n",
    "})\n",
    "\n",
    "#grafica\n",
    "orden = (df_completo_sin_NAN\n",
    "         .groupby(\"Estudio\")[\"Dosis Total [mGy]\"]\n",
    "         .median()\n",
    "         .sort_values()\n",
    "         .index\n",
    "         .tolist())\n",
    "fig = go.Figure()\n",
    "fig.add_trace(go.Box(\n",
    "    x=df_completo_sin_NAN[\"Estudio\"],      # categorías (un box por Estudio)\n",
    "    y=df_completo_sin_NAN[\"Dosis Total [mGy]\"],        # valores\n",
    "    name=\"Dosis Total [mGy]\",\n",
    "    boxpoints=\"outliers\",               # muestra solo outliers (usa \"all\" para todos los puntos)\n",
    "    boxmean=True                        # dibuja la media (usa \"sd\" para mostrar también ±1 SD)\n",
    "))\n",
    "\n",
    "fig.update_layout(\n",
    "    title=\"Distribución de 'Dosis Total [mGy]' por procedimiento (boxplots)\",\n",
    "    xaxis_title=\"Estudio\",\n",
    "    yaxis_title=\"Dosis Total [mGy]\",\n",
    ")\n",
    "\n",
    "# aplica el orden por mediana en el eje X (quita esta línea si no quieres reordenar)\n",
    "fig.update_xaxes(categoryorder=\"array\", categoryarray=orden)\n",
    "\n",
    "fig.show()"
   ]
  },
  {
   "cell_type": "code",
   "execution_count": 468,
   "id": "f9afc6a5",
   "metadata": {},
   "outputs": [
    {
     "data": {
      "application/vnd.plotly.v1+json": {
       "config": {
        "plotlyServerURL": "https://plot.ly"
       },
       "data": [
        {
         "name": "Cantidad de Procedimientos",
         "type": "bar",
         "x": [
          "Tórax",
          "Pelvis",
          "Rodilla",
          "Mano",
          "Abdomen",
          "Lumbar",
          "Hombro",
          "Pie",
          "Goniometría Lumbar",
          "Muñeca",
          "Cervical",
          "Pierna",
          "Tobillo",
          "Reja Costal",
          "Fémur",
          "Panorámica M. Inferiores",
          "Dorsal torácica",
          "Goniometría Dorsal",
          "Columna Panorámica",
          "Antebrazo",
          "Tórax Portatil",
          "Codo",
          "Cráneo",
          "Col Torácica",
          "Goniometría Cervical",
          "Húmero",
          "Clavícula",
          "Femur",
          "Senos Paranasales",
          "Cráneo Simple",
          "Cabeza",
          "Huesos Cara",
          "Dedos",
          "Reja costal",
          "Huesos Nasales",
          "Abdomen simple",
          "Sacro",
          "Órbitas",
          "Calcáneo",
          "Cara",
          "Mastoides"
         ],
         "y": [
          406,
          93,
          79,
          73,
          53,
          49,
          49,
          45,
          28,
          27,
          20,
          17,
          17,
          15,
          12,
          11,
          10,
          9,
          9,
          8,
          8,
          7,
          6,
          6,
          5,
          5,
          3,
          3,
          2,
          2,
          1,
          1,
          1,
          1,
          1,
          1,
          1,
          1,
          1,
          1,
          1
         ]
        }
       ],
       "layout": {
        "template": {
         "data": {
          "bar": [
           {
            "error_x": {
             "color": "#2a3f5f"
            },
            "error_y": {
             "color": "#2a3f5f"
            },
            "marker": {
             "line": {
              "color": "#E5ECF6",
              "width": 0.5
             },
             "pattern": {
              "fillmode": "overlay",
              "size": 10,
              "solidity": 0.2
             }
            },
            "type": "bar"
           }
          ],
          "barpolar": [
           {
            "marker": {
             "line": {
              "color": "#E5ECF6",
              "width": 0.5
             },
             "pattern": {
              "fillmode": "overlay",
              "size": 10,
              "solidity": 0.2
             }
            },
            "type": "barpolar"
           }
          ],
          "carpet": [
           {
            "aaxis": {
             "endlinecolor": "#2a3f5f",
             "gridcolor": "white",
             "linecolor": "white",
             "minorgridcolor": "white",
             "startlinecolor": "#2a3f5f"
            },
            "baxis": {
             "endlinecolor": "#2a3f5f",
             "gridcolor": "white",
             "linecolor": "white",
             "minorgridcolor": "white",
             "startlinecolor": "#2a3f5f"
            },
            "type": "carpet"
           }
          ],
          "choropleth": [
           {
            "colorbar": {
             "outlinewidth": 0,
             "ticks": ""
            },
            "type": "choropleth"
           }
          ],
          "contour": [
           {
            "colorbar": {
             "outlinewidth": 0,
             "ticks": ""
            },
            "colorscale": [
             [
              0,
              "#0d0887"
             ],
             [
              0.1111111111111111,
              "#46039f"
             ],
             [
              0.2222222222222222,
              "#7201a8"
             ],
             [
              0.3333333333333333,
              "#9c179e"
             ],
             [
              0.4444444444444444,
              "#bd3786"
             ],
             [
              0.5555555555555556,
              "#d8576b"
             ],
             [
              0.6666666666666666,
              "#ed7953"
             ],
             [
              0.7777777777777778,
              "#fb9f3a"
             ],
             [
              0.8888888888888888,
              "#fdca26"
             ],
             [
              1,
              "#f0f921"
             ]
            ],
            "type": "contour"
           }
          ],
          "contourcarpet": [
           {
            "colorbar": {
             "outlinewidth": 0,
             "ticks": ""
            },
            "type": "contourcarpet"
           }
          ],
          "heatmap": [
           {
            "colorbar": {
             "outlinewidth": 0,
             "ticks": ""
            },
            "colorscale": [
             [
              0,
              "#0d0887"
             ],
             [
              0.1111111111111111,
              "#46039f"
             ],
             [
              0.2222222222222222,
              "#7201a8"
             ],
             [
              0.3333333333333333,
              "#9c179e"
             ],
             [
              0.4444444444444444,
              "#bd3786"
             ],
             [
              0.5555555555555556,
              "#d8576b"
             ],
             [
              0.6666666666666666,
              "#ed7953"
             ],
             [
              0.7777777777777778,
              "#fb9f3a"
             ],
             [
              0.8888888888888888,
              "#fdca26"
             ],
             [
              1,
              "#f0f921"
             ]
            ],
            "type": "heatmap"
           }
          ],
          "heatmapgl": [
           {
            "colorbar": {
             "outlinewidth": 0,
             "ticks": ""
            },
            "colorscale": [
             [
              0,
              "#0d0887"
             ],
             [
              0.1111111111111111,
              "#46039f"
             ],
             [
              0.2222222222222222,
              "#7201a8"
             ],
             [
              0.3333333333333333,
              "#9c179e"
             ],
             [
              0.4444444444444444,
              "#bd3786"
             ],
             [
              0.5555555555555556,
              "#d8576b"
             ],
             [
              0.6666666666666666,
              "#ed7953"
             ],
             [
              0.7777777777777778,
              "#fb9f3a"
             ],
             [
              0.8888888888888888,
              "#fdca26"
             ],
             [
              1,
              "#f0f921"
             ]
            ],
            "type": "heatmapgl"
           }
          ],
          "histogram": [
           {
            "marker": {
             "pattern": {
              "fillmode": "overlay",
              "size": 10,
              "solidity": 0.2
             }
            },
            "type": "histogram"
           }
          ],
          "histogram2d": [
           {
            "colorbar": {
             "outlinewidth": 0,
             "ticks": ""
            },
            "colorscale": [
             [
              0,
              "#0d0887"
             ],
             [
              0.1111111111111111,
              "#46039f"
             ],
             [
              0.2222222222222222,
              "#7201a8"
             ],
             [
              0.3333333333333333,
              "#9c179e"
             ],
             [
              0.4444444444444444,
              "#bd3786"
             ],
             [
              0.5555555555555556,
              "#d8576b"
             ],
             [
              0.6666666666666666,
              "#ed7953"
             ],
             [
              0.7777777777777778,
              "#fb9f3a"
             ],
             [
              0.8888888888888888,
              "#fdca26"
             ],
             [
              1,
              "#f0f921"
             ]
            ],
            "type": "histogram2d"
           }
          ],
          "histogram2dcontour": [
           {
            "colorbar": {
             "outlinewidth": 0,
             "ticks": ""
            },
            "colorscale": [
             [
              0,
              "#0d0887"
             ],
             [
              0.1111111111111111,
              "#46039f"
             ],
             [
              0.2222222222222222,
              "#7201a8"
             ],
             [
              0.3333333333333333,
              "#9c179e"
             ],
             [
              0.4444444444444444,
              "#bd3786"
             ],
             [
              0.5555555555555556,
              "#d8576b"
             ],
             [
              0.6666666666666666,
              "#ed7953"
             ],
             [
              0.7777777777777778,
              "#fb9f3a"
             ],
             [
              0.8888888888888888,
              "#fdca26"
             ],
             [
              1,
              "#f0f921"
             ]
            ],
            "type": "histogram2dcontour"
           }
          ],
          "mesh3d": [
           {
            "colorbar": {
             "outlinewidth": 0,
             "ticks": ""
            },
            "type": "mesh3d"
           }
          ],
          "parcoords": [
           {
            "line": {
             "colorbar": {
              "outlinewidth": 0,
              "ticks": ""
             }
            },
            "type": "parcoords"
           }
          ],
          "pie": [
           {
            "automargin": true,
            "type": "pie"
           }
          ],
          "scatter": [
           {
            "fillpattern": {
             "fillmode": "overlay",
             "size": 10,
             "solidity": 0.2
            },
            "type": "scatter"
           }
          ],
          "scatter3d": [
           {
            "line": {
             "colorbar": {
              "outlinewidth": 0,
              "ticks": ""
             }
            },
            "marker": {
             "colorbar": {
              "outlinewidth": 0,
              "ticks": ""
             }
            },
            "type": "scatter3d"
           }
          ],
          "scattercarpet": [
           {
            "marker": {
             "colorbar": {
              "outlinewidth": 0,
              "ticks": ""
             }
            },
            "type": "scattercarpet"
           }
          ],
          "scattergeo": [
           {
            "marker": {
             "colorbar": {
              "outlinewidth": 0,
              "ticks": ""
             }
            },
            "type": "scattergeo"
           }
          ],
          "scattergl": [
           {
            "marker": {
             "colorbar": {
              "outlinewidth": 0,
              "ticks": ""
             }
            },
            "type": "scattergl"
           }
          ],
          "scattermapbox": [
           {
            "marker": {
             "colorbar": {
              "outlinewidth": 0,
              "ticks": ""
             }
            },
            "type": "scattermapbox"
           }
          ],
          "scatterpolar": [
           {
            "marker": {
             "colorbar": {
              "outlinewidth": 0,
              "ticks": ""
             }
            },
            "type": "scatterpolar"
           }
          ],
          "scatterpolargl": [
           {
            "marker": {
             "colorbar": {
              "outlinewidth": 0,
              "ticks": ""
             }
            },
            "type": "scatterpolargl"
           }
          ],
          "scatterternary": [
           {
            "marker": {
             "colorbar": {
              "outlinewidth": 0,
              "ticks": ""
             }
            },
            "type": "scatterternary"
           }
          ],
          "surface": [
           {
            "colorbar": {
             "outlinewidth": 0,
             "ticks": ""
            },
            "colorscale": [
             [
              0,
              "#0d0887"
             ],
             [
              0.1111111111111111,
              "#46039f"
             ],
             [
              0.2222222222222222,
              "#7201a8"
             ],
             [
              0.3333333333333333,
              "#9c179e"
             ],
             [
              0.4444444444444444,
              "#bd3786"
             ],
             [
              0.5555555555555556,
              "#d8576b"
             ],
             [
              0.6666666666666666,
              "#ed7953"
             ],
             [
              0.7777777777777778,
              "#fb9f3a"
             ],
             [
              0.8888888888888888,
              "#fdca26"
             ],
             [
              1,
              "#f0f921"
             ]
            ],
            "type": "surface"
           }
          ],
          "table": [
           {
            "cells": {
             "fill": {
              "color": "#EBF0F8"
             },
             "line": {
              "color": "white"
             }
            },
            "header": {
             "fill": {
              "color": "#C8D4E3"
             },
             "line": {
              "color": "white"
             }
            },
            "type": "table"
           }
          ]
         },
         "layout": {
          "annotationdefaults": {
           "arrowcolor": "#2a3f5f",
           "arrowhead": 0,
           "arrowwidth": 1
          },
          "autotypenumbers": "strict",
          "coloraxis": {
           "colorbar": {
            "outlinewidth": 0,
            "ticks": ""
           }
          },
          "colorscale": {
           "diverging": [
            [
             0,
             "#8e0152"
            ],
            [
             0.1,
             "#c51b7d"
            ],
            [
             0.2,
             "#de77ae"
            ],
            [
             0.3,
             "#f1b6da"
            ],
            [
             0.4,
             "#fde0ef"
            ],
            [
             0.5,
             "#f7f7f7"
            ],
            [
             0.6,
             "#e6f5d0"
            ],
            [
             0.7,
             "#b8e186"
            ],
            [
             0.8,
             "#7fbc41"
            ],
            [
             0.9,
             "#4d9221"
            ],
            [
             1,
             "#276419"
            ]
           ],
           "sequential": [
            [
             0,
             "#0d0887"
            ],
            [
             0.1111111111111111,
             "#46039f"
            ],
            [
             0.2222222222222222,
             "#7201a8"
            ],
            [
             0.3333333333333333,
             "#9c179e"
            ],
            [
             0.4444444444444444,
             "#bd3786"
            ],
            [
             0.5555555555555556,
             "#d8576b"
            ],
            [
             0.6666666666666666,
             "#ed7953"
            ],
            [
             0.7777777777777778,
             "#fb9f3a"
            ],
            [
             0.8888888888888888,
             "#fdca26"
            ],
            [
             1,
             "#f0f921"
            ]
           ],
           "sequentialminus": [
            [
             0,
             "#0d0887"
            ],
            [
             0.1111111111111111,
             "#46039f"
            ],
            [
             0.2222222222222222,
             "#7201a8"
            ],
            [
             0.3333333333333333,
             "#9c179e"
            ],
            [
             0.4444444444444444,
             "#bd3786"
            ],
            [
             0.5555555555555556,
             "#d8576b"
            ],
            [
             0.6666666666666666,
             "#ed7953"
            ],
            [
             0.7777777777777778,
             "#fb9f3a"
            ],
            [
             0.8888888888888888,
             "#fdca26"
            ],
            [
             1,
             "#f0f921"
            ]
           ]
          },
          "colorway": [
           "#636efa",
           "#EF553B",
           "#00cc96",
           "#ab63fa",
           "#FFA15A",
           "#19d3f3",
           "#FF6692",
           "#B6E880",
           "#FF97FF",
           "#FECB52"
          ],
          "font": {
           "color": "#2a3f5f"
          },
          "geo": {
           "bgcolor": "white",
           "lakecolor": "white",
           "landcolor": "#E5ECF6",
           "showlakes": true,
           "showland": true,
           "subunitcolor": "white"
          },
          "hoverlabel": {
           "align": "left"
          },
          "hovermode": "closest",
          "mapbox": {
           "style": "light"
          },
          "paper_bgcolor": "white",
          "plot_bgcolor": "#E5ECF6",
          "polar": {
           "angularaxis": {
            "gridcolor": "white",
            "linecolor": "white",
            "ticks": ""
           },
           "bgcolor": "#E5ECF6",
           "radialaxis": {
            "gridcolor": "white",
            "linecolor": "white",
            "ticks": ""
           }
          },
          "scene": {
           "xaxis": {
            "backgroundcolor": "#E5ECF6",
            "gridcolor": "white",
            "gridwidth": 2,
            "linecolor": "white",
            "showbackground": true,
            "ticks": "",
            "zerolinecolor": "white"
           },
           "yaxis": {
            "backgroundcolor": "#E5ECF6",
            "gridcolor": "white",
            "gridwidth": 2,
            "linecolor": "white",
            "showbackground": true,
            "ticks": "",
            "zerolinecolor": "white"
           },
           "zaxis": {
            "backgroundcolor": "#E5ECF6",
            "gridcolor": "white",
            "gridwidth": 2,
            "linecolor": "white",
            "showbackground": true,
            "ticks": "",
            "zerolinecolor": "white"
           }
          },
          "shapedefaults": {
           "line": {
            "color": "#2a3f5f"
           }
          },
          "ternary": {
           "aaxis": {
            "gridcolor": "white",
            "linecolor": "white",
            "ticks": ""
           },
           "baxis": {
            "gridcolor": "white",
            "linecolor": "white",
            "ticks": ""
           },
           "bgcolor": "#E5ECF6",
           "caxis": {
            "gridcolor": "white",
            "linecolor": "white",
            "ticks": ""
           }
          },
          "title": {
           "x": 0.05
          },
          "xaxis": {
           "automargin": true,
           "gridcolor": "white",
           "linecolor": "white",
           "ticks": "",
           "title": {
            "standoff": 15
           },
           "zerolinecolor": "white",
           "zerolinewidth": 2
          },
          "yaxis": {
           "automargin": true,
           "gridcolor": "white",
           "linecolor": "white",
           "ticks": "",
           "title": {
            "standoff": 15
           },
           "zerolinecolor": "white",
           "zerolinewidth": 2
          }
         }
        },
        "title": {
         "text": "Cantidad de Procedimientos por Estudio"
        },
        "xaxis": {
         "title": {
          "text": "Estudio"
         }
        },
        "yaxis": {
         "title": {
          "text": "Cantidad de Procedimientos"
         }
        }
       }
      }
     },
     "metadata": {},
     "output_type": "display_data"
    }
   ],
   "source": [
    "fig = go.Figure()\n",
    "\n",
    "fig.add_trace(go.Bar(\n",
    "    x=df_completo_sin_NAN[\"Estudio\"].value_counts().index,\n",
    "    y=df_completo_sin_NAN[\"Estudio\"].value_counts().values,\n",
    "    name=\"Cantidad de Procedimientos\",\n",
    "))\n",
    "\n",
    "fig.update_layout(\n",
    "    title=\"Cantidad de Procedimientos por Estudio\",\n",
    "    xaxis_title=\"Estudio\",\n",
    "    yaxis_title=\"Cantidad de Procedimientos\",\n",
    ")\n",
    "\n",
    "fig.show()"
   ]
  },
  {
   "cell_type": "markdown",
   "id": "1bd29380",
   "metadata": {},
   "source": [
    "### 2)Promedio de dosis total por estudio, solo los que tienen dosis total\n"
   ]
  },
  {
   "cell_type": "code",
   "execution_count": 469,
   "id": "1a234959",
   "metadata": {},
   "outputs": [],
   "source": [
    "#Al df_completo_sin_NAN nos quedamos solo con las filas donde estudio es igual a \"Tórax\", \"Pelvis\", \"Rodilla\", \"Mano\",\"Abdomen\", \"Lumbar\", \"Hombro\", \"Pie\"\n",
    "df_completo_sin_NAN_interes = df_completo_sin_NAN[df_completo_sin_NAN[\"Estudio\"].isin([\"Tórax\", \"Pelvis\", \"Rodilla\", \"Mano\", \"Abdomen\", \"Lumbar\", \"Hombro\", \"Pie\"])]"
   ]
  },
  {
   "cell_type": "code",
   "execution_count": 470,
   "id": "d927a092",
   "metadata": {},
   "outputs": [
    {
     "data": {
      "application/vnd.plotly.v1+json": {
       "config": {
        "plotlyServerURL": "https://plot.ly"
       },
       "data": [
        {
         "boxmean": true,
         "boxpoints": "outliers",
         "customdata": [
          [
           65
          ],
          [
           70
          ],
          [
           70
          ],
          [
           68
          ],
          [
           75
          ],
          [
           75
          ],
          [
           52
          ],
          [
           80
          ],
          [
           null
          ],
          [
           65
          ],
          [
           80
          ],
          [
           null
          ],
          [
           null
          ],
          [
           null
          ],
          [
           76
          ],
          [
           76
          ],
          [
           115
          ],
          [
           115
          ],
          [
           null
          ],
          [
           65
          ],
          [
           65
          ],
          [
           60
          ],
          [
           62
          ],
          [
           120
          ],
          [
           120
          ],
          [
           58
          ],
          [
           66
          ],
          [
           66
          ],
          [
           null
          ],
          [
           null
          ],
          [
           55
          ],
          [
           67
          ],
          [
           60
          ],
          [
           50
          ],
          [
           60
          ],
          [
           70
          ],
          [
           null
          ],
          [
           null
          ],
          [
           70
          ],
          [
           null
          ],
          [
           60
          ],
          [
           null
          ],
          [
           60
          ],
          [
           90
          ],
          [
           100
          ],
          [
           125
          ],
          [
           90
          ],
          [
           60
          ],
          [
           70
          ],
          [
           null
          ],
          [
           null
          ],
          [
           null
          ],
          [
           null
          ],
          [
           75
          ],
          [
           70
          ],
          [
           70
          ],
          [
           50
          ],
          [
           null
          ],
          [
           63
          ],
          [
           68
          ],
          [
           65
          ],
          [
           null
          ],
          [
           null
          ],
          [
           70
          ],
          [
           70
          ],
          [
           75
          ],
          [
           null
          ],
          [
           null
          ],
          [
           null
          ],
          [
           null
          ],
          [
           null
          ],
          [
           null
          ],
          [
           null
          ],
          [
           null
          ],
          [
           null
          ],
          [
           null
          ],
          [
           null
          ],
          [
           null
          ],
          [
           58
          ],
          [
           62
          ],
          [
           65
          ],
          [
           70
          ],
          [
           70
          ],
          [
           60
          ],
          [
           65
          ],
          [
           75
          ],
          [
           75
          ],
          [
           70
          ],
          [
           70
          ],
          [
           98
          ],
          [
           72
          ],
          [
           75
          ],
          [
           68
          ],
          [
           60
          ],
          [
           null
          ],
          [
           89
          ],
          [
           93
          ],
          [
           58
          ],
          [
           null
          ],
          [
           null
          ],
          [
           80
          ],
          [
           80
          ],
          [
           70
          ],
          [
           65
          ],
          [
           null
          ],
          [
           null
          ],
          [
           null
          ],
          [
           68
          ],
          [
           70
          ],
          [
           null
          ],
          [
           70
          ],
          [
           null
          ],
          [
           70
          ],
          [
           null
          ],
          [
           68
          ],
          [
           68
          ],
          [
           56
          ],
          [
           null
          ],
          [
           null
          ],
          [
           56
          ],
          [
           65
          ],
          [
           65
          ],
          [
           null
          ],
          [
           65
          ],
          [
           65
          ],
          [
           null
          ],
          [
           null
          ],
          [
           null
          ],
          [
           null
          ],
          [
           null
          ],
          [
           null
          ],
          [
           null
          ],
          [
           69
          ],
          [
           69
          ],
          [
           69
          ],
          [
           null
          ],
          [
           72
          ],
          [
           72
          ],
          [
           null
          ],
          [
           62
          ],
          [
           null
          ],
          [
           80
          ],
          [
           null
          ],
          [
           95
          ],
          [
           null
          ],
          [
           null
          ],
          [
           null
          ],
          [
           null
          ],
          [
           110
          ],
          [
           78
          ],
          [
           75
          ],
          [
           75
          ],
          [
           70
          ],
          [
           70
          ],
          [
           85
          ],
          [
           70
          ],
          [
           70
          ],
          [
           55
          ],
          [
           85
          ],
          [
           85
          ],
          [
           63
          ],
          [
           null
          ],
          [
           null
          ],
          [
           null
          ],
          [
           60
          ],
          [
           null
          ],
          [
           55
          ],
          [
           65
          ],
          [
           70
          ],
          [
           75
          ],
          [
           null
          ],
          [
           70
          ],
          [
           72
          ],
          [
           75
          ],
          [
           75
          ],
          [
           null
          ],
          [
           75
          ],
          [
           null
          ],
          [
           null
          ],
          [
           57
          ],
          [
           null
          ],
          [
           70
          ],
          [
           75
          ],
          [
           70
          ],
          [
           null
          ],
          [
           85
          ],
          [
           60
          ],
          [
           60
          ],
          [
           null
          ],
          [
           null
          ],
          [
           null
          ],
          [
           60
          ],
          [
           null
          ],
          [
           null
          ],
          [
           null
          ],
          [
           51
          ],
          [
           51
          ],
          [
           null
          ],
          [
           null
          ],
          [
           null
          ],
          [
           110
          ],
          [
           110
          ],
          [
           65
          ],
          [
           85
          ],
          [
           null
          ],
          [
           80
          ],
          [
           null
          ],
          [
           70
          ],
          [
           70
          ],
          [
           null
          ],
          [
           56
          ],
          [
           65
          ],
          [
           null
          ],
          [
           55
          ],
          [
           75
          ],
          [
           null
          ],
          [
           null
          ],
          [
           68
          ],
          [
           null
          ],
          [
           70
          ],
          [
           70
          ],
          [
           70
          ],
          [
           null
          ],
          [
           null
          ],
          [
           null
          ],
          [
           75
          ],
          [
           85
          ],
          [
           70
          ],
          [
           null
          ],
          [
           null
          ],
          [
           70
          ],
          [
           60
          ],
          [
           65
          ],
          [
           65
          ],
          [
           null
          ],
          [
           null
          ],
          [
           65
          ],
          [
           null
          ],
          [
           78
          ],
          [
           99
          ],
          [
           null
          ],
          [
           76
          ],
          [
           76
          ],
          [
           null
          ],
          [
           70
          ],
          [
           70
          ],
          [
           50
          ],
          [
           76
          ],
          [
           76
          ],
          [
           65
          ],
          [
           65
          ],
          [
           65
          ],
          [
           65
          ],
          [
           65
          ],
          [
           56
          ],
          [
           null
          ],
          [
           null
          ],
          [
           null
          ],
          [
           60
          ],
          [
           null
          ],
          [
           null
          ],
          [
           null
          ],
          [
           null
          ],
          [
           70
          ],
          [
           70
          ],
          [
           null
          ],
          [
           65
          ],
          [
           68
          ],
          [
           null
          ],
          [
           null
          ],
          [
           68
          ],
          [
           null
          ],
          [
           70
          ],
          [
           86
          ],
          [
           63
          ],
          [
           null
          ],
          [
           65
          ],
          [
           55
          ],
          [
           55
          ],
          [
           58
          ],
          [
           68
          ],
          [
           null
          ],
          [
           null
          ],
          [
           80
          ],
          [
           null
          ],
          [
           80
          ],
          [
           70
          ],
          [
           null
          ],
          [
           80
          ],
          [
           65
          ],
          [
           72
          ],
          [
           null
          ],
          [
           80
          ],
          [
           49
          ],
          [
           50
          ],
          [
           null
          ],
          [
           null
          ],
          [
           null
          ],
          [
           75
          ],
          [
           80
          ],
          [
           80
          ],
          [
           65
          ],
          [
           null
          ],
          [
           80
          ],
          [
           null
          ],
          [
           null
          ],
          [
           80
          ],
          [
           null
          ],
          [
           75
          ],
          [
           null
          ],
          [
           75
          ],
          [
           null
          ],
          [
           null
          ],
          [
           65
          ],
          [
           76
          ],
          [
           75
          ],
          [
           80
          ],
          [
           65
          ],
          [
           81
          ],
          [
           81
          ],
          [
           50
          ],
          [
           70
          ],
          [
           65
          ],
          [
           null
          ],
          [
           65
          ],
          [
           65
          ],
          [
           75
          ],
          [
           null
          ],
          [
           75
          ],
          [
           null
          ],
          [
           75
          ],
          [
           101
          ],
          [
           50
          ],
          [
           66
          ],
          [
           63
          ],
          [
           50
          ],
          [
           80
          ],
          [
           80
          ],
          [
           72
          ],
          [
           72
          ],
          [
           78
          ],
          [
           72
          ],
          [
           69
          ],
          [
           67
          ],
          [
           81
          ],
          [
           72
          ],
          [
           72
          ],
          [
           64
          ],
          [
           68
          ],
          [
           67
          ],
          [
           67
          ],
          [
           67
          ],
          [
           67
          ],
          [
           71
          ],
          [
           71
          ],
          [
           71
          ],
          [
           71
          ],
          [
           87
          ],
          [
           65
          ],
          [
           null
          ],
          [
           85
          ],
          [
           null
          ],
          [
           77
          ],
          [
           null
          ],
          [
           null
          ],
          [
           null
          ],
          [
           62
          ],
          [
           70
          ],
          [
           null
          ],
          [
           null
          ],
          [
           85
          ],
          [
           71
          ],
          [
           71
          ],
          [
           98
          ],
          [
           null
          ],
          [
           null
          ],
          [
           null
          ],
          [
           null
          ],
          [
           null
          ],
          [
           60
          ],
          [
           null
          ],
          [
           null
          ],
          [
           null
          ],
          [
           null
          ],
          [
           null
          ],
          [
           null
          ],
          [
           60
          ],
          [
           70
          ],
          [
           60
          ],
          [
           60
          ],
          [
           55
          ],
          [
           62
          ],
          [
           null
          ],
          [
           70
          ],
          [
           70
          ],
          [
           null
          ],
          [
           65
          ],
          [
           70
          ],
          [
           70
          ],
          [
           null
          ],
          [
           null
          ],
          [
           62
          ],
          [
           71
          ],
          [
           71
          ],
          [
           71
          ],
          [
           63
          ],
          [
           63
          ],
          [
           70
          ],
          [
           75
          ],
          [
           50
          ],
          [
           65
          ],
          [
           65
          ],
          [
           65
          ],
          [
           65
          ],
          [
           80
          ],
          [
           68
          ],
          [
           72
          ],
          [
           67
          ],
          [
           67
          ],
          [
           67
          ],
          [
           80
          ],
          [
           null
          ],
          [
           null
          ],
          [
           null
          ],
          [
           null
          ],
          [
           null
          ],
          [
           75
          ],
          [
           null
          ],
          [
           null
          ],
          [
           null
          ],
          [
           70
          ],
          [
           null
          ],
          [
           72
          ],
          [
           68
          ],
          [
           52
          ],
          [
           52
          ],
          [
           82
          ],
          [
           null
          ],
          [
           null
          ],
          [
           null
          ],
          [
           80
          ],
          [
           null
          ],
          [
           70
          ],
          [
           75
          ],
          [
           null
          ],
          [
           null
          ],
          [
           null
          ],
          [
           60
          ],
          [
           null
          ],
          [
           70
          ],
          [
           null
          ],
          [
           null
          ],
          [
           null
          ],
          [
           70
          ],
          [
           50
          ],
          [
           80
          ],
          [
           null
          ],
          [
           75
          ],
          [
           null
          ],
          [
           75
          ],
          [
           null
          ],
          [
           80
          ],
          [
           null
          ],
          [
           75
          ],
          [
           null
          ],
          [
           null
          ],
          [
           null
          ],
          [
           null
          ],
          [
           null
          ],
          [
           70
          ],
          [
           null
          ],
          [
           null
          ],
          [
           null
          ],
          [
           null
          ],
          [
           null
          ],
          [
           null
          ],
          [
           null
          ],
          [
           60
          ],
          [
           null
          ],
          [
           70
          ],
          [
           65
          ],
          [
           65
          ],
          [
           65
          ],
          [
           70
          ],
          [
           null
          ],
          [
           70
          ],
          [
           81
          ],
          [
           81
          ],
          [
           64
          ],
          [
           70
          ],
          [
           70
          ],
          [
           70
          ],
          [
           59
          ],
          [
           null
          ],
          [
           null
          ],
          [
           75
          ],
          [
           72
          ],
          [
           68
          ],
          [
           82
          ],
          [
           67
          ],
          [
           67
          ],
          [
           67
          ],
          [
           76
          ],
          [
           63
          ],
          [
           63
          ],
          [
           63
          ],
          [
           63
          ],
          [
           79
          ],
          [
           55
          ],
          [
           55
          ],
          [
           62
          ],
          [
           61
          ],
          [
           73
          ],
          [
           null
          ],
          [
           null
          ],
          [
           null
          ],
          [
           null
          ],
          [
           null
          ],
          [
           68
          ],
          [
           61
          ],
          [
           65
          ],
          [
           65
          ],
          [
           75
          ],
          [
           null
          ],
          [
           null
          ],
          [
           45
          ],
          [
           60
          ],
          [
           null
          ],
          [
           70
          ],
          [
           70
          ],
          [
           75
          ],
          [
           null
          ],
          [
           70
          ],
          [
           null
          ],
          [
           null
          ],
          [
           null
          ],
          [
           null
          ],
          [
           70
          ],
          [
           70
          ],
          [
           70
          ],
          [
           55
          ],
          [
           55
          ],
          [
           60
          ],
          [
           60
          ],
          [
           60
          ],
          [
           70
          ],
          [
           null
          ],
          [
           null
          ],
          [
           75
          ],
          [
           null
          ],
          [
           65
          ],
          [
           null
          ],
          [
           null
          ],
          [
           null
          ],
          [
           null
          ],
          [
           null
          ],
          [
           null
          ],
          [
           null
          ],
          [
           70
          ],
          [
           70
          ],
          [
           60
          ],
          [
           null
          ],
          [
           70
          ],
          [
           null
          ],
          [
           null
          ],
          [
           65
          ],
          [
           80
          ],
          [
           70
          ],
          [
           70
          ],
          [
           null
          ],
          [
           63
          ],
          [
           63
          ],
          [
           null
          ],
          [
           null
          ],
          [
           70
          ],
          [
           72
          ],
          [
           null
          ],
          [
           70
          ],
          [
           null
          ],
          [
           63
          ],
          [
           null
          ],
          [
           null
          ],
          [
           54
          ],
          [
           70
          ],
          [
           70
          ],
          [
           null
          ],
          [
           null
          ],
          [
           null
          ],
          [
           null
          ],
          [
           68
          ],
          [
           62
          ],
          [
           65
          ],
          [
           58
          ],
          [
           null
          ],
          [
           70
          ],
          [
           65
          ],
          [
           65
          ],
          [
           65
          ],
          [
           null
          ],
          [
           null
          ],
          [
           null
          ],
          [
           60
          ],
          [
           null
          ],
          [
           60
          ],
          [
           60
          ],
          [
           60
          ],
          [
           53
          ],
          [
           60
          ],
          [
           70
          ],
          [
           55
          ],
          [
           52
          ],
          [
           0
          ],
          [
           0
          ],
          [
           0
          ],
          [
           0
          ],
          [
           0
          ],
          [
           0
          ],
          [
           0
          ],
          [
           0
          ],
          [
           0
          ],
          [
           0
          ],
          [
           0
          ],
          [
           0
          ],
          [
           60
          ],
          [
           55
          ],
          [
           55
          ],
          [
           65
          ],
          [
           72
          ],
          [
           72
          ],
          [
           75
          ],
          [
           60
          ],
          [
           60
          ],
          [
           70
          ],
          [
           0
          ],
          [
           57
          ],
          [
           65
          ],
          [
           63
          ],
          [
           65
          ],
          [
           60
          ],
          [
           60
          ],
          [
           61
          ],
          [
           72
          ],
          [
           55
          ],
          [
           75
          ],
          [
           75
          ],
          [
           60
          ],
          [
           45
          ],
          [
           45
          ],
          [
           68
          ],
          [
           75
          ],
          [
           105
          ],
          [
           60
          ],
          [
           60
          ],
          [
           60
          ],
          [
           65
          ],
          [
           115
          ],
          [
           60
          ],
          [
           72
          ],
          [
           60
          ],
          [
           70
          ],
          [
           60
          ],
          [
           75
          ],
          [
           75
          ],
          [
           78
          ],
          [
           65
          ],
          [
           60
          ],
          [
           69
          ],
          [
           72
          ],
          [
           68
          ],
          [
           80
          ],
          [
           60
          ],
          [
           60
          ],
          [
           65
          ],
          [
           65
          ],
          [
           71
          ],
          [
           69
          ],
          [
           69
          ],
          [
           69
          ],
          [
           69
          ],
          [
           56
          ],
          [
           56
          ],
          [
           56
          ],
          [
           56
          ],
          [
           70
          ],
          [
           80
          ],
          [
           63
          ],
          [
           63
          ],
          [
           56
          ],
          [
           67
          ],
          [
           45
          ],
          [
           75
          ],
          [
           70
          ],
          [
           86
          ],
          [
           86
          ],
          [
           86
          ],
          [
           86
          ],
          [
           66
          ],
          [
           70
          ],
          [
           68
          ],
          [
           69
          ],
          [
           69
          ],
          [
           75
          ],
          [
           75
          ],
          [
           75
          ],
          [
           75
          ],
          [
           46
          ],
          [
           70
          ],
          [
           65
          ],
          [
           60
          ],
          [
           57
          ],
          [
           65
          ],
          [
           65
          ],
          [
           65
          ],
          [
           65
          ],
          [
           73
          ],
          [
           67
          ],
          [
           58
          ],
          [
           75
          ],
          [
           56
          ],
          [
           56
          ],
          [
           65
          ],
          [
           65
          ],
          [
           65
          ],
          [
           60
          ],
          [
           75
          ],
          [
           75
          ],
          [
           75
          ],
          [
           61
          ],
          [
           60
          ],
          [
           68
          ],
          [
           67
          ],
          [
           72
          ],
          [
           65
          ],
          [
           67
          ],
          [
           60
          ],
          [
           60
          ],
          [
           70
          ],
          [
           58
          ],
          [
           55
          ],
          [
           50
          ],
          [
           60
          ],
          [
           55
          ],
          [
           90
          ],
          [
           70
          ],
          [
           55
          ],
          [
           65
          ],
          [
           65
          ],
          [
           65
          ],
          [
           75
          ],
          [
           65
          ],
          [
           65
          ],
          [
           55
          ],
          [
           85
          ],
          [
           70
          ],
          [
           70
          ],
          [
           70
          ],
          [
           80
          ],
          [
           75
          ],
          [
           70
          ],
          [
           75
          ],
          [
           83
          ],
          [
           88
          ],
          [
           75
          ],
          [
           72
          ],
          [
           76
          ],
          [
           76
          ],
          [
           86
          ],
          [
           58
          ],
          [
           58
          ],
          [
           45
          ],
          [
           65
          ],
          [
           60
          ],
          [
           60
          ],
          [
           70
          ],
          [
           70
          ],
          [
           67
          ],
          [
           55
          ],
          [
           115
          ],
          [
           60
          ],
          [
           55
          ],
          [
           77
          ],
          [
           67
          ],
          [
           120
          ],
          [
           55
          ],
          [
           80
          ],
          [
           70
          ],
          [
           85
          ],
          [
           60
          ],
          [
           60
          ],
          [
           60
          ],
          [
           72
          ],
          [
           72
          ],
          [
           72
          ],
          [
           72
          ],
          [
           70
          ],
          [
           85
          ],
          [
           85
          ],
          [
           85
          ],
          [
           74
          ],
          [
           70
          ],
          [
           null
          ],
          [
           null
          ],
          [
           null
          ],
          [
           null
          ],
          [
           null
          ],
          [
           null
          ],
          [
           null
          ],
          [
           68
          ],
          [
           60
          ],
          [
           null
          ],
          [
           null
          ],
          [
           null
          ],
          [
           60
          ],
          [
           null
          ],
          [
           null
          ],
          [
           56
          ],
          [
           null
          ],
          [
           67
          ],
          [
           67
          ],
          [
           67
          ],
          [
           67
          ],
          [
           null
          ],
          [
           null
          ],
          [
           61
          ],
          [
           null
          ],
          [
           50
          ],
          [
           50
          ],
          [
           50
          ],
          [
           null
          ],
          [
           null
          ],
          [
           null
          ],
          [
           null
          ],
          [
           null
          ],
          [
           null
          ],
          [
           null
          ],
          [
           68
          ],
          [
           60
          ],
          [
           null
          ],
          [
           null
          ],
          [
           null
          ],
          [
           60
          ],
          [
           null
          ],
          [
           null
          ],
          [
           56
          ],
          [
           null
          ],
          [
           67
          ],
          [
           67
          ]
         ],
         "hovertemplate": "Estudio: %{x}<br>Dosis: %{y:.2f} mGy<br>Peso: %{customdata[0]:.1f} kg<extra></extra>",
         "name": "Dosis Total [mGy]",
         "type": "box",
         "x": [
          "Pelvis",
          "Tórax",
          "Tórax",
          "Tórax",
          "Rodilla",
          "Lumbar",
          "Tórax",
          "Pelvis",
          "Mano",
          "Abdomen",
          "Tórax",
          "Pelvis",
          "Rodilla",
          "Pie",
          "Tórax",
          "Hombro",
          "Tórax",
          "Rodilla",
          "Mano",
          "Hombro",
          "Rodilla",
          "Hombro",
          "Tórax",
          "Tórax",
          "Tórax",
          "Tórax",
          "Abdomen",
          "Tórax",
          "Pelvis",
          "Tórax",
          "Lumbar",
          "Abdomen",
          "Hombro",
          "Lumbar",
          "Pie",
          "Tórax",
          "Pelvis",
          "Rodilla",
          "Rodilla",
          "Mano",
          "Tórax",
          "Pelvis",
          "Tórax",
          "Tórax",
          "Tórax",
          "Tórax",
          "Tórax",
          "Tórax",
          "Rodilla",
          "Tórax",
          "Mano",
          "Tórax",
          "Tórax",
          "Lumbar",
          "Tórax",
          "Tórax",
          "Tórax",
          "Tórax",
          "Abdomen",
          "Abdomen",
          "Tórax",
          "Tórax",
          "Pie",
          "Tórax",
          "Pelvis",
          "Tórax",
          "Tórax",
          "Mano",
          "Tórax",
          "Tórax",
          "Tórax",
          "Tórax",
          "Tórax",
          "Tórax",
          "Tórax",
          "Tórax",
          "Tórax",
          "Rodilla",
          "Pelvis",
          "Rodilla",
          "Hombro",
          "Tórax",
          "Tórax",
          "Tórax",
          "Tórax",
          "Tórax",
          "Pie",
          "Pie",
          "Tórax",
          "Mano",
          "Pie",
          "Pie",
          "Hombro",
          "Pelvis",
          "Hombro",
          "Tórax",
          "Tórax",
          "Tórax",
          "Tórax",
          "Pelvis",
          "Pelvis",
          "Abdomen",
          "Lumbar",
          "Abdomen",
          "Tórax",
          "Tórax",
          "Pie",
          "Tórax",
          "Rodilla",
          "Rodilla",
          "Rodilla",
          "Pelvis",
          "Lumbar",
          "Tórax",
          "Lumbar",
          "Lumbar",
          "Mano",
          "Mano",
          "Mano",
          "Rodilla",
          "Tórax",
          "Abdomen",
          "Tórax",
          "Tórax",
          "Tórax",
          "Tórax",
          "Tórax",
          "Tórax",
          "Tórax",
          "Tórax",
          "Tórax",
          "Tórax",
          "Tórax",
          "Tórax",
          "Abdomen",
          "Tórax",
          "Hombro",
          "Hombro",
          "Tórax",
          "Pelvis",
          "Tórax",
          "Abdomen",
          "Tórax",
          "Abdomen",
          "Tórax",
          "Tórax",
          "Mano",
          "Mano",
          "Tórax",
          "Abdomen",
          "Tórax",
          "Tórax",
          "Tórax",
          "Pie",
          "Tórax",
          "Lumbar",
          "Rodilla",
          "Tórax",
          "Tórax",
          "Tórax",
          "Mano",
          "Tórax",
          "Tórax",
          "Pie",
          "Pie",
          "Mano",
          "Hombro",
          "Abdomen",
          "Tórax",
          "Lumbar",
          "Pelvis",
          "Tórax",
          "Tórax",
          "Tórax",
          "Tórax",
          "Tórax",
          "Hombro",
          "Mano",
          "Mano",
          "Abdomen",
          "Pelvis",
          "Tórax",
          "Hombro",
          "Tórax",
          "Mano",
          "Lumbar",
          "Hombro",
          "Hombro",
          "Mano",
          "Tórax",
          "Mano",
          "Tórax",
          "Mano",
          "Tórax",
          "Tórax",
          "Pelvis",
          "Pelvis",
          "Pie",
          "Pie",
          "Mano",
          "Tórax",
          "Tórax",
          "Abdomen",
          "Lumbar",
          "Pelvis",
          "Tórax",
          "Pelvis",
          "Mano",
          "Hombro",
          "Pie",
          "Tórax",
          "Tórax",
          "Pelvis",
          "Tórax",
          "Tórax",
          "Rodilla",
          "Tórax",
          "Tórax",
          "Mano",
          "Tórax",
          "Lumbar",
          "Lumbar",
          "Lumbar",
          "Pelvis",
          "Mano",
          "Tórax",
          "Rodilla",
          "Tórax",
          "Pelvis",
          "Tórax",
          "Rodilla",
          "Rodilla",
          "Tórax",
          "Rodilla",
          "Mano",
          "Rodilla",
          "Tórax",
          "Rodilla",
          "Tórax",
          "Tórax",
          "Tórax",
          "Hombro",
          "Tórax",
          "Tórax",
          "Lumbar",
          "Tórax",
          "Lumbar",
          "Tórax",
          "Pelvis",
          "Tórax",
          "Rodilla",
          "Lumbar",
          "Tórax",
          "Tórax",
          "Tórax",
          "Tórax",
          "Abdomen",
          "Tórax",
          "Abdomen",
          "Tórax",
          "Tórax",
          "Tórax",
          "Pie",
          "Tórax",
          "Hombro",
          "Pelvis",
          "Tórax",
          "Tórax",
          "Pie",
          "Tórax",
          "Tórax",
          "Tórax",
          "Tórax",
          "Tórax",
          "Hombro",
          "Tórax",
          "Tórax",
          "Rodilla",
          "Rodilla",
          "Tórax",
          "Tórax",
          "Mano",
          "Pelvis",
          "Hombro",
          "Pie",
          "Tórax",
          "Tórax",
          "Mano",
          "Lumbar",
          "Rodilla",
          "Abdomen",
          "Tórax",
          "Tórax",
          "Tórax",
          "Abdomen",
          "Mano",
          "Pie",
          "Rodilla",
          "Abdomen",
          "Abdomen",
          "Tórax",
          "Lumbar",
          "Pelvis",
          "Rodilla",
          "Pie",
          "Tórax",
          "Pelvis",
          "Tórax",
          "Pelvis",
          "Rodilla",
          "Tórax",
          "Tórax",
          "Tórax",
          "Tórax",
          "Tórax",
          "Tórax",
          "Pelvis",
          "Tórax",
          "Pelvis",
          "Lumbar",
          "Pie",
          "Tórax",
          "Tórax",
          "Rodilla",
          "Pie",
          "Hombro",
          "Lumbar",
          "Pelvis",
          "Tórax",
          "Tórax",
          "Mano",
          "Pelvis",
          "Tórax",
          "Tórax",
          "Tórax",
          "Tórax",
          "Lumbar",
          "Pelvis",
          "Pie",
          "Tórax",
          "Tórax",
          "Tórax",
          "Tórax",
          "Hombro",
          "Tórax",
          "Tórax",
          "Abdomen",
          "Abdomen",
          "Tórax",
          "Hombro",
          "Hombro",
          "Tórax",
          "Tórax",
          "Mano",
          "Hombro",
          "Tórax",
          "Pelvis",
          "Hombro",
          "Tórax",
          "Tórax",
          "Abdomen",
          "Tórax",
          "Tórax",
          "Tórax",
          "Tórax",
          "Tórax",
          "Tórax",
          "Tórax",
          "Tórax",
          "Mano",
          "Tórax",
          "Lumbar",
          "Tórax",
          "Tórax",
          "Abdomen",
          "Mano",
          "Mano",
          "Tórax",
          "Tórax",
          "Hombro",
          "Rodilla",
          "Tórax",
          "Tórax",
          "Mano",
          "Mano",
          "Tórax",
          "Lumbar",
          "Tórax",
          "Lumbar",
          "Rodilla",
          "Tórax",
          "Tórax",
          "Pie",
          "Hombro",
          "Hombro",
          "Pelvis",
          "Rodilla",
          "Rodilla",
          "Tórax",
          "Mano",
          "Pelvis",
          "Tórax",
          "Mano",
          "Pelvis",
          "Pelvis",
          "Tórax",
          "Tórax",
          "Mano",
          "Pie",
          "Pie",
          "Hombro",
          "Hombro",
          "Tórax",
          "Rodilla",
          "Tórax",
          "Tórax",
          "Mano",
          "Pelvis",
          "Tórax",
          "Abdomen",
          "Tórax",
          "Tórax",
          "Mano",
          "Pie",
          "Rodilla",
          "Rodilla",
          "Tórax",
          "Mano",
          "Tórax",
          "Pelvis",
          "Tórax",
          "Tórax",
          "Tórax",
          "Tórax",
          "Mano",
          "Pelvis",
          "Pelvis",
          "Tórax",
          "Tórax",
          "Pie",
          "Rodilla",
          "Mano",
          "Tórax",
          "Lumbar",
          "Tórax",
          "Tórax",
          "Mano",
          "Tórax",
          "Pelvis",
          "Hombro",
          "Tórax",
          "Mano",
          "Mano",
          "Tórax",
          "Tórax",
          "Tórax",
          "Mano",
          "Hombro",
          "Pelvis",
          "Tórax",
          "Tórax",
          "Abdomen",
          "Tórax",
          "Tórax",
          "Tórax",
          "Tórax",
          "Pelvis",
          "Tórax",
          "Rodilla",
          "Abdomen",
          "Tórax",
          "Tórax",
          "Rodilla",
          "Tórax",
          "Tórax",
          "Pie",
          "Mano",
          "Rodilla",
          "Mano",
          "Tórax",
          "Lumbar",
          "Pelvis",
          "Pelvis",
          "Rodilla",
          "Pelvis",
          "Rodilla",
          "Tórax",
          "Pelvis",
          "Rodilla",
          "Tórax",
          "Lumbar",
          "Hombro",
          "Mano",
          "Tórax",
          "Tórax",
          "Lumbar",
          "Pelvis",
          "Pelvis",
          "Rodilla",
          "Mano",
          "Pie",
          "Rodilla",
          "Mano",
          "Mano",
          "Pelvis",
          "Pelvis",
          "Tórax",
          "Tórax",
          "Tórax",
          "Tórax",
          "Rodilla",
          "Tórax",
          "Tórax",
          "Mano",
          "Pelvis",
          "Tórax",
          "Rodilla",
          "Tórax",
          "Tórax",
          "Tórax",
          "Pelvis",
          "Rodilla",
          "Tórax",
          "Tórax",
          "Rodilla",
          "Tórax",
          "Tórax",
          "Abdomen",
          "Tórax",
          "Tórax",
          "Tórax",
          "Tórax",
          "Tórax",
          "Rodilla",
          "Tórax",
          "Abdomen",
          "Pelvis",
          "Lumbar",
          "Lumbar",
          "Tórax",
          "Lumbar",
          "Lumbar",
          "Tórax",
          "Tórax",
          "Tórax",
          "Tórax",
          "Tórax",
          "Tórax",
          "Tórax",
          "Tórax",
          "Hombro",
          "Mano",
          "Pie",
          "Pelvis",
          "Tórax",
          "Tórax",
          "Mano",
          "Mano",
          "Hombro",
          "Tórax",
          "Tórax",
          "Tórax",
          "Tórax",
          "Tórax",
          "Pelvis",
          "Pelvis",
          "Tórax",
          "Tórax",
          "Tórax",
          "Mano",
          "Tórax",
          "Tórax",
          "Pelvis",
          "Tórax",
          "Tórax",
          "Pelvis",
          "Tórax",
          "Abdomen",
          "Mano",
          "Abdomen",
          "Tórax",
          "Tórax",
          "Tórax",
          "Pelvis",
          "Tórax",
          "Pelvis",
          "Tórax",
          "Tórax",
          "Tórax",
          "Tórax",
          "Abdomen",
          "Abdomen",
          "Hombro",
          "Pie",
          "Abdomen",
          "Pelvis",
          "Pelvis",
          "Tórax",
          "Tórax",
          "Tórax",
          "Tórax",
          "Pelvis",
          "Tórax",
          "Abdomen",
          "Tórax",
          "Abdomen",
          "Rodilla",
          "Tórax",
          "Tórax",
          "Lumbar",
          "Tórax",
          "Tórax",
          "Lumbar",
          "Pelvis",
          "Pelvis",
          "Pie",
          "Pie",
          "Mano",
          "Mano",
          "Mano",
          "Lumbar",
          "Tórax",
          "Abdomen",
          "Mano",
          "Mano",
          "Mano",
          "Tórax",
          "Tórax",
          "Tórax",
          "Abdomen",
          "Lumbar",
          "Abdomen",
          "Tórax",
          "Tórax",
          "Tórax",
          "Tórax",
          "Rodilla",
          "Tórax",
          "Rodilla",
          "Pelvis",
          "Mano",
          "Rodilla",
          "Tórax",
          "Tórax",
          "Abdomen",
          "Tórax",
          "Abdomen",
          "Abdomen",
          "Abdomen",
          "Hombro",
          "Tórax",
          "Pie",
          "Tórax",
          "Lumbar",
          "Tórax",
          "Tórax",
          "Tórax",
          "Pelvis",
          "Pie",
          "Rodilla",
          "Rodilla",
          "Pelvis",
          "Pelvis",
          "Tórax",
          "Mano",
          "Tórax",
          "Abdomen",
          "Tórax",
          "Hombro",
          "Pelvis",
          "Pelvis",
          "Pelvis",
          "Pelvis",
          "Pelvis",
          "Tórax",
          "Pie",
          "Hombro",
          "Tórax",
          "Pie",
          "Tórax",
          "Lumbar",
          "Tórax",
          "Tórax",
          "Rodilla",
          "Abdomen",
          "Pie",
          "Pie",
          "Tórax",
          "Tórax",
          "Tórax",
          "Lumbar",
          "Tórax",
          "Pelvis",
          "Pelvis",
          "Tórax",
          "Tórax",
          "Tórax",
          "Tórax",
          "Tórax",
          "Tórax",
          "Tórax",
          "Lumbar",
          "Lumbar",
          "Pie",
          "Rodilla",
          "Tórax",
          "Hombro",
          "Rodilla",
          "Rodilla",
          "Rodilla",
          "Tórax",
          "Tórax",
          "Tórax",
          "Hombro",
          "Pelvis",
          "Tórax",
          "Tórax",
          "Tórax",
          "Rodilla",
          "Rodilla",
          "Tórax",
          "Tórax",
          "Tórax",
          "Hombro",
          "Tórax",
          "Hombro",
          "Tórax",
          "Tórax",
          "Tórax",
          "Abdomen",
          "Abdomen",
          "Pelvis",
          "Hombro",
          "Mano",
          "Tórax",
          "Lumbar",
          "Tórax",
          "Tórax",
          "Tórax",
          "Tórax",
          "Pie",
          "Tórax",
          "Lumbar",
          "Rodilla",
          "Pelvis",
          "Hombro",
          "Tórax",
          "Pie",
          "Tórax",
          "Pelvis",
          "Tórax",
          "Abdomen",
          "Tórax",
          "Tórax",
          "Rodilla",
          "Rodilla",
          "Tórax",
          "Pelvis",
          "Tórax",
          "Abdomen",
          "Tórax",
          "Tórax",
          "Tórax",
          "Tórax",
          "Tórax",
          "Hombro",
          "Tórax",
          "Tórax",
          "Tórax",
          "Rodilla",
          "Tórax",
          "Tórax",
          "Tórax",
          "Tórax",
          "Tórax",
          "Tórax",
          "Pelvis",
          "Tórax",
          "Tórax",
          "Tórax",
          "Hombro",
          "Tórax",
          "Lumbar",
          "Rodilla",
          "Hombro",
          "Tórax",
          "Lumbar",
          "Rodilla",
          "Tórax",
          "Tórax",
          "Mano",
          "Pelvis",
          "Tórax",
          "Tórax",
          "Tórax",
          "Pelvis",
          "Pelvis",
          "Pelvis",
          "Tórax",
          "Hombro",
          "Lumbar",
          "Pelvis",
          "Rodilla",
          "Rodilla",
          "Rodilla",
          "Tórax",
          "Tórax",
          "Tórax",
          "Tórax",
          "Mano",
          "Pelvis",
          "Rodilla",
          "Tórax",
          "Pie",
          "Mano",
          "Tórax",
          "Tórax",
          "Tórax",
          "Abdomen",
          "Abdomen",
          "Rodilla",
          "Tórax",
          "Tórax",
          "Tórax",
          "Rodilla",
          "Pie",
          "Mano",
          "Tórax",
          "Lumbar",
          "Pelvis",
          "Rodilla",
          "Rodilla",
          "Rodilla",
          "Tórax",
          "Tórax",
          "Tórax",
          "Tórax",
          "Mano",
          "Pelvis",
          "Rodilla",
          "Tórax",
          "Pie",
          "Mano",
          "Tórax",
          "Tórax",
          "Tórax",
          "Abdomen"
         ],
         "y": [
          2.3,
          1.76,
          1.76,
          0.78,
          1.05,
          6.59,
          0.68,
          2.3,
          0.11,
          4.17,
          0.52,
          14.88,
          0.41,
          0.23,
          0.57,
          5.21,
          0.77,
          1.1,
          0.16,
          3.58,
          1.01,
          2.6,
          0.44,
          0.79,
          0.79,
          0.36,
          3.38,
          0.36,
          4.49,
          0.94,
          6.58,
          5.75,
          0.37,
          7.59,
          0.43,
          0.83,
          9.25,
          2.26,
          0.76,
          0.17,
          0.46,
          4.22,
          0.57,
          0.99,
          0.87,
          2.54,
          0.87,
          0.69,
          1.73,
          0.53,
          0.28,
          0.49,
          2.7,
          37.15,
          0.06,
          0.05,
          0.46,
          0.67,
          4.98,
          7.24,
          0.11,
          0.29,
          0.5,
          0.09,
          0.74,
          0.69,
          0.33,
          0.1,
          0.35,
          0.32,
          0.42,
          0.68,
          0.39,
          0.46,
          0.33,
          0.41,
          0.3,
          0.23,
          2.24,
          2.53,
          1.91,
          0.54,
          3.97,
          0.45,
          0.81,
          2.02,
          0.33,
          0.33,
          0.2,
          0.18,
          0.2,
          0.19,
          4.77,
          4.99,
          0.12,
          0.76,
          0.98,
          0.58,
          0.43,
          47.81,
          6.63,
          6.63,
          20.69,
          5.75,
          0.48,
          0.48,
          0.76,
          0.46,
          1.29,
          1.22,
          1.01,
          9.96,
          15.5,
          0.48,
          1.11,
          1.11,
          0.77,
          0.19,
          0.06,
          0.44,
          0.49,
          3.45,
          0.38,
          0.36,
          0.36,
          0.43,
          0.57,
          0.39,
          0.54,
          1.72,
          0.33,
          0.61,
          0.49,
          1.6,
          4.21,
          0.39,
          1.35,
          0.67,
          0.49,
          4.31,
          0.26,
          9.57,
          0.2,
          9.57,
          0.17,
          0.26,
          0.25,
          0.41,
          0.88,
          5.12,
          0.19,
          0.5,
          0.42,
          0.59,
          0.71,
          9.18,
          1.57,
          0.42,
          1.08,
          0.44,
          0.04,
          0.54,
          0.6,
          0.14,
          0.37,
          0.15,
          4.54,
          7.49,
          0.5,
          9.48,
          18.28,
          0.46,
          0.46,
          0.6,
          0.22,
          0.32,
          1.38,
          0.23,
          0.1,
          2.87,
          14.58,
          0.42,
          0.86,
          0.42,
          0.21,
          31.89,
          4.73,
          2.36,
          0.15,
          1.14,
          0.13,
          0.28,
          0.15,
          0.31,
          0.31,
          0.9,
          2.95,
          0.32,
          0.49,
          0.14,
          1.22,
          2.02,
          3.63,
          25.92,
          14.35,
          0.53,
          8.69,
          0.06,
          0.54,
          0.43,
          0.35,
          0.35,
          4.49,
          0.25,
          0.34,
          0.45,
          0.48,
          0.55,
          0.13,
          0.54,
          12.8,
          12.8,
          26.93,
          7.29,
          0.28,
          0.5,
          1.03,
          0.5,
          10.55,
          0.48,
          0.94,
          0.5,
          0.26,
          0.58,
          0.12,
          0.32,
          0.29,
          0.28,
          0.66,
          1.08,
          0.25,
          0.81,
          0.71,
          0.3,
          12.21,
          0.42,
          16.53,
          0.8,
          2.36,
          0.1,
          1.29,
          10.05,
          0.05,
          0.59,
          0.59,
          0.7,
          9.88,
          0.45,
          0.93,
          0.17,
          0.37,
          0.37,
          0.43,
          0.16,
          1.17,
          1.03,
          0.66,
          0.06,
          0.18,
          0.3,
          0.61,
          0.25,
          0.73,
          0.91,
          1.12,
          0.3,
          0.66,
          0.29,
          0.38,
          0.66,
          0.68,
          0.17,
          19.88,
          1.49,
          0.84,
          1.19,
          0.42,
          0.21,
          30.99,
          5.02,
          6.47,
          0.39,
          0.71,
          0.32,
          3.42,
          0.19,
          0.46,
          0.84,
          8.44,
          12.59,
          4.5,
          14.78,
          7.9,
          1.66,
          0.4,
          0.6,
          13.19,
          0.6,
          4.01,
          0.43,
          0.38,
          0.26,
          0.3,
          0.57,
          0.25,
          0.46,
          2.89,
          0.81,
          4.33,
          17.85,
          0.09,
          0.7,
          0.46,
          1.46,
          0.08,
          0.89,
          9.87,
          10.19,
          0,
          0.48,
          0.09,
          12.94,
          0.14,
          1.14,
          0.39,
          0.4,
          23.63,
          14.4,
          4.37,
          6.15,
          6.15,
          6.54,
          8.05,
          25.94,
          10.13,
          8.07,
          38.59,
          30.87,
          0.66,
          0.93,
          0.98,
          0.65,
          0.23,
          6.68,
          19,
          7.51,
          26.26,
          18.58,
          0.32,
          0.24,
          7.76,
          0.3,
          0.32,
          0.93,
          0.93,
          0.93,
          0.55,
          0.65,
          0.39,
          0.2,
          0.66,
          41.73,
          7.21,
          0.74,
          5.76,
          16.08,
          0.34,
          2.5,
          0.56,
          2.29,
          0.57,
          0.7,
          0.7,
          0.08,
          0.08,
          0.37,
          10.68,
          0.37,
          12.8,
          0.21,
          0.28,
          0.24,
          0.25,
          1.15,
          1.29,
          3.95,
          0.68,
          1.03,
          0.69,
          0.11,
          2.49,
          0.29,
          0.05,
          14.72,
          14.72,
          10.21,
          10.21,
          2.06,
          1.82,
          1.82,
          24.02,
          24.02,
          9.51,
          4.05,
          8.42,
          3.58,
          5.84,
          23.79,
          5.35,
          32.08,
          4.53,
          0.36,
          0.16,
          0.19,
          0.46,
          0.46,
          0.52,
          0.19,
          0.48,
          11.57,
          1.03,
          0.48,
          7,
          7,
          5.13,
          16.45,
          16.45,
          0.65,
          0.46,
          0.29,
          0.46,
          0.19,
          0.55,
          15.48,
          0.48,
          2.11,
          0.19,
          0.69,
          9.05,
          2.02,
          0.48,
          0.1,
          0.1,
          0.85,
          0.38,
          0.65,
          0.11,
          1.86,
          4.05,
          0.77,
          0.3,
          7.76,
          0.46,
          0.4,
          0.3,
          0.3,
          10.28,
          0.98,
          0.21,
          1.57,
          0.32,
          0.37,
          0.38,
          1.43,
          0.38,
          0.19,
          0.18,
          0.22,
          0.13,
          0.32,
          6.08,
          1.41,
          2.62,
          1.08,
          7.93,
          26.82,
          7.95,
          38.69,
          5.61,
          1.71,
          18.86,
          0.67,
          0.1,
          0.6,
          1.2,
          16.2,
          13.51,
          12.98,
          11.09,
          3.26,
          4.99,
          5.33,
          5.42,
          4.63,
          7.32,
          12.85,
          6.33,
          2.83,
          2.3,
          2.3,
          5.71,
          2.24,
          2.24,
          0.15,
          1.43,
          0.47,
          0.54,
          0.37,
          0.49,
          0.59,
          2.99,
          0.07,
          0.64,
          0.24,
          0.97,
          0.36,
          0.42,
          2.22,
          0.48,
          0.48,
          0.49,
          0.48,
          0.42,
          0.68,
          0.48,
          4.03,
          5.86,
          10.06,
          6.71,
          0.64,
          11.22,
          3.74,
          0.06,
          0.61,
          0.61,
          0.06,
          0.39,
          0.39,
          0.59,
          0.26,
          2.26,
          0.12,
          0.12,
          1.73,
          0.32,
          0.32,
          0.13,
          0.13,
          1.32,
          0.52,
          0.3,
          0.26,
          0.5,
          0.48,
          4.94,
          3.77,
          0.59,
          0.5,
          0.5,
          0.15,
          0.39,
          0.11,
          1.66,
          0,
          0.06,
          3.23,
          0.98,
          1.83,
          0.1,
          23.12,
          0.34,
          1.08,
          0.07,
          5.68,
          0.06,
          0.69,
          0.54,
          0.26,
          0.26,
          0.04,
          3.89,
          1.84,
          0.41,
          0.23,
          2.07,
          5.68,
          2.41,
          0.06,
          0.31,
          0.46,
          0.52,
          5.68,
          0.42,
          1.01,
          0.11,
          0.75,
          1.77,
          0.54,
          0.3,
          1.29,
          0.9,
          0.51,
          2.13,
          5.41,
          5.41,
          0.8,
          0.8,
          0.19,
          0.14,
          0.32,
          2.81,
          0.71,
          10.34,
          0.1,
          0.14,
          0.11,
          0.73,
          0.71,
          0.67,
          2.77,
          1.87,
          4.05,
          0.73,
          0.44,
          0.31,
          0.43,
          0.43,
          0.26,
          1.24,
          5.18,
          0.07,
          0.69,
          0.3,
          0.68,
          8.72,
          0.5,
          3.55,
          3.07,
          3.55,
          1.15,
          0.64,
          0.19,
          0.11,
          3.06,
          0.21,
          0.98,
          0.65,
          3.45,
          0.14,
          1.01,
          0.33,
          7.9,
          7.9,
          0.43,
          0.15,
          0.87,
          5.45,
          0.92,
          2.55,
          18.32,
          5.91,
          5.91,
          28,
          9.65,
          0.46,
          0.09,
          1.75,
          0.35,
          0.23,
          0.26,
          5.52,
          0.06,
          0.25,
          0.68,
          1.87,
          0.17,
          0.17,
          0.39,
          0.59,
          0.32,
          4.94,
          0.62,
          0.86,
          0.86,
          0.33,
          0.33,
          0.74,
          0.13,
          0.47,
          0.37,
          1.01,
          7.16,
          0.39,
          0.54,
          0.41,
          0.51,
          3.22,
          1.68,
          0.09,
          0.88,
          0.57,
          0.57,
          0.45,
          1.99,
          3.29,
          0.7,
          0.45,
          0.37,
          0.59,
          0.64,
          0.39,
          0.2,
          0.28,
          2.07,
          0.28,
          1.08,
          0.75,
          0.76,
          0.07,
          6.83,
          4.44,
          2.5,
          0.68,
          0.08,
          0.65,
          4.58,
          0.22,
          0.61,
          0.38,
          0.38,
          0.11,
          0.21,
          6.07,
          0.17,
          1.96,
          1.88,
          0.22,
          0.08,
          0.25,
          2.16,
          0.22,
          1.15,
          0.34,
          0.22,
          0.29,
          0.29,
          0.89,
          6.21,
          0.66,
          2.11,
          0.63,
          0.8,
          0.09,
          0.7,
          1.42,
          1.99,
          0.1,
          0.29,
          0.29,
          0.42,
          0.1,
          0.1,
          0.32,
          0.76,
          0.7,
          0.65,
          5.76,
          0.36,
          0.34,
          0.3,
          0.85,
          0.64,
          6.35,
          0.08,
          2.82,
          0.23,
          5.06,
          0,
          0.25,
          0.25,
          0.06,
          1.5,
          0.76,
          0.76,
          0.38,
          1.7,
          2.75,
          0,
          0.1,
          1.52,
          10.21,
          9.1,
          1.7,
          1.7,
          0.16,
          0.47,
          0.47,
          0.24,
          0.27,
          0.16,
          1.93,
          0.37,
          0.33,
          0.16,
          0.14,
          0.28,
          0.48,
          0.56,
          1.08,
          1.08,
          1.09,
          0.75,
          0.3,
          6.45,
          0.32,
          0.09,
          0.06,
          0.36,
          10.21,
          9.1,
          1.7,
          1.7,
          0.16,
          0.47,
          0.47,
          0.24,
          0.27,
          0.16,
          1.93,
          0.37,
          0.33,
          0.16,
          0.14,
          0.28,
          0.48,
          0.56,
          1.08
         ]
        }
       ],
       "layout": {
        "template": {
         "data": {
          "bar": [
           {
            "error_x": {
             "color": "#2a3f5f"
            },
            "error_y": {
             "color": "#2a3f5f"
            },
            "marker": {
             "line": {
              "color": "#E5ECF6",
              "width": 0.5
             },
             "pattern": {
              "fillmode": "overlay",
              "size": 10,
              "solidity": 0.2
             }
            },
            "type": "bar"
           }
          ],
          "barpolar": [
           {
            "marker": {
             "line": {
              "color": "#E5ECF6",
              "width": 0.5
             },
             "pattern": {
              "fillmode": "overlay",
              "size": 10,
              "solidity": 0.2
             }
            },
            "type": "barpolar"
           }
          ],
          "carpet": [
           {
            "aaxis": {
             "endlinecolor": "#2a3f5f",
             "gridcolor": "white",
             "linecolor": "white",
             "minorgridcolor": "white",
             "startlinecolor": "#2a3f5f"
            },
            "baxis": {
             "endlinecolor": "#2a3f5f",
             "gridcolor": "white",
             "linecolor": "white",
             "minorgridcolor": "white",
             "startlinecolor": "#2a3f5f"
            },
            "type": "carpet"
           }
          ],
          "choropleth": [
           {
            "colorbar": {
             "outlinewidth": 0,
             "ticks": ""
            },
            "type": "choropleth"
           }
          ],
          "contour": [
           {
            "colorbar": {
             "outlinewidth": 0,
             "ticks": ""
            },
            "colorscale": [
             [
              0,
              "#0d0887"
             ],
             [
              0.1111111111111111,
              "#46039f"
             ],
             [
              0.2222222222222222,
              "#7201a8"
             ],
             [
              0.3333333333333333,
              "#9c179e"
             ],
             [
              0.4444444444444444,
              "#bd3786"
             ],
             [
              0.5555555555555556,
              "#d8576b"
             ],
             [
              0.6666666666666666,
              "#ed7953"
             ],
             [
              0.7777777777777778,
              "#fb9f3a"
             ],
             [
              0.8888888888888888,
              "#fdca26"
             ],
             [
              1,
              "#f0f921"
             ]
            ],
            "type": "contour"
           }
          ],
          "contourcarpet": [
           {
            "colorbar": {
             "outlinewidth": 0,
             "ticks": ""
            },
            "type": "contourcarpet"
           }
          ],
          "heatmap": [
           {
            "colorbar": {
             "outlinewidth": 0,
             "ticks": ""
            },
            "colorscale": [
             [
              0,
              "#0d0887"
             ],
             [
              0.1111111111111111,
              "#46039f"
             ],
             [
              0.2222222222222222,
              "#7201a8"
             ],
             [
              0.3333333333333333,
              "#9c179e"
             ],
             [
              0.4444444444444444,
              "#bd3786"
             ],
             [
              0.5555555555555556,
              "#d8576b"
             ],
             [
              0.6666666666666666,
              "#ed7953"
             ],
             [
              0.7777777777777778,
              "#fb9f3a"
             ],
             [
              0.8888888888888888,
              "#fdca26"
             ],
             [
              1,
              "#f0f921"
             ]
            ],
            "type": "heatmap"
           }
          ],
          "heatmapgl": [
           {
            "colorbar": {
             "outlinewidth": 0,
             "ticks": ""
            },
            "colorscale": [
             [
              0,
              "#0d0887"
             ],
             [
              0.1111111111111111,
              "#46039f"
             ],
             [
              0.2222222222222222,
              "#7201a8"
             ],
             [
              0.3333333333333333,
              "#9c179e"
             ],
             [
              0.4444444444444444,
              "#bd3786"
             ],
             [
              0.5555555555555556,
              "#d8576b"
             ],
             [
              0.6666666666666666,
              "#ed7953"
             ],
             [
              0.7777777777777778,
              "#fb9f3a"
             ],
             [
              0.8888888888888888,
              "#fdca26"
             ],
             [
              1,
              "#f0f921"
             ]
            ],
            "type": "heatmapgl"
           }
          ],
          "histogram": [
           {
            "marker": {
             "pattern": {
              "fillmode": "overlay",
              "size": 10,
              "solidity": 0.2
             }
            },
            "type": "histogram"
           }
          ],
          "histogram2d": [
           {
            "colorbar": {
             "outlinewidth": 0,
             "ticks": ""
            },
            "colorscale": [
             [
              0,
              "#0d0887"
             ],
             [
              0.1111111111111111,
              "#46039f"
             ],
             [
              0.2222222222222222,
              "#7201a8"
             ],
             [
              0.3333333333333333,
              "#9c179e"
             ],
             [
              0.4444444444444444,
              "#bd3786"
             ],
             [
              0.5555555555555556,
              "#d8576b"
             ],
             [
              0.6666666666666666,
              "#ed7953"
             ],
             [
              0.7777777777777778,
              "#fb9f3a"
             ],
             [
              0.8888888888888888,
              "#fdca26"
             ],
             [
              1,
              "#f0f921"
             ]
            ],
            "type": "histogram2d"
           }
          ],
          "histogram2dcontour": [
           {
            "colorbar": {
             "outlinewidth": 0,
             "ticks": ""
            },
            "colorscale": [
             [
              0,
              "#0d0887"
             ],
             [
              0.1111111111111111,
              "#46039f"
             ],
             [
              0.2222222222222222,
              "#7201a8"
             ],
             [
              0.3333333333333333,
              "#9c179e"
             ],
             [
              0.4444444444444444,
              "#bd3786"
             ],
             [
              0.5555555555555556,
              "#d8576b"
             ],
             [
              0.6666666666666666,
              "#ed7953"
             ],
             [
              0.7777777777777778,
              "#fb9f3a"
             ],
             [
              0.8888888888888888,
              "#fdca26"
             ],
             [
              1,
              "#f0f921"
             ]
            ],
            "type": "histogram2dcontour"
           }
          ],
          "mesh3d": [
           {
            "colorbar": {
             "outlinewidth": 0,
             "ticks": ""
            },
            "type": "mesh3d"
           }
          ],
          "parcoords": [
           {
            "line": {
             "colorbar": {
              "outlinewidth": 0,
              "ticks": ""
             }
            },
            "type": "parcoords"
           }
          ],
          "pie": [
           {
            "automargin": true,
            "type": "pie"
           }
          ],
          "scatter": [
           {
            "fillpattern": {
             "fillmode": "overlay",
             "size": 10,
             "solidity": 0.2
            },
            "type": "scatter"
           }
          ],
          "scatter3d": [
           {
            "line": {
             "colorbar": {
              "outlinewidth": 0,
              "ticks": ""
             }
            },
            "marker": {
             "colorbar": {
              "outlinewidth": 0,
              "ticks": ""
             }
            },
            "type": "scatter3d"
           }
          ],
          "scattercarpet": [
           {
            "marker": {
             "colorbar": {
              "outlinewidth": 0,
              "ticks": ""
             }
            },
            "type": "scattercarpet"
           }
          ],
          "scattergeo": [
           {
            "marker": {
             "colorbar": {
              "outlinewidth": 0,
              "ticks": ""
             }
            },
            "type": "scattergeo"
           }
          ],
          "scattergl": [
           {
            "marker": {
             "colorbar": {
              "outlinewidth": 0,
              "ticks": ""
             }
            },
            "type": "scattergl"
           }
          ],
          "scattermapbox": [
           {
            "marker": {
             "colorbar": {
              "outlinewidth": 0,
              "ticks": ""
             }
            },
            "type": "scattermapbox"
           }
          ],
          "scatterpolar": [
           {
            "marker": {
             "colorbar": {
              "outlinewidth": 0,
              "ticks": ""
             }
            },
            "type": "scatterpolar"
           }
          ],
          "scatterpolargl": [
           {
            "marker": {
             "colorbar": {
              "outlinewidth": 0,
              "ticks": ""
             }
            },
            "type": "scatterpolargl"
           }
          ],
          "scatterternary": [
           {
            "marker": {
             "colorbar": {
              "outlinewidth": 0,
              "ticks": ""
             }
            },
            "type": "scatterternary"
           }
          ],
          "surface": [
           {
            "colorbar": {
             "outlinewidth": 0,
             "ticks": ""
            },
            "colorscale": [
             [
              0,
              "#0d0887"
             ],
             [
              0.1111111111111111,
              "#46039f"
             ],
             [
              0.2222222222222222,
              "#7201a8"
             ],
             [
              0.3333333333333333,
              "#9c179e"
             ],
             [
              0.4444444444444444,
              "#bd3786"
             ],
             [
              0.5555555555555556,
              "#d8576b"
             ],
             [
              0.6666666666666666,
              "#ed7953"
             ],
             [
              0.7777777777777778,
              "#fb9f3a"
             ],
             [
              0.8888888888888888,
              "#fdca26"
             ],
             [
              1,
              "#f0f921"
             ]
            ],
            "type": "surface"
           }
          ],
          "table": [
           {
            "cells": {
             "fill": {
              "color": "#EBF0F8"
             },
             "line": {
              "color": "white"
             }
            },
            "header": {
             "fill": {
              "color": "#C8D4E3"
             },
             "line": {
              "color": "white"
             }
            },
            "type": "table"
           }
          ]
         },
         "layout": {
          "annotationdefaults": {
           "arrowcolor": "#2a3f5f",
           "arrowhead": 0,
           "arrowwidth": 1
          },
          "autotypenumbers": "strict",
          "coloraxis": {
           "colorbar": {
            "outlinewidth": 0,
            "ticks": ""
           }
          },
          "colorscale": {
           "diverging": [
            [
             0,
             "#8e0152"
            ],
            [
             0.1,
             "#c51b7d"
            ],
            [
             0.2,
             "#de77ae"
            ],
            [
             0.3,
             "#f1b6da"
            ],
            [
             0.4,
             "#fde0ef"
            ],
            [
             0.5,
             "#f7f7f7"
            ],
            [
             0.6,
             "#e6f5d0"
            ],
            [
             0.7,
             "#b8e186"
            ],
            [
             0.8,
             "#7fbc41"
            ],
            [
             0.9,
             "#4d9221"
            ],
            [
             1,
             "#276419"
            ]
           ],
           "sequential": [
            [
             0,
             "#0d0887"
            ],
            [
             0.1111111111111111,
             "#46039f"
            ],
            [
             0.2222222222222222,
             "#7201a8"
            ],
            [
             0.3333333333333333,
             "#9c179e"
            ],
            [
             0.4444444444444444,
             "#bd3786"
            ],
            [
             0.5555555555555556,
             "#d8576b"
            ],
            [
             0.6666666666666666,
             "#ed7953"
            ],
            [
             0.7777777777777778,
             "#fb9f3a"
            ],
            [
             0.8888888888888888,
             "#fdca26"
            ],
            [
             1,
             "#f0f921"
            ]
           ],
           "sequentialminus": [
            [
             0,
             "#0d0887"
            ],
            [
             0.1111111111111111,
             "#46039f"
            ],
            [
             0.2222222222222222,
             "#7201a8"
            ],
            [
             0.3333333333333333,
             "#9c179e"
            ],
            [
             0.4444444444444444,
             "#bd3786"
            ],
            [
             0.5555555555555556,
             "#d8576b"
            ],
            [
             0.6666666666666666,
             "#ed7953"
            ],
            [
             0.7777777777777778,
             "#fb9f3a"
            ],
            [
             0.8888888888888888,
             "#fdca26"
            ],
            [
             1,
             "#f0f921"
            ]
           ]
          },
          "colorway": [
           "#636efa",
           "#EF553B",
           "#00cc96",
           "#ab63fa",
           "#FFA15A",
           "#19d3f3",
           "#FF6692",
           "#B6E880",
           "#FF97FF",
           "#FECB52"
          ],
          "font": {
           "color": "#2a3f5f"
          },
          "geo": {
           "bgcolor": "white",
           "lakecolor": "white",
           "landcolor": "#E5ECF6",
           "showlakes": true,
           "showland": true,
           "subunitcolor": "white"
          },
          "hoverlabel": {
           "align": "left"
          },
          "hovermode": "closest",
          "mapbox": {
           "style": "light"
          },
          "paper_bgcolor": "white",
          "plot_bgcolor": "#E5ECF6",
          "polar": {
           "angularaxis": {
            "gridcolor": "white",
            "linecolor": "white",
            "ticks": ""
           },
           "bgcolor": "#E5ECF6",
           "radialaxis": {
            "gridcolor": "white",
            "linecolor": "white",
            "ticks": ""
           }
          },
          "scene": {
           "xaxis": {
            "backgroundcolor": "#E5ECF6",
            "gridcolor": "white",
            "gridwidth": 2,
            "linecolor": "white",
            "showbackground": true,
            "ticks": "",
            "zerolinecolor": "white"
           },
           "yaxis": {
            "backgroundcolor": "#E5ECF6",
            "gridcolor": "white",
            "gridwidth": 2,
            "linecolor": "white",
            "showbackground": true,
            "ticks": "",
            "zerolinecolor": "white"
           },
           "zaxis": {
            "backgroundcolor": "#E5ECF6",
            "gridcolor": "white",
            "gridwidth": 2,
            "linecolor": "white",
            "showbackground": true,
            "ticks": "",
            "zerolinecolor": "white"
           }
          },
          "shapedefaults": {
           "line": {
            "color": "#2a3f5f"
           }
          },
          "ternary": {
           "aaxis": {
            "gridcolor": "white",
            "linecolor": "white",
            "ticks": ""
           },
           "baxis": {
            "gridcolor": "white",
            "linecolor": "white",
            "ticks": ""
           },
           "bgcolor": "#E5ECF6",
           "caxis": {
            "gridcolor": "white",
            "linecolor": "white",
            "ticks": ""
           }
          },
          "title": {
           "x": 0.05
          },
          "xaxis": {
           "automargin": true,
           "gridcolor": "white",
           "linecolor": "white",
           "ticks": "",
           "title": {
            "standoff": 15
           },
           "zerolinecolor": "white",
           "zerolinewidth": 2
          },
          "yaxis": {
           "automargin": true,
           "gridcolor": "white",
           "linecolor": "white",
           "ticks": "",
           "title": {
            "standoff": 15
           },
           "zerolinecolor": "white",
           "zerolinewidth": 2
          }
         }
        },
        "title": {
         "text": "Distribución de 'Dosis Total [mGy]' por procedimiento (boxplots)"
        },
        "xaxis": {
         "categoryarray": [
          "Pie",
          "Mano",
          "Tórax",
          "Rodilla",
          "Hombro",
          "Abdomen",
          "Pelvis",
          "Lumbar"
         ],
         "categoryorder": "array",
         "title": {
          "text": "Estudio"
         }
        },
        "yaxis": {
         "title": {
          "text": "Dosis Total [mGy]"
         }
        }
       }
      }
     },
     "metadata": {},
     "output_type": "display_data"
    }
   ],
   "source": [
    "#graficamos el promedio de dosis total por estudio con boxplot\n",
    "orden = (df_completo_sin_NAN_interes\n",
    "         .groupby(\"Estudio\")[\"Dosis Total [mGy]\"]\n",
    "         .mean()\n",
    "         .sort_values()\n",
    "         .index\n",
    "         .tolist())\n",
    "fig = go.Figure()\n",
    "fig.add_trace(go.Box(\n",
    "    x=df_completo_sin_NAN_interes[\"Estudio\"],\n",
    "    y=df_completo_sin_NAN_interes[\"Dosis Total [mGy]\"],\n",
    "    name=\"Dosis Total [mGy]\",\n",
    "    boxpoints=\"outliers\",\n",
    "    boxmean=True,\n",
    "    # 👇 Pasamos el peso como customdata (alineado fila a fila)\n",
    "    customdata=np.c_[df_completo_sin_NAN_interes[\"Peso[kg]\"]],\n",
    "    hovertemplate=(\n",
    "        \"Estudio: %{x}<br>\"\n",
    "        \"Dosis: %{y:.2f} mGy<br>\"\n",
    "        \"Peso: %{customdata[0]:.1f} kg<extra></extra>\"\n",
    "    ),\n",
    "))\n",
    "\n",
    "fig.update_layout(\n",
    "    title=\"Distribución de 'Dosis Total [mGy]' por procedimiento (boxplots)\",\n",
    "    xaxis_title=\"Estudio\",\n",
    "    yaxis_title=\"Dosis Total [mGy]\",\n",
    ")\n",
    "fig.update_xaxes(categoryorder=\"array\", categoryarray=orden)\n",
    "fig.show()\n"
   ]
  },
  {
   "cell_type": "markdown",
   "id": "8a0567e9",
   "metadata": {},
   "source": [
    "### 3) Promedio de dosis por estudio y proyeccion(usando dosis no dosis total)"
   ]
  },
  {
   "cell_type": "markdown",
   "id": "fa348d7c",
   "metadata": {},
   "source": [
    "Se toaman todos los estudios de un tipo y para cada proyeccion se calcula el promedio de Dosis"
   ]
  },
  {
   "cell_type": "code",
   "execution_count": 471,
   "id": "a38098ba",
   "metadata": {},
   "outputs": [
    {
     "data": {
      "application/vnd.plotly.v1+json": {
       "config": {
        "plotlyServerURL": "https://plot.ly"
       },
       "data": [
        {
         "name": "LAT",
         "type": "bar",
         "x": [
          "Pie",
          "Mano",
          "Rodilla",
          "Tórax",
          "Hombro",
          "Abdomen",
          "Pelvis",
          "Lumbar"
         ],
         "y": [
          0.24444444444444444,
          0.38666666666666666,
          0.5828571428571429,
          0.6140395480225989,
          1.8054285714285714,
          3.5916,
          5.082602739726028,
          6.097446808510638
         ]
        },
        {
         "name": "AP-PA",
         "type": "bar",
         "x": [
          "Pie",
          "Tórax",
          "Mano",
          "Rodilla",
          "Hombro",
          "Lumbar",
          "Pelvis",
          "Abdomen"
         ],
         "y": [
          0.26275862068965516,
          0.4574846625766871,
          0.5148275862068965,
          0.6595161290322581,
          1.4307142857142858,
          3.964313725490196,
          4.201269841269841,
          4.776545454545454
         ]
        },
        {
         "name": "OBLICUO",
         "type": "bar",
         "x": [
          "Mano",
          "Pie",
          "Rodilla",
          "Tórax",
          "Pelvis",
          "Abdomen",
          "Hombro",
          "Lumbar"
         ],
         "y": [
          0.3020754716981132,
          0.33416666666666667,
          1.11,
          1.2257142857142858,
          3.9733333333333336,
          4.28,
          4.592727272727273,
          8.685333333333334
         ]
        }
       ],
       "layout": {
        "template": {
         "data": {
          "bar": [
           {
            "error_x": {
             "color": "#2a3f5f"
            },
            "error_y": {
             "color": "#2a3f5f"
            },
            "marker": {
             "line": {
              "color": "#E5ECF6",
              "width": 0.5
             },
             "pattern": {
              "fillmode": "overlay",
              "size": 10,
              "solidity": 0.2
             }
            },
            "type": "bar"
           }
          ],
          "barpolar": [
           {
            "marker": {
             "line": {
              "color": "#E5ECF6",
              "width": 0.5
             },
             "pattern": {
              "fillmode": "overlay",
              "size": 10,
              "solidity": 0.2
             }
            },
            "type": "barpolar"
           }
          ],
          "carpet": [
           {
            "aaxis": {
             "endlinecolor": "#2a3f5f",
             "gridcolor": "white",
             "linecolor": "white",
             "minorgridcolor": "white",
             "startlinecolor": "#2a3f5f"
            },
            "baxis": {
             "endlinecolor": "#2a3f5f",
             "gridcolor": "white",
             "linecolor": "white",
             "minorgridcolor": "white",
             "startlinecolor": "#2a3f5f"
            },
            "type": "carpet"
           }
          ],
          "choropleth": [
           {
            "colorbar": {
             "outlinewidth": 0,
             "ticks": ""
            },
            "type": "choropleth"
           }
          ],
          "contour": [
           {
            "colorbar": {
             "outlinewidth": 0,
             "ticks": ""
            },
            "colorscale": [
             [
              0,
              "#0d0887"
             ],
             [
              0.1111111111111111,
              "#46039f"
             ],
             [
              0.2222222222222222,
              "#7201a8"
             ],
             [
              0.3333333333333333,
              "#9c179e"
             ],
             [
              0.4444444444444444,
              "#bd3786"
             ],
             [
              0.5555555555555556,
              "#d8576b"
             ],
             [
              0.6666666666666666,
              "#ed7953"
             ],
             [
              0.7777777777777778,
              "#fb9f3a"
             ],
             [
              0.8888888888888888,
              "#fdca26"
             ],
             [
              1,
              "#f0f921"
             ]
            ],
            "type": "contour"
           }
          ],
          "contourcarpet": [
           {
            "colorbar": {
             "outlinewidth": 0,
             "ticks": ""
            },
            "type": "contourcarpet"
           }
          ],
          "heatmap": [
           {
            "colorbar": {
             "outlinewidth": 0,
             "ticks": ""
            },
            "colorscale": [
             [
              0,
              "#0d0887"
             ],
             [
              0.1111111111111111,
              "#46039f"
             ],
             [
              0.2222222222222222,
              "#7201a8"
             ],
             [
              0.3333333333333333,
              "#9c179e"
             ],
             [
              0.4444444444444444,
              "#bd3786"
             ],
             [
              0.5555555555555556,
              "#d8576b"
             ],
             [
              0.6666666666666666,
              "#ed7953"
             ],
             [
              0.7777777777777778,
              "#fb9f3a"
             ],
             [
              0.8888888888888888,
              "#fdca26"
             ],
             [
              1,
              "#f0f921"
             ]
            ],
            "type": "heatmap"
           }
          ],
          "heatmapgl": [
           {
            "colorbar": {
             "outlinewidth": 0,
             "ticks": ""
            },
            "colorscale": [
             [
              0,
              "#0d0887"
             ],
             [
              0.1111111111111111,
              "#46039f"
             ],
             [
              0.2222222222222222,
              "#7201a8"
             ],
             [
              0.3333333333333333,
              "#9c179e"
             ],
             [
              0.4444444444444444,
              "#bd3786"
             ],
             [
              0.5555555555555556,
              "#d8576b"
             ],
             [
              0.6666666666666666,
              "#ed7953"
             ],
             [
              0.7777777777777778,
              "#fb9f3a"
             ],
             [
              0.8888888888888888,
              "#fdca26"
             ],
             [
              1,
              "#f0f921"
             ]
            ],
            "type": "heatmapgl"
           }
          ],
          "histogram": [
           {
            "marker": {
             "pattern": {
              "fillmode": "overlay",
              "size": 10,
              "solidity": 0.2
             }
            },
            "type": "histogram"
           }
          ],
          "histogram2d": [
           {
            "colorbar": {
             "outlinewidth": 0,
             "ticks": ""
            },
            "colorscale": [
             [
              0,
              "#0d0887"
             ],
             [
              0.1111111111111111,
              "#46039f"
             ],
             [
              0.2222222222222222,
              "#7201a8"
             ],
             [
              0.3333333333333333,
              "#9c179e"
             ],
             [
              0.4444444444444444,
              "#bd3786"
             ],
             [
              0.5555555555555556,
              "#d8576b"
             ],
             [
              0.6666666666666666,
              "#ed7953"
             ],
             [
              0.7777777777777778,
              "#fb9f3a"
             ],
             [
              0.8888888888888888,
              "#fdca26"
             ],
             [
              1,
              "#f0f921"
             ]
            ],
            "type": "histogram2d"
           }
          ],
          "histogram2dcontour": [
           {
            "colorbar": {
             "outlinewidth": 0,
             "ticks": ""
            },
            "colorscale": [
             [
              0,
              "#0d0887"
             ],
             [
              0.1111111111111111,
              "#46039f"
             ],
             [
              0.2222222222222222,
              "#7201a8"
             ],
             [
              0.3333333333333333,
              "#9c179e"
             ],
             [
              0.4444444444444444,
              "#bd3786"
             ],
             [
              0.5555555555555556,
              "#d8576b"
             ],
             [
              0.6666666666666666,
              "#ed7953"
             ],
             [
              0.7777777777777778,
              "#fb9f3a"
             ],
             [
              0.8888888888888888,
              "#fdca26"
             ],
             [
              1,
              "#f0f921"
             ]
            ],
            "type": "histogram2dcontour"
           }
          ],
          "mesh3d": [
           {
            "colorbar": {
             "outlinewidth": 0,
             "ticks": ""
            },
            "type": "mesh3d"
           }
          ],
          "parcoords": [
           {
            "line": {
             "colorbar": {
              "outlinewidth": 0,
              "ticks": ""
             }
            },
            "type": "parcoords"
           }
          ],
          "pie": [
           {
            "automargin": true,
            "type": "pie"
           }
          ],
          "scatter": [
           {
            "fillpattern": {
             "fillmode": "overlay",
             "size": 10,
             "solidity": 0.2
            },
            "type": "scatter"
           }
          ],
          "scatter3d": [
           {
            "line": {
             "colorbar": {
              "outlinewidth": 0,
              "ticks": ""
             }
            },
            "marker": {
             "colorbar": {
              "outlinewidth": 0,
              "ticks": ""
             }
            },
            "type": "scatter3d"
           }
          ],
          "scattercarpet": [
           {
            "marker": {
             "colorbar": {
              "outlinewidth": 0,
              "ticks": ""
             }
            },
            "type": "scattercarpet"
           }
          ],
          "scattergeo": [
           {
            "marker": {
             "colorbar": {
              "outlinewidth": 0,
              "ticks": ""
             }
            },
            "type": "scattergeo"
           }
          ],
          "scattergl": [
           {
            "marker": {
             "colorbar": {
              "outlinewidth": 0,
              "ticks": ""
             }
            },
            "type": "scattergl"
           }
          ],
          "scattermapbox": [
           {
            "marker": {
             "colorbar": {
              "outlinewidth": 0,
              "ticks": ""
             }
            },
            "type": "scattermapbox"
           }
          ],
          "scatterpolar": [
           {
            "marker": {
             "colorbar": {
              "outlinewidth": 0,
              "ticks": ""
             }
            },
            "type": "scatterpolar"
           }
          ],
          "scatterpolargl": [
           {
            "marker": {
             "colorbar": {
              "outlinewidth": 0,
              "ticks": ""
             }
            },
            "type": "scatterpolargl"
           }
          ],
          "scatterternary": [
           {
            "marker": {
             "colorbar": {
              "outlinewidth": 0,
              "ticks": ""
             }
            },
            "type": "scatterternary"
           }
          ],
          "surface": [
           {
            "colorbar": {
             "outlinewidth": 0,
             "ticks": ""
            },
            "colorscale": [
             [
              0,
              "#0d0887"
             ],
             [
              0.1111111111111111,
              "#46039f"
             ],
             [
              0.2222222222222222,
              "#7201a8"
             ],
             [
              0.3333333333333333,
              "#9c179e"
             ],
             [
              0.4444444444444444,
              "#bd3786"
             ],
             [
              0.5555555555555556,
              "#d8576b"
             ],
             [
              0.6666666666666666,
              "#ed7953"
             ],
             [
              0.7777777777777778,
              "#fb9f3a"
             ],
             [
              0.8888888888888888,
              "#fdca26"
             ],
             [
              1,
              "#f0f921"
             ]
            ],
            "type": "surface"
           }
          ],
          "table": [
           {
            "cells": {
             "fill": {
              "color": "#EBF0F8"
             },
             "line": {
              "color": "white"
             }
            },
            "header": {
             "fill": {
              "color": "#C8D4E3"
             },
             "line": {
              "color": "white"
             }
            },
            "type": "table"
           }
          ]
         },
         "layout": {
          "annotationdefaults": {
           "arrowcolor": "#2a3f5f",
           "arrowhead": 0,
           "arrowwidth": 1
          },
          "autotypenumbers": "strict",
          "coloraxis": {
           "colorbar": {
            "outlinewidth": 0,
            "ticks": ""
           }
          },
          "colorscale": {
           "diverging": [
            [
             0,
             "#8e0152"
            ],
            [
             0.1,
             "#c51b7d"
            ],
            [
             0.2,
             "#de77ae"
            ],
            [
             0.3,
             "#f1b6da"
            ],
            [
             0.4,
             "#fde0ef"
            ],
            [
             0.5,
             "#f7f7f7"
            ],
            [
             0.6,
             "#e6f5d0"
            ],
            [
             0.7,
             "#b8e186"
            ],
            [
             0.8,
             "#7fbc41"
            ],
            [
             0.9,
             "#4d9221"
            ],
            [
             1,
             "#276419"
            ]
           ],
           "sequential": [
            [
             0,
             "#0d0887"
            ],
            [
             0.1111111111111111,
             "#46039f"
            ],
            [
             0.2222222222222222,
             "#7201a8"
            ],
            [
             0.3333333333333333,
             "#9c179e"
            ],
            [
             0.4444444444444444,
             "#bd3786"
            ],
            [
             0.5555555555555556,
             "#d8576b"
            ],
            [
             0.6666666666666666,
             "#ed7953"
            ],
            [
             0.7777777777777778,
             "#fb9f3a"
            ],
            [
             0.8888888888888888,
             "#fdca26"
            ],
            [
             1,
             "#f0f921"
            ]
           ],
           "sequentialminus": [
            [
             0,
             "#0d0887"
            ],
            [
             0.1111111111111111,
             "#46039f"
            ],
            [
             0.2222222222222222,
             "#7201a8"
            ],
            [
             0.3333333333333333,
             "#9c179e"
            ],
            [
             0.4444444444444444,
             "#bd3786"
            ],
            [
             0.5555555555555556,
             "#d8576b"
            ],
            [
             0.6666666666666666,
             "#ed7953"
            ],
            [
             0.7777777777777778,
             "#fb9f3a"
            ],
            [
             0.8888888888888888,
             "#fdca26"
            ],
            [
             1,
             "#f0f921"
            ]
           ]
          },
          "colorway": [
           "#636efa",
           "#EF553B",
           "#00cc96",
           "#ab63fa",
           "#FFA15A",
           "#19d3f3",
           "#FF6692",
           "#B6E880",
           "#FF97FF",
           "#FECB52"
          ],
          "font": {
           "color": "#2a3f5f"
          },
          "geo": {
           "bgcolor": "white",
           "lakecolor": "white",
           "landcolor": "#E5ECF6",
           "showlakes": true,
           "showland": true,
           "subunitcolor": "white"
          },
          "hoverlabel": {
           "align": "left"
          },
          "hovermode": "closest",
          "mapbox": {
           "style": "light"
          },
          "paper_bgcolor": "white",
          "plot_bgcolor": "#E5ECF6",
          "polar": {
           "angularaxis": {
            "gridcolor": "white",
            "linecolor": "white",
            "ticks": ""
           },
           "bgcolor": "#E5ECF6",
           "radialaxis": {
            "gridcolor": "white",
            "linecolor": "white",
            "ticks": ""
           }
          },
          "scene": {
           "xaxis": {
            "backgroundcolor": "#E5ECF6",
            "gridcolor": "white",
            "gridwidth": 2,
            "linecolor": "white",
            "showbackground": true,
            "ticks": "",
            "zerolinecolor": "white"
           },
           "yaxis": {
            "backgroundcolor": "#E5ECF6",
            "gridcolor": "white",
            "gridwidth": 2,
            "linecolor": "white",
            "showbackground": true,
            "ticks": "",
            "zerolinecolor": "white"
           },
           "zaxis": {
            "backgroundcolor": "#E5ECF6",
            "gridcolor": "white",
            "gridwidth": 2,
            "linecolor": "white",
            "showbackground": true,
            "ticks": "",
            "zerolinecolor": "white"
           }
          },
          "shapedefaults": {
           "line": {
            "color": "#2a3f5f"
           }
          },
          "ternary": {
           "aaxis": {
            "gridcolor": "white",
            "linecolor": "white",
            "ticks": ""
           },
           "baxis": {
            "gridcolor": "white",
            "linecolor": "white",
            "ticks": ""
           },
           "bgcolor": "#E5ECF6",
           "caxis": {
            "gridcolor": "white",
            "linecolor": "white",
            "ticks": ""
           }
          },
          "title": {
           "x": 0.05
          },
          "xaxis": {
           "automargin": true,
           "gridcolor": "white",
           "linecolor": "white",
           "ticks": "",
           "title": {
            "standoff": 15
           },
           "zerolinecolor": "white",
           "zerolinewidth": 2
          },
          "yaxis": {
           "automargin": true,
           "gridcolor": "white",
           "linecolor": "white",
           "ticks": "",
           "title": {
            "standoff": 15
           },
           "zerolinecolor": "white",
           "zerolinewidth": 2
          }
         }
        },
        "title": {
         "text": "Promedio de 'Dosis [mGy]' por procedimiento y proyección"
        },
        "xaxis": {
         "title": {
          "text": "Estudio"
         }
        },
        "yaxis": {
         "title": {
          "text": "Promedio Dosis [mGy]"
         }
        }
       }
      }
     },
     "metadata": {},
     "output_type": "display_data"
    }
   ],
   "source": [
    "\n",
    "# Normalizar columna Estudio\n",
    "df_completo[\"Estudio\"] = df_completo[\"Estudio\"].str.strip()  # quita espacios adelante/atrás\n",
    "df_completo[\"Estudio\"] = df_completo[\"Estudio\"].replace({\n",
    "    \"Pelvis Cadera\": \"Pelvis\",\n",
    "    \"Col Lumbar\": \"Lumbar\"\n",
    "})\n",
    "df_completo_interes = df_completo[df_completo[\"Estudio\"].isin([\"Tórax\", \"Pelvis\", \"Rodilla\", \"Mano\", \"Abdomen\", \"Lumbar\", \"Hombro\", \"Pie\"])]\n",
    "\n",
    "#Agrupamos por Estudio y Proyección y calculamos el promedio de Dosis\n",
    "promedios_proyeccion = (df_completo_interes\n",
    "                        .groupby([\"Estudio\", \"Proyección\"])[\"Dosis [mGy]\"]\n",
    "                        .mean()\n",
    "                        .sort_values()\n",
    "                        .reset_index())\n",
    "\n",
    "#Graficamos los promedios por estudio y proyeccion\n",
    "fig3 = go.Figure()\n",
    "for proyeccion in promedios_proyeccion[\"Proyección\"].unique():\n",
    "    fig3.add_trace(go.Bar(\n",
    "        x=promedios_proyeccion[promedios_proyeccion[\"Proyección\"] == proyeccion][\"Estudio\"],\n",
    "        y=promedios_proyeccion[promedios_proyeccion[\"Proyección\"] == proyeccion][\"Dosis [mGy]\"],\n",
    "        name=proyeccion\n",
    "    ))\n",
    "fig3.update_layout(\n",
    "    title=\"Promedio de 'Dosis [mGy]' por procedimiento y proyección\",\n",
    "    xaxis_title=\"Estudio\",\n",
    "    yaxis_title=\"Promedio Dosis [mGy]\",\n",
    ")\n",
    "fig3.show()\n"
   ]
  },
  {
   "cell_type": "markdown",
   "id": "c591ac67",
   "metadata": {},
   "source": [
    "### 4) Dosis total por peso"
   ]
  },
  {
   "cell_type": "code",
   "execution_count": 472,
   "id": "13300756",
   "metadata": {},
   "outputs": [
    {
     "name": "stdout",
     "output_type": "stream",
     "text": [
      "Número de pesos no nulos: 591\n",
      "Número de pesos nulos: 256\n",
      "Número de filas totales: 847\n"
     ]
    }
   ],
   "source": [
    "#cuantos pesos no nulos hay y nulos\n",
    "\n",
    "print(\"Número de pesos no nulos:\", df_completo_sin_NAN_interes[\"Peso[kg]\"].notna().sum())\n",
    "print(\"Número de pesos nulos:\", df_completo_sin_NAN_interes[\"Peso[kg]\"].isna().sum())\n",
    "print(\"Número de filas totales:\", len(df_completo_sin_NAN_interes))\n"
   ]
  },
  {
   "cell_type": "code",
   "execution_count": 473,
   "id": "8769967f",
   "metadata": {},
   "outputs": [],
   "source": [
    "df_completo_sin_NAN_interes = df_completo_sin_NAN_interes.dropna(subset=[\"Peso[kg]\"])"
   ]
  },
  {
   "cell_type": "code",
   "execution_count": 474,
   "id": "2d70e462",
   "metadata": {},
   "outputs": [
    {
     "name": "stdout",
     "output_type": "stream",
     "text": [
      "Valores únicos de Peso[kg] (ordenados): [45.0, 46.0, 49.0, 50.0, 51.0, 52.0, 53.0, 54.0, 55.0, 56.0, 57.0, 58.0, 59.0, 60.0, 61.0, 62.0, 63.0, 64.0, 65.0, 66.0, 67.0, 68.0, 69.0, 70.0, 71.0, 72.0, 73.0, 74.0, 75.0, 76.0, 77.0, 78.0, 79.0, 80.0, 81.0, 82.0, 83.0, 85.0, 86.0, 87.0, 88.0, 89.0, 90.0, 93.0, 95.0, 98.0, 99.0, 100.0, 101.0, 105.0, 110.0, 115.0, 120.0, 125.0]\n"
     ]
    },
    {
     "data": {
      "application/vnd.plotly.v1+json": {
       "config": {
        "plotlyServerURL": "https://plot.ly"
       },
       "data": [
        {
         "type": "histogram",
         "x": [
          65,
          70,
          70,
          68,
          75,
          75,
          52,
          80,
          65,
          80,
          76,
          76,
          115,
          115,
          65,
          65,
          60,
          62,
          120,
          120,
          58,
          66,
          66,
          55,
          67,
          60,
          50,
          60,
          70,
          70,
          60,
          60,
          90,
          100,
          125,
          90,
          60,
          70,
          75,
          70,
          70,
          50,
          63,
          68,
          65,
          70,
          70,
          75,
          58,
          62,
          65,
          70,
          70,
          60,
          65,
          75,
          75,
          70,
          70,
          98,
          72,
          75,
          68,
          60,
          89,
          93,
          58,
          80,
          80,
          70,
          65,
          68,
          70,
          70,
          70,
          68,
          68,
          56,
          56,
          65,
          65,
          65,
          65,
          69,
          69,
          69,
          72,
          72,
          62,
          80,
          95,
          110,
          78,
          75,
          75,
          70,
          70,
          85,
          70,
          70,
          55,
          85,
          85,
          63,
          60,
          55,
          65,
          70,
          75,
          70,
          72,
          75,
          75,
          75,
          57,
          70,
          75,
          70,
          85,
          60,
          60,
          60,
          51,
          51,
          110,
          110,
          65,
          85,
          80,
          70,
          70,
          56,
          65,
          55,
          75,
          68,
          70,
          70,
          70,
          75,
          85,
          70,
          70,
          60,
          65,
          65,
          65,
          78,
          99,
          76,
          76,
          70,
          70,
          50,
          76,
          76,
          65,
          65,
          65,
          65,
          65,
          56,
          60,
          70,
          70,
          65,
          68,
          68,
          70,
          86,
          63,
          65,
          55,
          55,
          58,
          68,
          80,
          80,
          70,
          80,
          65,
          72,
          80,
          49,
          50,
          75,
          80,
          80,
          65,
          80,
          80,
          75,
          75,
          65,
          76,
          75,
          80,
          65,
          81,
          81,
          50,
          70,
          65,
          65,
          65,
          75,
          75,
          75,
          101,
          50,
          66,
          63,
          50,
          80,
          80,
          72,
          72,
          78,
          72,
          69,
          67,
          81,
          72,
          72,
          64,
          68,
          67,
          67,
          67,
          67,
          71,
          71,
          71,
          71,
          87,
          65,
          85,
          77,
          62,
          70,
          85,
          71,
          71,
          98,
          60,
          60,
          70,
          60,
          60,
          55,
          62,
          70,
          70,
          65,
          70,
          70,
          62,
          71,
          71,
          71,
          63,
          63,
          70,
          75,
          50,
          65,
          65,
          65,
          65,
          80,
          68,
          72,
          67,
          67,
          67,
          80,
          75,
          70,
          72,
          68,
          52,
          52,
          82,
          80,
          70,
          75,
          60,
          70,
          70,
          50,
          80,
          75,
          75,
          80,
          75,
          70,
          60,
          70,
          65,
          65,
          65,
          70,
          70,
          81,
          81,
          64,
          70,
          70,
          70,
          59,
          75,
          72,
          68,
          82,
          67,
          67,
          67,
          76,
          63,
          63,
          63,
          63,
          79,
          55,
          55,
          62,
          61,
          73,
          68,
          61,
          65,
          65,
          75,
          45,
          60,
          70,
          70,
          75,
          70,
          70,
          70,
          70,
          55,
          55,
          60,
          60,
          60,
          70,
          75,
          65,
          70,
          70,
          60,
          70,
          65,
          80,
          70,
          70,
          63,
          63,
          70,
          72,
          70,
          63,
          54,
          70,
          70,
          68,
          62,
          65,
          58,
          70,
          65,
          65,
          65,
          60,
          60,
          60,
          60,
          53,
          60,
          70,
          55,
          52,
          60,
          55,
          55,
          65,
          72,
          72,
          75,
          60,
          60,
          70,
          57,
          65,
          63,
          65,
          60,
          60,
          61,
          72,
          55,
          75,
          75,
          60,
          45,
          45,
          68,
          75,
          105,
          60,
          60,
          60,
          65,
          115,
          60,
          72,
          60,
          70,
          60,
          75,
          75,
          78,
          65,
          60,
          69,
          72,
          68,
          80,
          60,
          60,
          65,
          65,
          71,
          69,
          69,
          69,
          69,
          56,
          56,
          56,
          56,
          70,
          80,
          63,
          63,
          56,
          67,
          45,
          75,
          70,
          86,
          86,
          86,
          86,
          66,
          70,
          68,
          69,
          69,
          75,
          75,
          75,
          75,
          46,
          70,
          65,
          60,
          57,
          65,
          65,
          65,
          65,
          73,
          67,
          58,
          75,
          56,
          56,
          65,
          65,
          65,
          60,
          75,
          75,
          75,
          61,
          60,
          68,
          67,
          72,
          65,
          67,
          60,
          60,
          70,
          58,
          55,
          50,
          60,
          55,
          90,
          70,
          55,
          65,
          65,
          65,
          75,
          65,
          65,
          55,
          85,
          70,
          70,
          70,
          80,
          75,
          70,
          75,
          83,
          88,
          75,
          72,
          76,
          76,
          86,
          58,
          58,
          45,
          65,
          60,
          60,
          70,
          70,
          67,
          55,
          115,
          60,
          55,
          77,
          67,
          120,
          55,
          80,
          70,
          85,
          60,
          60,
          60,
          72,
          72,
          72,
          72,
          70,
          85,
          85,
          85,
          74,
          70,
          68,
          60,
          60,
          56,
          67,
          67,
          67,
          67,
          61,
          50,
          50,
          50,
          68,
          60,
          60,
          56,
          67,
          67
         ],
         "xbins": {
          "end": 125,
          "size": 15,
          "start": 45
         }
        }
       ],
       "layout": {
        "template": {
         "data": {
          "bar": [
           {
            "error_x": {
             "color": "#2a3f5f"
            },
            "error_y": {
             "color": "#2a3f5f"
            },
            "marker": {
             "line": {
              "color": "#E5ECF6",
              "width": 0.5
             },
             "pattern": {
              "fillmode": "overlay",
              "size": 10,
              "solidity": 0.2
             }
            },
            "type": "bar"
           }
          ],
          "barpolar": [
           {
            "marker": {
             "line": {
              "color": "#E5ECF6",
              "width": 0.5
             },
             "pattern": {
              "fillmode": "overlay",
              "size": 10,
              "solidity": 0.2
             }
            },
            "type": "barpolar"
           }
          ],
          "carpet": [
           {
            "aaxis": {
             "endlinecolor": "#2a3f5f",
             "gridcolor": "white",
             "linecolor": "white",
             "minorgridcolor": "white",
             "startlinecolor": "#2a3f5f"
            },
            "baxis": {
             "endlinecolor": "#2a3f5f",
             "gridcolor": "white",
             "linecolor": "white",
             "minorgridcolor": "white",
             "startlinecolor": "#2a3f5f"
            },
            "type": "carpet"
           }
          ],
          "choropleth": [
           {
            "colorbar": {
             "outlinewidth": 0,
             "ticks": ""
            },
            "type": "choropleth"
           }
          ],
          "contour": [
           {
            "colorbar": {
             "outlinewidth": 0,
             "ticks": ""
            },
            "colorscale": [
             [
              0,
              "#0d0887"
             ],
             [
              0.1111111111111111,
              "#46039f"
             ],
             [
              0.2222222222222222,
              "#7201a8"
             ],
             [
              0.3333333333333333,
              "#9c179e"
             ],
             [
              0.4444444444444444,
              "#bd3786"
             ],
             [
              0.5555555555555556,
              "#d8576b"
             ],
             [
              0.6666666666666666,
              "#ed7953"
             ],
             [
              0.7777777777777778,
              "#fb9f3a"
             ],
             [
              0.8888888888888888,
              "#fdca26"
             ],
             [
              1,
              "#f0f921"
             ]
            ],
            "type": "contour"
           }
          ],
          "contourcarpet": [
           {
            "colorbar": {
             "outlinewidth": 0,
             "ticks": ""
            },
            "type": "contourcarpet"
           }
          ],
          "heatmap": [
           {
            "colorbar": {
             "outlinewidth": 0,
             "ticks": ""
            },
            "colorscale": [
             [
              0,
              "#0d0887"
             ],
             [
              0.1111111111111111,
              "#46039f"
             ],
             [
              0.2222222222222222,
              "#7201a8"
             ],
             [
              0.3333333333333333,
              "#9c179e"
             ],
             [
              0.4444444444444444,
              "#bd3786"
             ],
             [
              0.5555555555555556,
              "#d8576b"
             ],
             [
              0.6666666666666666,
              "#ed7953"
             ],
             [
              0.7777777777777778,
              "#fb9f3a"
             ],
             [
              0.8888888888888888,
              "#fdca26"
             ],
             [
              1,
              "#f0f921"
             ]
            ],
            "type": "heatmap"
           }
          ],
          "heatmapgl": [
           {
            "colorbar": {
             "outlinewidth": 0,
             "ticks": ""
            },
            "colorscale": [
             [
              0,
              "#0d0887"
             ],
             [
              0.1111111111111111,
              "#46039f"
             ],
             [
              0.2222222222222222,
              "#7201a8"
             ],
             [
              0.3333333333333333,
              "#9c179e"
             ],
             [
              0.4444444444444444,
              "#bd3786"
             ],
             [
              0.5555555555555556,
              "#d8576b"
             ],
             [
              0.6666666666666666,
              "#ed7953"
             ],
             [
              0.7777777777777778,
              "#fb9f3a"
             ],
             [
              0.8888888888888888,
              "#fdca26"
             ],
             [
              1,
              "#f0f921"
             ]
            ],
            "type": "heatmapgl"
           }
          ],
          "histogram": [
           {
            "marker": {
             "pattern": {
              "fillmode": "overlay",
              "size": 10,
              "solidity": 0.2
             }
            },
            "type": "histogram"
           }
          ],
          "histogram2d": [
           {
            "colorbar": {
             "outlinewidth": 0,
             "ticks": ""
            },
            "colorscale": [
             [
              0,
              "#0d0887"
             ],
             [
              0.1111111111111111,
              "#46039f"
             ],
             [
              0.2222222222222222,
              "#7201a8"
             ],
             [
              0.3333333333333333,
              "#9c179e"
             ],
             [
              0.4444444444444444,
              "#bd3786"
             ],
             [
              0.5555555555555556,
              "#d8576b"
             ],
             [
              0.6666666666666666,
              "#ed7953"
             ],
             [
              0.7777777777777778,
              "#fb9f3a"
             ],
             [
              0.8888888888888888,
              "#fdca26"
             ],
             [
              1,
              "#f0f921"
             ]
            ],
            "type": "histogram2d"
           }
          ],
          "histogram2dcontour": [
           {
            "colorbar": {
             "outlinewidth": 0,
             "ticks": ""
            },
            "colorscale": [
             [
              0,
              "#0d0887"
             ],
             [
              0.1111111111111111,
              "#46039f"
             ],
             [
              0.2222222222222222,
              "#7201a8"
             ],
             [
              0.3333333333333333,
              "#9c179e"
             ],
             [
              0.4444444444444444,
              "#bd3786"
             ],
             [
              0.5555555555555556,
              "#d8576b"
             ],
             [
              0.6666666666666666,
              "#ed7953"
             ],
             [
              0.7777777777777778,
              "#fb9f3a"
             ],
             [
              0.8888888888888888,
              "#fdca26"
             ],
             [
              1,
              "#f0f921"
             ]
            ],
            "type": "histogram2dcontour"
           }
          ],
          "mesh3d": [
           {
            "colorbar": {
             "outlinewidth": 0,
             "ticks": ""
            },
            "type": "mesh3d"
           }
          ],
          "parcoords": [
           {
            "line": {
             "colorbar": {
              "outlinewidth": 0,
              "ticks": ""
             }
            },
            "type": "parcoords"
           }
          ],
          "pie": [
           {
            "automargin": true,
            "type": "pie"
           }
          ],
          "scatter": [
           {
            "fillpattern": {
             "fillmode": "overlay",
             "size": 10,
             "solidity": 0.2
            },
            "type": "scatter"
           }
          ],
          "scatter3d": [
           {
            "line": {
             "colorbar": {
              "outlinewidth": 0,
              "ticks": ""
             }
            },
            "marker": {
             "colorbar": {
              "outlinewidth": 0,
              "ticks": ""
             }
            },
            "type": "scatter3d"
           }
          ],
          "scattercarpet": [
           {
            "marker": {
             "colorbar": {
              "outlinewidth": 0,
              "ticks": ""
             }
            },
            "type": "scattercarpet"
           }
          ],
          "scattergeo": [
           {
            "marker": {
             "colorbar": {
              "outlinewidth": 0,
              "ticks": ""
             }
            },
            "type": "scattergeo"
           }
          ],
          "scattergl": [
           {
            "marker": {
             "colorbar": {
              "outlinewidth": 0,
              "ticks": ""
             }
            },
            "type": "scattergl"
           }
          ],
          "scattermapbox": [
           {
            "marker": {
             "colorbar": {
              "outlinewidth": 0,
              "ticks": ""
             }
            },
            "type": "scattermapbox"
           }
          ],
          "scatterpolar": [
           {
            "marker": {
             "colorbar": {
              "outlinewidth": 0,
              "ticks": ""
             }
            },
            "type": "scatterpolar"
           }
          ],
          "scatterpolargl": [
           {
            "marker": {
             "colorbar": {
              "outlinewidth": 0,
              "ticks": ""
             }
            },
            "type": "scatterpolargl"
           }
          ],
          "scatterternary": [
           {
            "marker": {
             "colorbar": {
              "outlinewidth": 0,
              "ticks": ""
             }
            },
            "type": "scatterternary"
           }
          ],
          "surface": [
           {
            "colorbar": {
             "outlinewidth": 0,
             "ticks": ""
            },
            "colorscale": [
             [
              0,
              "#0d0887"
             ],
             [
              0.1111111111111111,
              "#46039f"
             ],
             [
              0.2222222222222222,
              "#7201a8"
             ],
             [
              0.3333333333333333,
              "#9c179e"
             ],
             [
              0.4444444444444444,
              "#bd3786"
             ],
             [
              0.5555555555555556,
              "#d8576b"
             ],
             [
              0.6666666666666666,
              "#ed7953"
             ],
             [
              0.7777777777777778,
              "#fb9f3a"
             ],
             [
              0.8888888888888888,
              "#fdca26"
             ],
             [
              1,
              "#f0f921"
             ]
            ],
            "type": "surface"
           }
          ],
          "table": [
           {
            "cells": {
             "fill": {
              "color": "#EBF0F8"
             },
             "line": {
              "color": "white"
             }
            },
            "header": {
             "fill": {
              "color": "#C8D4E3"
             },
             "line": {
              "color": "white"
             }
            },
            "type": "table"
           }
          ]
         },
         "layout": {
          "annotationdefaults": {
           "arrowcolor": "#2a3f5f",
           "arrowhead": 0,
           "arrowwidth": 1
          },
          "autotypenumbers": "strict",
          "coloraxis": {
           "colorbar": {
            "outlinewidth": 0,
            "ticks": ""
           }
          },
          "colorscale": {
           "diverging": [
            [
             0,
             "#8e0152"
            ],
            [
             0.1,
             "#c51b7d"
            ],
            [
             0.2,
             "#de77ae"
            ],
            [
             0.3,
             "#f1b6da"
            ],
            [
             0.4,
             "#fde0ef"
            ],
            [
             0.5,
             "#f7f7f7"
            ],
            [
             0.6,
             "#e6f5d0"
            ],
            [
             0.7,
             "#b8e186"
            ],
            [
             0.8,
             "#7fbc41"
            ],
            [
             0.9,
             "#4d9221"
            ],
            [
             1,
             "#276419"
            ]
           ],
           "sequential": [
            [
             0,
             "#0d0887"
            ],
            [
             0.1111111111111111,
             "#46039f"
            ],
            [
             0.2222222222222222,
             "#7201a8"
            ],
            [
             0.3333333333333333,
             "#9c179e"
            ],
            [
             0.4444444444444444,
             "#bd3786"
            ],
            [
             0.5555555555555556,
             "#d8576b"
            ],
            [
             0.6666666666666666,
             "#ed7953"
            ],
            [
             0.7777777777777778,
             "#fb9f3a"
            ],
            [
             0.8888888888888888,
             "#fdca26"
            ],
            [
             1,
             "#f0f921"
            ]
           ],
           "sequentialminus": [
            [
             0,
             "#0d0887"
            ],
            [
             0.1111111111111111,
             "#46039f"
            ],
            [
             0.2222222222222222,
             "#7201a8"
            ],
            [
             0.3333333333333333,
             "#9c179e"
            ],
            [
             0.4444444444444444,
             "#bd3786"
            ],
            [
             0.5555555555555556,
             "#d8576b"
            ],
            [
             0.6666666666666666,
             "#ed7953"
            ],
            [
             0.7777777777777778,
             "#fb9f3a"
            ],
            [
             0.8888888888888888,
             "#fdca26"
            ],
            [
             1,
             "#f0f921"
            ]
           ]
          },
          "colorway": [
           "#636efa",
           "#EF553B",
           "#00cc96",
           "#ab63fa",
           "#FFA15A",
           "#19d3f3",
           "#FF6692",
           "#B6E880",
           "#FF97FF",
           "#FECB52"
          ],
          "font": {
           "color": "#2a3f5f"
          },
          "geo": {
           "bgcolor": "white",
           "lakecolor": "white",
           "landcolor": "#E5ECF6",
           "showlakes": true,
           "showland": true,
           "subunitcolor": "white"
          },
          "hoverlabel": {
           "align": "left"
          },
          "hovermode": "closest",
          "mapbox": {
           "style": "light"
          },
          "paper_bgcolor": "white",
          "plot_bgcolor": "#E5ECF6",
          "polar": {
           "angularaxis": {
            "gridcolor": "white",
            "linecolor": "white",
            "ticks": ""
           },
           "bgcolor": "#E5ECF6",
           "radialaxis": {
            "gridcolor": "white",
            "linecolor": "white",
            "ticks": ""
           }
          },
          "scene": {
           "xaxis": {
            "backgroundcolor": "#E5ECF6",
            "gridcolor": "white",
            "gridwidth": 2,
            "linecolor": "white",
            "showbackground": true,
            "ticks": "",
            "zerolinecolor": "white"
           },
           "yaxis": {
            "backgroundcolor": "#E5ECF6",
            "gridcolor": "white",
            "gridwidth": 2,
            "linecolor": "white",
            "showbackground": true,
            "ticks": "",
            "zerolinecolor": "white"
           },
           "zaxis": {
            "backgroundcolor": "#E5ECF6",
            "gridcolor": "white",
            "gridwidth": 2,
            "linecolor": "white",
            "showbackground": true,
            "ticks": "",
            "zerolinecolor": "white"
           }
          },
          "shapedefaults": {
           "line": {
            "color": "#2a3f5f"
           }
          },
          "ternary": {
           "aaxis": {
            "gridcolor": "white",
            "linecolor": "white",
            "ticks": ""
           },
           "baxis": {
            "gridcolor": "white",
            "linecolor": "white",
            "ticks": ""
           },
           "bgcolor": "#E5ECF6",
           "caxis": {
            "gridcolor": "white",
            "linecolor": "white",
            "ticks": ""
           }
          },
          "title": {
           "x": 0.05
          },
          "xaxis": {
           "automargin": true,
           "gridcolor": "white",
           "linecolor": "white",
           "ticks": "",
           "title": {
            "standoff": 15
           },
           "zerolinecolor": "white",
           "zerolinewidth": 2
          },
          "yaxis": {
           "automargin": true,
           "gridcolor": "white",
           "linecolor": "white",
           "ticks": "",
           "title": {
            "standoff": 15
           },
           "zerolinecolor": "white",
           "zerolinewidth": 2
          }
         }
        },
        "title": {
         "text": "Distribución de Peso[kg] (bins de 15 kg de 45 a 125)"
        },
        "xaxis": {
         "title": {
          "text": "Peso[kg]"
         }
        },
        "yaxis": {
         "title": {
          "text": "Frecuencia"
         }
        }
       }
      }
     },
     "metadata": {},
     "output_type": "display_data"
    }
   ],
   "source": [
    "\n",
    "\n",
    "#eLIMINAMOS DEL df_completo_sin_NAN_interes LOS PESOS QUE SON nan y 0\n",
    "df_completo_sin_NAN_interes = df_completo_sin_NAN_interes[df_completo_sin_NAN_interes[\"Peso[kg]\"].notna() & (df_completo_sin_NAN_interes[\"Peso[kg]\"] > 0)]\n",
    "\n",
    "\n",
    "#Organizamos menor a mayor los valores unicos de Peso[kg] e imprimimos\n",
    "pesos_unicos = sorted(df_completo_sin_NAN_interes[\"Peso[kg]\"].unique())\n",
    "print(\"Valores únicos de Peso[kg] (ordenados):\", pesos_unicos)\n",
    "\n",
    "#Has una distribucion con histograma de la columna Peso[kg] usando bins personalizados de 45 a 125 cada 5 kg\n",
    "bins = np.arange(45, 130, 15)\n",
    "fig4 = go.Figure()\n",
    "fig4.add_trace(go.Histogram(\n",
    "    x=df_completo_sin_NAN_interes[\"Peso[kg]\"].dropna(),\n",
    "    xbins=dict(start=45, end=125, size=15)\n",
    "))\n",
    "fig4.update_layout(\n",
    "    title=\"Distribución de Peso[kg] (bins de 15 kg de 45 a 125)\",\n",
    "    xaxis_title=\"Peso[kg]\",\n",
    "    yaxis_title=\"Frecuencia\",\n",
    ")\n",
    "fig4.show()"
   ]
  },
  {
   "cell_type": "code",
   "execution_count": 475,
   "id": "d6128bd7",
   "metadata": {},
   "outputs": [
    {
     "name": "stdout",
     "output_type": "stream",
     "text": [
      "Valores únicos de Peso[kg] para el estudio Lumbar (ordenados): [50.0, 50.0, 50.0, 60.0, 60.0, 60.0, 60.0, 60.0, 63.0, 63.0, 65.0, 65.0, 67.0, 69.0, 69.0, 70.0, 70.0, 72.0, 72.0, 75.0, 75.0, 75.0, 75.0]\n"
     ]
    }
   ],
   "source": [
    "#quiero imprimir los valores unicos de los pesos para el estudio lumbar\n",
    "pesos_unicos_lumbar = sorted(df_completo_sin_NAN_interes[df_completo_sin_NAN_interes[\"Estudio\"]==\"Pie\"][\"Peso[kg]\"])\n",
    "print(\"Valores únicos de Peso[kg] para el estudio Lumbar (ordenados):\", pesos_unicos_lumbar)"
   ]
  },
  {
   "cell_type": "code",
   "execution_count": 476,
   "id": "59d46396",
   "metadata": {},
   "outputs": [
    {
     "name": "stdout",
     "output_type": "stream",
     "text": [
      "<class 'pandas.core.frame.DataFrame'>\n",
      "Index: 578 entries, 0 to 2195\n",
      "Data columns (total 11 columns):\n",
      " #   Column                   Non-Null Count  Dtype         \n",
      "---  ------                   --------------  -----         \n",
      " 0   Fecha                    578 non-null    datetime64[ns]\n",
      " 1   Estudio                  578 non-null    object        \n",
      " 2   Peso[kg]                 578 non-null    float64       \n",
      " 3   Distancia foco-detector  578 non-null    object        \n",
      " 4   Proyección               578 non-null    object        \n",
      " 5   kV                       578 non-null    float64       \n",
      " 6   mAs                      578 non-null    float64       \n",
      " 7   Img Aprobadas            578 non-null    int64         \n",
      " 8   Img Rechazadas           566 non-null    float64       \n",
      " 9   Dosis [mGy]              578 non-null    float64       \n",
      " 10  Dosis Total [mGy]        578 non-null    float64       \n",
      "dtypes: datetime64[ns](1), float64(6), int64(1), object(3)\n",
      "memory usage: 54.2+ KB\n"
     ]
    }
   ],
   "source": [
    "df_completo_sin_NAN_interes.info()"
   ]
  },
  {
   "cell_type": "code",
   "execution_count": 478,
   "id": "4c7d81ab",
   "metadata": {},
   "outputs": [
    {
     "name": "stderr",
     "output_type": "stream",
     "text": [
      "C:\\Users\\oscar\\AppData\\Local\\Temp\\ipykernel_9892\\2388529399.py:4: SettingWithCopyWarning:\n",
      "\n",
      "\n",
      "A value is trying to be set on a copy of a slice from a DataFrame.\n",
      "Try using .loc[row_indexer,col_indexer] = value instead\n",
      "\n",
      "See the caveats in the documentation: https://pandas.pydata.org/pandas-docs/stable/user_guide/indexing.html#returning-a-view-versus-a-copy\n",
      "\n",
      "C:\\Users\\oscar\\AppData\\Local\\Temp\\ipykernel_9892\\2388529399.py:5: FutureWarning:\n",
      "\n",
      "The default of observed=False is deprecated and will be changed to True in a future version of pandas. Pass observed=False to retain current behavior or observed=True to adopt the future default and silence this warning.\n",
      "\n"
     ]
    },
    {
     "data": {
      "application/vnd.plotly.v1+json": {
       "config": {
        "plotlyServerURL": "https://plot.ly"
       },
       "data": [
        {
         "name": "Estudio: Pelvis",
         "type": "bar",
         "x": [
          "(45, 60]",
          "(60, 75]",
          "(75, 90]",
          "(90, 105]",
          "(105, 120]"
         ],
         "y": [
          5.266363636363637,
          7.928666666666667,
          8.382,
          12.94,
          null
         ]
        }
       ],
       "layout": {
        "template": {
         "data": {
          "bar": [
           {
            "error_x": {
             "color": "#2a3f5f"
            },
            "error_y": {
             "color": "#2a3f5f"
            },
            "marker": {
             "line": {
              "color": "#E5ECF6",
              "width": 0.5
             },
             "pattern": {
              "fillmode": "overlay",
              "size": 10,
              "solidity": 0.2
             }
            },
            "type": "bar"
           }
          ],
          "barpolar": [
           {
            "marker": {
             "line": {
              "color": "#E5ECF6",
              "width": 0.5
             },
             "pattern": {
              "fillmode": "overlay",
              "size": 10,
              "solidity": 0.2
             }
            },
            "type": "barpolar"
           }
          ],
          "carpet": [
           {
            "aaxis": {
             "endlinecolor": "#2a3f5f",
             "gridcolor": "white",
             "linecolor": "white",
             "minorgridcolor": "white",
             "startlinecolor": "#2a3f5f"
            },
            "baxis": {
             "endlinecolor": "#2a3f5f",
             "gridcolor": "white",
             "linecolor": "white",
             "minorgridcolor": "white",
             "startlinecolor": "#2a3f5f"
            },
            "type": "carpet"
           }
          ],
          "choropleth": [
           {
            "colorbar": {
             "outlinewidth": 0,
             "ticks": ""
            },
            "type": "choropleth"
           }
          ],
          "contour": [
           {
            "colorbar": {
             "outlinewidth": 0,
             "ticks": ""
            },
            "colorscale": [
             [
              0,
              "#0d0887"
             ],
             [
              0.1111111111111111,
              "#46039f"
             ],
             [
              0.2222222222222222,
              "#7201a8"
             ],
             [
              0.3333333333333333,
              "#9c179e"
             ],
             [
              0.4444444444444444,
              "#bd3786"
             ],
             [
              0.5555555555555556,
              "#d8576b"
             ],
             [
              0.6666666666666666,
              "#ed7953"
             ],
             [
              0.7777777777777778,
              "#fb9f3a"
             ],
             [
              0.8888888888888888,
              "#fdca26"
             ],
             [
              1,
              "#f0f921"
             ]
            ],
            "type": "contour"
           }
          ],
          "contourcarpet": [
           {
            "colorbar": {
             "outlinewidth": 0,
             "ticks": ""
            },
            "type": "contourcarpet"
           }
          ],
          "heatmap": [
           {
            "colorbar": {
             "outlinewidth": 0,
             "ticks": ""
            },
            "colorscale": [
             [
              0,
              "#0d0887"
             ],
             [
              0.1111111111111111,
              "#46039f"
             ],
             [
              0.2222222222222222,
              "#7201a8"
             ],
             [
              0.3333333333333333,
              "#9c179e"
             ],
             [
              0.4444444444444444,
              "#bd3786"
             ],
             [
              0.5555555555555556,
              "#d8576b"
             ],
             [
              0.6666666666666666,
              "#ed7953"
             ],
             [
              0.7777777777777778,
              "#fb9f3a"
             ],
             [
              0.8888888888888888,
              "#fdca26"
             ],
             [
              1,
              "#f0f921"
             ]
            ],
            "type": "heatmap"
           }
          ],
          "heatmapgl": [
           {
            "colorbar": {
             "outlinewidth": 0,
             "ticks": ""
            },
            "colorscale": [
             [
              0,
              "#0d0887"
             ],
             [
              0.1111111111111111,
              "#46039f"
             ],
             [
              0.2222222222222222,
              "#7201a8"
             ],
             [
              0.3333333333333333,
              "#9c179e"
             ],
             [
              0.4444444444444444,
              "#bd3786"
             ],
             [
              0.5555555555555556,
              "#d8576b"
             ],
             [
              0.6666666666666666,
              "#ed7953"
             ],
             [
              0.7777777777777778,
              "#fb9f3a"
             ],
             [
              0.8888888888888888,
              "#fdca26"
             ],
             [
              1,
              "#f0f921"
             ]
            ],
            "type": "heatmapgl"
           }
          ],
          "histogram": [
           {
            "marker": {
             "pattern": {
              "fillmode": "overlay",
              "size": 10,
              "solidity": 0.2
             }
            },
            "type": "histogram"
           }
          ],
          "histogram2d": [
           {
            "colorbar": {
             "outlinewidth": 0,
             "ticks": ""
            },
            "colorscale": [
             [
              0,
              "#0d0887"
             ],
             [
              0.1111111111111111,
              "#46039f"
             ],
             [
              0.2222222222222222,
              "#7201a8"
             ],
             [
              0.3333333333333333,
              "#9c179e"
             ],
             [
              0.4444444444444444,
              "#bd3786"
             ],
             [
              0.5555555555555556,
              "#d8576b"
             ],
             [
              0.6666666666666666,
              "#ed7953"
             ],
             [
              0.7777777777777778,
              "#fb9f3a"
             ],
             [
              0.8888888888888888,
              "#fdca26"
             ],
             [
              1,
              "#f0f921"
             ]
            ],
            "type": "histogram2d"
           }
          ],
          "histogram2dcontour": [
           {
            "colorbar": {
             "outlinewidth": 0,
             "ticks": ""
            },
            "colorscale": [
             [
              0,
              "#0d0887"
             ],
             [
              0.1111111111111111,
              "#46039f"
             ],
             [
              0.2222222222222222,
              "#7201a8"
             ],
             [
              0.3333333333333333,
              "#9c179e"
             ],
             [
              0.4444444444444444,
              "#bd3786"
             ],
             [
              0.5555555555555556,
              "#d8576b"
             ],
             [
              0.6666666666666666,
              "#ed7953"
             ],
             [
              0.7777777777777778,
              "#fb9f3a"
             ],
             [
              0.8888888888888888,
              "#fdca26"
             ],
             [
              1,
              "#f0f921"
             ]
            ],
            "type": "histogram2dcontour"
           }
          ],
          "mesh3d": [
           {
            "colorbar": {
             "outlinewidth": 0,
             "ticks": ""
            },
            "type": "mesh3d"
           }
          ],
          "parcoords": [
           {
            "line": {
             "colorbar": {
              "outlinewidth": 0,
              "ticks": ""
             }
            },
            "type": "parcoords"
           }
          ],
          "pie": [
           {
            "automargin": true,
            "type": "pie"
           }
          ],
          "scatter": [
           {
            "fillpattern": {
             "fillmode": "overlay",
             "size": 10,
             "solidity": 0.2
            },
            "type": "scatter"
           }
          ],
          "scatter3d": [
           {
            "line": {
             "colorbar": {
              "outlinewidth": 0,
              "ticks": ""
             }
            },
            "marker": {
             "colorbar": {
              "outlinewidth": 0,
              "ticks": ""
             }
            },
            "type": "scatter3d"
           }
          ],
          "scattercarpet": [
           {
            "marker": {
             "colorbar": {
              "outlinewidth": 0,
              "ticks": ""
             }
            },
            "type": "scattercarpet"
           }
          ],
          "scattergeo": [
           {
            "marker": {
             "colorbar": {
              "outlinewidth": 0,
              "ticks": ""
             }
            },
            "type": "scattergeo"
           }
          ],
          "scattergl": [
           {
            "marker": {
             "colorbar": {
              "outlinewidth": 0,
              "ticks": ""
             }
            },
            "type": "scattergl"
           }
          ],
          "scattermapbox": [
           {
            "marker": {
             "colorbar": {
              "outlinewidth": 0,
              "ticks": ""
             }
            },
            "type": "scattermapbox"
           }
          ],
          "scatterpolar": [
           {
            "marker": {
             "colorbar": {
              "outlinewidth": 0,
              "ticks": ""
             }
            },
            "type": "scatterpolar"
           }
          ],
          "scatterpolargl": [
           {
            "marker": {
             "colorbar": {
              "outlinewidth": 0,
              "ticks": ""
             }
            },
            "type": "scatterpolargl"
           }
          ],
          "scatterternary": [
           {
            "marker": {
             "colorbar": {
              "outlinewidth": 0,
              "ticks": ""
             }
            },
            "type": "scatterternary"
           }
          ],
          "surface": [
           {
            "colorbar": {
             "outlinewidth": 0,
             "ticks": ""
            },
            "colorscale": [
             [
              0,
              "#0d0887"
             ],
             [
              0.1111111111111111,
              "#46039f"
             ],
             [
              0.2222222222222222,
              "#7201a8"
             ],
             [
              0.3333333333333333,
              "#9c179e"
             ],
             [
              0.4444444444444444,
              "#bd3786"
             ],
             [
              0.5555555555555556,
              "#d8576b"
             ],
             [
              0.6666666666666666,
              "#ed7953"
             ],
             [
              0.7777777777777778,
              "#fb9f3a"
             ],
             [
              0.8888888888888888,
              "#fdca26"
             ],
             [
              1,
              "#f0f921"
             ]
            ],
            "type": "surface"
           }
          ],
          "table": [
           {
            "cells": {
             "fill": {
              "color": "#EBF0F8"
             },
             "line": {
              "color": "white"
             }
            },
            "header": {
             "fill": {
              "color": "#C8D4E3"
             },
             "line": {
              "color": "white"
             }
            },
            "type": "table"
           }
          ]
         },
         "layout": {
          "annotationdefaults": {
           "arrowcolor": "#2a3f5f",
           "arrowhead": 0,
           "arrowwidth": 1
          },
          "autotypenumbers": "strict",
          "coloraxis": {
           "colorbar": {
            "outlinewidth": 0,
            "ticks": ""
           }
          },
          "colorscale": {
           "diverging": [
            [
             0,
             "#8e0152"
            ],
            [
             0.1,
             "#c51b7d"
            ],
            [
             0.2,
             "#de77ae"
            ],
            [
             0.3,
             "#f1b6da"
            ],
            [
             0.4,
             "#fde0ef"
            ],
            [
             0.5,
             "#f7f7f7"
            ],
            [
             0.6,
             "#e6f5d0"
            ],
            [
             0.7,
             "#b8e186"
            ],
            [
             0.8,
             "#7fbc41"
            ],
            [
             0.9,
             "#4d9221"
            ],
            [
             1,
             "#276419"
            ]
           ],
           "sequential": [
            [
             0,
             "#0d0887"
            ],
            [
             0.1111111111111111,
             "#46039f"
            ],
            [
             0.2222222222222222,
             "#7201a8"
            ],
            [
             0.3333333333333333,
             "#9c179e"
            ],
            [
             0.4444444444444444,
             "#bd3786"
            ],
            [
             0.5555555555555556,
             "#d8576b"
            ],
            [
             0.6666666666666666,
             "#ed7953"
            ],
            [
             0.7777777777777778,
             "#fb9f3a"
            ],
            [
             0.8888888888888888,
             "#fdca26"
            ],
            [
             1,
             "#f0f921"
            ]
           ],
           "sequentialminus": [
            [
             0,
             "#0d0887"
            ],
            [
             0.1111111111111111,
             "#46039f"
            ],
            [
             0.2222222222222222,
             "#7201a8"
            ],
            [
             0.3333333333333333,
             "#9c179e"
            ],
            [
             0.4444444444444444,
             "#bd3786"
            ],
            [
             0.5555555555555556,
             "#d8576b"
            ],
            [
             0.6666666666666666,
             "#ed7953"
            ],
            [
             0.7777777777777778,
             "#fb9f3a"
            ],
            [
             0.8888888888888888,
             "#fdca26"
            ],
            [
             1,
             "#f0f921"
            ]
           ]
          },
          "colorway": [
           "#636efa",
           "#EF553B",
           "#00cc96",
           "#ab63fa",
           "#FFA15A",
           "#19d3f3",
           "#FF6692",
           "#B6E880",
           "#FF97FF",
           "#FECB52"
          ],
          "font": {
           "color": "#2a3f5f"
          },
          "geo": {
           "bgcolor": "white",
           "lakecolor": "white",
           "landcolor": "#E5ECF6",
           "showlakes": true,
           "showland": true,
           "subunitcolor": "white"
          },
          "hoverlabel": {
           "align": "left"
          },
          "hovermode": "closest",
          "mapbox": {
           "style": "light"
          },
          "paper_bgcolor": "white",
          "plot_bgcolor": "#E5ECF6",
          "polar": {
           "angularaxis": {
            "gridcolor": "white",
            "linecolor": "white",
            "ticks": ""
           },
           "bgcolor": "#E5ECF6",
           "radialaxis": {
            "gridcolor": "white",
            "linecolor": "white",
            "ticks": ""
           }
          },
          "scene": {
           "xaxis": {
            "backgroundcolor": "#E5ECF6",
            "gridcolor": "white",
            "gridwidth": 2,
            "linecolor": "white",
            "showbackground": true,
            "ticks": "",
            "zerolinecolor": "white"
           },
           "yaxis": {
            "backgroundcolor": "#E5ECF6",
            "gridcolor": "white",
            "gridwidth": 2,
            "linecolor": "white",
            "showbackground": true,
            "ticks": "",
            "zerolinecolor": "white"
           },
           "zaxis": {
            "backgroundcolor": "#E5ECF6",
            "gridcolor": "white",
            "gridwidth": 2,
            "linecolor": "white",
            "showbackground": true,
            "ticks": "",
            "zerolinecolor": "white"
           }
          },
          "shapedefaults": {
           "line": {
            "color": "#2a3f5f"
           }
          },
          "ternary": {
           "aaxis": {
            "gridcolor": "white",
            "linecolor": "white",
            "ticks": ""
           },
           "baxis": {
            "gridcolor": "white",
            "linecolor": "white",
            "ticks": ""
           },
           "bgcolor": "#E5ECF6",
           "caxis": {
            "gridcolor": "white",
            "linecolor": "white",
            "ticks": ""
           }
          },
          "title": {
           "x": 0.05
          },
          "xaxis": {
           "automargin": true,
           "gridcolor": "white",
           "linecolor": "white",
           "ticks": "",
           "title": {
            "standoff": 15
           },
           "zerolinecolor": "white",
           "zerolinewidth": 2
          },
          "yaxis": {
           "automargin": true,
           "gridcolor": "white",
           "linecolor": "white",
           "ticks": "",
           "title": {
            "standoff": 15
           },
           "zerolinecolor": "white",
           "zerolinewidth": 2
          }
         }
        },
        "title": {
         "text": "Promedio de 'Dosis Total [mGy]' por rango de Peso[kg] para estudio Pelvis"
        },
        "xaxis": {
         "title": {
          "text": "Rango de Peso[kg]"
         }
        },
        "yaxis": {
         "title": {
          "text": "Promedio Dosis Total [mGy]"
         }
        }
       }
      }
     },
     "metadata": {},
     "output_type": "display_data"
    },
    {
     "name": "stderr",
     "output_type": "stream",
     "text": [
      "C:\\Users\\oscar\\AppData\\Local\\Temp\\ipykernel_9892\\2388529399.py:4: SettingWithCopyWarning:\n",
      "\n",
      "\n",
      "A value is trying to be set on a copy of a slice from a DataFrame.\n",
      "Try using .loc[row_indexer,col_indexer] = value instead\n",
      "\n",
      "See the caveats in the documentation: https://pandas.pydata.org/pandas-docs/stable/user_guide/indexing.html#returning-a-view-versus-a-copy\n",
      "\n",
      "C:\\Users\\oscar\\AppData\\Local\\Temp\\ipykernel_9892\\2388529399.py:5: FutureWarning:\n",
      "\n",
      "The default of observed=False is deprecated and will be changed to True in a future version of pandas. Pass observed=False to retain current behavior or observed=True to adopt the future default and silence this warning.\n",
      "\n"
     ]
    },
    {
     "data": {
      "application/vnd.plotly.v1+json": {
       "config": {
        "plotlyServerURL": "https://plot.ly"
       },
       "data": [
        {
         "name": "Estudio: Tórax",
         "type": "bar",
         "x": [
          "(45, 60]",
          "(60, 75]",
          "(75, 90]",
          "(90, 105]",
          "(105, 120]"
         ],
         "y": [
          0.44453125,
          1.1477976190476191,
          1.7694444444444446,
          0.8620000000000001,
          0.9762500000000001
         ]
        }
       ],
       "layout": {
        "template": {
         "data": {
          "bar": [
           {
            "error_x": {
             "color": "#2a3f5f"
            },
            "error_y": {
             "color": "#2a3f5f"
            },
            "marker": {
             "line": {
              "color": "#E5ECF6",
              "width": 0.5
             },
             "pattern": {
              "fillmode": "overlay",
              "size": 10,
              "solidity": 0.2
             }
            },
            "type": "bar"
           }
          ],
          "barpolar": [
           {
            "marker": {
             "line": {
              "color": "#E5ECF6",
              "width": 0.5
             },
             "pattern": {
              "fillmode": "overlay",
              "size": 10,
              "solidity": 0.2
             }
            },
            "type": "barpolar"
           }
          ],
          "carpet": [
           {
            "aaxis": {
             "endlinecolor": "#2a3f5f",
             "gridcolor": "white",
             "linecolor": "white",
             "minorgridcolor": "white",
             "startlinecolor": "#2a3f5f"
            },
            "baxis": {
             "endlinecolor": "#2a3f5f",
             "gridcolor": "white",
             "linecolor": "white",
             "minorgridcolor": "white",
             "startlinecolor": "#2a3f5f"
            },
            "type": "carpet"
           }
          ],
          "choropleth": [
           {
            "colorbar": {
             "outlinewidth": 0,
             "ticks": ""
            },
            "type": "choropleth"
           }
          ],
          "contour": [
           {
            "colorbar": {
             "outlinewidth": 0,
             "ticks": ""
            },
            "colorscale": [
             [
              0,
              "#0d0887"
             ],
             [
              0.1111111111111111,
              "#46039f"
             ],
             [
              0.2222222222222222,
              "#7201a8"
             ],
             [
              0.3333333333333333,
              "#9c179e"
             ],
             [
              0.4444444444444444,
              "#bd3786"
             ],
             [
              0.5555555555555556,
              "#d8576b"
             ],
             [
              0.6666666666666666,
              "#ed7953"
             ],
             [
              0.7777777777777778,
              "#fb9f3a"
             ],
             [
              0.8888888888888888,
              "#fdca26"
             ],
             [
              1,
              "#f0f921"
             ]
            ],
            "type": "contour"
           }
          ],
          "contourcarpet": [
           {
            "colorbar": {
             "outlinewidth": 0,
             "ticks": ""
            },
            "type": "contourcarpet"
           }
          ],
          "heatmap": [
           {
            "colorbar": {
             "outlinewidth": 0,
             "ticks": ""
            },
            "colorscale": [
             [
              0,
              "#0d0887"
             ],
             [
              0.1111111111111111,
              "#46039f"
             ],
             [
              0.2222222222222222,
              "#7201a8"
             ],
             [
              0.3333333333333333,
              "#9c179e"
             ],
             [
              0.4444444444444444,
              "#bd3786"
             ],
             [
              0.5555555555555556,
              "#d8576b"
             ],
             [
              0.6666666666666666,
              "#ed7953"
             ],
             [
              0.7777777777777778,
              "#fb9f3a"
             ],
             [
              0.8888888888888888,
              "#fdca26"
             ],
             [
              1,
              "#f0f921"
             ]
            ],
            "type": "heatmap"
           }
          ],
          "heatmapgl": [
           {
            "colorbar": {
             "outlinewidth": 0,
             "ticks": ""
            },
            "colorscale": [
             [
              0,
              "#0d0887"
             ],
             [
              0.1111111111111111,
              "#46039f"
             ],
             [
              0.2222222222222222,
              "#7201a8"
             ],
             [
              0.3333333333333333,
              "#9c179e"
             ],
             [
              0.4444444444444444,
              "#bd3786"
             ],
             [
              0.5555555555555556,
              "#d8576b"
             ],
             [
              0.6666666666666666,
              "#ed7953"
             ],
             [
              0.7777777777777778,
              "#fb9f3a"
             ],
             [
              0.8888888888888888,
              "#fdca26"
             ],
             [
              1,
              "#f0f921"
             ]
            ],
            "type": "heatmapgl"
           }
          ],
          "histogram": [
           {
            "marker": {
             "pattern": {
              "fillmode": "overlay",
              "size": 10,
              "solidity": 0.2
             }
            },
            "type": "histogram"
           }
          ],
          "histogram2d": [
           {
            "colorbar": {
             "outlinewidth": 0,
             "ticks": ""
            },
            "colorscale": [
             [
              0,
              "#0d0887"
             ],
             [
              0.1111111111111111,
              "#46039f"
             ],
             [
              0.2222222222222222,
              "#7201a8"
             ],
             [
              0.3333333333333333,
              "#9c179e"
             ],
             [
              0.4444444444444444,
              "#bd3786"
             ],
             [
              0.5555555555555556,
              "#d8576b"
             ],
             [
              0.6666666666666666,
              "#ed7953"
             ],
             [
              0.7777777777777778,
              "#fb9f3a"
             ],
             [
              0.8888888888888888,
              "#fdca26"
             ],
             [
              1,
              "#f0f921"
             ]
            ],
            "type": "histogram2d"
           }
          ],
          "histogram2dcontour": [
           {
            "colorbar": {
             "outlinewidth": 0,
             "ticks": ""
            },
            "colorscale": [
             [
              0,
              "#0d0887"
             ],
             [
              0.1111111111111111,
              "#46039f"
             ],
             [
              0.2222222222222222,
              "#7201a8"
             ],
             [
              0.3333333333333333,
              "#9c179e"
             ],
             [
              0.4444444444444444,
              "#bd3786"
             ],
             [
              0.5555555555555556,
              "#d8576b"
             ],
             [
              0.6666666666666666,
              "#ed7953"
             ],
             [
              0.7777777777777778,
              "#fb9f3a"
             ],
             [
              0.8888888888888888,
              "#fdca26"
             ],
             [
              1,
              "#f0f921"
             ]
            ],
            "type": "histogram2dcontour"
           }
          ],
          "mesh3d": [
           {
            "colorbar": {
             "outlinewidth": 0,
             "ticks": ""
            },
            "type": "mesh3d"
           }
          ],
          "parcoords": [
           {
            "line": {
             "colorbar": {
              "outlinewidth": 0,
              "ticks": ""
             }
            },
            "type": "parcoords"
           }
          ],
          "pie": [
           {
            "automargin": true,
            "type": "pie"
           }
          ],
          "scatter": [
           {
            "fillpattern": {
             "fillmode": "overlay",
             "size": 10,
             "solidity": 0.2
            },
            "type": "scatter"
           }
          ],
          "scatter3d": [
           {
            "line": {
             "colorbar": {
              "outlinewidth": 0,
              "ticks": ""
             }
            },
            "marker": {
             "colorbar": {
              "outlinewidth": 0,
              "ticks": ""
             }
            },
            "type": "scatter3d"
           }
          ],
          "scattercarpet": [
           {
            "marker": {
             "colorbar": {
              "outlinewidth": 0,
              "ticks": ""
             }
            },
            "type": "scattercarpet"
           }
          ],
          "scattergeo": [
           {
            "marker": {
             "colorbar": {
              "outlinewidth": 0,
              "ticks": ""
             }
            },
            "type": "scattergeo"
           }
          ],
          "scattergl": [
           {
            "marker": {
             "colorbar": {
              "outlinewidth": 0,
              "ticks": ""
             }
            },
            "type": "scattergl"
           }
          ],
          "scattermapbox": [
           {
            "marker": {
             "colorbar": {
              "outlinewidth": 0,
              "ticks": ""
             }
            },
            "type": "scattermapbox"
           }
          ],
          "scatterpolar": [
           {
            "marker": {
             "colorbar": {
              "outlinewidth": 0,
              "ticks": ""
             }
            },
            "type": "scatterpolar"
           }
          ],
          "scatterpolargl": [
           {
            "marker": {
             "colorbar": {
              "outlinewidth": 0,
              "ticks": ""
             }
            },
            "type": "scatterpolargl"
           }
          ],
          "scatterternary": [
           {
            "marker": {
             "colorbar": {
              "outlinewidth": 0,
              "ticks": ""
             }
            },
            "type": "scatterternary"
           }
          ],
          "surface": [
           {
            "colorbar": {
             "outlinewidth": 0,
             "ticks": ""
            },
            "colorscale": [
             [
              0,
              "#0d0887"
             ],
             [
              0.1111111111111111,
              "#46039f"
             ],
             [
              0.2222222222222222,
              "#7201a8"
             ],
             [
              0.3333333333333333,
              "#9c179e"
             ],
             [
              0.4444444444444444,
              "#bd3786"
             ],
             [
              0.5555555555555556,
              "#d8576b"
             ],
             [
              0.6666666666666666,
              "#ed7953"
             ],
             [
              0.7777777777777778,
              "#fb9f3a"
             ],
             [
              0.8888888888888888,
              "#fdca26"
             ],
             [
              1,
              "#f0f921"
             ]
            ],
            "type": "surface"
           }
          ],
          "table": [
           {
            "cells": {
             "fill": {
              "color": "#EBF0F8"
             },
             "line": {
              "color": "white"
             }
            },
            "header": {
             "fill": {
              "color": "#C8D4E3"
             },
             "line": {
              "color": "white"
             }
            },
            "type": "table"
           }
          ]
         },
         "layout": {
          "annotationdefaults": {
           "arrowcolor": "#2a3f5f",
           "arrowhead": 0,
           "arrowwidth": 1
          },
          "autotypenumbers": "strict",
          "coloraxis": {
           "colorbar": {
            "outlinewidth": 0,
            "ticks": ""
           }
          },
          "colorscale": {
           "diverging": [
            [
             0,
             "#8e0152"
            ],
            [
             0.1,
             "#c51b7d"
            ],
            [
             0.2,
             "#de77ae"
            ],
            [
             0.3,
             "#f1b6da"
            ],
            [
             0.4,
             "#fde0ef"
            ],
            [
             0.5,
             "#f7f7f7"
            ],
            [
             0.6,
             "#e6f5d0"
            ],
            [
             0.7,
             "#b8e186"
            ],
            [
             0.8,
             "#7fbc41"
            ],
            [
             0.9,
             "#4d9221"
            ],
            [
             1,
             "#276419"
            ]
           ],
           "sequential": [
            [
             0,
             "#0d0887"
            ],
            [
             0.1111111111111111,
             "#46039f"
            ],
            [
             0.2222222222222222,
             "#7201a8"
            ],
            [
             0.3333333333333333,
             "#9c179e"
            ],
            [
             0.4444444444444444,
             "#bd3786"
            ],
            [
             0.5555555555555556,
             "#d8576b"
            ],
            [
             0.6666666666666666,
             "#ed7953"
            ],
            [
             0.7777777777777778,
             "#fb9f3a"
            ],
            [
             0.8888888888888888,
             "#fdca26"
            ],
            [
             1,
             "#f0f921"
            ]
           ],
           "sequentialminus": [
            [
             0,
             "#0d0887"
            ],
            [
             0.1111111111111111,
             "#46039f"
            ],
            [
             0.2222222222222222,
             "#7201a8"
            ],
            [
             0.3333333333333333,
             "#9c179e"
            ],
            [
             0.4444444444444444,
             "#bd3786"
            ],
            [
             0.5555555555555556,
             "#d8576b"
            ],
            [
             0.6666666666666666,
             "#ed7953"
            ],
            [
             0.7777777777777778,
             "#fb9f3a"
            ],
            [
             0.8888888888888888,
             "#fdca26"
            ],
            [
             1,
             "#f0f921"
            ]
           ]
          },
          "colorway": [
           "#636efa",
           "#EF553B",
           "#00cc96",
           "#ab63fa",
           "#FFA15A",
           "#19d3f3",
           "#FF6692",
           "#B6E880",
           "#FF97FF",
           "#FECB52"
          ],
          "font": {
           "color": "#2a3f5f"
          },
          "geo": {
           "bgcolor": "white",
           "lakecolor": "white",
           "landcolor": "#E5ECF6",
           "showlakes": true,
           "showland": true,
           "subunitcolor": "white"
          },
          "hoverlabel": {
           "align": "left"
          },
          "hovermode": "closest",
          "mapbox": {
           "style": "light"
          },
          "paper_bgcolor": "white",
          "plot_bgcolor": "#E5ECF6",
          "polar": {
           "angularaxis": {
            "gridcolor": "white",
            "linecolor": "white",
            "ticks": ""
           },
           "bgcolor": "#E5ECF6",
           "radialaxis": {
            "gridcolor": "white",
            "linecolor": "white",
            "ticks": ""
           }
          },
          "scene": {
           "xaxis": {
            "backgroundcolor": "#E5ECF6",
            "gridcolor": "white",
            "gridwidth": 2,
            "linecolor": "white",
            "showbackground": true,
            "ticks": "",
            "zerolinecolor": "white"
           },
           "yaxis": {
            "backgroundcolor": "#E5ECF6",
            "gridcolor": "white",
            "gridwidth": 2,
            "linecolor": "white",
            "showbackground": true,
            "ticks": "",
            "zerolinecolor": "white"
           },
           "zaxis": {
            "backgroundcolor": "#E5ECF6",
            "gridcolor": "white",
            "gridwidth": 2,
            "linecolor": "white",
            "showbackground": true,
            "ticks": "",
            "zerolinecolor": "white"
           }
          },
          "shapedefaults": {
           "line": {
            "color": "#2a3f5f"
           }
          },
          "ternary": {
           "aaxis": {
            "gridcolor": "white",
            "linecolor": "white",
            "ticks": ""
           },
           "baxis": {
            "gridcolor": "white",
            "linecolor": "white",
            "ticks": ""
           },
           "bgcolor": "#E5ECF6",
           "caxis": {
            "gridcolor": "white",
            "linecolor": "white",
            "ticks": ""
           }
          },
          "title": {
           "x": 0.05
          },
          "xaxis": {
           "automargin": true,
           "gridcolor": "white",
           "linecolor": "white",
           "ticks": "",
           "title": {
            "standoff": 15
           },
           "zerolinecolor": "white",
           "zerolinewidth": 2
          },
          "yaxis": {
           "automargin": true,
           "gridcolor": "white",
           "linecolor": "white",
           "ticks": "",
           "title": {
            "standoff": 15
           },
           "zerolinecolor": "white",
           "zerolinewidth": 2
          }
         }
        },
        "title": {
         "text": "Promedio de 'Dosis Total [mGy]' por rango de Peso[kg] para estudio Tórax"
        },
        "xaxis": {
         "title": {
          "text": "Rango de Peso[kg]"
         }
        },
        "yaxis": {
         "title": {
          "text": "Promedio Dosis Total [mGy]"
         }
        }
       }
      }
     },
     "metadata": {},
     "output_type": "display_data"
    },
    {
     "name": "stderr",
     "output_type": "stream",
     "text": [
      "C:\\Users\\oscar\\AppData\\Local\\Temp\\ipykernel_9892\\2388529399.py:4: SettingWithCopyWarning:\n",
      "\n",
      "\n",
      "A value is trying to be set on a copy of a slice from a DataFrame.\n",
      "Try using .loc[row_indexer,col_indexer] = value instead\n",
      "\n",
      "See the caveats in the documentation: https://pandas.pydata.org/pandas-docs/stable/user_guide/indexing.html#returning-a-view-versus-a-copy\n",
      "\n",
      "C:\\Users\\oscar\\AppData\\Local\\Temp\\ipykernel_9892\\2388529399.py:5: FutureWarning:\n",
      "\n",
      "The default of observed=False is deprecated and will be changed to True in a future version of pandas. Pass observed=False to retain current behavior or observed=True to adopt the future default and silence this warning.\n",
      "\n"
     ]
    },
    {
     "data": {
      "application/vnd.plotly.v1+json": {
       "config": {
        "plotlyServerURL": "https://plot.ly"
       },
       "data": [
        {
         "name": "Estudio: Rodilla",
         "type": "bar",
         "x": [
          "(45, 60]",
          "(60, 75]",
          "(75, 90]",
          "(90, 105]",
          "(105, 120]"
         ],
         "y": [
          0.5106666666666667,
          2.4483870967741934,
          3.56,
          null,
          1.1
         ]
        }
       ],
       "layout": {
        "template": {
         "data": {
          "bar": [
           {
            "error_x": {
             "color": "#2a3f5f"
            },
            "error_y": {
             "color": "#2a3f5f"
            },
            "marker": {
             "line": {
              "color": "#E5ECF6",
              "width": 0.5
             },
             "pattern": {
              "fillmode": "overlay",
              "size": 10,
              "solidity": 0.2
             }
            },
            "type": "bar"
           }
          ],
          "barpolar": [
           {
            "marker": {
             "line": {
              "color": "#E5ECF6",
              "width": 0.5
             },
             "pattern": {
              "fillmode": "overlay",
              "size": 10,
              "solidity": 0.2
             }
            },
            "type": "barpolar"
           }
          ],
          "carpet": [
           {
            "aaxis": {
             "endlinecolor": "#2a3f5f",
             "gridcolor": "white",
             "linecolor": "white",
             "minorgridcolor": "white",
             "startlinecolor": "#2a3f5f"
            },
            "baxis": {
             "endlinecolor": "#2a3f5f",
             "gridcolor": "white",
             "linecolor": "white",
             "minorgridcolor": "white",
             "startlinecolor": "#2a3f5f"
            },
            "type": "carpet"
           }
          ],
          "choropleth": [
           {
            "colorbar": {
             "outlinewidth": 0,
             "ticks": ""
            },
            "type": "choropleth"
           }
          ],
          "contour": [
           {
            "colorbar": {
             "outlinewidth": 0,
             "ticks": ""
            },
            "colorscale": [
             [
              0,
              "#0d0887"
             ],
             [
              0.1111111111111111,
              "#46039f"
             ],
             [
              0.2222222222222222,
              "#7201a8"
             ],
             [
              0.3333333333333333,
              "#9c179e"
             ],
             [
              0.4444444444444444,
              "#bd3786"
             ],
             [
              0.5555555555555556,
              "#d8576b"
             ],
             [
              0.6666666666666666,
              "#ed7953"
             ],
             [
              0.7777777777777778,
              "#fb9f3a"
             ],
             [
              0.8888888888888888,
              "#fdca26"
             ],
             [
              1,
              "#f0f921"
             ]
            ],
            "type": "contour"
           }
          ],
          "contourcarpet": [
           {
            "colorbar": {
             "outlinewidth": 0,
             "ticks": ""
            },
            "type": "contourcarpet"
           }
          ],
          "heatmap": [
           {
            "colorbar": {
             "outlinewidth": 0,
             "ticks": ""
            },
            "colorscale": [
             [
              0,
              "#0d0887"
             ],
             [
              0.1111111111111111,
              "#46039f"
             ],
             [
              0.2222222222222222,
              "#7201a8"
             ],
             [
              0.3333333333333333,
              "#9c179e"
             ],
             [
              0.4444444444444444,
              "#bd3786"
             ],
             [
              0.5555555555555556,
              "#d8576b"
             ],
             [
              0.6666666666666666,
              "#ed7953"
             ],
             [
              0.7777777777777778,
              "#fb9f3a"
             ],
             [
              0.8888888888888888,
              "#fdca26"
             ],
             [
              1,
              "#f0f921"
             ]
            ],
            "type": "heatmap"
           }
          ],
          "heatmapgl": [
           {
            "colorbar": {
             "outlinewidth": 0,
             "ticks": ""
            },
            "colorscale": [
             [
              0,
              "#0d0887"
             ],
             [
              0.1111111111111111,
              "#46039f"
             ],
             [
              0.2222222222222222,
              "#7201a8"
             ],
             [
              0.3333333333333333,
              "#9c179e"
             ],
             [
              0.4444444444444444,
              "#bd3786"
             ],
             [
              0.5555555555555556,
              "#d8576b"
             ],
             [
              0.6666666666666666,
              "#ed7953"
             ],
             [
              0.7777777777777778,
              "#fb9f3a"
             ],
             [
              0.8888888888888888,
              "#fdca26"
             ],
             [
              1,
              "#f0f921"
             ]
            ],
            "type": "heatmapgl"
           }
          ],
          "histogram": [
           {
            "marker": {
             "pattern": {
              "fillmode": "overlay",
              "size": 10,
              "solidity": 0.2
             }
            },
            "type": "histogram"
           }
          ],
          "histogram2d": [
           {
            "colorbar": {
             "outlinewidth": 0,
             "ticks": ""
            },
            "colorscale": [
             [
              0,
              "#0d0887"
             ],
             [
              0.1111111111111111,
              "#46039f"
             ],
             [
              0.2222222222222222,
              "#7201a8"
             ],
             [
              0.3333333333333333,
              "#9c179e"
             ],
             [
              0.4444444444444444,
              "#bd3786"
             ],
             [
              0.5555555555555556,
              "#d8576b"
             ],
             [
              0.6666666666666666,
              "#ed7953"
             ],
             [
              0.7777777777777778,
              "#fb9f3a"
             ],
             [
              0.8888888888888888,
              "#fdca26"
             ],
             [
              1,
              "#f0f921"
             ]
            ],
            "type": "histogram2d"
           }
          ],
          "histogram2dcontour": [
           {
            "colorbar": {
             "outlinewidth": 0,
             "ticks": ""
            },
            "colorscale": [
             [
              0,
              "#0d0887"
             ],
             [
              0.1111111111111111,
              "#46039f"
             ],
             [
              0.2222222222222222,
              "#7201a8"
             ],
             [
              0.3333333333333333,
              "#9c179e"
             ],
             [
              0.4444444444444444,
              "#bd3786"
             ],
             [
              0.5555555555555556,
              "#d8576b"
             ],
             [
              0.6666666666666666,
              "#ed7953"
             ],
             [
              0.7777777777777778,
              "#fb9f3a"
             ],
             [
              0.8888888888888888,
              "#fdca26"
             ],
             [
              1,
              "#f0f921"
             ]
            ],
            "type": "histogram2dcontour"
           }
          ],
          "mesh3d": [
           {
            "colorbar": {
             "outlinewidth": 0,
             "ticks": ""
            },
            "type": "mesh3d"
           }
          ],
          "parcoords": [
           {
            "line": {
             "colorbar": {
              "outlinewidth": 0,
              "ticks": ""
             }
            },
            "type": "parcoords"
           }
          ],
          "pie": [
           {
            "automargin": true,
            "type": "pie"
           }
          ],
          "scatter": [
           {
            "fillpattern": {
             "fillmode": "overlay",
             "size": 10,
             "solidity": 0.2
            },
            "type": "scatter"
           }
          ],
          "scatter3d": [
           {
            "line": {
             "colorbar": {
              "outlinewidth": 0,
              "ticks": ""
             }
            },
            "marker": {
             "colorbar": {
              "outlinewidth": 0,
              "ticks": ""
             }
            },
            "type": "scatter3d"
           }
          ],
          "scattercarpet": [
           {
            "marker": {
             "colorbar": {
              "outlinewidth": 0,
              "ticks": ""
             }
            },
            "type": "scattercarpet"
           }
          ],
          "scattergeo": [
           {
            "marker": {
             "colorbar": {
              "outlinewidth": 0,
              "ticks": ""
             }
            },
            "type": "scattergeo"
           }
          ],
          "scattergl": [
           {
            "marker": {
             "colorbar": {
              "outlinewidth": 0,
              "ticks": ""
             }
            },
            "type": "scattergl"
           }
          ],
          "scattermapbox": [
           {
            "marker": {
             "colorbar": {
              "outlinewidth": 0,
              "ticks": ""
             }
            },
            "type": "scattermapbox"
           }
          ],
          "scatterpolar": [
           {
            "marker": {
             "colorbar": {
              "outlinewidth": 0,
              "ticks": ""
             }
            },
            "type": "scatterpolar"
           }
          ],
          "scatterpolargl": [
           {
            "marker": {
             "colorbar": {
              "outlinewidth": 0,
              "ticks": ""
             }
            },
            "type": "scatterpolargl"
           }
          ],
          "scatterternary": [
           {
            "marker": {
             "colorbar": {
              "outlinewidth": 0,
              "ticks": ""
             }
            },
            "type": "scatterternary"
           }
          ],
          "surface": [
           {
            "colorbar": {
             "outlinewidth": 0,
             "ticks": ""
            },
            "colorscale": [
             [
              0,
              "#0d0887"
             ],
             [
              0.1111111111111111,
              "#46039f"
             ],
             [
              0.2222222222222222,
              "#7201a8"
             ],
             [
              0.3333333333333333,
              "#9c179e"
             ],
             [
              0.4444444444444444,
              "#bd3786"
             ],
             [
              0.5555555555555556,
              "#d8576b"
             ],
             [
              0.6666666666666666,
              "#ed7953"
             ],
             [
              0.7777777777777778,
              "#fb9f3a"
             ],
             [
              0.8888888888888888,
              "#fdca26"
             ],
             [
              1,
              "#f0f921"
             ]
            ],
            "type": "surface"
           }
          ],
          "table": [
           {
            "cells": {
             "fill": {
              "color": "#EBF0F8"
             },
             "line": {
              "color": "white"
             }
            },
            "header": {
             "fill": {
              "color": "#C8D4E3"
             },
             "line": {
              "color": "white"
             }
            },
            "type": "table"
           }
          ]
         },
         "layout": {
          "annotationdefaults": {
           "arrowcolor": "#2a3f5f",
           "arrowhead": 0,
           "arrowwidth": 1
          },
          "autotypenumbers": "strict",
          "coloraxis": {
           "colorbar": {
            "outlinewidth": 0,
            "ticks": ""
           }
          },
          "colorscale": {
           "diverging": [
            [
             0,
             "#8e0152"
            ],
            [
             0.1,
             "#c51b7d"
            ],
            [
             0.2,
             "#de77ae"
            ],
            [
             0.3,
             "#f1b6da"
            ],
            [
             0.4,
             "#fde0ef"
            ],
            [
             0.5,
             "#f7f7f7"
            ],
            [
             0.6,
             "#e6f5d0"
            ],
            [
             0.7,
             "#b8e186"
            ],
            [
             0.8,
             "#7fbc41"
            ],
            [
             0.9,
             "#4d9221"
            ],
            [
             1,
             "#276419"
            ]
           ],
           "sequential": [
            [
             0,
             "#0d0887"
            ],
            [
             0.1111111111111111,
             "#46039f"
            ],
            [
             0.2222222222222222,
             "#7201a8"
            ],
            [
             0.3333333333333333,
             "#9c179e"
            ],
            [
             0.4444444444444444,
             "#bd3786"
            ],
            [
             0.5555555555555556,
             "#d8576b"
            ],
            [
             0.6666666666666666,
             "#ed7953"
            ],
            [
             0.7777777777777778,
             "#fb9f3a"
            ],
            [
             0.8888888888888888,
             "#fdca26"
            ],
            [
             1,
             "#f0f921"
            ]
           ],
           "sequentialminus": [
            [
             0,
             "#0d0887"
            ],
            [
             0.1111111111111111,
             "#46039f"
            ],
            [
             0.2222222222222222,
             "#7201a8"
            ],
            [
             0.3333333333333333,
             "#9c179e"
            ],
            [
             0.4444444444444444,
             "#bd3786"
            ],
            [
             0.5555555555555556,
             "#d8576b"
            ],
            [
             0.6666666666666666,
             "#ed7953"
            ],
            [
             0.7777777777777778,
             "#fb9f3a"
            ],
            [
             0.8888888888888888,
             "#fdca26"
            ],
            [
             1,
             "#f0f921"
            ]
           ]
          },
          "colorway": [
           "#636efa",
           "#EF553B",
           "#00cc96",
           "#ab63fa",
           "#FFA15A",
           "#19d3f3",
           "#FF6692",
           "#B6E880",
           "#FF97FF",
           "#FECB52"
          ],
          "font": {
           "color": "#2a3f5f"
          },
          "geo": {
           "bgcolor": "white",
           "lakecolor": "white",
           "landcolor": "#E5ECF6",
           "showlakes": true,
           "showland": true,
           "subunitcolor": "white"
          },
          "hoverlabel": {
           "align": "left"
          },
          "hovermode": "closest",
          "mapbox": {
           "style": "light"
          },
          "paper_bgcolor": "white",
          "plot_bgcolor": "#E5ECF6",
          "polar": {
           "angularaxis": {
            "gridcolor": "white",
            "linecolor": "white",
            "ticks": ""
           },
           "bgcolor": "#E5ECF6",
           "radialaxis": {
            "gridcolor": "white",
            "linecolor": "white",
            "ticks": ""
           }
          },
          "scene": {
           "xaxis": {
            "backgroundcolor": "#E5ECF6",
            "gridcolor": "white",
            "gridwidth": 2,
            "linecolor": "white",
            "showbackground": true,
            "ticks": "",
            "zerolinecolor": "white"
           },
           "yaxis": {
            "backgroundcolor": "#E5ECF6",
            "gridcolor": "white",
            "gridwidth": 2,
            "linecolor": "white",
            "showbackground": true,
            "ticks": "",
            "zerolinecolor": "white"
           },
           "zaxis": {
            "backgroundcolor": "#E5ECF6",
            "gridcolor": "white",
            "gridwidth": 2,
            "linecolor": "white",
            "showbackground": true,
            "ticks": "",
            "zerolinecolor": "white"
           }
          },
          "shapedefaults": {
           "line": {
            "color": "#2a3f5f"
           }
          },
          "ternary": {
           "aaxis": {
            "gridcolor": "white",
            "linecolor": "white",
            "ticks": ""
           },
           "baxis": {
            "gridcolor": "white",
            "linecolor": "white",
            "ticks": ""
           },
           "bgcolor": "#E5ECF6",
           "caxis": {
            "gridcolor": "white",
            "linecolor": "white",
            "ticks": ""
           }
          },
          "title": {
           "x": 0.05
          },
          "xaxis": {
           "automargin": true,
           "gridcolor": "white",
           "linecolor": "white",
           "ticks": "",
           "title": {
            "standoff": 15
           },
           "zerolinecolor": "white",
           "zerolinewidth": 2
          },
          "yaxis": {
           "automargin": true,
           "gridcolor": "white",
           "linecolor": "white",
           "ticks": "",
           "title": {
            "standoff": 15
           },
           "zerolinecolor": "white",
           "zerolinewidth": 2
          }
         }
        },
        "title": {
         "text": "Promedio de 'Dosis Total [mGy]' por rango de Peso[kg] para estudio Rodilla"
        },
        "xaxis": {
         "title": {
          "text": "Rango de Peso[kg]"
         }
        },
        "yaxis": {
         "title": {
          "text": "Promedio Dosis Total [mGy]"
         }
        }
       }
      }
     },
     "metadata": {},
     "output_type": "display_data"
    },
    {
     "name": "stderr",
     "output_type": "stream",
     "text": [
      "C:\\Users\\oscar\\AppData\\Local\\Temp\\ipykernel_9892\\2388529399.py:4: SettingWithCopyWarning:\n",
      "\n",
      "\n",
      "A value is trying to be set on a copy of a slice from a DataFrame.\n",
      "Try using .loc[row_indexer,col_indexer] = value instead\n",
      "\n",
      "See the caveats in the documentation: https://pandas.pydata.org/pandas-docs/stable/user_guide/indexing.html#returning-a-view-versus-a-copy\n",
      "\n",
      "C:\\Users\\oscar\\AppData\\Local\\Temp\\ipykernel_9892\\2388529399.py:5: FutureWarning:\n",
      "\n",
      "The default of observed=False is deprecated and will be changed to True in a future version of pandas. Pass observed=False to retain current behavior or observed=True to adopt the future default and silence this warning.\n",
      "\n"
     ]
    },
    {
     "data": {
      "application/vnd.plotly.v1+json": {
       "config": {
        "plotlyServerURL": "https://plot.ly"
       },
       "data": [
        {
         "name": "Estudio: Lumbar",
         "type": "bar",
         "x": [
          "(45, 60]",
          "(60, 75]",
          "(75, 90]",
          "(90, 105]",
          "(105, 120]"
         ],
         "y": [
          7.121666666666667,
          12.53875,
          20.201428571428572,
          null,
          6.35
         ]
        }
       ],
       "layout": {
        "template": {
         "data": {
          "bar": [
           {
            "error_x": {
             "color": "#2a3f5f"
            },
            "error_y": {
             "color": "#2a3f5f"
            },
            "marker": {
             "line": {
              "color": "#E5ECF6",
              "width": 0.5
             },
             "pattern": {
              "fillmode": "overlay",
              "size": 10,
              "solidity": 0.2
             }
            },
            "type": "bar"
           }
          ],
          "barpolar": [
           {
            "marker": {
             "line": {
              "color": "#E5ECF6",
              "width": 0.5
             },
             "pattern": {
              "fillmode": "overlay",
              "size": 10,
              "solidity": 0.2
             }
            },
            "type": "barpolar"
           }
          ],
          "carpet": [
           {
            "aaxis": {
             "endlinecolor": "#2a3f5f",
             "gridcolor": "white",
             "linecolor": "white",
             "minorgridcolor": "white",
             "startlinecolor": "#2a3f5f"
            },
            "baxis": {
             "endlinecolor": "#2a3f5f",
             "gridcolor": "white",
             "linecolor": "white",
             "minorgridcolor": "white",
             "startlinecolor": "#2a3f5f"
            },
            "type": "carpet"
           }
          ],
          "choropleth": [
           {
            "colorbar": {
             "outlinewidth": 0,
             "ticks": ""
            },
            "type": "choropleth"
           }
          ],
          "contour": [
           {
            "colorbar": {
             "outlinewidth": 0,
             "ticks": ""
            },
            "colorscale": [
             [
              0,
              "#0d0887"
             ],
             [
              0.1111111111111111,
              "#46039f"
             ],
             [
              0.2222222222222222,
              "#7201a8"
             ],
             [
              0.3333333333333333,
              "#9c179e"
             ],
             [
              0.4444444444444444,
              "#bd3786"
             ],
             [
              0.5555555555555556,
              "#d8576b"
             ],
             [
              0.6666666666666666,
              "#ed7953"
             ],
             [
              0.7777777777777778,
              "#fb9f3a"
             ],
             [
              0.8888888888888888,
              "#fdca26"
             ],
             [
              1,
              "#f0f921"
             ]
            ],
            "type": "contour"
           }
          ],
          "contourcarpet": [
           {
            "colorbar": {
             "outlinewidth": 0,
             "ticks": ""
            },
            "type": "contourcarpet"
           }
          ],
          "heatmap": [
           {
            "colorbar": {
             "outlinewidth": 0,
             "ticks": ""
            },
            "colorscale": [
             [
              0,
              "#0d0887"
             ],
             [
              0.1111111111111111,
              "#46039f"
             ],
             [
              0.2222222222222222,
              "#7201a8"
             ],
             [
              0.3333333333333333,
              "#9c179e"
             ],
             [
              0.4444444444444444,
              "#bd3786"
             ],
             [
              0.5555555555555556,
              "#d8576b"
             ],
             [
              0.6666666666666666,
              "#ed7953"
             ],
             [
              0.7777777777777778,
              "#fb9f3a"
             ],
             [
              0.8888888888888888,
              "#fdca26"
             ],
             [
              1,
              "#f0f921"
             ]
            ],
            "type": "heatmap"
           }
          ],
          "heatmapgl": [
           {
            "colorbar": {
             "outlinewidth": 0,
             "ticks": ""
            },
            "colorscale": [
             [
              0,
              "#0d0887"
             ],
             [
              0.1111111111111111,
              "#46039f"
             ],
             [
              0.2222222222222222,
              "#7201a8"
             ],
             [
              0.3333333333333333,
              "#9c179e"
             ],
             [
              0.4444444444444444,
              "#bd3786"
             ],
             [
              0.5555555555555556,
              "#d8576b"
             ],
             [
              0.6666666666666666,
              "#ed7953"
             ],
             [
              0.7777777777777778,
              "#fb9f3a"
             ],
             [
              0.8888888888888888,
              "#fdca26"
             ],
             [
              1,
              "#f0f921"
             ]
            ],
            "type": "heatmapgl"
           }
          ],
          "histogram": [
           {
            "marker": {
             "pattern": {
              "fillmode": "overlay",
              "size": 10,
              "solidity": 0.2
             }
            },
            "type": "histogram"
           }
          ],
          "histogram2d": [
           {
            "colorbar": {
             "outlinewidth": 0,
             "ticks": ""
            },
            "colorscale": [
             [
              0,
              "#0d0887"
             ],
             [
              0.1111111111111111,
              "#46039f"
             ],
             [
              0.2222222222222222,
              "#7201a8"
             ],
             [
              0.3333333333333333,
              "#9c179e"
             ],
             [
              0.4444444444444444,
              "#bd3786"
             ],
             [
              0.5555555555555556,
              "#d8576b"
             ],
             [
              0.6666666666666666,
              "#ed7953"
             ],
             [
              0.7777777777777778,
              "#fb9f3a"
             ],
             [
              0.8888888888888888,
              "#fdca26"
             ],
             [
              1,
              "#f0f921"
             ]
            ],
            "type": "histogram2d"
           }
          ],
          "histogram2dcontour": [
           {
            "colorbar": {
             "outlinewidth": 0,
             "ticks": ""
            },
            "colorscale": [
             [
              0,
              "#0d0887"
             ],
             [
              0.1111111111111111,
              "#46039f"
             ],
             [
              0.2222222222222222,
              "#7201a8"
             ],
             [
              0.3333333333333333,
              "#9c179e"
             ],
             [
              0.4444444444444444,
              "#bd3786"
             ],
             [
              0.5555555555555556,
              "#d8576b"
             ],
             [
              0.6666666666666666,
              "#ed7953"
             ],
             [
              0.7777777777777778,
              "#fb9f3a"
             ],
             [
              0.8888888888888888,
              "#fdca26"
             ],
             [
              1,
              "#f0f921"
             ]
            ],
            "type": "histogram2dcontour"
           }
          ],
          "mesh3d": [
           {
            "colorbar": {
             "outlinewidth": 0,
             "ticks": ""
            },
            "type": "mesh3d"
           }
          ],
          "parcoords": [
           {
            "line": {
             "colorbar": {
              "outlinewidth": 0,
              "ticks": ""
             }
            },
            "type": "parcoords"
           }
          ],
          "pie": [
           {
            "automargin": true,
            "type": "pie"
           }
          ],
          "scatter": [
           {
            "fillpattern": {
             "fillmode": "overlay",
             "size": 10,
             "solidity": 0.2
            },
            "type": "scatter"
           }
          ],
          "scatter3d": [
           {
            "line": {
             "colorbar": {
              "outlinewidth": 0,
              "ticks": ""
             }
            },
            "marker": {
             "colorbar": {
              "outlinewidth": 0,
              "ticks": ""
             }
            },
            "type": "scatter3d"
           }
          ],
          "scattercarpet": [
           {
            "marker": {
             "colorbar": {
              "outlinewidth": 0,
              "ticks": ""
             }
            },
            "type": "scattercarpet"
           }
          ],
          "scattergeo": [
           {
            "marker": {
             "colorbar": {
              "outlinewidth": 0,
              "ticks": ""
             }
            },
            "type": "scattergeo"
           }
          ],
          "scattergl": [
           {
            "marker": {
             "colorbar": {
              "outlinewidth": 0,
              "ticks": ""
             }
            },
            "type": "scattergl"
           }
          ],
          "scattermapbox": [
           {
            "marker": {
             "colorbar": {
              "outlinewidth": 0,
              "ticks": ""
             }
            },
            "type": "scattermapbox"
           }
          ],
          "scatterpolar": [
           {
            "marker": {
             "colorbar": {
              "outlinewidth": 0,
              "ticks": ""
             }
            },
            "type": "scatterpolar"
           }
          ],
          "scatterpolargl": [
           {
            "marker": {
             "colorbar": {
              "outlinewidth": 0,
              "ticks": ""
             }
            },
            "type": "scatterpolargl"
           }
          ],
          "scatterternary": [
           {
            "marker": {
             "colorbar": {
              "outlinewidth": 0,
              "ticks": ""
             }
            },
            "type": "scatterternary"
           }
          ],
          "surface": [
           {
            "colorbar": {
             "outlinewidth": 0,
             "ticks": ""
            },
            "colorscale": [
             [
              0,
              "#0d0887"
             ],
             [
              0.1111111111111111,
              "#46039f"
             ],
             [
              0.2222222222222222,
              "#7201a8"
             ],
             [
              0.3333333333333333,
              "#9c179e"
             ],
             [
              0.4444444444444444,
              "#bd3786"
             ],
             [
              0.5555555555555556,
              "#d8576b"
             ],
             [
              0.6666666666666666,
              "#ed7953"
             ],
             [
              0.7777777777777778,
              "#fb9f3a"
             ],
             [
              0.8888888888888888,
              "#fdca26"
             ],
             [
              1,
              "#f0f921"
             ]
            ],
            "type": "surface"
           }
          ],
          "table": [
           {
            "cells": {
             "fill": {
              "color": "#EBF0F8"
             },
             "line": {
              "color": "white"
             }
            },
            "header": {
             "fill": {
              "color": "#C8D4E3"
             },
             "line": {
              "color": "white"
             }
            },
            "type": "table"
           }
          ]
         },
         "layout": {
          "annotationdefaults": {
           "arrowcolor": "#2a3f5f",
           "arrowhead": 0,
           "arrowwidth": 1
          },
          "autotypenumbers": "strict",
          "coloraxis": {
           "colorbar": {
            "outlinewidth": 0,
            "ticks": ""
           }
          },
          "colorscale": {
           "diverging": [
            [
             0,
             "#8e0152"
            ],
            [
             0.1,
             "#c51b7d"
            ],
            [
             0.2,
             "#de77ae"
            ],
            [
             0.3,
             "#f1b6da"
            ],
            [
             0.4,
             "#fde0ef"
            ],
            [
             0.5,
             "#f7f7f7"
            ],
            [
             0.6,
             "#e6f5d0"
            ],
            [
             0.7,
             "#b8e186"
            ],
            [
             0.8,
             "#7fbc41"
            ],
            [
             0.9,
             "#4d9221"
            ],
            [
             1,
             "#276419"
            ]
           ],
           "sequential": [
            [
             0,
             "#0d0887"
            ],
            [
             0.1111111111111111,
             "#46039f"
            ],
            [
             0.2222222222222222,
             "#7201a8"
            ],
            [
             0.3333333333333333,
             "#9c179e"
            ],
            [
             0.4444444444444444,
             "#bd3786"
            ],
            [
             0.5555555555555556,
             "#d8576b"
            ],
            [
             0.6666666666666666,
             "#ed7953"
            ],
            [
             0.7777777777777778,
             "#fb9f3a"
            ],
            [
             0.8888888888888888,
             "#fdca26"
            ],
            [
             1,
             "#f0f921"
            ]
           ],
           "sequentialminus": [
            [
             0,
             "#0d0887"
            ],
            [
             0.1111111111111111,
             "#46039f"
            ],
            [
             0.2222222222222222,
             "#7201a8"
            ],
            [
             0.3333333333333333,
             "#9c179e"
            ],
            [
             0.4444444444444444,
             "#bd3786"
            ],
            [
             0.5555555555555556,
             "#d8576b"
            ],
            [
             0.6666666666666666,
             "#ed7953"
            ],
            [
             0.7777777777777778,
             "#fb9f3a"
            ],
            [
             0.8888888888888888,
             "#fdca26"
            ],
            [
             1,
             "#f0f921"
            ]
           ]
          },
          "colorway": [
           "#636efa",
           "#EF553B",
           "#00cc96",
           "#ab63fa",
           "#FFA15A",
           "#19d3f3",
           "#FF6692",
           "#B6E880",
           "#FF97FF",
           "#FECB52"
          ],
          "font": {
           "color": "#2a3f5f"
          },
          "geo": {
           "bgcolor": "white",
           "lakecolor": "white",
           "landcolor": "#E5ECF6",
           "showlakes": true,
           "showland": true,
           "subunitcolor": "white"
          },
          "hoverlabel": {
           "align": "left"
          },
          "hovermode": "closest",
          "mapbox": {
           "style": "light"
          },
          "paper_bgcolor": "white",
          "plot_bgcolor": "#E5ECF6",
          "polar": {
           "angularaxis": {
            "gridcolor": "white",
            "linecolor": "white",
            "ticks": ""
           },
           "bgcolor": "#E5ECF6",
           "radialaxis": {
            "gridcolor": "white",
            "linecolor": "white",
            "ticks": ""
           }
          },
          "scene": {
           "xaxis": {
            "backgroundcolor": "#E5ECF6",
            "gridcolor": "white",
            "gridwidth": 2,
            "linecolor": "white",
            "showbackground": true,
            "ticks": "",
            "zerolinecolor": "white"
           },
           "yaxis": {
            "backgroundcolor": "#E5ECF6",
            "gridcolor": "white",
            "gridwidth": 2,
            "linecolor": "white",
            "showbackground": true,
            "ticks": "",
            "zerolinecolor": "white"
           },
           "zaxis": {
            "backgroundcolor": "#E5ECF6",
            "gridcolor": "white",
            "gridwidth": 2,
            "linecolor": "white",
            "showbackground": true,
            "ticks": "",
            "zerolinecolor": "white"
           }
          },
          "shapedefaults": {
           "line": {
            "color": "#2a3f5f"
           }
          },
          "ternary": {
           "aaxis": {
            "gridcolor": "white",
            "linecolor": "white",
            "ticks": ""
           },
           "baxis": {
            "gridcolor": "white",
            "linecolor": "white",
            "ticks": ""
           },
           "bgcolor": "#E5ECF6",
           "caxis": {
            "gridcolor": "white",
            "linecolor": "white",
            "ticks": ""
           }
          },
          "title": {
           "x": 0.05
          },
          "xaxis": {
           "automargin": true,
           "gridcolor": "white",
           "linecolor": "white",
           "ticks": "",
           "title": {
            "standoff": 15
           },
           "zerolinecolor": "white",
           "zerolinewidth": 2
          },
          "yaxis": {
           "automargin": true,
           "gridcolor": "white",
           "linecolor": "white",
           "ticks": "",
           "title": {
            "standoff": 15
           },
           "zerolinecolor": "white",
           "zerolinewidth": 2
          }
         }
        },
        "title": {
         "text": "Promedio de 'Dosis Total [mGy]' por rango de Peso[kg] para estudio Lumbar"
        },
        "xaxis": {
         "title": {
          "text": "Rango de Peso[kg]"
         }
        },
        "yaxis": {
         "title": {
          "text": "Promedio Dosis Total [mGy]"
         }
        }
       }
      }
     },
     "metadata": {},
     "output_type": "display_data"
    },
    {
     "name": "stderr",
     "output_type": "stream",
     "text": [
      "C:\\Users\\oscar\\AppData\\Local\\Temp\\ipykernel_9892\\2388529399.py:4: SettingWithCopyWarning:\n",
      "\n",
      "\n",
      "A value is trying to be set on a copy of a slice from a DataFrame.\n",
      "Try using .loc[row_indexer,col_indexer] = value instead\n",
      "\n",
      "See the caveats in the documentation: https://pandas.pydata.org/pandas-docs/stable/user_guide/indexing.html#returning-a-view-versus-a-copy\n",
      "\n",
      "C:\\Users\\oscar\\AppData\\Local\\Temp\\ipykernel_9892\\2388529399.py:5: FutureWarning:\n",
      "\n",
      "The default of observed=False is deprecated and will be changed to True in a future version of pandas. Pass observed=False to retain current behavior or observed=True to adopt the future default and silence this warning.\n",
      "\n"
     ]
    },
    {
     "data": {
      "application/vnd.plotly.v1+json": {
       "config": {
        "plotlyServerURL": "https://plot.ly"
       },
       "data": [
        {
         "name": "Estudio: Abdomen",
         "type": "bar",
         "x": [
          "(45, 60]",
          "(60, 75]",
          "(75, 90]",
          "(90, 105]",
          "(105, 120]"
         ],
         "y": [
          2.025714285714286,
          7.675161290322581,
          7.328571428571428,
          9.57,
          null
         ]
        }
       ],
       "layout": {
        "template": {
         "data": {
          "bar": [
           {
            "error_x": {
             "color": "#2a3f5f"
            },
            "error_y": {
             "color": "#2a3f5f"
            },
            "marker": {
             "line": {
              "color": "#E5ECF6",
              "width": 0.5
             },
             "pattern": {
              "fillmode": "overlay",
              "size": 10,
              "solidity": 0.2
             }
            },
            "type": "bar"
           }
          ],
          "barpolar": [
           {
            "marker": {
             "line": {
              "color": "#E5ECF6",
              "width": 0.5
             },
             "pattern": {
              "fillmode": "overlay",
              "size": 10,
              "solidity": 0.2
             }
            },
            "type": "barpolar"
           }
          ],
          "carpet": [
           {
            "aaxis": {
             "endlinecolor": "#2a3f5f",
             "gridcolor": "white",
             "linecolor": "white",
             "minorgridcolor": "white",
             "startlinecolor": "#2a3f5f"
            },
            "baxis": {
             "endlinecolor": "#2a3f5f",
             "gridcolor": "white",
             "linecolor": "white",
             "minorgridcolor": "white",
             "startlinecolor": "#2a3f5f"
            },
            "type": "carpet"
           }
          ],
          "choropleth": [
           {
            "colorbar": {
             "outlinewidth": 0,
             "ticks": ""
            },
            "type": "choropleth"
           }
          ],
          "contour": [
           {
            "colorbar": {
             "outlinewidth": 0,
             "ticks": ""
            },
            "colorscale": [
             [
              0,
              "#0d0887"
             ],
             [
              0.1111111111111111,
              "#46039f"
             ],
             [
              0.2222222222222222,
              "#7201a8"
             ],
             [
              0.3333333333333333,
              "#9c179e"
             ],
             [
              0.4444444444444444,
              "#bd3786"
             ],
             [
              0.5555555555555556,
              "#d8576b"
             ],
             [
              0.6666666666666666,
              "#ed7953"
             ],
             [
              0.7777777777777778,
              "#fb9f3a"
             ],
             [
              0.8888888888888888,
              "#fdca26"
             ],
             [
              1,
              "#f0f921"
             ]
            ],
            "type": "contour"
           }
          ],
          "contourcarpet": [
           {
            "colorbar": {
             "outlinewidth": 0,
             "ticks": ""
            },
            "type": "contourcarpet"
           }
          ],
          "heatmap": [
           {
            "colorbar": {
             "outlinewidth": 0,
             "ticks": ""
            },
            "colorscale": [
             [
              0,
              "#0d0887"
             ],
             [
              0.1111111111111111,
              "#46039f"
             ],
             [
              0.2222222222222222,
              "#7201a8"
             ],
             [
              0.3333333333333333,
              "#9c179e"
             ],
             [
              0.4444444444444444,
              "#bd3786"
             ],
             [
              0.5555555555555556,
              "#d8576b"
             ],
             [
              0.6666666666666666,
              "#ed7953"
             ],
             [
              0.7777777777777778,
              "#fb9f3a"
             ],
             [
              0.8888888888888888,
              "#fdca26"
             ],
             [
              1,
              "#f0f921"
             ]
            ],
            "type": "heatmap"
           }
          ],
          "heatmapgl": [
           {
            "colorbar": {
             "outlinewidth": 0,
             "ticks": ""
            },
            "colorscale": [
             [
              0,
              "#0d0887"
             ],
             [
              0.1111111111111111,
              "#46039f"
             ],
             [
              0.2222222222222222,
              "#7201a8"
             ],
             [
              0.3333333333333333,
              "#9c179e"
             ],
             [
              0.4444444444444444,
              "#bd3786"
             ],
             [
              0.5555555555555556,
              "#d8576b"
             ],
             [
              0.6666666666666666,
              "#ed7953"
             ],
             [
              0.7777777777777778,
              "#fb9f3a"
             ],
             [
              0.8888888888888888,
              "#fdca26"
             ],
             [
              1,
              "#f0f921"
             ]
            ],
            "type": "heatmapgl"
           }
          ],
          "histogram": [
           {
            "marker": {
             "pattern": {
              "fillmode": "overlay",
              "size": 10,
              "solidity": 0.2
             }
            },
            "type": "histogram"
           }
          ],
          "histogram2d": [
           {
            "colorbar": {
             "outlinewidth": 0,
             "ticks": ""
            },
            "colorscale": [
             [
              0,
              "#0d0887"
             ],
             [
              0.1111111111111111,
              "#46039f"
             ],
             [
              0.2222222222222222,
              "#7201a8"
             ],
             [
              0.3333333333333333,
              "#9c179e"
             ],
             [
              0.4444444444444444,
              "#bd3786"
             ],
             [
              0.5555555555555556,
              "#d8576b"
             ],
             [
              0.6666666666666666,
              "#ed7953"
             ],
             [
              0.7777777777777778,
              "#fb9f3a"
             ],
             [
              0.8888888888888888,
              "#fdca26"
             ],
             [
              1,
              "#f0f921"
             ]
            ],
            "type": "histogram2d"
           }
          ],
          "histogram2dcontour": [
           {
            "colorbar": {
             "outlinewidth": 0,
             "ticks": ""
            },
            "colorscale": [
             [
              0,
              "#0d0887"
             ],
             [
              0.1111111111111111,
              "#46039f"
             ],
             [
              0.2222222222222222,
              "#7201a8"
             ],
             [
              0.3333333333333333,
              "#9c179e"
             ],
             [
              0.4444444444444444,
              "#bd3786"
             ],
             [
              0.5555555555555556,
              "#d8576b"
             ],
             [
              0.6666666666666666,
              "#ed7953"
             ],
             [
              0.7777777777777778,
              "#fb9f3a"
             ],
             [
              0.8888888888888888,
              "#fdca26"
             ],
             [
              1,
              "#f0f921"
             ]
            ],
            "type": "histogram2dcontour"
           }
          ],
          "mesh3d": [
           {
            "colorbar": {
             "outlinewidth": 0,
             "ticks": ""
            },
            "type": "mesh3d"
           }
          ],
          "parcoords": [
           {
            "line": {
             "colorbar": {
              "outlinewidth": 0,
              "ticks": ""
             }
            },
            "type": "parcoords"
           }
          ],
          "pie": [
           {
            "automargin": true,
            "type": "pie"
           }
          ],
          "scatter": [
           {
            "fillpattern": {
             "fillmode": "overlay",
             "size": 10,
             "solidity": 0.2
            },
            "type": "scatter"
           }
          ],
          "scatter3d": [
           {
            "line": {
             "colorbar": {
              "outlinewidth": 0,
              "ticks": ""
             }
            },
            "marker": {
             "colorbar": {
              "outlinewidth": 0,
              "ticks": ""
             }
            },
            "type": "scatter3d"
           }
          ],
          "scattercarpet": [
           {
            "marker": {
             "colorbar": {
              "outlinewidth": 0,
              "ticks": ""
             }
            },
            "type": "scattercarpet"
           }
          ],
          "scattergeo": [
           {
            "marker": {
             "colorbar": {
              "outlinewidth": 0,
              "ticks": ""
             }
            },
            "type": "scattergeo"
           }
          ],
          "scattergl": [
           {
            "marker": {
             "colorbar": {
              "outlinewidth": 0,
              "ticks": ""
             }
            },
            "type": "scattergl"
           }
          ],
          "scattermapbox": [
           {
            "marker": {
             "colorbar": {
              "outlinewidth": 0,
              "ticks": ""
             }
            },
            "type": "scattermapbox"
           }
          ],
          "scatterpolar": [
           {
            "marker": {
             "colorbar": {
              "outlinewidth": 0,
              "ticks": ""
             }
            },
            "type": "scatterpolar"
           }
          ],
          "scatterpolargl": [
           {
            "marker": {
             "colorbar": {
              "outlinewidth": 0,
              "ticks": ""
             }
            },
            "type": "scatterpolargl"
           }
          ],
          "scatterternary": [
           {
            "marker": {
             "colorbar": {
              "outlinewidth": 0,
              "ticks": ""
             }
            },
            "type": "scatterternary"
           }
          ],
          "surface": [
           {
            "colorbar": {
             "outlinewidth": 0,
             "ticks": ""
            },
            "colorscale": [
             [
              0,
              "#0d0887"
             ],
             [
              0.1111111111111111,
              "#46039f"
             ],
             [
              0.2222222222222222,
              "#7201a8"
             ],
             [
              0.3333333333333333,
              "#9c179e"
             ],
             [
              0.4444444444444444,
              "#bd3786"
             ],
             [
              0.5555555555555556,
              "#d8576b"
             ],
             [
              0.6666666666666666,
              "#ed7953"
             ],
             [
              0.7777777777777778,
              "#fb9f3a"
             ],
             [
              0.8888888888888888,
              "#fdca26"
             ],
             [
              1,
              "#f0f921"
             ]
            ],
            "type": "surface"
           }
          ],
          "table": [
           {
            "cells": {
             "fill": {
              "color": "#EBF0F8"
             },
             "line": {
              "color": "white"
             }
            },
            "header": {
             "fill": {
              "color": "#C8D4E3"
             },
             "line": {
              "color": "white"
             }
            },
            "type": "table"
           }
          ]
         },
         "layout": {
          "annotationdefaults": {
           "arrowcolor": "#2a3f5f",
           "arrowhead": 0,
           "arrowwidth": 1
          },
          "autotypenumbers": "strict",
          "coloraxis": {
           "colorbar": {
            "outlinewidth": 0,
            "ticks": ""
           }
          },
          "colorscale": {
           "diverging": [
            [
             0,
             "#8e0152"
            ],
            [
             0.1,
             "#c51b7d"
            ],
            [
             0.2,
             "#de77ae"
            ],
            [
             0.3,
             "#f1b6da"
            ],
            [
             0.4,
             "#fde0ef"
            ],
            [
             0.5,
             "#f7f7f7"
            ],
            [
             0.6,
             "#e6f5d0"
            ],
            [
             0.7,
             "#b8e186"
            ],
            [
             0.8,
             "#7fbc41"
            ],
            [
             0.9,
             "#4d9221"
            ],
            [
             1,
             "#276419"
            ]
           ],
           "sequential": [
            [
             0,
             "#0d0887"
            ],
            [
             0.1111111111111111,
             "#46039f"
            ],
            [
             0.2222222222222222,
             "#7201a8"
            ],
            [
             0.3333333333333333,
             "#9c179e"
            ],
            [
             0.4444444444444444,
             "#bd3786"
            ],
            [
             0.5555555555555556,
             "#d8576b"
            ],
            [
             0.6666666666666666,
             "#ed7953"
            ],
            [
             0.7777777777777778,
             "#fb9f3a"
            ],
            [
             0.8888888888888888,
             "#fdca26"
            ],
            [
             1,
             "#f0f921"
            ]
           ],
           "sequentialminus": [
            [
             0,
             "#0d0887"
            ],
            [
             0.1111111111111111,
             "#46039f"
            ],
            [
             0.2222222222222222,
             "#7201a8"
            ],
            [
             0.3333333333333333,
             "#9c179e"
            ],
            [
             0.4444444444444444,
             "#bd3786"
            ],
            [
             0.5555555555555556,
             "#d8576b"
            ],
            [
             0.6666666666666666,
             "#ed7953"
            ],
            [
             0.7777777777777778,
             "#fb9f3a"
            ],
            [
             0.8888888888888888,
             "#fdca26"
            ],
            [
             1,
             "#f0f921"
            ]
           ]
          },
          "colorway": [
           "#636efa",
           "#EF553B",
           "#00cc96",
           "#ab63fa",
           "#FFA15A",
           "#19d3f3",
           "#FF6692",
           "#B6E880",
           "#FF97FF",
           "#FECB52"
          ],
          "font": {
           "color": "#2a3f5f"
          },
          "geo": {
           "bgcolor": "white",
           "lakecolor": "white",
           "landcolor": "#E5ECF6",
           "showlakes": true,
           "showland": true,
           "subunitcolor": "white"
          },
          "hoverlabel": {
           "align": "left"
          },
          "hovermode": "closest",
          "mapbox": {
           "style": "light"
          },
          "paper_bgcolor": "white",
          "plot_bgcolor": "#E5ECF6",
          "polar": {
           "angularaxis": {
            "gridcolor": "white",
            "linecolor": "white",
            "ticks": ""
           },
           "bgcolor": "#E5ECF6",
           "radialaxis": {
            "gridcolor": "white",
            "linecolor": "white",
            "ticks": ""
           }
          },
          "scene": {
           "xaxis": {
            "backgroundcolor": "#E5ECF6",
            "gridcolor": "white",
            "gridwidth": 2,
            "linecolor": "white",
            "showbackground": true,
            "ticks": "",
            "zerolinecolor": "white"
           },
           "yaxis": {
            "backgroundcolor": "#E5ECF6",
            "gridcolor": "white",
            "gridwidth": 2,
            "linecolor": "white",
            "showbackground": true,
            "ticks": "",
            "zerolinecolor": "white"
           },
           "zaxis": {
            "backgroundcolor": "#E5ECF6",
            "gridcolor": "white",
            "gridwidth": 2,
            "linecolor": "white",
            "showbackground": true,
            "ticks": "",
            "zerolinecolor": "white"
           }
          },
          "shapedefaults": {
           "line": {
            "color": "#2a3f5f"
           }
          },
          "ternary": {
           "aaxis": {
            "gridcolor": "white",
            "linecolor": "white",
            "ticks": ""
           },
           "baxis": {
            "gridcolor": "white",
            "linecolor": "white",
            "ticks": ""
           },
           "bgcolor": "#E5ECF6",
           "caxis": {
            "gridcolor": "white",
            "linecolor": "white",
            "ticks": ""
           }
          },
          "title": {
           "x": 0.05
          },
          "xaxis": {
           "automargin": true,
           "gridcolor": "white",
           "linecolor": "white",
           "ticks": "",
           "title": {
            "standoff": 15
           },
           "zerolinecolor": "white",
           "zerolinewidth": 2
          },
          "yaxis": {
           "automargin": true,
           "gridcolor": "white",
           "linecolor": "white",
           "ticks": "",
           "title": {
            "standoff": 15
           },
           "zerolinecolor": "white",
           "zerolinewidth": 2
          }
         }
        },
        "title": {
         "text": "Promedio de 'Dosis Total [mGy]' por rango de Peso[kg] para estudio Abdomen"
        },
        "xaxis": {
         "title": {
          "text": "Rango de Peso[kg]"
         }
        },
        "yaxis": {
         "title": {
          "text": "Promedio Dosis Total [mGy]"
         }
        }
       }
      }
     },
     "metadata": {},
     "output_type": "display_data"
    },
    {
     "name": "stderr",
     "output_type": "stream",
     "text": [
      "C:\\Users\\oscar\\AppData\\Local\\Temp\\ipykernel_9892\\2388529399.py:4: SettingWithCopyWarning:\n",
      "\n",
      "\n",
      "A value is trying to be set on a copy of a slice from a DataFrame.\n",
      "Try using .loc[row_indexer,col_indexer] = value instead\n",
      "\n",
      "See the caveats in the documentation: https://pandas.pydata.org/pandas-docs/stable/user_guide/indexing.html#returning-a-view-versus-a-copy\n",
      "\n",
      "C:\\Users\\oscar\\AppData\\Local\\Temp\\ipykernel_9892\\2388529399.py:5: FutureWarning:\n",
      "\n",
      "The default of observed=False is deprecated and will be changed to True in a future version of pandas. Pass observed=False to retain current behavior or observed=True to adopt the future default and silence this warning.\n",
      "\n"
     ]
    },
    {
     "data": {
      "application/vnd.plotly.v1+json": {
       "config": {
        "plotlyServerURL": "https://plot.ly"
       },
       "data": [
        {
         "name": "Estudio: Hombro",
         "type": "bar",
         "x": [
          "(45, 60]",
          "(60, 75]",
          "(75, 90]",
          "(90, 105]",
          "(105, 120]"
         ],
         "y": [
          2.42125,
          4.2278787878787885,
          4.535714285714286,
          null,
          null
         ]
        }
       ],
       "layout": {
        "template": {
         "data": {
          "bar": [
           {
            "error_x": {
             "color": "#2a3f5f"
            },
            "error_y": {
             "color": "#2a3f5f"
            },
            "marker": {
             "line": {
              "color": "#E5ECF6",
              "width": 0.5
             },
             "pattern": {
              "fillmode": "overlay",
              "size": 10,
              "solidity": 0.2
             }
            },
            "type": "bar"
           }
          ],
          "barpolar": [
           {
            "marker": {
             "line": {
              "color": "#E5ECF6",
              "width": 0.5
             },
             "pattern": {
              "fillmode": "overlay",
              "size": 10,
              "solidity": 0.2
             }
            },
            "type": "barpolar"
           }
          ],
          "carpet": [
           {
            "aaxis": {
             "endlinecolor": "#2a3f5f",
             "gridcolor": "white",
             "linecolor": "white",
             "minorgridcolor": "white",
             "startlinecolor": "#2a3f5f"
            },
            "baxis": {
             "endlinecolor": "#2a3f5f",
             "gridcolor": "white",
             "linecolor": "white",
             "minorgridcolor": "white",
             "startlinecolor": "#2a3f5f"
            },
            "type": "carpet"
           }
          ],
          "choropleth": [
           {
            "colorbar": {
             "outlinewidth": 0,
             "ticks": ""
            },
            "type": "choropleth"
           }
          ],
          "contour": [
           {
            "colorbar": {
             "outlinewidth": 0,
             "ticks": ""
            },
            "colorscale": [
             [
              0,
              "#0d0887"
             ],
             [
              0.1111111111111111,
              "#46039f"
             ],
             [
              0.2222222222222222,
              "#7201a8"
             ],
             [
              0.3333333333333333,
              "#9c179e"
             ],
             [
              0.4444444444444444,
              "#bd3786"
             ],
             [
              0.5555555555555556,
              "#d8576b"
             ],
             [
              0.6666666666666666,
              "#ed7953"
             ],
             [
              0.7777777777777778,
              "#fb9f3a"
             ],
             [
              0.8888888888888888,
              "#fdca26"
             ],
             [
              1,
              "#f0f921"
             ]
            ],
            "type": "contour"
           }
          ],
          "contourcarpet": [
           {
            "colorbar": {
             "outlinewidth": 0,
             "ticks": ""
            },
            "type": "contourcarpet"
           }
          ],
          "heatmap": [
           {
            "colorbar": {
             "outlinewidth": 0,
             "ticks": ""
            },
            "colorscale": [
             [
              0,
              "#0d0887"
             ],
             [
              0.1111111111111111,
              "#46039f"
             ],
             [
              0.2222222222222222,
              "#7201a8"
             ],
             [
              0.3333333333333333,
              "#9c179e"
             ],
             [
              0.4444444444444444,
              "#bd3786"
             ],
             [
              0.5555555555555556,
              "#d8576b"
             ],
             [
              0.6666666666666666,
              "#ed7953"
             ],
             [
              0.7777777777777778,
              "#fb9f3a"
             ],
             [
              0.8888888888888888,
              "#fdca26"
             ],
             [
              1,
              "#f0f921"
             ]
            ],
            "type": "heatmap"
           }
          ],
          "heatmapgl": [
           {
            "colorbar": {
             "outlinewidth": 0,
             "ticks": ""
            },
            "colorscale": [
             [
              0,
              "#0d0887"
             ],
             [
              0.1111111111111111,
              "#46039f"
             ],
             [
              0.2222222222222222,
              "#7201a8"
             ],
             [
              0.3333333333333333,
              "#9c179e"
             ],
             [
              0.4444444444444444,
              "#bd3786"
             ],
             [
              0.5555555555555556,
              "#d8576b"
             ],
             [
              0.6666666666666666,
              "#ed7953"
             ],
             [
              0.7777777777777778,
              "#fb9f3a"
             ],
             [
              0.8888888888888888,
              "#fdca26"
             ],
             [
              1,
              "#f0f921"
             ]
            ],
            "type": "heatmapgl"
           }
          ],
          "histogram": [
           {
            "marker": {
             "pattern": {
              "fillmode": "overlay",
              "size": 10,
              "solidity": 0.2
             }
            },
            "type": "histogram"
           }
          ],
          "histogram2d": [
           {
            "colorbar": {
             "outlinewidth": 0,
             "ticks": ""
            },
            "colorscale": [
             [
              0,
              "#0d0887"
             ],
             [
              0.1111111111111111,
              "#46039f"
             ],
             [
              0.2222222222222222,
              "#7201a8"
             ],
             [
              0.3333333333333333,
              "#9c179e"
             ],
             [
              0.4444444444444444,
              "#bd3786"
             ],
             [
              0.5555555555555556,
              "#d8576b"
             ],
             [
              0.6666666666666666,
              "#ed7953"
             ],
             [
              0.7777777777777778,
              "#fb9f3a"
             ],
             [
              0.8888888888888888,
              "#fdca26"
             ],
             [
              1,
              "#f0f921"
             ]
            ],
            "type": "histogram2d"
           }
          ],
          "histogram2dcontour": [
           {
            "colorbar": {
             "outlinewidth": 0,
             "ticks": ""
            },
            "colorscale": [
             [
              0,
              "#0d0887"
             ],
             [
              0.1111111111111111,
              "#46039f"
             ],
             [
              0.2222222222222222,
              "#7201a8"
             ],
             [
              0.3333333333333333,
              "#9c179e"
             ],
             [
              0.4444444444444444,
              "#bd3786"
             ],
             [
              0.5555555555555556,
              "#d8576b"
             ],
             [
              0.6666666666666666,
              "#ed7953"
             ],
             [
              0.7777777777777778,
              "#fb9f3a"
             ],
             [
              0.8888888888888888,
              "#fdca26"
             ],
             [
              1,
              "#f0f921"
             ]
            ],
            "type": "histogram2dcontour"
           }
          ],
          "mesh3d": [
           {
            "colorbar": {
             "outlinewidth": 0,
             "ticks": ""
            },
            "type": "mesh3d"
           }
          ],
          "parcoords": [
           {
            "line": {
             "colorbar": {
              "outlinewidth": 0,
              "ticks": ""
             }
            },
            "type": "parcoords"
           }
          ],
          "pie": [
           {
            "automargin": true,
            "type": "pie"
           }
          ],
          "scatter": [
           {
            "fillpattern": {
             "fillmode": "overlay",
             "size": 10,
             "solidity": 0.2
            },
            "type": "scatter"
           }
          ],
          "scatter3d": [
           {
            "line": {
             "colorbar": {
              "outlinewidth": 0,
              "ticks": ""
             }
            },
            "marker": {
             "colorbar": {
              "outlinewidth": 0,
              "ticks": ""
             }
            },
            "type": "scatter3d"
           }
          ],
          "scattercarpet": [
           {
            "marker": {
             "colorbar": {
              "outlinewidth": 0,
              "ticks": ""
             }
            },
            "type": "scattercarpet"
           }
          ],
          "scattergeo": [
           {
            "marker": {
             "colorbar": {
              "outlinewidth": 0,
              "ticks": ""
             }
            },
            "type": "scattergeo"
           }
          ],
          "scattergl": [
           {
            "marker": {
             "colorbar": {
              "outlinewidth": 0,
              "ticks": ""
             }
            },
            "type": "scattergl"
           }
          ],
          "scattermapbox": [
           {
            "marker": {
             "colorbar": {
              "outlinewidth": 0,
              "ticks": ""
             }
            },
            "type": "scattermapbox"
           }
          ],
          "scatterpolar": [
           {
            "marker": {
             "colorbar": {
              "outlinewidth": 0,
              "ticks": ""
             }
            },
            "type": "scatterpolar"
           }
          ],
          "scatterpolargl": [
           {
            "marker": {
             "colorbar": {
              "outlinewidth": 0,
              "ticks": ""
             }
            },
            "type": "scatterpolargl"
           }
          ],
          "scatterternary": [
           {
            "marker": {
             "colorbar": {
              "outlinewidth": 0,
              "ticks": ""
             }
            },
            "type": "scatterternary"
           }
          ],
          "surface": [
           {
            "colorbar": {
             "outlinewidth": 0,
             "ticks": ""
            },
            "colorscale": [
             [
              0,
              "#0d0887"
             ],
             [
              0.1111111111111111,
              "#46039f"
             ],
             [
              0.2222222222222222,
              "#7201a8"
             ],
             [
              0.3333333333333333,
              "#9c179e"
             ],
             [
              0.4444444444444444,
              "#bd3786"
             ],
             [
              0.5555555555555556,
              "#d8576b"
             ],
             [
              0.6666666666666666,
              "#ed7953"
             ],
             [
              0.7777777777777778,
              "#fb9f3a"
             ],
             [
              0.8888888888888888,
              "#fdca26"
             ],
             [
              1,
              "#f0f921"
             ]
            ],
            "type": "surface"
           }
          ],
          "table": [
           {
            "cells": {
             "fill": {
              "color": "#EBF0F8"
             },
             "line": {
              "color": "white"
             }
            },
            "header": {
             "fill": {
              "color": "#C8D4E3"
             },
             "line": {
              "color": "white"
             }
            },
            "type": "table"
           }
          ]
         },
         "layout": {
          "annotationdefaults": {
           "arrowcolor": "#2a3f5f",
           "arrowhead": 0,
           "arrowwidth": 1
          },
          "autotypenumbers": "strict",
          "coloraxis": {
           "colorbar": {
            "outlinewidth": 0,
            "ticks": ""
           }
          },
          "colorscale": {
           "diverging": [
            [
             0,
             "#8e0152"
            ],
            [
             0.1,
             "#c51b7d"
            ],
            [
             0.2,
             "#de77ae"
            ],
            [
             0.3,
             "#f1b6da"
            ],
            [
             0.4,
             "#fde0ef"
            ],
            [
             0.5,
             "#f7f7f7"
            ],
            [
             0.6,
             "#e6f5d0"
            ],
            [
             0.7,
             "#b8e186"
            ],
            [
             0.8,
             "#7fbc41"
            ],
            [
             0.9,
             "#4d9221"
            ],
            [
             1,
             "#276419"
            ]
           ],
           "sequential": [
            [
             0,
             "#0d0887"
            ],
            [
             0.1111111111111111,
             "#46039f"
            ],
            [
             0.2222222222222222,
             "#7201a8"
            ],
            [
             0.3333333333333333,
             "#9c179e"
            ],
            [
             0.4444444444444444,
             "#bd3786"
            ],
            [
             0.5555555555555556,
             "#d8576b"
            ],
            [
             0.6666666666666666,
             "#ed7953"
            ],
            [
             0.7777777777777778,
             "#fb9f3a"
            ],
            [
             0.8888888888888888,
             "#fdca26"
            ],
            [
             1,
             "#f0f921"
            ]
           ],
           "sequentialminus": [
            [
             0,
             "#0d0887"
            ],
            [
             0.1111111111111111,
             "#46039f"
            ],
            [
             0.2222222222222222,
             "#7201a8"
            ],
            [
             0.3333333333333333,
             "#9c179e"
            ],
            [
             0.4444444444444444,
             "#bd3786"
            ],
            [
             0.5555555555555556,
             "#d8576b"
            ],
            [
             0.6666666666666666,
             "#ed7953"
            ],
            [
             0.7777777777777778,
             "#fb9f3a"
            ],
            [
             0.8888888888888888,
             "#fdca26"
            ],
            [
             1,
             "#f0f921"
            ]
           ]
          },
          "colorway": [
           "#636efa",
           "#EF553B",
           "#00cc96",
           "#ab63fa",
           "#FFA15A",
           "#19d3f3",
           "#FF6692",
           "#B6E880",
           "#FF97FF",
           "#FECB52"
          ],
          "font": {
           "color": "#2a3f5f"
          },
          "geo": {
           "bgcolor": "white",
           "lakecolor": "white",
           "landcolor": "#E5ECF6",
           "showlakes": true,
           "showland": true,
           "subunitcolor": "white"
          },
          "hoverlabel": {
           "align": "left"
          },
          "hovermode": "closest",
          "mapbox": {
           "style": "light"
          },
          "paper_bgcolor": "white",
          "plot_bgcolor": "#E5ECF6",
          "polar": {
           "angularaxis": {
            "gridcolor": "white",
            "linecolor": "white",
            "ticks": ""
           },
           "bgcolor": "#E5ECF6",
           "radialaxis": {
            "gridcolor": "white",
            "linecolor": "white",
            "ticks": ""
           }
          },
          "scene": {
           "xaxis": {
            "backgroundcolor": "#E5ECF6",
            "gridcolor": "white",
            "gridwidth": 2,
            "linecolor": "white",
            "showbackground": true,
            "ticks": "",
            "zerolinecolor": "white"
           },
           "yaxis": {
            "backgroundcolor": "#E5ECF6",
            "gridcolor": "white",
            "gridwidth": 2,
            "linecolor": "white",
            "showbackground": true,
            "ticks": "",
            "zerolinecolor": "white"
           },
           "zaxis": {
            "backgroundcolor": "#E5ECF6",
            "gridcolor": "white",
            "gridwidth": 2,
            "linecolor": "white",
            "showbackground": true,
            "ticks": "",
            "zerolinecolor": "white"
           }
          },
          "shapedefaults": {
           "line": {
            "color": "#2a3f5f"
           }
          },
          "ternary": {
           "aaxis": {
            "gridcolor": "white",
            "linecolor": "white",
            "ticks": ""
           },
           "baxis": {
            "gridcolor": "white",
            "linecolor": "white",
            "ticks": ""
           },
           "bgcolor": "#E5ECF6",
           "caxis": {
            "gridcolor": "white",
            "linecolor": "white",
            "ticks": ""
           }
          },
          "title": {
           "x": 0.05
          },
          "xaxis": {
           "automargin": true,
           "gridcolor": "white",
           "linecolor": "white",
           "ticks": "",
           "title": {
            "standoff": 15
           },
           "zerolinecolor": "white",
           "zerolinewidth": 2
          },
          "yaxis": {
           "automargin": true,
           "gridcolor": "white",
           "linecolor": "white",
           "ticks": "",
           "title": {
            "standoff": 15
           },
           "zerolinecolor": "white",
           "zerolinewidth": 2
          }
         }
        },
        "title": {
         "text": "Promedio de 'Dosis Total [mGy]' por rango de Peso[kg] para estudio Hombro"
        },
        "xaxis": {
         "title": {
          "text": "Rango de Peso[kg]"
         }
        },
        "yaxis": {
         "title": {
          "text": "Promedio Dosis Total [mGy]"
         }
        }
       }
      }
     },
     "metadata": {},
     "output_type": "display_data"
    },
    {
     "name": "stderr",
     "output_type": "stream",
     "text": [
      "C:\\Users\\oscar\\AppData\\Local\\Temp\\ipykernel_9892\\2388529399.py:4: SettingWithCopyWarning:\n",
      "\n",
      "\n",
      "A value is trying to be set on a copy of a slice from a DataFrame.\n",
      "Try using .loc[row_indexer,col_indexer] = value instead\n",
      "\n",
      "See the caveats in the documentation: https://pandas.pydata.org/pandas-docs/stable/user_guide/indexing.html#returning-a-view-versus-a-copy\n",
      "\n",
      "C:\\Users\\oscar\\AppData\\Local\\Temp\\ipykernel_9892\\2388529399.py:5: FutureWarning:\n",
      "\n",
      "The default of observed=False is deprecated and will be changed to True in a future version of pandas. Pass observed=False to retain current behavior or observed=True to adopt the future default and silence this warning.\n",
      "\n"
     ]
    },
    {
     "data": {
      "application/vnd.plotly.v1+json": {
       "config": {
        "plotlyServerURL": "https://plot.ly"
       },
       "data": [
        {
         "name": "Estudio: Pie",
         "type": "bar",
         "x": [
          "(45, 60]",
          "(60, 75]",
          "(75, 90]",
          "(90, 105]",
          "(105, 120]"
         ],
         "y": [
          0.405,
          0.9453333333333334,
          null,
          null,
          null
         ]
        }
       ],
       "layout": {
        "template": {
         "data": {
          "bar": [
           {
            "error_x": {
             "color": "#2a3f5f"
            },
            "error_y": {
             "color": "#2a3f5f"
            },
            "marker": {
             "line": {
              "color": "#E5ECF6",
              "width": 0.5
             },
             "pattern": {
              "fillmode": "overlay",
              "size": 10,
              "solidity": 0.2
             }
            },
            "type": "bar"
           }
          ],
          "barpolar": [
           {
            "marker": {
             "line": {
              "color": "#E5ECF6",
              "width": 0.5
             },
             "pattern": {
              "fillmode": "overlay",
              "size": 10,
              "solidity": 0.2
             }
            },
            "type": "barpolar"
           }
          ],
          "carpet": [
           {
            "aaxis": {
             "endlinecolor": "#2a3f5f",
             "gridcolor": "white",
             "linecolor": "white",
             "minorgridcolor": "white",
             "startlinecolor": "#2a3f5f"
            },
            "baxis": {
             "endlinecolor": "#2a3f5f",
             "gridcolor": "white",
             "linecolor": "white",
             "minorgridcolor": "white",
             "startlinecolor": "#2a3f5f"
            },
            "type": "carpet"
           }
          ],
          "choropleth": [
           {
            "colorbar": {
             "outlinewidth": 0,
             "ticks": ""
            },
            "type": "choropleth"
           }
          ],
          "contour": [
           {
            "colorbar": {
             "outlinewidth": 0,
             "ticks": ""
            },
            "colorscale": [
             [
              0,
              "#0d0887"
             ],
             [
              0.1111111111111111,
              "#46039f"
             ],
             [
              0.2222222222222222,
              "#7201a8"
             ],
             [
              0.3333333333333333,
              "#9c179e"
             ],
             [
              0.4444444444444444,
              "#bd3786"
             ],
             [
              0.5555555555555556,
              "#d8576b"
             ],
             [
              0.6666666666666666,
              "#ed7953"
             ],
             [
              0.7777777777777778,
              "#fb9f3a"
             ],
             [
              0.8888888888888888,
              "#fdca26"
             ],
             [
              1,
              "#f0f921"
             ]
            ],
            "type": "contour"
           }
          ],
          "contourcarpet": [
           {
            "colorbar": {
             "outlinewidth": 0,
             "ticks": ""
            },
            "type": "contourcarpet"
           }
          ],
          "heatmap": [
           {
            "colorbar": {
             "outlinewidth": 0,
             "ticks": ""
            },
            "colorscale": [
             [
              0,
              "#0d0887"
             ],
             [
              0.1111111111111111,
              "#46039f"
             ],
             [
              0.2222222222222222,
              "#7201a8"
             ],
             [
              0.3333333333333333,
              "#9c179e"
             ],
             [
              0.4444444444444444,
              "#bd3786"
             ],
             [
              0.5555555555555556,
              "#d8576b"
             ],
             [
              0.6666666666666666,
              "#ed7953"
             ],
             [
              0.7777777777777778,
              "#fb9f3a"
             ],
             [
              0.8888888888888888,
              "#fdca26"
             ],
             [
              1,
              "#f0f921"
             ]
            ],
            "type": "heatmap"
           }
          ],
          "heatmapgl": [
           {
            "colorbar": {
             "outlinewidth": 0,
             "ticks": ""
            },
            "colorscale": [
             [
              0,
              "#0d0887"
             ],
             [
              0.1111111111111111,
              "#46039f"
             ],
             [
              0.2222222222222222,
              "#7201a8"
             ],
             [
              0.3333333333333333,
              "#9c179e"
             ],
             [
              0.4444444444444444,
              "#bd3786"
             ],
             [
              0.5555555555555556,
              "#d8576b"
             ],
             [
              0.6666666666666666,
              "#ed7953"
             ],
             [
              0.7777777777777778,
              "#fb9f3a"
             ],
             [
              0.8888888888888888,
              "#fdca26"
             ],
             [
              1,
              "#f0f921"
             ]
            ],
            "type": "heatmapgl"
           }
          ],
          "histogram": [
           {
            "marker": {
             "pattern": {
              "fillmode": "overlay",
              "size": 10,
              "solidity": 0.2
             }
            },
            "type": "histogram"
           }
          ],
          "histogram2d": [
           {
            "colorbar": {
             "outlinewidth": 0,
             "ticks": ""
            },
            "colorscale": [
             [
              0,
              "#0d0887"
             ],
             [
              0.1111111111111111,
              "#46039f"
             ],
             [
              0.2222222222222222,
              "#7201a8"
             ],
             [
              0.3333333333333333,
              "#9c179e"
             ],
             [
              0.4444444444444444,
              "#bd3786"
             ],
             [
              0.5555555555555556,
              "#d8576b"
             ],
             [
              0.6666666666666666,
              "#ed7953"
             ],
             [
              0.7777777777777778,
              "#fb9f3a"
             ],
             [
              0.8888888888888888,
              "#fdca26"
             ],
             [
              1,
              "#f0f921"
             ]
            ],
            "type": "histogram2d"
           }
          ],
          "histogram2dcontour": [
           {
            "colorbar": {
             "outlinewidth": 0,
             "ticks": ""
            },
            "colorscale": [
             [
              0,
              "#0d0887"
             ],
             [
              0.1111111111111111,
              "#46039f"
             ],
             [
              0.2222222222222222,
              "#7201a8"
             ],
             [
              0.3333333333333333,
              "#9c179e"
             ],
             [
              0.4444444444444444,
              "#bd3786"
             ],
             [
              0.5555555555555556,
              "#d8576b"
             ],
             [
              0.6666666666666666,
              "#ed7953"
             ],
             [
              0.7777777777777778,
              "#fb9f3a"
             ],
             [
              0.8888888888888888,
              "#fdca26"
             ],
             [
              1,
              "#f0f921"
             ]
            ],
            "type": "histogram2dcontour"
           }
          ],
          "mesh3d": [
           {
            "colorbar": {
             "outlinewidth": 0,
             "ticks": ""
            },
            "type": "mesh3d"
           }
          ],
          "parcoords": [
           {
            "line": {
             "colorbar": {
              "outlinewidth": 0,
              "ticks": ""
             }
            },
            "type": "parcoords"
           }
          ],
          "pie": [
           {
            "automargin": true,
            "type": "pie"
           }
          ],
          "scatter": [
           {
            "fillpattern": {
             "fillmode": "overlay",
             "size": 10,
             "solidity": 0.2
            },
            "type": "scatter"
           }
          ],
          "scatter3d": [
           {
            "line": {
             "colorbar": {
              "outlinewidth": 0,
              "ticks": ""
             }
            },
            "marker": {
             "colorbar": {
              "outlinewidth": 0,
              "ticks": ""
             }
            },
            "type": "scatter3d"
           }
          ],
          "scattercarpet": [
           {
            "marker": {
             "colorbar": {
              "outlinewidth": 0,
              "ticks": ""
             }
            },
            "type": "scattercarpet"
           }
          ],
          "scattergeo": [
           {
            "marker": {
             "colorbar": {
              "outlinewidth": 0,
              "ticks": ""
             }
            },
            "type": "scattergeo"
           }
          ],
          "scattergl": [
           {
            "marker": {
             "colorbar": {
              "outlinewidth": 0,
              "ticks": ""
             }
            },
            "type": "scattergl"
           }
          ],
          "scattermapbox": [
           {
            "marker": {
             "colorbar": {
              "outlinewidth": 0,
              "ticks": ""
             }
            },
            "type": "scattermapbox"
           }
          ],
          "scatterpolar": [
           {
            "marker": {
             "colorbar": {
              "outlinewidth": 0,
              "ticks": ""
             }
            },
            "type": "scatterpolar"
           }
          ],
          "scatterpolargl": [
           {
            "marker": {
             "colorbar": {
              "outlinewidth": 0,
              "ticks": ""
             }
            },
            "type": "scatterpolargl"
           }
          ],
          "scatterternary": [
           {
            "marker": {
             "colorbar": {
              "outlinewidth": 0,
              "ticks": ""
             }
            },
            "type": "scatterternary"
           }
          ],
          "surface": [
           {
            "colorbar": {
             "outlinewidth": 0,
             "ticks": ""
            },
            "colorscale": [
             [
              0,
              "#0d0887"
             ],
             [
              0.1111111111111111,
              "#46039f"
             ],
             [
              0.2222222222222222,
              "#7201a8"
             ],
             [
              0.3333333333333333,
              "#9c179e"
             ],
             [
              0.4444444444444444,
              "#bd3786"
             ],
             [
              0.5555555555555556,
              "#d8576b"
             ],
             [
              0.6666666666666666,
              "#ed7953"
             ],
             [
              0.7777777777777778,
              "#fb9f3a"
             ],
             [
              0.8888888888888888,
              "#fdca26"
             ],
             [
              1,
              "#f0f921"
             ]
            ],
            "type": "surface"
           }
          ],
          "table": [
           {
            "cells": {
             "fill": {
              "color": "#EBF0F8"
             },
             "line": {
              "color": "white"
             }
            },
            "header": {
             "fill": {
              "color": "#C8D4E3"
             },
             "line": {
              "color": "white"
             }
            },
            "type": "table"
           }
          ]
         },
         "layout": {
          "annotationdefaults": {
           "arrowcolor": "#2a3f5f",
           "arrowhead": 0,
           "arrowwidth": 1
          },
          "autotypenumbers": "strict",
          "coloraxis": {
           "colorbar": {
            "outlinewidth": 0,
            "ticks": ""
           }
          },
          "colorscale": {
           "diverging": [
            [
             0,
             "#8e0152"
            ],
            [
             0.1,
             "#c51b7d"
            ],
            [
             0.2,
             "#de77ae"
            ],
            [
             0.3,
             "#f1b6da"
            ],
            [
             0.4,
             "#fde0ef"
            ],
            [
             0.5,
             "#f7f7f7"
            ],
            [
             0.6,
             "#e6f5d0"
            ],
            [
             0.7,
             "#b8e186"
            ],
            [
             0.8,
             "#7fbc41"
            ],
            [
             0.9,
             "#4d9221"
            ],
            [
             1,
             "#276419"
            ]
           ],
           "sequential": [
            [
             0,
             "#0d0887"
            ],
            [
             0.1111111111111111,
             "#46039f"
            ],
            [
             0.2222222222222222,
             "#7201a8"
            ],
            [
             0.3333333333333333,
             "#9c179e"
            ],
            [
             0.4444444444444444,
             "#bd3786"
            ],
            [
             0.5555555555555556,
             "#d8576b"
            ],
            [
             0.6666666666666666,
             "#ed7953"
            ],
            [
             0.7777777777777778,
             "#fb9f3a"
            ],
            [
             0.8888888888888888,
             "#fdca26"
            ],
            [
             1,
             "#f0f921"
            ]
           ],
           "sequentialminus": [
            [
             0,
             "#0d0887"
            ],
            [
             0.1111111111111111,
             "#46039f"
            ],
            [
             0.2222222222222222,
             "#7201a8"
            ],
            [
             0.3333333333333333,
             "#9c179e"
            ],
            [
             0.4444444444444444,
             "#bd3786"
            ],
            [
             0.5555555555555556,
             "#d8576b"
            ],
            [
             0.6666666666666666,
             "#ed7953"
            ],
            [
             0.7777777777777778,
             "#fb9f3a"
            ],
            [
             0.8888888888888888,
             "#fdca26"
            ],
            [
             1,
             "#f0f921"
            ]
           ]
          },
          "colorway": [
           "#636efa",
           "#EF553B",
           "#00cc96",
           "#ab63fa",
           "#FFA15A",
           "#19d3f3",
           "#FF6692",
           "#B6E880",
           "#FF97FF",
           "#FECB52"
          ],
          "font": {
           "color": "#2a3f5f"
          },
          "geo": {
           "bgcolor": "white",
           "lakecolor": "white",
           "landcolor": "#E5ECF6",
           "showlakes": true,
           "showland": true,
           "subunitcolor": "white"
          },
          "hoverlabel": {
           "align": "left"
          },
          "hovermode": "closest",
          "mapbox": {
           "style": "light"
          },
          "paper_bgcolor": "white",
          "plot_bgcolor": "#E5ECF6",
          "polar": {
           "angularaxis": {
            "gridcolor": "white",
            "linecolor": "white",
            "ticks": ""
           },
           "bgcolor": "#E5ECF6",
           "radialaxis": {
            "gridcolor": "white",
            "linecolor": "white",
            "ticks": ""
           }
          },
          "scene": {
           "xaxis": {
            "backgroundcolor": "#E5ECF6",
            "gridcolor": "white",
            "gridwidth": 2,
            "linecolor": "white",
            "showbackground": true,
            "ticks": "",
            "zerolinecolor": "white"
           },
           "yaxis": {
            "backgroundcolor": "#E5ECF6",
            "gridcolor": "white",
            "gridwidth": 2,
            "linecolor": "white",
            "showbackground": true,
            "ticks": "",
            "zerolinecolor": "white"
           },
           "zaxis": {
            "backgroundcolor": "#E5ECF6",
            "gridcolor": "white",
            "gridwidth": 2,
            "linecolor": "white",
            "showbackground": true,
            "ticks": "",
            "zerolinecolor": "white"
           }
          },
          "shapedefaults": {
           "line": {
            "color": "#2a3f5f"
           }
          },
          "ternary": {
           "aaxis": {
            "gridcolor": "white",
            "linecolor": "white",
            "ticks": ""
           },
           "baxis": {
            "gridcolor": "white",
            "linecolor": "white",
            "ticks": ""
           },
           "bgcolor": "#E5ECF6",
           "caxis": {
            "gridcolor": "white",
            "linecolor": "white",
            "ticks": ""
           }
          },
          "title": {
           "x": 0.05
          },
          "xaxis": {
           "automargin": true,
           "gridcolor": "white",
           "linecolor": "white",
           "ticks": "",
           "title": {
            "standoff": 15
           },
           "zerolinecolor": "white",
           "zerolinewidth": 2
          },
          "yaxis": {
           "automargin": true,
           "gridcolor": "white",
           "linecolor": "white",
           "ticks": "",
           "title": {
            "standoff": 15
           },
           "zerolinecolor": "white",
           "zerolinewidth": 2
          }
         }
        },
        "title": {
         "text": "Promedio de 'Dosis Total [mGy]' por rango de Peso[kg] para estudio Pie"
        },
        "xaxis": {
         "title": {
          "text": "Rango de Peso[kg]"
         }
        },
        "yaxis": {
         "title": {
          "text": "Promedio Dosis Total [mGy]"
         }
        }
       }
      }
     },
     "metadata": {},
     "output_type": "display_data"
    },
    {
     "name": "stderr",
     "output_type": "stream",
     "text": [
      "C:\\Users\\oscar\\AppData\\Local\\Temp\\ipykernel_9892\\2388529399.py:4: SettingWithCopyWarning:\n",
      "\n",
      "\n",
      "A value is trying to be set on a copy of a slice from a DataFrame.\n",
      "Try using .loc[row_indexer,col_indexer] = value instead\n",
      "\n",
      "See the caveats in the documentation: https://pandas.pydata.org/pandas-docs/stable/user_guide/indexing.html#returning-a-view-versus-a-copy\n",
      "\n",
      "C:\\Users\\oscar\\AppData\\Local\\Temp\\ipykernel_9892\\2388529399.py:5: FutureWarning:\n",
      "\n",
      "The default of observed=False is deprecated and will be changed to True in a future version of pandas. Pass observed=False to retain current behavior or observed=True to adopt the future default and silence this warning.\n",
      "\n"
     ]
    },
    {
     "data": {
      "application/vnd.plotly.v1+json": {
       "config": {
        "plotlyServerURL": "https://plot.ly"
       },
       "data": [
        {
         "name": "Estudio: Mano",
         "type": "bar",
         "x": [
          "(45, 60]",
          "(60, 75]",
          "(75, 90]",
          "(90, 105]",
          "(105, 120]"
         ],
         "y": [
          0.9157142857142856,
          1.7746153846153847,
          5.42,
          0.18,
          null
         ]
        }
       ],
       "layout": {
        "template": {
         "data": {
          "bar": [
           {
            "error_x": {
             "color": "#2a3f5f"
            },
            "error_y": {
             "color": "#2a3f5f"
            },
            "marker": {
             "line": {
              "color": "#E5ECF6",
              "width": 0.5
             },
             "pattern": {
              "fillmode": "overlay",
              "size": 10,
              "solidity": 0.2
             }
            },
            "type": "bar"
           }
          ],
          "barpolar": [
           {
            "marker": {
             "line": {
              "color": "#E5ECF6",
              "width": 0.5
             },
             "pattern": {
              "fillmode": "overlay",
              "size": 10,
              "solidity": 0.2
             }
            },
            "type": "barpolar"
           }
          ],
          "carpet": [
           {
            "aaxis": {
             "endlinecolor": "#2a3f5f",
             "gridcolor": "white",
             "linecolor": "white",
             "minorgridcolor": "white",
             "startlinecolor": "#2a3f5f"
            },
            "baxis": {
             "endlinecolor": "#2a3f5f",
             "gridcolor": "white",
             "linecolor": "white",
             "minorgridcolor": "white",
             "startlinecolor": "#2a3f5f"
            },
            "type": "carpet"
           }
          ],
          "choropleth": [
           {
            "colorbar": {
             "outlinewidth": 0,
             "ticks": ""
            },
            "type": "choropleth"
           }
          ],
          "contour": [
           {
            "colorbar": {
             "outlinewidth": 0,
             "ticks": ""
            },
            "colorscale": [
             [
              0,
              "#0d0887"
             ],
             [
              0.1111111111111111,
              "#46039f"
             ],
             [
              0.2222222222222222,
              "#7201a8"
             ],
             [
              0.3333333333333333,
              "#9c179e"
             ],
             [
              0.4444444444444444,
              "#bd3786"
             ],
             [
              0.5555555555555556,
              "#d8576b"
             ],
             [
              0.6666666666666666,
              "#ed7953"
             ],
             [
              0.7777777777777778,
              "#fb9f3a"
             ],
             [
              0.8888888888888888,
              "#fdca26"
             ],
             [
              1,
              "#f0f921"
             ]
            ],
            "type": "contour"
           }
          ],
          "contourcarpet": [
           {
            "colorbar": {
             "outlinewidth": 0,
             "ticks": ""
            },
            "type": "contourcarpet"
           }
          ],
          "heatmap": [
           {
            "colorbar": {
             "outlinewidth": 0,
             "ticks": ""
            },
            "colorscale": [
             [
              0,
              "#0d0887"
             ],
             [
              0.1111111111111111,
              "#46039f"
             ],
             [
              0.2222222222222222,
              "#7201a8"
             ],
             [
              0.3333333333333333,
              "#9c179e"
             ],
             [
              0.4444444444444444,
              "#bd3786"
             ],
             [
              0.5555555555555556,
              "#d8576b"
             ],
             [
              0.6666666666666666,
              "#ed7953"
             ],
             [
              0.7777777777777778,
              "#fb9f3a"
             ],
             [
              0.8888888888888888,
              "#fdca26"
             ],
             [
              1,
              "#f0f921"
             ]
            ],
            "type": "heatmap"
           }
          ],
          "heatmapgl": [
           {
            "colorbar": {
             "outlinewidth": 0,
             "ticks": ""
            },
            "colorscale": [
             [
              0,
              "#0d0887"
             ],
             [
              0.1111111111111111,
              "#46039f"
             ],
             [
              0.2222222222222222,
              "#7201a8"
             ],
             [
              0.3333333333333333,
              "#9c179e"
             ],
             [
              0.4444444444444444,
              "#bd3786"
             ],
             [
              0.5555555555555556,
              "#d8576b"
             ],
             [
              0.6666666666666666,
              "#ed7953"
             ],
             [
              0.7777777777777778,
              "#fb9f3a"
             ],
             [
              0.8888888888888888,
              "#fdca26"
             ],
             [
              1,
              "#f0f921"
             ]
            ],
            "type": "heatmapgl"
           }
          ],
          "histogram": [
           {
            "marker": {
             "pattern": {
              "fillmode": "overlay",
              "size": 10,
              "solidity": 0.2
             }
            },
            "type": "histogram"
           }
          ],
          "histogram2d": [
           {
            "colorbar": {
             "outlinewidth": 0,
             "ticks": ""
            },
            "colorscale": [
             [
              0,
              "#0d0887"
             ],
             [
              0.1111111111111111,
              "#46039f"
             ],
             [
              0.2222222222222222,
              "#7201a8"
             ],
             [
              0.3333333333333333,
              "#9c179e"
             ],
             [
              0.4444444444444444,
              "#bd3786"
             ],
             [
              0.5555555555555556,
              "#d8576b"
             ],
             [
              0.6666666666666666,
              "#ed7953"
             ],
             [
              0.7777777777777778,
              "#fb9f3a"
             ],
             [
              0.8888888888888888,
              "#fdca26"
             ],
             [
              1,
              "#f0f921"
             ]
            ],
            "type": "histogram2d"
           }
          ],
          "histogram2dcontour": [
           {
            "colorbar": {
             "outlinewidth": 0,
             "ticks": ""
            },
            "colorscale": [
             [
              0,
              "#0d0887"
             ],
             [
              0.1111111111111111,
              "#46039f"
             ],
             [
              0.2222222222222222,
              "#7201a8"
             ],
             [
              0.3333333333333333,
              "#9c179e"
             ],
             [
              0.4444444444444444,
              "#bd3786"
             ],
             [
              0.5555555555555556,
              "#d8576b"
             ],
             [
              0.6666666666666666,
              "#ed7953"
             ],
             [
              0.7777777777777778,
              "#fb9f3a"
             ],
             [
              0.8888888888888888,
              "#fdca26"
             ],
             [
              1,
              "#f0f921"
             ]
            ],
            "type": "histogram2dcontour"
           }
          ],
          "mesh3d": [
           {
            "colorbar": {
             "outlinewidth": 0,
             "ticks": ""
            },
            "type": "mesh3d"
           }
          ],
          "parcoords": [
           {
            "line": {
             "colorbar": {
              "outlinewidth": 0,
              "ticks": ""
             }
            },
            "type": "parcoords"
           }
          ],
          "pie": [
           {
            "automargin": true,
            "type": "pie"
           }
          ],
          "scatter": [
           {
            "fillpattern": {
             "fillmode": "overlay",
             "size": 10,
             "solidity": 0.2
            },
            "type": "scatter"
           }
          ],
          "scatter3d": [
           {
            "line": {
             "colorbar": {
              "outlinewidth": 0,
              "ticks": ""
             }
            },
            "marker": {
             "colorbar": {
              "outlinewidth": 0,
              "ticks": ""
             }
            },
            "type": "scatter3d"
           }
          ],
          "scattercarpet": [
           {
            "marker": {
             "colorbar": {
              "outlinewidth": 0,
              "ticks": ""
             }
            },
            "type": "scattercarpet"
           }
          ],
          "scattergeo": [
           {
            "marker": {
             "colorbar": {
              "outlinewidth": 0,
              "ticks": ""
             }
            },
            "type": "scattergeo"
           }
          ],
          "scattergl": [
           {
            "marker": {
             "colorbar": {
              "outlinewidth": 0,
              "ticks": ""
             }
            },
            "type": "scattergl"
           }
          ],
          "scattermapbox": [
           {
            "marker": {
             "colorbar": {
              "outlinewidth": 0,
              "ticks": ""
             }
            },
            "type": "scattermapbox"
           }
          ],
          "scatterpolar": [
           {
            "marker": {
             "colorbar": {
              "outlinewidth": 0,
              "ticks": ""
             }
            },
            "type": "scatterpolar"
           }
          ],
          "scatterpolargl": [
           {
            "marker": {
             "colorbar": {
              "outlinewidth": 0,
              "ticks": ""
             }
            },
            "type": "scatterpolargl"
           }
          ],
          "scatterternary": [
           {
            "marker": {
             "colorbar": {
              "outlinewidth": 0,
              "ticks": ""
             }
            },
            "type": "scatterternary"
           }
          ],
          "surface": [
           {
            "colorbar": {
             "outlinewidth": 0,
             "ticks": ""
            },
            "colorscale": [
             [
              0,
              "#0d0887"
             ],
             [
              0.1111111111111111,
              "#46039f"
             ],
             [
              0.2222222222222222,
              "#7201a8"
             ],
             [
              0.3333333333333333,
              "#9c179e"
             ],
             [
              0.4444444444444444,
              "#bd3786"
             ],
             [
              0.5555555555555556,
              "#d8576b"
             ],
             [
              0.6666666666666666,
              "#ed7953"
             ],
             [
              0.7777777777777778,
              "#fb9f3a"
             ],
             [
              0.8888888888888888,
              "#fdca26"
             ],
             [
              1,
              "#f0f921"
             ]
            ],
            "type": "surface"
           }
          ],
          "table": [
           {
            "cells": {
             "fill": {
              "color": "#EBF0F8"
             },
             "line": {
              "color": "white"
             }
            },
            "header": {
             "fill": {
              "color": "#C8D4E3"
             },
             "line": {
              "color": "white"
             }
            },
            "type": "table"
           }
          ]
         },
         "layout": {
          "annotationdefaults": {
           "arrowcolor": "#2a3f5f",
           "arrowhead": 0,
           "arrowwidth": 1
          },
          "autotypenumbers": "strict",
          "coloraxis": {
           "colorbar": {
            "outlinewidth": 0,
            "ticks": ""
           }
          },
          "colorscale": {
           "diverging": [
            [
             0,
             "#8e0152"
            ],
            [
             0.1,
             "#c51b7d"
            ],
            [
             0.2,
             "#de77ae"
            ],
            [
             0.3,
             "#f1b6da"
            ],
            [
             0.4,
             "#fde0ef"
            ],
            [
             0.5,
             "#f7f7f7"
            ],
            [
             0.6,
             "#e6f5d0"
            ],
            [
             0.7,
             "#b8e186"
            ],
            [
             0.8,
             "#7fbc41"
            ],
            [
             0.9,
             "#4d9221"
            ],
            [
             1,
             "#276419"
            ]
           ],
           "sequential": [
            [
             0,
             "#0d0887"
            ],
            [
             0.1111111111111111,
             "#46039f"
            ],
            [
             0.2222222222222222,
             "#7201a8"
            ],
            [
             0.3333333333333333,
             "#9c179e"
            ],
            [
             0.4444444444444444,
             "#bd3786"
            ],
            [
             0.5555555555555556,
             "#d8576b"
            ],
            [
             0.6666666666666666,
             "#ed7953"
            ],
            [
             0.7777777777777778,
             "#fb9f3a"
            ],
            [
             0.8888888888888888,
             "#fdca26"
            ],
            [
             1,
             "#f0f921"
            ]
           ],
           "sequentialminus": [
            [
             0,
             "#0d0887"
            ],
            [
             0.1111111111111111,
             "#46039f"
            ],
            [
             0.2222222222222222,
             "#7201a8"
            ],
            [
             0.3333333333333333,
             "#9c179e"
            ],
            [
             0.4444444444444444,
             "#bd3786"
            ],
            [
             0.5555555555555556,
             "#d8576b"
            ],
            [
             0.6666666666666666,
             "#ed7953"
            ],
            [
             0.7777777777777778,
             "#fb9f3a"
            ],
            [
             0.8888888888888888,
             "#fdca26"
            ],
            [
             1,
             "#f0f921"
            ]
           ]
          },
          "colorway": [
           "#636efa",
           "#EF553B",
           "#00cc96",
           "#ab63fa",
           "#FFA15A",
           "#19d3f3",
           "#FF6692",
           "#B6E880",
           "#FF97FF",
           "#FECB52"
          ],
          "font": {
           "color": "#2a3f5f"
          },
          "geo": {
           "bgcolor": "white",
           "lakecolor": "white",
           "landcolor": "#E5ECF6",
           "showlakes": true,
           "showland": true,
           "subunitcolor": "white"
          },
          "hoverlabel": {
           "align": "left"
          },
          "hovermode": "closest",
          "mapbox": {
           "style": "light"
          },
          "paper_bgcolor": "white",
          "plot_bgcolor": "#E5ECF6",
          "polar": {
           "angularaxis": {
            "gridcolor": "white",
            "linecolor": "white",
            "ticks": ""
           },
           "bgcolor": "#E5ECF6",
           "radialaxis": {
            "gridcolor": "white",
            "linecolor": "white",
            "ticks": ""
           }
          },
          "scene": {
           "xaxis": {
            "backgroundcolor": "#E5ECF6",
            "gridcolor": "white",
            "gridwidth": 2,
            "linecolor": "white",
            "showbackground": true,
            "ticks": "",
            "zerolinecolor": "white"
           },
           "yaxis": {
            "backgroundcolor": "#E5ECF6",
            "gridcolor": "white",
            "gridwidth": 2,
            "linecolor": "white",
            "showbackground": true,
            "ticks": "",
            "zerolinecolor": "white"
           },
           "zaxis": {
            "backgroundcolor": "#E5ECF6",
            "gridcolor": "white",
            "gridwidth": 2,
            "linecolor": "white",
            "showbackground": true,
            "ticks": "",
            "zerolinecolor": "white"
           }
          },
          "shapedefaults": {
           "line": {
            "color": "#2a3f5f"
           }
          },
          "ternary": {
           "aaxis": {
            "gridcolor": "white",
            "linecolor": "white",
            "ticks": ""
           },
           "baxis": {
            "gridcolor": "white",
            "linecolor": "white",
            "ticks": ""
           },
           "bgcolor": "#E5ECF6",
           "caxis": {
            "gridcolor": "white",
            "linecolor": "white",
            "ticks": ""
           }
          },
          "title": {
           "x": 0.05
          },
          "xaxis": {
           "automargin": true,
           "gridcolor": "white",
           "linecolor": "white",
           "ticks": "",
           "title": {
            "standoff": 15
           },
           "zerolinecolor": "white",
           "zerolinewidth": 2
          },
          "yaxis": {
           "automargin": true,
           "gridcolor": "white",
           "linecolor": "white",
           "ticks": "",
           "title": {
            "standoff": 15
           },
           "zerolinecolor": "white",
           "zerolinewidth": 2
          }
         }
        },
        "title": {
         "text": "Promedio de 'Dosis Total [mGy]' por rango de Peso[kg] para estudio Mano"
        },
        "xaxis": {
         "title": {
          "text": "Rango de Peso[kg]"
         }
        },
        "yaxis": {
         "title": {
          "text": "Promedio Dosis Total [mGy]"
         }
        }
       }
      }
     },
     "metadata": {},
     "output_type": "display_data"
    }
   ],
   "source": [
    "#para cada estudio quiero hacer un diagrama de barras de la columna Peso[kg] usando bins personalizados de 45 a 125 cada 15 kg donde la y es el promedio de dosis\n",
    "for estudio in df_completo_sin_NAN_interes[\"Estudio\"].unique():\n",
    "    df_estudio = df_completo_sin_NAN_interes[df_completo_sin_NAN_interes[\"Estudio\"] == estudio]\n",
    "    df_estudio[\"Peso_bin\"] = pd.cut(df_estudio[\"Peso[kg]\"], bins=np.arange(45, 130, 15))\n",
    "    promedios_dosis = df_estudio.groupby(\"Peso_bin\")[\"Dosis Total [mGy]\"].mean().reset_index()\n",
    "\n",
    "    fig = go.Figure()\n",
    "    fig.add_trace(go.Bar(\n",
    "        x=promedios_dosis[\"Peso_bin\"].astype(str),\n",
    "        y=promedios_dosis[\"Dosis Total [mGy]\"],\n",
    "        name=f\"Estudio: {estudio}\"\n",
    "    ))\n",
    "    fig.update_layout(\n",
    "        title=f\"Promedio de 'Dosis Total [mGy]' por rango de Peso[kg] para estudio {estudio}\",\n",
    "        xaxis_title=\"Rango de Peso[kg]\",\n",
    "        yaxis_title=\"Promedio Dosis Total [mGy]\",\n",
    "    )\n",
    "    fig.show()"
   ]
  },
  {
   "cell_type": "code",
   "execution_count": 481,
   "id": "3b479af4",
   "metadata": {},
   "outputs": [
    {
     "name": "stdout",
     "output_type": "stream",
     "text": [
      "Pesos únicos para el estudio Lumbar: [60. 75. 70. 72. 50. 65. 67. 69. 63.]\n"
     ]
    }
   ],
   "source": [
    "#dame una lista de los pesos que hay para el estudio lumbar\n",
    "pesos_lumbar = df_completo_sin_NAN_interes[df_completo_sin_NAN_interes[\"Estudio\"]==\"Pie\"][\"Peso[kg]\"].unique()\n",
    "print(\"Pesos únicos para el estudio Lumbar:\", pesos_lumbar)"
   ]
  },
  {
   "cell_type": "code",
   "execution_count": null,
   "id": "43eb868b",
   "metadata": {},
   "outputs": [],
   "source": []
  }
 ],
 "metadata": {
  "kernelspec": {
   "display_name": "all-in-purpose",
   "language": "python",
   "name": "python3"
  },
  "language_info": {
   "codemirror_mode": {
    "name": "ipython",
    "version": 3
   },
   "file_extension": ".py",
   "mimetype": "text/x-python",
   "name": "python",
   "nbconvert_exporter": "python",
   "pygments_lexer": "ipython3",
   "version": "3.11.5"
  }
 },
 "nbformat": 4,
 "nbformat_minor": 5
}
