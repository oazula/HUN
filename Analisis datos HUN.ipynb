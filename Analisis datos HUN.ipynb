{
 "cells": [
  {
   "cell_type": "code",
   "execution_count": 1,
   "id": "f3c88816",
   "metadata": {},
   "outputs": [],
   "source": [
    "\n",
    "import numpy as np\n",
    "import pandas as pd\n",
    "import plotly.graph_objects as go\n",
    "\n",
    "\n",
    "#leer los 5 archivos en la carpeta de Datos cargar y solo la hoja llamada \"Datos\" de cada uno\n",
    "df_agrupado = pd.read_excel('Datos/rx fijo Calculadora de dosis HUN 2024 V4 (Autoguardado).xlsm', sheet_name='Datos')\n",
    "df1 = pd.read_excel('Datos/datos 00 Calculadora de dosis HUN 2024.xlsm', sheet_name='Datos')\n",
    "df2 = pd.read_excel('Datos/datos 0 Calculadora de dosis HUN 2024 V3.0.xlsm', sheet_name='Datos')\n",
    "df3 = pd.read_excel('Datos/datos 01 Calculadora de dosis HUN 2024 V3.0.xlsm', sheet_name='Datos')\n",
    "df4 = pd.read_excel('Datos/fluoro rx Calculadora de dosis HUN 2025 V4.0.xlsm', sheet_name='Datos')\n",
    "df5 = pd.read_excel('Datos/rx fijo 1 Calculadora de dosis HUN 2025 V4.0.xlsm', sheet_name='Datos')\n"
   ]
  }
 ],
 "metadata": {
  "kernelspec": {
   "display_name": "all-in-purpose",
   "language": "python",
   "name": "python3"
  },
  "language_info": {
   "codemirror_mode": {
    "name": "ipython",
    "version": 3
   },
   "file_extension": ".py",
   "mimetype": "text/x-python",
   "name": "python",
   "nbconvert_exporter": "python",
   "pygments_lexer": "ipython3",
   "version": "3.11.5"
  }
 },
 "nbformat": 4,
 "nbformat_minor": 5
}
