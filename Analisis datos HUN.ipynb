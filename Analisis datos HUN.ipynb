{
 "cells": [
  {
   "cell_type": "code",
   "execution_count": 6,
   "id": "f3c88816",
   "metadata": {},
   "outputs": [],
   "source": [
    "\n",
    "import numpy as np\n",
    "import pandas as pd\n",
    "import plotly.graph_objects as go\n",
    "\n",
    "\n",
    "#leer los 5 archivos en la carpeta de Datos cargar y solo la hoja llamada \"Datos\" de cada uno\n",
    "df_agrupado = pd.read_excel('Datos/rx fijo Calculadora de dosis HUN 2024 V4 (Autoguardado).xlsm', sheet_name='Datos')\n",
    "df1 = pd.read_excel('Datos/datos 00 Calculadora de dosis HUN 2024.xlsm', sheet_name='Datos')\n",
    "df2 = pd.read_excel('Datos/datos 0 Calculadora de dosis HUN 2024 V3.0.xlsm', sheet_name='Datos')\n",
    "df3 = pd.read_excel('Datos/datos 01 Calculadora de dosis HUN 2024 V3.0.xlsm', sheet_name='Datos')\n",
    "df4 = pd.read_excel('Datos/fluoro rx Calculadora de dosis HUN 2025 V4.0.xlsm', sheet_name='Datos')\n",
    "df5 = pd.read_excel('Datos/rx fijo 1 Calculadora de dosis HUN 2025 V4.0.xlsm', sheet_name='Datos')\n"
   ]
  },
  {
   "cell_type": "markdown",
   "id": "323bed8f",
   "metadata": {},
   "source": [
    "## Verificacion si el df_agrupado tiene los datos de los otros df"
   ]
  },
  {
   "cell_type": "code",
   "execution_count": 7,
   "id": "3c7b8f00",
   "metadata": {},
   "outputs": [
    {
     "name": "stdout",
     "output_type": "stream",
     "text": [
      "<class 'pandas.core.frame.DataFrame'>\n",
      "RangeIndex: 1626 entries, 0 to 1625\n",
      "Data columns (total 11 columns):\n",
      " #   Column                   Non-Null Count  Dtype         \n",
      "---  ------                   --------------  -----         \n",
      " 0   Fecha                    1488 non-null   datetime64[ns]\n",
      " 1   Estudio                  1488 non-null   object        \n",
      " 2   Peso[kg]                 1016 non-null   float64       \n",
      " 3   Distancia foco-detector  1491 non-null   object        \n",
      " 4   Proyección               1626 non-null   object        \n",
      " 5   kV                       1626 non-null   float64       \n",
      " 6   mAs                      1626 non-null   float64       \n",
      " 7   Img Aprobadas            1626 non-null   int64         \n",
      " 8   Img Rechazadas           1616 non-null   float64       \n",
      " 9   Dosis [mGy]              1626 non-null   float64       \n",
      " 10  Dosis Total [mGy]        916 non-null    object        \n",
      "dtypes: datetime64[ns](1), float64(5), int64(1), object(4)\n",
      "memory usage: 139.9+ KB\n"
     ]
    }
   ],
   "source": [
    "df_agrupado.info()"
   ]
  },
  {
   "cell_type": "code",
   "execution_count": null,
   "id": "83805c8a",
   "metadata": {},
   "outputs": [],
   "source": [
    "# --- 1) Nos quedamos solo con las filas donde 'Dosis Total [mGy]' no es NaN,es decir cada procedimiento unico\n",
    "df_totales = df_agrupado.dropna(subset=[\"Dosis Total [mGy]\"])\n",
    "\n",
    "# Convertir \"Dosis Total [mGy]\" a float, reemplazando la coma por punto\n",
    "df_totales[\"Dosis Total [mGy]\"] = df_totales[\"Dosis Total [mGy]\"].str.replace(\",\", \".\").astype(float)"
   ]
  },
  {
   "cell_type": "code",
   "execution_count": 9,
   "id": "1e0262f0",
   "metadata": {},
   "outputs": [
    {
     "name": "stdout",
     "output_type": "stream",
     "text": [
      "<class 'pandas.core.frame.DataFrame'>\n",
      "Index: 916 entries, 0 to 1625\n",
      "Data columns (total 11 columns):\n",
      " #   Column                   Non-Null Count  Dtype         \n",
      "---  ------                   --------------  -----         \n",
      " 0   Fecha                    785 non-null    datetime64[ns]\n",
      " 1   Estudio                  785 non-null    object        \n",
      " 2   Peso[kg]                 501 non-null    float64       \n",
      " 3   Distancia foco-detector  788 non-null    object        \n",
      " 4   Proyección               916 non-null    object        \n",
      " 5   kV                       916 non-null    float64       \n",
      " 6   mAs                      916 non-null    float64       \n",
      " 7   Img Aprobadas            916 non-null    int64         \n",
      " 8   Img Rechazadas           908 non-null    float64       \n",
      " 9   Dosis [mGy]              916 non-null    float64       \n",
      " 10  Dosis Total [mGy]        916 non-null    object        \n",
      "dtypes: datetime64[ns](1), float64(5), int64(1), object(4)\n",
      "memory usage: 85.9+ KB\n"
     ]
    }
   ],
   "source": [
    "df_totales.info()"
   ]
  },
  {
   "cell_type": "code",
   "execution_count": null,
   "id": "159e0b6f",
   "metadata": {},
   "outputs": [],
   "source": []
  }
 ],
 "metadata": {
  "kernelspec": {
   "display_name": "all-in-purpose",
   "language": "python",
   "name": "python3"
  },
  "language_info": {
   "codemirror_mode": {
    "name": "ipython",
    "version": 3
   },
   "file_extension": ".py",
   "mimetype": "text/x-python",
   "name": "python",
   "nbconvert_exporter": "python",
   "pygments_lexer": "ipython3",
   "version": "3.11.5"
  }
 },
 "nbformat": 4,
 "nbformat_minor": 5
}
